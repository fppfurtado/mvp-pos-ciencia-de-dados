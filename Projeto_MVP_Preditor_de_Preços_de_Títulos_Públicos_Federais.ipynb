{
  "nbformat": 4,
  "nbformat_minor": 0,
  "metadata": {
    "colab": {
      "provenance": [],
      "authorship_tag": "ABX9TyO8HNmZ98lQPnhKlli3Odzt",
      "include_colab_link": true
    },
    "kernelspec": {
      "name": "python3",
      "display_name": "Python 3"
    },
    "language_info": {
      "name": "python"
    }
  },
  "cells": [
    {
      "cell_type": "markdown",
      "metadata": {
        "id": "view-in-github",
        "colab_type": "text"
      },
      "source": [
        "<a href=\"https://colab.research.google.com/github/fppfurtado/mvp-pos-ciencia-de-dados/blob/main/Projeto_MVP_Preditor_de_Pre%C3%A7os_de_T%C3%ADtulos_P%C3%BAblicos_Federais.ipynb\" target=\"_parent\"><img src=\"https://colab.research.google.com/assets/colab-badge.svg\" alt=\"Open In Colab\"/></a>"
      ]
    },
    {
      "cell_type": "markdown",
      "source": [
        "# 1. Definição do Problema"
      ],
      "metadata": {
        "id": "T_tMpsNA_uvw"
      }
    },
    {
      "cell_type": "markdown",
      "source": [
        "## Objetivo\n",
        "O presente projeto tem como objetivo a construção de um modelo de regressão linear para prever as taxas de juros ofertadas por títulos públicos federais - e, consequentemente, seus preços unitários - a partir dos valores da taxa de câmbio dolar/real (Ptax), do índice IBOVESPA e do CDS Brasil 5 anos."
      ],
      "metadata": {
        "id": "UFGSQtlOmUJw"
      }
    },
    {
      "cell_type": "markdown",
      "source": [
        "## Títulos Públicos Federais\n",
        "Títulos Públicos Federais são títulos de dívida emitidos pelo Governo Federal para financiar suas atvidades captando recursos de particulares em troca de pagamento de juros sobre um capital aplicado. Na prática, são **ativos de renda fixa** que possuem preço, taxa e vencimento definidos, e que podem ser adquiridos por investidores interessados.\n",
        "\n",
        "Esses ativos possuem liquidez diária, podendo o investidor solicitar o resgate a qualquer tempo (durante o horário de funcionamento do mercado de títulos publicos), porém nesse caso o valor utilizado para o cálculo da rentabilidade será o **valor de mercado do título** no dia da solicitação de resgate, a chamada **Marcação a Mercado**, que pode fazer com que o investidor tenha ou lucro acima do esperado ou prejuízo no resgate antecipado.\n",
        "\n",
        "O preço dos títulos públicos variam em função das respectivas taxas ofertadas. E as taxas variam diariamente, basicamente, em função da percepção de risco do mercado em relação à economia do país. Por isso, após alguma notícia negativa no cenário econômico, é comum observar fenômenos como \"queda na bolsa\", \"alta no dolar\" e \"alta nos juros\" pagos pelos títulos públicos federais."
      ],
      "metadata": {
        "id": "w7ACF_sL_5eg"
      }
    },
    {
      "cell_type": "markdown",
      "source": [
        "## IBOVESPA\n",
        "O Ibovespa é o principal indicador de desempenho das ações negociadas na B3 e reúne as empresas mais importantes do mercado de capitais brasileiro. Foi criado em 1968 e, ao longo desses 50 anos, consolidou-se como referência para investidores ao redor do mundo.\n",
        "\n",
        "Reavaliado a cada quatro meses, o índice é resultado de uma carteira teórica de ativos. É composto pelas ações e units de companhias listadas na B3 que atendem aos critérios descritos na sua metodologia, correspondendo a cerca de 80% do número de negócios e do volume financeiro do nosso mercado de capitais.\n",
        "\n",
        "Fonte: https://www.b3.com.br/pt_br/market-data-e-indices/indices/indices-amplos/ibovespa.htm"
      ],
      "metadata": {
        "id": "MM4EpINobbYj"
      }
    },
    {
      "cell_type": "markdown",
      "source": [
        "## PTax\n",
        "Ptax é uma taxa de câmbio calculada durante o dia pelo Banco Central do Brasil. Consiste na média das taxas informadas pelas instituições financeiras durante 4 janelas do dia. É a taxa de referencia para o valor do dólar de D2 (em dois dias úteis). Normalmente, os contratos de derivativos de câmbio são liquidados com base na PTAX divulgada para o dia útil anterior.\n",
        "\n",
        "Fonte: https://pt.wikipedia.org/wiki/Ptax"
      ],
      "metadata": {
        "id": "nGEvjtSXcu6F"
      }
    },
    {
      "cell_type": "markdown",
      "source": [
        "## CDS Brasil\n",
        "CDS (credit default swap) é a troca de risco de crédito. O CDS é um contrato derivativo que funciona como um seguro para quem empresta dinheiro. Por levar em sua precificação o risco de inadimplência do tomador do empréstimo, o CDS é muito usado como termômetro para o risco de um país.\n",
        "\n",
        "Fonte: https://inteligenciafinanceira.com.br/glossario/credit-default-swap-cds-risco-pais/"
      ],
      "metadata": {
        "id": "LFvsvBlHdnUq"
      }
    },
    {
      "cell_type": "markdown",
      "source": [
        "# 2. Coleta e Análise de Dados"
      ],
      "metadata": {
        "id": "Ll6MNI-cM8l0"
      }
    },
    {
      "cell_type": "markdown",
      "source": [
        "## Instalação de Pacotes"
      ],
      "metadata": {
        "id": "mD6ARkjlcnAD"
      }
    },
    {
      "cell_type": "code",
      "source": [
        "# Apenas na primeira execução\n",
        "#!pip install investpy"
      ],
      "metadata": {
        "id": "FjUizU19ckG3"
      },
      "execution_count": 1,
      "outputs": []
    },
    {
      "cell_type": "markdown",
      "source": [
        "## Importação de Pacotes e Módulos"
      ],
      "metadata": {
        "id": "s7ZM_BIENL1s"
      }
    },
    {
      "cell_type": "code",
      "execution_count": 2,
      "metadata": {
        "id": "EwubgFHWkonG"
      },
      "outputs": [],
      "source": [
        "# Importando pacotes\n",
        "import pandas as pd\n",
        "#import investpy as inv\n",
        "import json\n",
        "import warnings\n",
        "from urllib.request import urlopen\n",
        "from google.colab import drive"
      ]
    },
    {
      "cell_type": "markdown",
      "source": [
        "## Configurações prévias"
      ],
      "metadata": {
        "id": "kIUgiz8SNZfv"
      }
    },
    {
      "cell_type": "code",
      "source": [
        "# Suprimindo warnings\n",
        "warnings.filterwarnings('ignore')\n",
        "# Montando o Drive na pasta virtual do Colab\n",
        "drive.mount('/content/drive')"
      ],
      "metadata": {
        "id": "_Jo7YMsJbyrY",
        "colab": {
          "base_uri": "https://localhost:8080/"
        },
        "outputId": "247a2507-1c5d-41a9-fe29-af6c89cad56b"
      },
      "execution_count": 3,
      "outputs": [
        {
          "output_type": "stream",
          "name": "stdout",
          "text": [
            "Mounted at /content/drive\n"
          ]
        }
      ]
    },
    {
      "cell_type": "markdown",
      "source": [
        "## Carregamento dos Dados\n",
        "\n",
        "Serão carregados os datasets dos dados históricos de cinco anos das quatro variáveis econômicas que serão tratadas posteriormente pelo modelo de regressão linear: \n",
        "\n",
        "+ taxas e preços de título públicos federais\n",
        "+ taxa de câmbio PTax\n",
        "+ índice IBOVESPA\n",
        "+ CDS Brasil 5 anos."
      ],
      "metadata": {
        "id": "iXyuMhkcNfd2"
      }
    },
    {
      "cell_type": "code",
      "source": [
        "# Carregando o histórico de preços de preços e taxas de títulos públicos\n",
        "historico_titulos = pd.read_csv('drive/MyDrive/PROJETOS/PÓS CIENCIA DE DADOS/DADOS/historico_titulos.csv', decimal = ',')\n",
        "# Carregando o histórico da taxa de câmbio PTax\n",
        "historico_ptax = pd.read_csv('drive/MyDrive/PROJETOS/PÓS CIENCIA DE DADOS/DADOS/historico_ptax.csv', decimal = ',')\n",
        "# Carregando o histórico do índice IBOVESPA\n",
        "historico_ibov = pd.read_csv('drive/MyDrive/PROJETOS/PÓS CIENCIA DE DADOS/DADOS/historico_ibov.csv', decimal = ',')\n",
        "# Carregando o histórico do CDS Brasil 5 Anos\n",
        "historico_cds5y = pd.read_csv('drive/MyDrive/PROJETOS/PÓS CIENCIA DE DADOS/DADOS/historico_csd5y.csv', decimal = ',')"
      ],
      "metadata": {
        "id": "Fy0GsKZymblK"
      },
      "execution_count": 4,
      "outputs": []
    },
    {
      "cell_type": "markdown",
      "source": [
        "Posteriormente, na seção de Pré-Processamento, será feita uma junção dos quatro datasets em um único dataset, apenas com os atributos relevantes para o modelo."
      ],
      "metadata": {
        "id": "ZIH2vcVaYYES"
      }
    },
    {
      "cell_type": "markdown",
      "source": [
        "## Análise Exploratória"
      ],
      "metadata": {
        "id": "W6ddGqasZ_1A"
      }
    },
    {
      "cell_type": "markdown",
      "source": [
        "Para a exploração dos dados dos datasets, seguiremos o seguinte roteiro:\n",
        "\n",
        "1. Análise das informações gerais\n",
        "2. Análise de amostras dos dados\n",
        "3. Análise das principais estatísticas descritivas\n",
        "4. Visualizações Unimodais dos atributos relevantes\n",
        "5. Visualizações Multimodais dos atributos relevantes"
      ],
      "metadata": {
        "id": "GV0xJ_4nol_h"
      }
    },
    {
      "cell_type": "markdown",
      "source": [
        "### Análise Títulos Públicos"
      ],
      "metadata": {
        "id": "fZY-EuF4oqCG"
      }
    },
    {
      "cell_type": "code",
      "source": [],
      "metadata": {
        "id": "EDN4IRJ4ovGI"
      },
      "execution_count": null,
      "outputs": []
    },
    {
      "cell_type": "markdown",
      "source": [
        "### Análise IBOVESPA"
      ],
      "metadata": {
        "id": "nmtX0E_CowVG"
      }
    },
    {
      "cell_type": "code",
      "source": [],
      "metadata": {
        "id": "JGFisyvnozKI"
      },
      "execution_count": null,
      "outputs": []
    },
    {
      "cell_type": "markdown",
      "source": [
        "### Análise PTax"
      ],
      "metadata": {
        "id": "tCIB5xiXoztw"
      }
    },
    {
      "cell_type": "code",
      "source": [],
      "metadata": {
        "id": "DjaXFw2_o03w"
      },
      "execution_count": null,
      "outputs": []
    },
    {
      "cell_type": "markdown",
      "source": [
        "### Análise CDS 5Y"
      ],
      "metadata": {
        "id": "cITpDygMo1PM"
      }
    },
    {
      "cell_type": "code",
      "source": [],
      "metadata": {
        "id": "ssIJpAy-o3_5"
      },
      "execution_count": null,
      "outputs": []
    }
  ]
}
