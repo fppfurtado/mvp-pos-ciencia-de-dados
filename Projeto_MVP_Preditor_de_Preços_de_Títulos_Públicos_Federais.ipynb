{
  "nbformat": 4,
  "nbformat_minor": 0,
  "metadata": {
    "colab": {
      "provenance": [],
      "authorship_tag": "ABX9TyPe4z8FC4XCnqKY/H/32042",
      "include_colab_link": true
    },
    "kernelspec": {
      "name": "python3",
      "display_name": "Python 3"
    },
    "language_info": {
      "name": "python"
    }
  },
  "cells": [
    {
      "cell_type": "markdown",
      "metadata": {
        "id": "view-in-github",
        "colab_type": "text"
      },
      "source": [
        "<a href=\"https://colab.research.google.com/github/fppfurtado/mvp-pos-ciencia-de-dados/blob/main/Projeto_MVP_Preditor_de_Pre%C3%A7os_de_T%C3%ADtulos_P%C3%BAblicos_Federais.ipynb\" target=\"_parent\"><img src=\"https://colab.research.google.com/assets/colab-badge.svg\" alt=\"Open In Colab\"/></a>"
      ]
    },
    {
      "cell_type": "markdown",
      "source": [
        "# 1. Definição do Problema"
      ],
      "metadata": {
        "id": "T_tMpsNA_uvw"
      }
    },
    {
      "cell_type": "markdown",
      "source": [
        "## Objetivo\n",
        "O presente projeto tem como objetivo a construção de um modelo de regressão linear para prever as taxas de juros ofertadas por títulos públicos federais - e, consequentemente, seus preços unitários - a partir dos valores da taxa de câmbio dolar/real (Ptax), do índice IBOVESPA e do CDS Brasil 5 anos."
      ],
      "metadata": {
        "id": "UFGSQtlOmUJw"
      }
    },
    {
      "cell_type": "markdown",
      "source": [
        "## Títulos Públicos Federais\n",
        "Títulos Públicos Federais são títulos de dívida emitidos pelo Governo Federal para financiar suas atvidades captando recursos de particulares em troca de pagamento de juros sobre um capital aplicado. Na prática, são **ativos de renda fixa** que possuem preço, taxa e vencimento definidos, e que podem ser adquiridos por investidores interessados.\n",
        "\n",
        "Esses ativos possuem liquidez diária, podendo o investidor solicitar o resgate a qualquer tempo (durante o horário de funcionamento do mercado de títulos publicos), porém nesse caso o valor utilizado para o cálculo da rentabilidade será o **valor de mercado do título** no dia da solicitação de resgate, a chamada **Marcação a Mercado**, que pode fazer com que o investidor tenha ou lucro acima do esperado ou prejuízo no resgate antecipado.\n",
        "\n",
        "O preço dos títulos públicos variam em função das respectivas taxas ofertadas. E as taxas variam diariamente, basicamente, em função da percepção de risco do mercado em relação à economia do país. Por isso, após alguma notícia negativa no cenário econômico, é comum observar fenômenos como \"queda na bolsa\", \"alta no dolar\" e \"alta nos juros\" pagos pelos títulos públicos federais."
      ],
      "metadata": {
        "id": "w7ACF_sL_5eg"
      }
    },
    {
      "cell_type": "markdown",
      "source": [
        "## IBOVESPA\n",
        "O Ibovespa é o principal indicador de desempenho das ações negociadas na B3 e reúne as empresas mais importantes do mercado de capitais brasileiro. Foi criado em 1968 e, ao longo desses 50 anos, consolidou-se como referência para investidores ao redor do mundo.\n",
        "\n",
        "Reavaliado a cada quatro meses, o índice é resultado de uma carteira teórica de ativos. É composto pelas ações e units de companhias listadas na B3 que atendem aos critérios descritos na sua metodologia, correspondendo a cerca de 80% do número de negócios e do volume financeiro do nosso mercado de capitais.\n",
        "\n",
        "Fonte: https://www.b3.com.br/pt_br/market-data-e-indices/indices/indices-amplos/ibovespa.htm"
      ],
      "metadata": {
        "id": "MM4EpINobbYj"
      }
    },
    {
      "cell_type": "markdown",
      "source": [
        "## PTax\n",
        "Ptax é uma taxa de câmbio calculada durante o dia pelo Banco Central do Brasil. Consiste na média das taxas informadas pelas instituições financeiras durante 4 janelas do dia. É a taxa de referencia para o valor do dólar de D2 (em dois dias úteis). Normalmente, os contratos de derivativos de câmbio são liquidados com base na PTAX divulgada para o dia útil anterior.\n",
        "\n",
        "Fonte: https://pt.wikipedia.org/wiki/Ptax"
      ],
      "metadata": {
        "id": "nGEvjtSXcu6F"
      }
    },
    {
      "cell_type": "markdown",
      "source": [
        "## CDS Brasil\n",
        "CDS (credit default swap) é a troca de risco de crédito. O CDS é um contrato derivativo que funciona como um seguro para quem empresta dinheiro. Por levar em sua precificação o risco de inadimplência do tomador do empréstimo, o CDS é muito usado como termômetro para o risco de um país.\n",
        "\n",
        "Fonte: https://inteligenciafinanceira.com.br/glossario/credit-default-swap-cds-risco-pais/"
      ],
      "metadata": {
        "id": "LFvsvBlHdnUq"
      }
    },
    {
      "cell_type": "markdown",
      "source": [
        "# 2. Coleta e Análise de Dados"
      ],
      "metadata": {
        "id": "Ll6MNI-cM8l0"
      }
    },
    {
      "cell_type": "markdown",
      "source": [
        "## Importação de Pacotes e Módulos"
      ],
      "metadata": {
        "id": "s7ZM_BIENL1s"
      }
    },
    {
      "cell_type": "code",
      "execution_count": 4,
      "metadata": {
        "id": "EwubgFHWkonG"
      },
      "outputs": [],
      "source": [
        "# Importando pacotes\n",
        "import pandas as pd\n",
        "import warnings"
      ]
    },
    {
      "cell_type": "markdown",
      "source": [
        "## Configurações prévias"
      ],
      "metadata": {
        "id": "kIUgiz8SNZfv"
      }
    },
    {
      "cell_type": "code",
      "source": [
        "# Suprimindo warnings\n",
        "warnings.filterwarnings('ignore')"
      ],
      "metadata": {
        "id": "_Jo7YMsJbyrY"
      },
      "execution_count": 5,
      "outputs": []
    },
    {
      "cell_type": "markdown",
      "source": [
        "## Carregamento dos Dados\n",
        "\n",
        "Serão carregados os datasets dos dados históricos de cinco anos das quatro variáveis econômicas que serão tratadas posteriormente pelo modelo de regressão linear: \n",
        "\n",
        "+ taxas e preços de título públicos federais\n",
        "+ taxa de câmbio PTax\n",
        "+ índice IBOVESPA\n",
        "+ CDS Brasil 5 anos."
      ],
      "metadata": {
        "id": "iXyuMhkcNfd2"
      }
    },
    {
      "cell_type": "code",
      "source": [
        "# Carregando o histórico de preços de preços e taxas de títulos públicos\n",
        "historico_titulos = pd.read_csv('https://github.com/fppfurtado/mvp-pos-ciencia-de-dados/raw/main/DADOS/historico_titulos.csv', decimal = ',')\n",
        "# Carregando o histórico do índice IBOVESPA\n",
        "historico_ibov = pd.read_csv('https://raw.githubusercontent.com/fppfurtado/mvp-pos-ciencia-de-dados/main/DADOS/historico_ibov.csv', decimal = ',')\n",
        "# Carregando o histórico da taxa de câmbio PTax\n",
        "historico_ptax = pd.read_csv('https://raw.githubusercontent.com/fppfurtado/mvp-pos-ciencia-de-dados/main/DADOS/historico_ptax.csv', decimal = ',')\n",
        "# Carregando o histórico do CDS Brasil 5 Anos\n",
        "historico_cds5y = pd.read_csv('https://raw.githubusercontent.com/fppfurtado/mvp-pos-ciencia-de-dados/main/DADOS/historico_csd5y.csv', decimal = ',')"
      ],
      "metadata": {
        "id": "Fy0GsKZymblK"
      },
      "execution_count": 6,
      "outputs": []
    },
    {
      "cell_type": "markdown",
      "source": [
        "Posteriormente, na seção de Pré-Processamento, será feita uma junção dos quatro datasets em um único dataset, apenas com os atributos relevantes para o modelo."
      ],
      "metadata": {
        "id": "ZIH2vcVaYYES"
      }
    },
    {
      "cell_type": "markdown",
      "source": [
        "## Análise Exploratória"
      ],
      "metadata": {
        "id": "W6ddGqasZ_1A"
      }
    },
    {
      "cell_type": "markdown",
      "source": [
        "Para a exploração dos dados dos datasets, seguiremos o seguinte roteiro:\n",
        "\n",
        "1. Análise das informações gerais sobre o dataset\n",
        "2. Análise de amostras dos dados\n",
        "3. Análise das principais estatísticas descritivas\n",
        "4. Visualizações Unimodais dos atributos relevantes\n",
        "5. Visualizações Multimodais dos atributos relevantes"
      ],
      "metadata": {
        "id": "GV0xJ_4nol_h"
      }
    },
    {
      "cell_type": "markdown",
      "source": [
        "### Análise Títulos Públicos"
      ],
      "metadata": {
        "id": "fZY-EuF4oqCG"
      }
    },
    {
      "cell_type": "code",
      "source": [
        "# Exibindo informações gerais sobre o dataset\n",
        "historico_titulos.info()"
      ],
      "metadata": {
        "id": "EDN4IRJ4ovGI",
        "colab": {
          "base_uri": "https://localhost:8080/"
        },
        "outputId": "c791e219-b074-446d-8c4a-f7d0db610963"
      },
      "execution_count": 7,
      "outputs": [
        {
          "output_type": "stream",
          "name": "stdout",
          "text": [
            "<class 'pandas.core.frame.DataFrame'>\n",
            "RangeIndex: 129257 entries, 0 to 129256\n",
            "Data columns (total 8 columns):\n",
            " #   Column             Non-Null Count   Dtype \n",
            "---  ------             --------------   ----- \n",
            " 0   Tipo Titulo        129257 non-null  object\n",
            " 1   Data Vencimento    129257 non-null  object\n",
            " 2   Data Base          129257 non-null  object\n",
            " 3   Taxa Compra Manha  129257 non-null  object\n",
            " 4   Taxa Venda Manha   129257 non-null  object\n",
            " 5   PU Compra Manha    129257 non-null  object\n",
            " 6   PU Venda Manha     129257 non-null  object\n",
            " 7   PU Base Manha      129257 non-null  object\n",
            "dtypes: object(8)\n",
            "memory usage: 7.9+ MB\n"
          ]
        }
      ]
    },
    {
      "cell_type": "markdown",
      "source": [
        "É possível notar que o dataset possui:\n",
        "+ 08 colunas (atributos)\n",
        "+ 129.257 linhas (instâncias)\n",
        "+ 00 valores nulos (*missings*)\n",
        "\n",
        "Nota-se também que os dados são todos do tipo \"object\", que basicamente significa que estão armazenados como *string* (texto). Isso dificultará manipulações e operações com esses dados, sendo necessário fazer a conversão dos atributos relevantes para o tipo adequado.\n",
        "\n",
        "A falta de *missings* é explicada pela fato de o dataset não possuir dados oriundos diretamente de entradas de usuário (ex.: formulários), mas apenas dados computados automaticamente pelo sistema de negociação de títulos públicos."
      ],
      "metadata": {
        "id": "gaVE36WAf8Mt"
      }
    },
    {
      "cell_type": "code",
      "source": [
        "# convertendo atributos relevantes para os tipos adequados\n",
        "historico_titulos = historico_titulos.astype(\n",
        "    {\n",
        "      'Data Vencimento': 'datetime64',\n",
        "      'Data Base': 'datetime64',\n",
        "      'Taxa Compra Manha': 'float',\n",
        "      'Taxa Venda Manha': 'float',\n",
        "      'PU Compra Manha': 'float',\n",
        "      'PU Venda Manha': 'float',\n",
        "      'PU Base Manha': 'float',\n",
        "    }\n",
        ")"
      ],
      "metadata": {
        "id": "rLA9qma8lOqF"
      },
      "execution_count": 11,
      "outputs": []
    },
    {
      "cell_type": "code",
      "source": [
        "# exibindo linhas de fronteiras (início e fim) do dataset ordenadas pelo atributo 'Data Base'\n",
        "historico_titulos.sort_values('Data Base', ascending = False)"
      ],
      "metadata": {
        "colab": {
          "base_uri": "https://localhost:8080/",
          "height": 424
        },
        "id": "iuogPV4mnt_I",
        "outputId": "b8449e34-d1e3-4743-ff1b-810e395c67a8"
      },
      "execution_count": 12,
      "outputs": [
        {
          "output_type": "execute_result",
          "data": {
            "text/plain": [
              "                             Tipo Titulo Data Vencimento  Data Base  \\\n",
              "4799  Tesouro Renda+ Aposentadoria Extra      2069-12-15 2023-04-10   \n",
              "4775  Tesouro IPCA+ com Juros Semestrais      2055-05-15 2023-04-10   \n",
              "4783  Tesouro Renda+ Aposentadoria Extra      2054-12-15 2023-04-10   \n",
              "4782  Tesouro Renda+ Aposentadoria Extra      2074-12-15 2023-04-10   \n",
              "4780                   Tesouro Prefixado      2026-01-01 2023-04-10   \n",
              "...                                  ...             ...        ...   \n",
              "7040  Tesouro IGPM+ com Juros Semestrais      2011-03-01 2004-12-31   \n",
              "7041  Tesouro IGPM+ com Juros Semestrais      2017-07-01 2004-12-31   \n",
              "7042  Tesouro IGPM+ com Juros Semestrais      2021-04-01 2004-12-31   \n",
              "7043  Tesouro IGPM+ com Juros Semestrais      2031-01-01 2004-12-31   \n",
              "7024                       Tesouro Selic      2009-03-18 2004-12-31   \n",
              "\n",
              "      Taxa Compra Manha  Taxa Venda Manha  PU Compra Manha  PU Venda Manha  \\\n",
              "4799               6.17              6.29           484.85          466.01   \n",
              "4775               6.16              6.28          4110.76         4043.73   \n",
              "4783               6.22              6.34          1175.76         1149.36   \n",
              "4782               6.14              6.26           363.80          347.69   \n",
              "4780              11.96             12.08           734.59          732.12   \n",
              "...                 ...               ...              ...             ...   \n",
              "7040               8.33              8.39          1647.67         1643.07   \n",
              "7041               8.26              8.34          1500.78         1491.30   \n",
              "7042               8.25              8.33          1482.71         1472.08   \n",
              "7043               8.24              8.34          2508.78         2484.40   \n",
              "7024               0.38              0.46          2128.72         2121.64   \n",
              "\n",
              "      PU Base Manha  \n",
              "4799         466.01  \n",
              "4775        4043.73  \n",
              "4783        1149.36  \n",
              "4782         347.69  \n",
              "4780         732.12  \n",
              "...             ...  \n",
              "7040        1641.39  \n",
              "7041        1543.01  \n",
              "7042        1470.58  \n",
              "7043        2586.83  \n",
              "7024        2120.22  \n",
              "\n",
              "[129257 rows x 8 columns]"
            ],
            "text/html": [
              "\n",
              "  <div id=\"df-70e26f91-e96c-479a-b2d5-aef03f4b3c0a\">\n",
              "    <div class=\"colab-df-container\">\n",
              "      <div>\n",
              "<style scoped>\n",
              "    .dataframe tbody tr th:only-of-type {\n",
              "        vertical-align: middle;\n",
              "    }\n",
              "\n",
              "    .dataframe tbody tr th {\n",
              "        vertical-align: top;\n",
              "    }\n",
              "\n",
              "    .dataframe thead th {\n",
              "        text-align: right;\n",
              "    }\n",
              "</style>\n",
              "<table border=\"1\" class=\"dataframe\">\n",
              "  <thead>\n",
              "    <tr style=\"text-align: right;\">\n",
              "      <th></th>\n",
              "      <th>Tipo Titulo</th>\n",
              "      <th>Data Vencimento</th>\n",
              "      <th>Data Base</th>\n",
              "      <th>Taxa Compra Manha</th>\n",
              "      <th>Taxa Venda Manha</th>\n",
              "      <th>PU Compra Manha</th>\n",
              "      <th>PU Venda Manha</th>\n",
              "      <th>PU Base Manha</th>\n",
              "    </tr>\n",
              "  </thead>\n",
              "  <tbody>\n",
              "    <tr>\n",
              "      <th>4799</th>\n",
              "      <td>Tesouro Renda+ Aposentadoria Extra</td>\n",
              "      <td>2069-12-15</td>\n",
              "      <td>2023-04-10</td>\n",
              "      <td>6.17</td>\n",
              "      <td>6.29</td>\n",
              "      <td>484.85</td>\n",
              "      <td>466.01</td>\n",
              "      <td>466.01</td>\n",
              "    </tr>\n",
              "    <tr>\n",
              "      <th>4775</th>\n",
              "      <td>Tesouro IPCA+ com Juros Semestrais</td>\n",
              "      <td>2055-05-15</td>\n",
              "      <td>2023-04-10</td>\n",
              "      <td>6.16</td>\n",
              "      <td>6.28</td>\n",
              "      <td>4110.76</td>\n",
              "      <td>4043.73</td>\n",
              "      <td>4043.73</td>\n",
              "    </tr>\n",
              "    <tr>\n",
              "      <th>4783</th>\n",
              "      <td>Tesouro Renda+ Aposentadoria Extra</td>\n",
              "      <td>2054-12-15</td>\n",
              "      <td>2023-04-10</td>\n",
              "      <td>6.22</td>\n",
              "      <td>6.34</td>\n",
              "      <td>1175.76</td>\n",
              "      <td>1149.36</td>\n",
              "      <td>1149.36</td>\n",
              "    </tr>\n",
              "    <tr>\n",
              "      <th>4782</th>\n",
              "      <td>Tesouro Renda+ Aposentadoria Extra</td>\n",
              "      <td>2074-12-15</td>\n",
              "      <td>2023-04-10</td>\n",
              "      <td>6.14</td>\n",
              "      <td>6.26</td>\n",
              "      <td>363.80</td>\n",
              "      <td>347.69</td>\n",
              "      <td>347.69</td>\n",
              "    </tr>\n",
              "    <tr>\n",
              "      <th>4780</th>\n",
              "      <td>Tesouro Prefixado</td>\n",
              "      <td>2026-01-01</td>\n",
              "      <td>2023-04-10</td>\n",
              "      <td>11.96</td>\n",
              "      <td>12.08</td>\n",
              "      <td>734.59</td>\n",
              "      <td>732.12</td>\n",
              "      <td>732.12</td>\n",
              "    </tr>\n",
              "    <tr>\n",
              "      <th>...</th>\n",
              "      <td>...</td>\n",
              "      <td>...</td>\n",
              "      <td>...</td>\n",
              "      <td>...</td>\n",
              "      <td>...</td>\n",
              "      <td>...</td>\n",
              "      <td>...</td>\n",
              "      <td>...</td>\n",
              "    </tr>\n",
              "    <tr>\n",
              "      <th>7040</th>\n",
              "      <td>Tesouro IGPM+ com Juros Semestrais</td>\n",
              "      <td>2011-03-01</td>\n",
              "      <td>2004-12-31</td>\n",
              "      <td>8.33</td>\n",
              "      <td>8.39</td>\n",
              "      <td>1647.67</td>\n",
              "      <td>1643.07</td>\n",
              "      <td>1641.39</td>\n",
              "    </tr>\n",
              "    <tr>\n",
              "      <th>7041</th>\n",
              "      <td>Tesouro IGPM+ com Juros Semestrais</td>\n",
              "      <td>2017-07-01</td>\n",
              "      <td>2004-12-31</td>\n",
              "      <td>8.26</td>\n",
              "      <td>8.34</td>\n",
              "      <td>1500.78</td>\n",
              "      <td>1491.30</td>\n",
              "      <td>1543.01</td>\n",
              "    </tr>\n",
              "    <tr>\n",
              "      <th>7042</th>\n",
              "      <td>Tesouro IGPM+ com Juros Semestrais</td>\n",
              "      <td>2021-04-01</td>\n",
              "      <td>2004-12-31</td>\n",
              "      <td>8.25</td>\n",
              "      <td>8.33</td>\n",
              "      <td>1482.71</td>\n",
              "      <td>1472.08</td>\n",
              "      <td>1470.58</td>\n",
              "    </tr>\n",
              "    <tr>\n",
              "      <th>7043</th>\n",
              "      <td>Tesouro IGPM+ com Juros Semestrais</td>\n",
              "      <td>2031-01-01</td>\n",
              "      <td>2004-12-31</td>\n",
              "      <td>8.24</td>\n",
              "      <td>8.34</td>\n",
              "      <td>2508.78</td>\n",
              "      <td>2484.40</td>\n",
              "      <td>2586.83</td>\n",
              "    </tr>\n",
              "    <tr>\n",
              "      <th>7024</th>\n",
              "      <td>Tesouro Selic</td>\n",
              "      <td>2009-03-18</td>\n",
              "      <td>2004-12-31</td>\n",
              "      <td>0.38</td>\n",
              "      <td>0.46</td>\n",
              "      <td>2128.72</td>\n",
              "      <td>2121.64</td>\n",
              "      <td>2120.22</td>\n",
              "    </tr>\n",
              "  </tbody>\n",
              "</table>\n",
              "<p>129257 rows × 8 columns</p>\n",
              "</div>\n",
              "      <button class=\"colab-df-convert\" onclick=\"convertToInteractive('df-70e26f91-e96c-479a-b2d5-aef03f4b3c0a')\"\n",
              "              title=\"Convert this dataframe to an interactive table.\"\n",
              "              style=\"display:none;\">\n",
              "        \n",
              "  <svg xmlns=\"http://www.w3.org/2000/svg\" height=\"24px\"viewBox=\"0 0 24 24\"\n",
              "       width=\"24px\">\n",
              "    <path d=\"M0 0h24v24H0V0z\" fill=\"none\"/>\n",
              "    <path d=\"M18.56 5.44l.94 2.06.94-2.06 2.06-.94-2.06-.94-.94-2.06-.94 2.06-2.06.94zm-11 1L8.5 8.5l.94-2.06 2.06-.94-2.06-.94L8.5 2.5l-.94 2.06-2.06.94zm10 10l.94 2.06.94-2.06 2.06-.94-2.06-.94-.94-2.06-.94 2.06-2.06.94z\"/><path d=\"M17.41 7.96l-1.37-1.37c-.4-.4-.92-.59-1.43-.59-.52 0-1.04.2-1.43.59L10.3 9.45l-7.72 7.72c-.78.78-.78 2.05 0 2.83L4 21.41c.39.39.9.59 1.41.59.51 0 1.02-.2 1.41-.59l7.78-7.78 2.81-2.81c.8-.78.8-2.07 0-2.86zM5.41 20L4 18.59l7.72-7.72 1.47 1.35L5.41 20z\"/>\n",
              "  </svg>\n",
              "      </button>\n",
              "      \n",
              "  <style>\n",
              "    .colab-df-container {\n",
              "      display:flex;\n",
              "      flex-wrap:wrap;\n",
              "      gap: 12px;\n",
              "    }\n",
              "\n",
              "    .colab-df-convert {\n",
              "      background-color: #E8F0FE;\n",
              "      border: none;\n",
              "      border-radius: 50%;\n",
              "      cursor: pointer;\n",
              "      display: none;\n",
              "      fill: #1967D2;\n",
              "      height: 32px;\n",
              "      padding: 0 0 0 0;\n",
              "      width: 32px;\n",
              "    }\n",
              "\n",
              "    .colab-df-convert:hover {\n",
              "      background-color: #E2EBFA;\n",
              "      box-shadow: 0px 1px 2px rgba(60, 64, 67, 0.3), 0px 1px 3px 1px rgba(60, 64, 67, 0.15);\n",
              "      fill: #174EA6;\n",
              "    }\n",
              "\n",
              "    [theme=dark] .colab-df-convert {\n",
              "      background-color: #3B4455;\n",
              "      fill: #D2E3FC;\n",
              "    }\n",
              "\n",
              "    [theme=dark] .colab-df-convert:hover {\n",
              "      background-color: #434B5C;\n",
              "      box-shadow: 0px 1px 3px 1px rgba(0, 0, 0, 0.15);\n",
              "      filter: drop-shadow(0px 1px 2px rgba(0, 0, 0, 0.3));\n",
              "      fill: #FFFFFF;\n",
              "    }\n",
              "  </style>\n",
              "\n",
              "      <script>\n",
              "        const buttonEl =\n",
              "          document.querySelector('#df-70e26f91-e96c-479a-b2d5-aef03f4b3c0a button.colab-df-convert');\n",
              "        buttonEl.style.display =\n",
              "          google.colab.kernel.accessAllowed ? 'block' : 'none';\n",
              "\n",
              "        async function convertToInteractive(key) {\n",
              "          const element = document.querySelector('#df-70e26f91-e96c-479a-b2d5-aef03f4b3c0a');\n",
              "          const dataTable =\n",
              "            await google.colab.kernel.invokeFunction('convertToInteractive',\n",
              "                                                     [key], {});\n",
              "          if (!dataTable) return;\n",
              "\n",
              "          const docLinkHtml = 'Like what you see? Visit the ' +\n",
              "            '<a target=\"_blank\" href=https://colab.research.google.com/notebooks/data_table.ipynb>data table notebook</a>'\n",
              "            + ' to learn more about interactive tables.';\n",
              "          element.innerHTML = '';\n",
              "          dataTable['output_type'] = 'display_data';\n",
              "          await google.colab.output.renderOutput(dataTable, element);\n",
              "          const docLink = document.createElement('div');\n",
              "          docLink.innerHTML = docLinkHtml;\n",
              "          element.appendChild(docLink);\n",
              "        }\n",
              "      </script>\n",
              "    </div>\n",
              "  </div>\n",
              "  "
            ]
          },
          "metadata": {},
          "execution_count": 12
        }
      ]
    },
    {
      "cell_type": "markdown",
      "source": [
        "É possível verificar pela amostra acima que o dataset apresenta dados coerentes com o significado de seus atributos, bem como coerência na ordenação temporal pelo atributo \"Data Base\"."
      ],
      "metadata": {
        "id": "lkpkJDt2oUib"
      }
    },
    {
      "cell_type": "markdown",
      "source": [
        "### Análise IBOVESPA"
      ],
      "metadata": {
        "id": "nmtX0E_CowVG"
      }
    },
    {
      "cell_type": "code",
      "source": [],
      "metadata": {
        "id": "JGFisyvnozKI"
      },
      "execution_count": 6,
      "outputs": []
    },
    {
      "cell_type": "markdown",
      "source": [
        "### Análise PTax"
      ],
      "metadata": {
        "id": "tCIB5xiXoztw"
      }
    },
    {
      "cell_type": "code",
      "source": [],
      "metadata": {
        "id": "DjaXFw2_o03w"
      },
      "execution_count": 6,
      "outputs": []
    },
    {
      "cell_type": "markdown",
      "source": [
        "### Análise CDS 5Y"
      ],
      "metadata": {
        "id": "cITpDygMo1PM"
      }
    },
    {
      "cell_type": "code",
      "source": [],
      "metadata": {
        "id": "ssIJpAy-o3_5"
      },
      "execution_count": 6,
      "outputs": []
    }
  ]
}