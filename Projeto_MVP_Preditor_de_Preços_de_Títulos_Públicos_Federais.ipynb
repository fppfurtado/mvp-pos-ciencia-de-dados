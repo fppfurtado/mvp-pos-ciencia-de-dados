{
  "nbformat": 4,
  "nbformat_minor": 0,
  "metadata": {
    "colab": {
      "provenance": [],
      "collapsed_sections": [
        "T_tMpsNA_uvw"
      ],
      "toc_visible": true,
      "authorship_tag": "ABX9TyMI2zhfOwks1DRg5nSEzLE4",
      "include_colab_link": true
    },
    "kernelspec": {
      "name": "python3",
      "display_name": "Python 3"
    },
    "language_info": {
      "name": "python"
    }
  },
  "cells": [
    {
      "cell_type": "markdown",
      "metadata": {
        "id": "view-in-github",
        "colab_type": "text"
      },
      "source": [
        "<a href=\"https://colab.research.google.com/github/fppfurtado/mvp-pos-ciencia-de-dados/blob/main/Projeto_MVP_Preditor_de_Pre%C3%A7os_de_T%C3%ADtulos_P%C3%BAblicos_Federais.ipynb\" target=\"_parent\"><img src=\"https://colab.research.google.com/assets/colab-badge.svg\" alt=\"Open In Colab\"/></a>"
      ]
    },
    {
      "cell_type": "markdown",
      "source": [
        "# 1. Definição do Problema"
      ],
      "metadata": {
        "id": "T_tMpsNA_uvw"
      }
    },
    {
      "cell_type": "markdown",
      "source": [
        "## Objetivo\n",
        "O presente projeto tem como objetivo a construção de um modelo de regressão linear para auxiliar o investidor a decidir o melhor momento de marcar a mercado seu título público, prevendo as taxas de juros ofertadas por títulos públicos federais - e, consequentemente, seus preços unitários - a partir dos valores da taxa de câmbio dolar/real (Ptax), do índice IBOVESPA e do CDS Brasil 5 anos."
      ],
      "metadata": {
        "id": "UFGSQtlOmUJw"
      }
    },
    {
      "cell_type": "markdown",
      "source": [
        "## Títulos Públicos Federais\n",
        "Títulos Públicos Federais são títulos de dívida emitidos pelo Governo Federal para financiar suas atvidades captando recursos de particulares em troca de pagamento de juros sobre um capital aplicado. Na prática, são **ativos de renda fixa** que possuem preço, taxa e vencimento definidos, e que podem ser adquiridos por investidores interessados.\n",
        "\n",
        "Esses ativos possuem liquidez diária, podendo o investidor solicitar o resgate a qualquer tempo (durante o horário de funcionamento do mercado de títulos publicos), porém nesse caso o valor utilizado para o cálculo da rentabilidade será o **valor de mercado do título** no dia da solicitação de resgate, a chamada **Marcação a Mercado**, que pode fazer com que o investidor tenha ou lucro acima do esperado ou prejuízo no resgate antecipado.\n",
        "\n",
        "O preço dos títulos públicos variam em função das respectivas taxas ofertadas. E as taxas variam diariamente, basicamente, em função da percepção de risco do mercado em relação à economia do país. Por isso, após alguma notícia negativa no cenário econômico, é comum observar fenômenos como \"queda na bolsa\", \"alta no dolar\" e \"alta nos juros\" pagos pelos títulos públicos federais."
      ],
      "metadata": {
        "id": "w7ACF_sL_5eg"
      }
    },
    {
      "cell_type": "markdown",
      "source": [
        "## IBOVESPA\n",
        "O Ibovespa é o principal indicador de desempenho das ações negociadas na B3 e reúne as empresas mais importantes do mercado de capitais brasileiro. Foi criado em 1968 e, ao longo desses 50 anos, consolidou-se como referência para investidores ao redor do mundo.\n",
        "\n",
        "Reavaliado a cada quatro meses, o índice é resultado de uma carteira teórica de ativos. É composto pelas ações e units de companhias listadas na B3 que atendem aos critérios descritos na sua metodologia, correspondendo a cerca de 80% do número de negócios e do volume financeiro do nosso mercado de capitais.\n",
        "\n",
        "Fonte: https://www.b3.com.br/pt_br/market-data-e-indices/indices/indices-amplos/ibovespa.htm"
      ],
      "metadata": {
        "id": "MM4EpINobbYj"
      }
    },
    {
      "cell_type": "markdown",
      "source": [
        "## PTax\n",
        "Ptax é uma taxa de câmbio calculada durante o dia pelo Banco Central do Brasil. Consiste na média das taxas de compra e de venda informadas pelas instituições financeiras durante 4 janelas do dia. É a taxa de referencia para o valor do dólar de D2 (em dois dias úteis). Normalmente, os contratos de derivativos de câmbio são liquidados com base na PTAX divulgada para o dia útil anterior.\n",
        "\n",
        "Fonte: https://pt.wikipedia.org/wiki/Ptax"
      ],
      "metadata": {
        "id": "nGEvjtSXcu6F"
      }
    },
    {
      "cell_type": "markdown",
      "source": [
        "## CDS Brasil\n",
        "CDS (credit default swap) é a troca de risco de crédito. O CDS é um contrato derivativo que funciona como um seguro para quem empresta dinheiro. Por levar em sua precificação o risco de inadimplência do tomador do empréstimo, o CDS é muito usado como termômetro para o risco de um país.\n",
        "\n",
        "Fonte: https://inteligenciafinanceira.com.br/glossario/credit-default-swap-cds-risco-pais/"
      ],
      "metadata": {
        "id": "LFvsvBlHdnUq"
      }
    },
    {
      "cell_type": "markdown",
      "source": [
        "# 2. Coleta e Análise de Dados"
      ],
      "metadata": {
        "id": "Ll6MNI-cM8l0"
      }
    },
    {
      "cell_type": "markdown",
      "source": [
        "## Importação de Pacotes e Módulos"
      ],
      "metadata": {
        "id": "s7ZM_BIENL1s"
      }
    },
    {
      "cell_type": "code",
      "execution_count": 86,
      "metadata": {
        "id": "EwubgFHWkonG"
      },
      "outputs": [],
      "source": [
        "# Importando pacotes\n",
        "import numpy as np\n",
        "import pandas as pd\n",
        "import matplotlib.pyplot as plt\n",
        "import seaborn as sns\n",
        "import warnings"
      ]
    },
    {
      "cell_type": "markdown",
      "source": [
        "## Configurações prévias"
      ],
      "metadata": {
        "id": "kIUgiz8SNZfv"
      }
    },
    {
      "cell_type": "code",
      "source": [
        "# Suprimindo warnings\n",
        "warnings.filterwarnings('ignore')"
      ],
      "metadata": {
        "id": "_Jo7YMsJbyrY"
      },
      "execution_count": 87,
      "outputs": []
    },
    {
      "cell_type": "markdown",
      "source": [
        "## Carregamento e Preparação dos Dados\n",
        "\n",
        "Serão carregados os datasets dos dados históricos das quatro variáveis econômicas que serão tratadas posteriormente pelo modelo de regressão linear: \n",
        "\n",
        "+ taxas e preços de título públicos federais\n",
        "+ taxa de câmbio PTax\n",
        "+ índice IBOVESPA\n",
        "+ CDS Brasil 5 anos."
      ],
      "metadata": {
        "id": "iXyuMhkcNfd2"
      }
    },
    {
      "cell_type": "code",
      "source": [
        "# Carregando o histórico de preços de preços e taxas de títulos públicos\n",
        "historico_titulos = pd.read_csv('https://github.com/fppfurtado/mvp-pos-ciencia-de-dados/raw/main/DADOS/historico_titulos.csv', decimal = ',')\n",
        "# Carregando o histórico do índice IBOVESPA\n",
        "historico_ibov = pd.read_csv('https://raw.githubusercontent.com/fppfurtado/mvp-pos-ciencia-de-dados/main/DADOS/historico_ibov.csv', decimal = ',')\n",
        "# Carregando o histórico da taxa de câmbio PTax\n",
        "historico_ptax = pd.read_csv('https://raw.githubusercontent.com/fppfurtado/mvp-pos-ciencia-de-dados/main/DADOS/historico_ptax.csv', decimal = ',')\n",
        "# Carregando o histórico do CDS Brasil 5 Anos\n",
        "historico_cds5y = pd.read_csv('https://raw.githubusercontent.com/fppfurtado/mvp-pos-ciencia-de-dados/main/DADOS/historico_csd5y.csv', decimal = ',')"
      ],
      "metadata": {
        "id": "Fy0GsKZymblK"
      },
      "execution_count": 88,
      "outputs": []
    },
    {
      "cell_type": "markdown",
      "source": [
        "Cada dataset possui um conjunto de atributos próprio, muitos dos quais não serão relevantes em nosso projeto. Por esse motivo, selecionaremos apenas os atributos relevantes e faremos a junção em um dataset final de trabalho utilizando como chave os atributos temporais (datas)."
      ],
      "metadata": {
        "id": "tSXzXRFj8Ltp"
      }
    },
    {
      "cell_type": "code",
      "source": [
        "# exibindo os nomes das colunas (atributos) dos datasets\n",
        "print('atributos titulos:', historico_titulos.columns, '\\n')\n",
        "print('atributos ibov:', historico_ibov.columns, '\\n')\n",
        "print('atributos ptax:', historico_ptax.columns, '\\n')\n",
        "print('atributos cds5y:', historico_cds5y.columns, '\\n')"
      ],
      "metadata": {
        "colab": {
          "base_uri": "https://localhost:8080/"
        },
        "id": "v48c8ATl9Lux",
        "outputId": "6a16574c-5676-4556-f784-5d431274a30f"
      },
      "execution_count": 89,
      "outputs": [
        {
          "output_type": "stream",
          "name": "stdout",
          "text": [
            "atributos titulos: Index(['Tipo Titulo', 'Data Vencimento', 'Data Base', 'Taxa Compra Manha',\n",
            "       'Taxa Venda Manha', 'PU Compra Manha', 'PU Venda Manha',\n",
            "       'PU Base Manha'],\n",
            "      dtype='object') \n",
            "\n",
            "atributos ibov: Index(['direction_color', 'rowDate', 'rowDateRaw', 'rowDateTimestamp',\n",
            "       'last_close', 'last_open', 'last_max', 'last_min', 'volume',\n",
            "       'volumeRaw', 'change_precent', 'last_closeRaw', 'last_openRaw',\n",
            "       'last_maxRaw', 'last_minRaw', 'change_precentRaw'],\n",
            "      dtype='object') \n",
            "\n",
            "atributos ptax: Index(['data', 'valor'], dtype='object') \n",
            "\n",
            "atributos cds5y: Index(['direction_color', 'rowDate', 'rowDateRaw', 'rowDateTimestamp',\n",
            "       'last_close', 'last_open', 'last_max', 'last_min', 'volume',\n",
            "       'volumeRaw', 'change_precent', 'last_closeRaw', 'last_openRaw',\n",
            "       'last_maxRaw', 'last_minRaw', 'change_precentRaw'],\n",
            "      dtype='object') \n",
            "\n"
          ]
        }
      ]
    },
    {
      "cell_type": "markdown",
      "source": [
        "Para o histórico de títulos públicos, selecionaremos os atributos: Tipo Titulo, Data Vencimento, Data Base, Taxa Venda Manha."
      ],
      "metadata": {
        "id": "I_8gBtW6-roO"
      }
    },
    {
      "cell_type": "code",
      "source": [
        "# reduzindo o dataset historico_titulos por meio da seleção de atributos relevantes\n",
        "historico_titulos = historico_titulos[['Tipo Titulo', 'Data Vencimento', 'Data Base', 'Taxa Venda Manha']]"
      ],
      "metadata": {
        "id": "vOJHT_co_BaM"
      },
      "execution_count": 90,
      "outputs": []
    },
    {
      "cell_type": "markdown",
      "source": [
        "Para o histórico do Ibovespa, selecionaremos os atributos: rowDate, volumeRaw, change_precent."
      ],
      "metadata": {
        "id": "LLRlJiYe_m0z"
      }
    },
    {
      "cell_type": "code",
      "source": [
        "# reduzindo o dataset historico_ibov por meio da seleção de atributos relevantes\n",
        "historico_ibov = historico_ibov[['rowDate', 'volumeRaw', 'change_precent']]"
      ],
      "metadata": {
        "id": "ew6i34mn_1z0"
      },
      "execution_count": 91,
      "outputs": []
    },
    {
      "cell_type": "markdown",
      "source": [
        "Para o histórico da taxa de câmbio, como são apenas dois atributos, manteremos a mesma configuração."
      ],
      "metadata": {
        "id": "3KBSd2ICDWsX"
      }
    },
    {
      "cell_type": "markdown",
      "source": [
        "Para o histórico do CDS Brasil 5 Anos, selecionaremos os atributos: rowDate, volumeRaw e change_precent."
      ],
      "metadata": {
        "id": "wEFans3GDtoA"
      }
    },
    {
      "cell_type": "code",
      "source": [
        "# reduzindo o dataset historico_csd5y por meio da seleção de atributos relevantes\n",
        "historico_cds5y = historico_cds5y[['rowDate', 'change_precent']]"
      ],
      "metadata": {
        "id": "lMVLfplOEAcn"
      },
      "execution_count": 92,
      "outputs": []
    },
    {
      "cell_type": "markdown",
      "source": [
        "Vamos garantir que os atributos temporais que sequenciam as séries históricas estejam armazenados como data, a fim de utilizá-los como chaves na junção dos datasets."
      ],
      "metadata": {
        "id": "I6eGvgKxEayI"
      }
    },
    {
      "cell_type": "code",
      "source": [
        "# ajustando tipos dos atributos temporais\n",
        "historico_titulos['Data Base'] = historico_titulos['Data Base'].astype('datetime64')\n",
        "historico_ibov['rowDate'] = historico_ibov['rowDate'].astype('datetime64')\n",
        "historico_ptax['data'] = historico_ptax['data'].astype('datetime64')\n",
        "historico_cds5y['rowDate'] = historico_cds5y['rowDate'].astype('datetime64')"
      ],
      "metadata": {
        "id": "6ikWOqF9FKCN"
      },
      "execution_count": 93,
      "outputs": []
    },
    {
      "cell_type": "markdown",
      "source": [
        "Vamos agora juntar os datasets com base nos atributos temporais."
      ],
      "metadata": {
        "id": "F11wT-iGH9_6"
      }
    },
    {
      "cell_type": "code",
      "source": [
        "# mesclando o historico de titulos com o historico ibov com base em atributo de data\n",
        "df_merge = pd.merge(historico_titulos, historico_ibov, left_on='Data Base', right_on='rowDate', suffixes=('_titulos', '_ibov'))\n",
        "# mesclando o dataset df_merge com o historico ptax com base em atributo de data\n",
        "df_merge = pd.merge(df_merge, historico_ptax, left_on='Data Base', right_on='data', suffixes=('_titulos', '_ptax'))\n",
        "# mesclando o dataset df_merge com o historico CDS 5 anos com base em atributo de data\n",
        "df_merge = pd.merge(df_merge, historico_cds5y, left_on='Data Base', right_on='rowDate', suffixes=('_ibov', '_cds'))\n",
        "# exibindo as primeiras linhas para visualização do resultado\n",
        "df_merge.head(5)"
      ],
      "metadata": {
        "colab": {
          "base_uri": "https://localhost:8080/",
          "height": 250
        },
        "id": "1Z4wMlcDICm3",
        "outputId": "0d8c27df-1e9e-49ae-f01d-83b9ba7f00e6"
      },
      "execution_count": 94,
      "outputs": [
        {
          "output_type": "execute_result",
          "data": {
            "text/plain": [
              "                              Tipo Titulo Data Vencimento  Data Base  \\\n",
              "0  Tesouro Prefixado com Juros Semestrais      2029-01-01 2020-12-17   \n",
              "1                           Tesouro IPCA+      2026-08-15 2020-12-17   \n",
              "2                           Tesouro IPCA+      2024-08-15 2020-12-17   \n",
              "3      Tesouro IGPM+ com Juros Semestrais      2021-04-01 2020-12-17   \n",
              "4                       Tesouro Prefixado      2023-01-01 2020-12-17   \n",
              "\n",
              "  Taxa Venda Manha rowDate_ibov  volumeRaw change_precent_ibov       data  \\\n",
              "0             6.97   2020-12-17    7701390                0.46 2020-12-17   \n",
              "1             2.54   2020-12-17    7701390                0.46 2020-12-17   \n",
              "2             1.79   2020-12-17    7701390                0.46 2020-12-17   \n",
              "3             -0.3   2020-12-17    7701390                0.46 2020-12-17   \n",
              "4             4.61   2020-12-17    7701390                0.46 2020-12-17   \n",
              "\n",
              "    valor rowDate_cds change_precent_cds  \n",
              "0  5.0606  2020-12-17              -1.26  \n",
              "1  5.0606  2020-12-17              -1.26  \n",
              "2  5.0606  2020-12-17              -1.26  \n",
              "3  5.0606  2020-12-17              -1.26  \n",
              "4  5.0606  2020-12-17              -1.26  "
            ],
            "text/html": [
              "\n",
              "  <div id=\"df-55a2138d-782f-4c91-930f-8f2f68b187d7\">\n",
              "    <div class=\"colab-df-container\">\n",
              "      <div>\n",
              "<style scoped>\n",
              "    .dataframe tbody tr th:only-of-type {\n",
              "        vertical-align: middle;\n",
              "    }\n",
              "\n",
              "    .dataframe tbody tr th {\n",
              "        vertical-align: top;\n",
              "    }\n",
              "\n",
              "    .dataframe thead th {\n",
              "        text-align: right;\n",
              "    }\n",
              "</style>\n",
              "<table border=\"1\" class=\"dataframe\">\n",
              "  <thead>\n",
              "    <tr style=\"text-align: right;\">\n",
              "      <th></th>\n",
              "      <th>Tipo Titulo</th>\n",
              "      <th>Data Vencimento</th>\n",
              "      <th>Data Base</th>\n",
              "      <th>Taxa Venda Manha</th>\n",
              "      <th>rowDate_ibov</th>\n",
              "      <th>volumeRaw</th>\n",
              "      <th>change_precent_ibov</th>\n",
              "      <th>data</th>\n",
              "      <th>valor</th>\n",
              "      <th>rowDate_cds</th>\n",
              "      <th>change_precent_cds</th>\n",
              "    </tr>\n",
              "  </thead>\n",
              "  <tbody>\n",
              "    <tr>\n",
              "      <th>0</th>\n",
              "      <td>Tesouro Prefixado com Juros Semestrais</td>\n",
              "      <td>2029-01-01</td>\n",
              "      <td>2020-12-17</td>\n",
              "      <td>6.97</td>\n",
              "      <td>2020-12-17</td>\n",
              "      <td>7701390</td>\n",
              "      <td>0.46</td>\n",
              "      <td>2020-12-17</td>\n",
              "      <td>5.0606</td>\n",
              "      <td>2020-12-17</td>\n",
              "      <td>-1.26</td>\n",
              "    </tr>\n",
              "    <tr>\n",
              "      <th>1</th>\n",
              "      <td>Tesouro IPCA+</td>\n",
              "      <td>2026-08-15</td>\n",
              "      <td>2020-12-17</td>\n",
              "      <td>2.54</td>\n",
              "      <td>2020-12-17</td>\n",
              "      <td>7701390</td>\n",
              "      <td>0.46</td>\n",
              "      <td>2020-12-17</td>\n",
              "      <td>5.0606</td>\n",
              "      <td>2020-12-17</td>\n",
              "      <td>-1.26</td>\n",
              "    </tr>\n",
              "    <tr>\n",
              "      <th>2</th>\n",
              "      <td>Tesouro IPCA+</td>\n",
              "      <td>2024-08-15</td>\n",
              "      <td>2020-12-17</td>\n",
              "      <td>1.79</td>\n",
              "      <td>2020-12-17</td>\n",
              "      <td>7701390</td>\n",
              "      <td>0.46</td>\n",
              "      <td>2020-12-17</td>\n",
              "      <td>5.0606</td>\n",
              "      <td>2020-12-17</td>\n",
              "      <td>-1.26</td>\n",
              "    </tr>\n",
              "    <tr>\n",
              "      <th>3</th>\n",
              "      <td>Tesouro IGPM+ com Juros Semestrais</td>\n",
              "      <td>2021-04-01</td>\n",
              "      <td>2020-12-17</td>\n",
              "      <td>-0.3</td>\n",
              "      <td>2020-12-17</td>\n",
              "      <td>7701390</td>\n",
              "      <td>0.46</td>\n",
              "      <td>2020-12-17</td>\n",
              "      <td>5.0606</td>\n",
              "      <td>2020-12-17</td>\n",
              "      <td>-1.26</td>\n",
              "    </tr>\n",
              "    <tr>\n",
              "      <th>4</th>\n",
              "      <td>Tesouro Prefixado</td>\n",
              "      <td>2023-01-01</td>\n",
              "      <td>2020-12-17</td>\n",
              "      <td>4.61</td>\n",
              "      <td>2020-12-17</td>\n",
              "      <td>7701390</td>\n",
              "      <td>0.46</td>\n",
              "      <td>2020-12-17</td>\n",
              "      <td>5.0606</td>\n",
              "      <td>2020-12-17</td>\n",
              "      <td>-1.26</td>\n",
              "    </tr>\n",
              "  </tbody>\n",
              "</table>\n",
              "</div>\n",
              "      <button class=\"colab-df-convert\" onclick=\"convertToInteractive('df-55a2138d-782f-4c91-930f-8f2f68b187d7')\"\n",
              "              title=\"Convert this dataframe to an interactive table.\"\n",
              "              style=\"display:none;\">\n",
              "        \n",
              "  <svg xmlns=\"http://www.w3.org/2000/svg\" height=\"24px\"viewBox=\"0 0 24 24\"\n",
              "       width=\"24px\">\n",
              "    <path d=\"M0 0h24v24H0V0z\" fill=\"none\"/>\n",
              "    <path d=\"M18.56 5.44l.94 2.06.94-2.06 2.06-.94-2.06-.94-.94-2.06-.94 2.06-2.06.94zm-11 1L8.5 8.5l.94-2.06 2.06-.94-2.06-.94L8.5 2.5l-.94 2.06-2.06.94zm10 10l.94 2.06.94-2.06 2.06-.94-2.06-.94-.94-2.06-.94 2.06-2.06.94z\"/><path d=\"M17.41 7.96l-1.37-1.37c-.4-.4-.92-.59-1.43-.59-.52 0-1.04.2-1.43.59L10.3 9.45l-7.72 7.72c-.78.78-.78 2.05 0 2.83L4 21.41c.39.39.9.59 1.41.59.51 0 1.02-.2 1.41-.59l7.78-7.78 2.81-2.81c.8-.78.8-2.07 0-2.86zM5.41 20L4 18.59l7.72-7.72 1.47 1.35L5.41 20z\"/>\n",
              "  </svg>\n",
              "      </button>\n",
              "      \n",
              "  <style>\n",
              "    .colab-df-container {\n",
              "      display:flex;\n",
              "      flex-wrap:wrap;\n",
              "      gap: 12px;\n",
              "    }\n",
              "\n",
              "    .colab-df-convert {\n",
              "      background-color: #E8F0FE;\n",
              "      border: none;\n",
              "      border-radius: 50%;\n",
              "      cursor: pointer;\n",
              "      display: none;\n",
              "      fill: #1967D2;\n",
              "      height: 32px;\n",
              "      padding: 0 0 0 0;\n",
              "      width: 32px;\n",
              "    }\n",
              "\n",
              "    .colab-df-convert:hover {\n",
              "      background-color: #E2EBFA;\n",
              "      box-shadow: 0px 1px 2px rgba(60, 64, 67, 0.3), 0px 1px 3px 1px rgba(60, 64, 67, 0.15);\n",
              "      fill: #174EA6;\n",
              "    }\n",
              "\n",
              "    [theme=dark] .colab-df-convert {\n",
              "      background-color: #3B4455;\n",
              "      fill: #D2E3FC;\n",
              "    }\n",
              "\n",
              "    [theme=dark] .colab-df-convert:hover {\n",
              "      background-color: #434B5C;\n",
              "      box-shadow: 0px 1px 3px 1px rgba(0, 0, 0, 0.15);\n",
              "      filter: drop-shadow(0px 1px 2px rgba(0, 0, 0, 0.3));\n",
              "      fill: #FFFFFF;\n",
              "    }\n",
              "  </style>\n",
              "\n",
              "      <script>\n",
              "        const buttonEl =\n",
              "          document.querySelector('#df-55a2138d-782f-4c91-930f-8f2f68b187d7 button.colab-df-convert');\n",
              "        buttonEl.style.display =\n",
              "          google.colab.kernel.accessAllowed ? 'block' : 'none';\n",
              "\n",
              "        async function convertToInteractive(key) {\n",
              "          const element = document.querySelector('#df-55a2138d-782f-4c91-930f-8f2f68b187d7');\n",
              "          const dataTable =\n",
              "            await google.colab.kernel.invokeFunction('convertToInteractive',\n",
              "                                                     [key], {});\n",
              "          if (!dataTable) return;\n",
              "\n",
              "          const docLinkHtml = 'Like what you see? Visit the ' +\n",
              "            '<a target=\"_blank\" href=https://colab.research.google.com/notebooks/data_table.ipynb>data table notebook</a>'\n",
              "            + ' to learn more about interactive tables.';\n",
              "          element.innerHTML = '';\n",
              "          dataTable['output_type'] = 'display_data';\n",
              "          await google.colab.output.renderOutput(dataTable, element);\n",
              "          const docLink = document.createElement('div');\n",
              "          docLink.innerHTML = docLinkHtml;\n",
              "          element.appendChild(docLink);\n",
              "        }\n",
              "      </script>\n",
              "    </div>\n",
              "  </div>\n",
              "  "
            ]
          },
          "metadata": {},
          "execution_count": 94
        }
      ]
    },
    {
      "cell_type": "markdown",
      "source": [
        "Por fim, vamos eliminar os atributos temporais duplicados e renomear alguns atributos."
      ],
      "metadata": {
        "id": "2p4cLrBSgPbr"
      }
    },
    {
      "cell_type": "code",
      "source": [
        "# eliminando atributos irrelevantes\n",
        "df_merge = df_merge.drop(columns=['rowDate_ibov', 'data', 'rowDate_cds'])\n",
        "# renomeando atributos\n",
        "df_merge = df_merge.rename(columns={\n",
        "    'volumeRaw': 'Volume IBOV',\n",
        "    'change_precent_ibov': 'Variação IBOV',\n",
        "    'valor': 'Valor Dolar',\n",
        "    'change_precent_cds': 'Variação CDS'\n",
        "})\n",
        "# exibindo as primeiras linhas\n",
        "df_merge.head(5)"
      ],
      "metadata": {
        "colab": {
          "base_uri": "https://localhost:8080/",
          "height": 206
        },
        "id": "tbnQB5MSguDd",
        "outputId": "5f74780d-acb5-474a-a780-0c68a28fa4ae"
      },
      "execution_count": 95,
      "outputs": [
        {
          "output_type": "execute_result",
          "data": {
            "text/plain": [
              "                              Tipo Titulo Data Vencimento  Data Base  \\\n",
              "0  Tesouro Prefixado com Juros Semestrais      2029-01-01 2020-12-17   \n",
              "1                           Tesouro IPCA+      2026-08-15 2020-12-17   \n",
              "2                           Tesouro IPCA+      2024-08-15 2020-12-17   \n",
              "3      Tesouro IGPM+ com Juros Semestrais      2021-04-01 2020-12-17   \n",
              "4                       Tesouro Prefixado      2023-01-01 2020-12-17   \n",
              "\n",
              "  Taxa Venda Manha  Volume IBOV Variação IBOV Valor Dolar Variação CDS  \n",
              "0             6.97      7701390          0.46      5.0606        -1.26  \n",
              "1             2.54      7701390          0.46      5.0606        -1.26  \n",
              "2             1.79      7701390          0.46      5.0606        -1.26  \n",
              "3             -0.3      7701390          0.46      5.0606        -1.26  \n",
              "4             4.61      7701390          0.46      5.0606        -1.26  "
            ],
            "text/html": [
              "\n",
              "  <div id=\"df-70b8fb1d-f4e8-440a-a74c-1ebffdb6c948\">\n",
              "    <div class=\"colab-df-container\">\n",
              "      <div>\n",
              "<style scoped>\n",
              "    .dataframe tbody tr th:only-of-type {\n",
              "        vertical-align: middle;\n",
              "    }\n",
              "\n",
              "    .dataframe tbody tr th {\n",
              "        vertical-align: top;\n",
              "    }\n",
              "\n",
              "    .dataframe thead th {\n",
              "        text-align: right;\n",
              "    }\n",
              "</style>\n",
              "<table border=\"1\" class=\"dataframe\">\n",
              "  <thead>\n",
              "    <tr style=\"text-align: right;\">\n",
              "      <th></th>\n",
              "      <th>Tipo Titulo</th>\n",
              "      <th>Data Vencimento</th>\n",
              "      <th>Data Base</th>\n",
              "      <th>Taxa Venda Manha</th>\n",
              "      <th>Volume IBOV</th>\n",
              "      <th>Variação IBOV</th>\n",
              "      <th>Valor Dolar</th>\n",
              "      <th>Variação CDS</th>\n",
              "    </tr>\n",
              "  </thead>\n",
              "  <tbody>\n",
              "    <tr>\n",
              "      <th>0</th>\n",
              "      <td>Tesouro Prefixado com Juros Semestrais</td>\n",
              "      <td>2029-01-01</td>\n",
              "      <td>2020-12-17</td>\n",
              "      <td>6.97</td>\n",
              "      <td>7701390</td>\n",
              "      <td>0.46</td>\n",
              "      <td>5.0606</td>\n",
              "      <td>-1.26</td>\n",
              "    </tr>\n",
              "    <tr>\n",
              "      <th>1</th>\n",
              "      <td>Tesouro IPCA+</td>\n",
              "      <td>2026-08-15</td>\n",
              "      <td>2020-12-17</td>\n",
              "      <td>2.54</td>\n",
              "      <td>7701390</td>\n",
              "      <td>0.46</td>\n",
              "      <td>5.0606</td>\n",
              "      <td>-1.26</td>\n",
              "    </tr>\n",
              "    <tr>\n",
              "      <th>2</th>\n",
              "      <td>Tesouro IPCA+</td>\n",
              "      <td>2024-08-15</td>\n",
              "      <td>2020-12-17</td>\n",
              "      <td>1.79</td>\n",
              "      <td>7701390</td>\n",
              "      <td>0.46</td>\n",
              "      <td>5.0606</td>\n",
              "      <td>-1.26</td>\n",
              "    </tr>\n",
              "    <tr>\n",
              "      <th>3</th>\n",
              "      <td>Tesouro IGPM+ com Juros Semestrais</td>\n",
              "      <td>2021-04-01</td>\n",
              "      <td>2020-12-17</td>\n",
              "      <td>-0.3</td>\n",
              "      <td>7701390</td>\n",
              "      <td>0.46</td>\n",
              "      <td>5.0606</td>\n",
              "      <td>-1.26</td>\n",
              "    </tr>\n",
              "    <tr>\n",
              "      <th>4</th>\n",
              "      <td>Tesouro Prefixado</td>\n",
              "      <td>2023-01-01</td>\n",
              "      <td>2020-12-17</td>\n",
              "      <td>4.61</td>\n",
              "      <td>7701390</td>\n",
              "      <td>0.46</td>\n",
              "      <td>5.0606</td>\n",
              "      <td>-1.26</td>\n",
              "    </tr>\n",
              "  </tbody>\n",
              "</table>\n",
              "</div>\n",
              "      <button class=\"colab-df-convert\" onclick=\"convertToInteractive('df-70b8fb1d-f4e8-440a-a74c-1ebffdb6c948')\"\n",
              "              title=\"Convert this dataframe to an interactive table.\"\n",
              "              style=\"display:none;\">\n",
              "        \n",
              "  <svg xmlns=\"http://www.w3.org/2000/svg\" height=\"24px\"viewBox=\"0 0 24 24\"\n",
              "       width=\"24px\">\n",
              "    <path d=\"M0 0h24v24H0V0z\" fill=\"none\"/>\n",
              "    <path d=\"M18.56 5.44l.94 2.06.94-2.06 2.06-.94-2.06-.94-.94-2.06-.94 2.06-2.06.94zm-11 1L8.5 8.5l.94-2.06 2.06-.94-2.06-.94L8.5 2.5l-.94 2.06-2.06.94zm10 10l.94 2.06.94-2.06 2.06-.94-2.06-.94-.94-2.06-.94 2.06-2.06.94z\"/><path d=\"M17.41 7.96l-1.37-1.37c-.4-.4-.92-.59-1.43-.59-.52 0-1.04.2-1.43.59L10.3 9.45l-7.72 7.72c-.78.78-.78 2.05 0 2.83L4 21.41c.39.39.9.59 1.41.59.51 0 1.02-.2 1.41-.59l7.78-7.78 2.81-2.81c.8-.78.8-2.07 0-2.86zM5.41 20L4 18.59l7.72-7.72 1.47 1.35L5.41 20z\"/>\n",
              "  </svg>\n",
              "      </button>\n",
              "      \n",
              "  <style>\n",
              "    .colab-df-container {\n",
              "      display:flex;\n",
              "      flex-wrap:wrap;\n",
              "      gap: 12px;\n",
              "    }\n",
              "\n",
              "    .colab-df-convert {\n",
              "      background-color: #E8F0FE;\n",
              "      border: none;\n",
              "      border-radius: 50%;\n",
              "      cursor: pointer;\n",
              "      display: none;\n",
              "      fill: #1967D2;\n",
              "      height: 32px;\n",
              "      padding: 0 0 0 0;\n",
              "      width: 32px;\n",
              "    }\n",
              "\n",
              "    .colab-df-convert:hover {\n",
              "      background-color: #E2EBFA;\n",
              "      box-shadow: 0px 1px 2px rgba(60, 64, 67, 0.3), 0px 1px 3px 1px rgba(60, 64, 67, 0.15);\n",
              "      fill: #174EA6;\n",
              "    }\n",
              "\n",
              "    [theme=dark] .colab-df-convert {\n",
              "      background-color: #3B4455;\n",
              "      fill: #D2E3FC;\n",
              "    }\n",
              "\n",
              "    [theme=dark] .colab-df-convert:hover {\n",
              "      background-color: #434B5C;\n",
              "      box-shadow: 0px 1px 3px 1px rgba(0, 0, 0, 0.15);\n",
              "      filter: drop-shadow(0px 1px 2px rgba(0, 0, 0, 0.3));\n",
              "      fill: #FFFFFF;\n",
              "    }\n",
              "  </style>\n",
              "\n",
              "      <script>\n",
              "        const buttonEl =\n",
              "          document.querySelector('#df-70b8fb1d-f4e8-440a-a74c-1ebffdb6c948 button.colab-df-convert');\n",
              "        buttonEl.style.display =\n",
              "          google.colab.kernel.accessAllowed ? 'block' : 'none';\n",
              "\n",
              "        async function convertToInteractive(key) {\n",
              "          const element = document.querySelector('#df-70b8fb1d-f4e8-440a-a74c-1ebffdb6c948');\n",
              "          const dataTable =\n",
              "            await google.colab.kernel.invokeFunction('convertToInteractive',\n",
              "                                                     [key], {});\n",
              "          if (!dataTable) return;\n",
              "\n",
              "          const docLinkHtml = 'Like what you see? Visit the ' +\n",
              "            '<a target=\"_blank\" href=https://colab.research.google.com/notebooks/data_table.ipynb>data table notebook</a>'\n",
              "            + ' to learn more about interactive tables.';\n",
              "          element.innerHTML = '';\n",
              "          dataTable['output_type'] = 'display_data';\n",
              "          await google.colab.output.renderOutput(dataTable, element);\n",
              "          const docLink = document.createElement('div');\n",
              "          docLink.innerHTML = docLinkHtml;\n",
              "          element.appendChild(docLink);\n",
              "        }\n",
              "      </script>\n",
              "    </div>\n",
              "  </div>\n",
              "  "
            ]
          },
          "metadata": {},
          "execution_count": 95
        }
      ]
    },
    {
      "cell_type": "markdown",
      "source": [
        "## Análise Exploratória"
      ],
      "metadata": {
        "id": "W6ddGqasZ_1A"
      }
    },
    {
      "cell_type": "markdown",
      "source": [
        "Para a exploração dos dados dos datasets, seguiremos o seguinte roteiro para cada dataset:\n",
        "\n",
        "1. Descrição e Classificação dos Dados Brutos\n",
        "2. Estrutura do Dataset\n",
        "3. Estatísticas Descritivas\n",
        "4. Visualizações Unimodais\n",
        "5. Visualizações Multimodais"
      ],
      "metadata": {
        "id": "GV0xJ_4nol_h"
      }
    },
    {
      "cell_type": "markdown",
      "source": [
        "### Estrutura do Dataset"
      ],
      "metadata": {
        "id": "3rxHavsq-hsq"
      }
    },
    {
      "cell_type": "markdown",
      "source": [
        "Vamos iniciar a análise observando informações gerais sobre a estrutura do dataset de trabalho."
      ],
      "metadata": {
        "id": "0Y56AtNY-n6I"
      }
    },
    {
      "cell_type": "code",
      "source": [
        "# exibindo informações gerais sobre o dataset\n",
        "df_merge.info()"
      ],
      "metadata": {
        "id": "EDN4IRJ4ovGI",
        "colab": {
          "base_uri": "https://localhost:8080/"
        },
        "outputId": "ffed83fe-56d5-4ee9-cb02-7f1438df04ab"
      },
      "execution_count": 96,
      "outputs": [
        {
          "output_type": "stream",
          "name": "stdout",
          "text": [
            "<class 'pandas.core.frame.DataFrame'>\n",
            "Int64Index: 28694 entries, 0 to 28693\n",
            "Data columns (total 8 columns):\n",
            " #   Column            Non-Null Count  Dtype         \n",
            "---  ------            --------------  -----         \n",
            " 0   Tipo Titulo       28694 non-null  object        \n",
            " 1   Data Vencimento   28694 non-null  object        \n",
            " 2   Data Base         28694 non-null  datetime64[ns]\n",
            " 3   Taxa Venda Manha  28694 non-null  object        \n",
            " 4   Volume IBOV       28694 non-null  int64         \n",
            " 5   Variação IBOV     28694 non-null  object        \n",
            " 6   Valor Dolar       28694 non-null  object        \n",
            " 7   Variação CDS      28694 non-null  object        \n",
            "dtypes: datetime64[ns](1), int64(1), object(6)\n",
            "memory usage: 2.0+ MB\n"
          ]
        }
      ]
    },
    {
      "cell_type": "markdown",
      "source": [
        "O resumo acima nos informa as dimensões do dataset (28694 linhas, 08 colunas), os nomes de seus atributos, bem como seus respectivos tipos de dados e a quantidade de registros não-nulos (*missings*) para cada atributo."
      ],
      "metadata": {
        "id": "8arA7LAv-1P5"
      }
    },
    {
      "cell_type": "markdown",
      "source": [
        "Com a exceção dos atributos \"Data Base\" (tipo \"datetime64\") e \"Volume IBOV\" (tipo \"int64\"), todos os demais estão armazenados como \"object\" no dataset, que é uma tipagem genérica para texto, o que pode dificultar certas operações com os dados. Tal problema pode ser contornado com a conversão dos atributos para os tipos adequados."
      ],
      "metadata": {
        "id": "1bEw493zBaL-"
      }
    },
    {
      "cell_type": "markdown",
      "source": [
        "É possível notar a falta de *missings* (valores nulos) nos atributos do dataset. Isso é explicado pela fato de o dataset não possuir dados oriundos de inputs de usuário (ex.: formulários), mas apenas dados computados automaticamente pelos sistemas de negociação dos respectivos ativos."
      ],
      "metadata": {
        "id": "6xAV_hvdL63O"
      }
    },
    {
      "cell_type": "markdown",
      "source": [
        "### Descrição e Classificação dos Dados Brutos"
      ],
      "metadata": {
        "id": "fZY-EuF4oqCG"
      }
    },
    {
      "cell_type": "markdown",
      "source": [
        "Agora vamos observar os dados brutos exibindo algumas linhas do dataset."
      ],
      "metadata": {
        "id": "0KjuPQy9sD98"
      }
    },
    {
      "cell_type": "code",
      "source": [
        "# exibindo linhas de fronteiras (início e fim) do dataset\n",
        "df_merge"
      ],
      "metadata": {
        "colab": {
          "base_uri": "https://localhost:8080/",
          "height": 424
        },
        "id": "owKY7riir4x5",
        "outputId": "c8826dcd-f49a-4edb-eedc-c44886bcac3e"
      },
      "execution_count": 97,
      "outputs": [
        {
          "output_type": "execute_result",
          "data": {
            "text/plain": [
              "                                  Tipo Titulo Data Vencimento  Data Base  \\\n",
              "0      Tesouro Prefixado com Juros Semestrais      2029-01-01 2020-12-17   \n",
              "1                               Tesouro IPCA+      2026-08-15 2020-12-17   \n",
              "2                               Tesouro IPCA+      2024-08-15 2020-12-17   \n",
              "3          Tesouro IGPM+ com Juros Semestrais      2021-04-01 2020-12-17   \n",
              "4                           Tesouro Prefixado      2023-01-01 2020-12-17   \n",
              "...                                       ...             ...        ...   \n",
              "28689      Tesouro IPCA+ com Juros Semestrais      2020-08-15 2018-01-03   \n",
              "28690      Tesouro IGPM+ com Juros Semestrais      2021-04-01 2018-01-03   \n",
              "28691                       Tesouro Prefixado      2023-01-01 2018-01-03   \n",
              "28692  Tesouro Prefixado com Juros Semestrais      2021-01-01 2018-01-03   \n",
              "28693                           Tesouro IPCA+      2024-08-15 2018-01-03   \n",
              "\n",
              "      Taxa Venda Manha  Volume IBOV Variação IBOV Valor Dolar Variação CDS  \n",
              "0                 6.97      7701390          0.46      5.0606        -1.26  \n",
              "1                 2.54      7701390          0.46      5.0606        -1.26  \n",
              "2                 1.79      7701390          0.46      5.0606        -1.26  \n",
              "3                 -0.3      7701390          0.46      5.0606        -1.26  \n",
              "4                 4.61      7701390          0.46      5.0606        -1.26  \n",
              "...                ...          ...           ...         ...          ...  \n",
              "28689             3.87      3239424          0.13      3.2614        -2.21  \n",
              "28690              4.2      3239424          0.13      3.2614        -2.21  \n",
              "28691              9.8      3239424          0.13      3.2614        -2.21  \n",
              "28692             8.71      3239424          0.13      3.2614        -2.21  \n",
              "28693             5.11      3239424          0.13      3.2614        -2.21  \n",
              "\n",
              "[28694 rows x 8 columns]"
            ],
            "text/html": [
              "\n",
              "  <div id=\"df-b798225a-8e05-4f75-80b8-e7165feda491\">\n",
              "    <div class=\"colab-df-container\">\n",
              "      <div>\n",
              "<style scoped>\n",
              "    .dataframe tbody tr th:only-of-type {\n",
              "        vertical-align: middle;\n",
              "    }\n",
              "\n",
              "    .dataframe tbody tr th {\n",
              "        vertical-align: top;\n",
              "    }\n",
              "\n",
              "    .dataframe thead th {\n",
              "        text-align: right;\n",
              "    }\n",
              "</style>\n",
              "<table border=\"1\" class=\"dataframe\">\n",
              "  <thead>\n",
              "    <tr style=\"text-align: right;\">\n",
              "      <th></th>\n",
              "      <th>Tipo Titulo</th>\n",
              "      <th>Data Vencimento</th>\n",
              "      <th>Data Base</th>\n",
              "      <th>Taxa Venda Manha</th>\n",
              "      <th>Volume IBOV</th>\n",
              "      <th>Variação IBOV</th>\n",
              "      <th>Valor Dolar</th>\n",
              "      <th>Variação CDS</th>\n",
              "    </tr>\n",
              "  </thead>\n",
              "  <tbody>\n",
              "    <tr>\n",
              "      <th>0</th>\n",
              "      <td>Tesouro Prefixado com Juros Semestrais</td>\n",
              "      <td>2029-01-01</td>\n",
              "      <td>2020-12-17</td>\n",
              "      <td>6.97</td>\n",
              "      <td>7701390</td>\n",
              "      <td>0.46</td>\n",
              "      <td>5.0606</td>\n",
              "      <td>-1.26</td>\n",
              "    </tr>\n",
              "    <tr>\n",
              "      <th>1</th>\n",
              "      <td>Tesouro IPCA+</td>\n",
              "      <td>2026-08-15</td>\n",
              "      <td>2020-12-17</td>\n",
              "      <td>2.54</td>\n",
              "      <td>7701390</td>\n",
              "      <td>0.46</td>\n",
              "      <td>5.0606</td>\n",
              "      <td>-1.26</td>\n",
              "    </tr>\n",
              "    <tr>\n",
              "      <th>2</th>\n",
              "      <td>Tesouro IPCA+</td>\n",
              "      <td>2024-08-15</td>\n",
              "      <td>2020-12-17</td>\n",
              "      <td>1.79</td>\n",
              "      <td>7701390</td>\n",
              "      <td>0.46</td>\n",
              "      <td>5.0606</td>\n",
              "      <td>-1.26</td>\n",
              "    </tr>\n",
              "    <tr>\n",
              "      <th>3</th>\n",
              "      <td>Tesouro IGPM+ com Juros Semestrais</td>\n",
              "      <td>2021-04-01</td>\n",
              "      <td>2020-12-17</td>\n",
              "      <td>-0.3</td>\n",
              "      <td>7701390</td>\n",
              "      <td>0.46</td>\n",
              "      <td>5.0606</td>\n",
              "      <td>-1.26</td>\n",
              "    </tr>\n",
              "    <tr>\n",
              "      <th>4</th>\n",
              "      <td>Tesouro Prefixado</td>\n",
              "      <td>2023-01-01</td>\n",
              "      <td>2020-12-17</td>\n",
              "      <td>4.61</td>\n",
              "      <td>7701390</td>\n",
              "      <td>0.46</td>\n",
              "      <td>5.0606</td>\n",
              "      <td>-1.26</td>\n",
              "    </tr>\n",
              "    <tr>\n",
              "      <th>...</th>\n",
              "      <td>...</td>\n",
              "      <td>...</td>\n",
              "      <td>...</td>\n",
              "      <td>...</td>\n",
              "      <td>...</td>\n",
              "      <td>...</td>\n",
              "      <td>...</td>\n",
              "      <td>...</td>\n",
              "    </tr>\n",
              "    <tr>\n",
              "      <th>28689</th>\n",
              "      <td>Tesouro IPCA+ com Juros Semestrais</td>\n",
              "      <td>2020-08-15</td>\n",
              "      <td>2018-01-03</td>\n",
              "      <td>3.87</td>\n",
              "      <td>3239424</td>\n",
              "      <td>0.13</td>\n",
              "      <td>3.2614</td>\n",
              "      <td>-2.21</td>\n",
              "    </tr>\n",
              "    <tr>\n",
              "      <th>28690</th>\n",
              "      <td>Tesouro IGPM+ com Juros Semestrais</td>\n",
              "      <td>2021-04-01</td>\n",
              "      <td>2018-01-03</td>\n",
              "      <td>4.2</td>\n",
              "      <td>3239424</td>\n",
              "      <td>0.13</td>\n",
              "      <td>3.2614</td>\n",
              "      <td>-2.21</td>\n",
              "    </tr>\n",
              "    <tr>\n",
              "      <th>28691</th>\n",
              "      <td>Tesouro Prefixado</td>\n",
              "      <td>2023-01-01</td>\n",
              "      <td>2018-01-03</td>\n",
              "      <td>9.8</td>\n",
              "      <td>3239424</td>\n",
              "      <td>0.13</td>\n",
              "      <td>3.2614</td>\n",
              "      <td>-2.21</td>\n",
              "    </tr>\n",
              "    <tr>\n",
              "      <th>28692</th>\n",
              "      <td>Tesouro Prefixado com Juros Semestrais</td>\n",
              "      <td>2021-01-01</td>\n",
              "      <td>2018-01-03</td>\n",
              "      <td>8.71</td>\n",
              "      <td>3239424</td>\n",
              "      <td>0.13</td>\n",
              "      <td>3.2614</td>\n",
              "      <td>-2.21</td>\n",
              "    </tr>\n",
              "    <tr>\n",
              "      <th>28693</th>\n",
              "      <td>Tesouro IPCA+</td>\n",
              "      <td>2024-08-15</td>\n",
              "      <td>2018-01-03</td>\n",
              "      <td>5.11</td>\n",
              "      <td>3239424</td>\n",
              "      <td>0.13</td>\n",
              "      <td>3.2614</td>\n",
              "      <td>-2.21</td>\n",
              "    </tr>\n",
              "  </tbody>\n",
              "</table>\n",
              "<p>28694 rows × 8 columns</p>\n",
              "</div>\n",
              "      <button class=\"colab-df-convert\" onclick=\"convertToInteractive('df-b798225a-8e05-4f75-80b8-e7165feda491')\"\n",
              "              title=\"Convert this dataframe to an interactive table.\"\n",
              "              style=\"display:none;\">\n",
              "        \n",
              "  <svg xmlns=\"http://www.w3.org/2000/svg\" height=\"24px\"viewBox=\"0 0 24 24\"\n",
              "       width=\"24px\">\n",
              "    <path d=\"M0 0h24v24H0V0z\" fill=\"none\"/>\n",
              "    <path d=\"M18.56 5.44l.94 2.06.94-2.06 2.06-.94-2.06-.94-.94-2.06-.94 2.06-2.06.94zm-11 1L8.5 8.5l.94-2.06 2.06-.94-2.06-.94L8.5 2.5l-.94 2.06-2.06.94zm10 10l.94 2.06.94-2.06 2.06-.94-2.06-.94-.94-2.06-.94 2.06-2.06.94z\"/><path d=\"M17.41 7.96l-1.37-1.37c-.4-.4-.92-.59-1.43-.59-.52 0-1.04.2-1.43.59L10.3 9.45l-7.72 7.72c-.78.78-.78 2.05 0 2.83L4 21.41c.39.39.9.59 1.41.59.51 0 1.02-.2 1.41-.59l7.78-7.78 2.81-2.81c.8-.78.8-2.07 0-2.86zM5.41 20L4 18.59l7.72-7.72 1.47 1.35L5.41 20z\"/>\n",
              "  </svg>\n",
              "      </button>\n",
              "      \n",
              "  <style>\n",
              "    .colab-df-container {\n",
              "      display:flex;\n",
              "      flex-wrap:wrap;\n",
              "      gap: 12px;\n",
              "    }\n",
              "\n",
              "    .colab-df-convert {\n",
              "      background-color: #E8F0FE;\n",
              "      border: none;\n",
              "      border-radius: 50%;\n",
              "      cursor: pointer;\n",
              "      display: none;\n",
              "      fill: #1967D2;\n",
              "      height: 32px;\n",
              "      padding: 0 0 0 0;\n",
              "      width: 32px;\n",
              "    }\n",
              "\n",
              "    .colab-df-convert:hover {\n",
              "      background-color: #E2EBFA;\n",
              "      box-shadow: 0px 1px 2px rgba(60, 64, 67, 0.3), 0px 1px 3px 1px rgba(60, 64, 67, 0.15);\n",
              "      fill: #174EA6;\n",
              "    }\n",
              "\n",
              "    [theme=dark] .colab-df-convert {\n",
              "      background-color: #3B4455;\n",
              "      fill: #D2E3FC;\n",
              "    }\n",
              "\n",
              "    [theme=dark] .colab-df-convert:hover {\n",
              "      background-color: #434B5C;\n",
              "      box-shadow: 0px 1px 3px 1px rgba(0, 0, 0, 0.15);\n",
              "      filter: drop-shadow(0px 1px 2px rgba(0, 0, 0, 0.3));\n",
              "      fill: #FFFFFF;\n",
              "    }\n",
              "  </style>\n",
              "\n",
              "      <script>\n",
              "        const buttonEl =\n",
              "          document.querySelector('#df-b798225a-8e05-4f75-80b8-e7165feda491 button.colab-df-convert');\n",
              "        buttonEl.style.display =\n",
              "          google.colab.kernel.accessAllowed ? 'block' : 'none';\n",
              "\n",
              "        async function convertToInteractive(key) {\n",
              "          const element = document.querySelector('#df-b798225a-8e05-4f75-80b8-e7165feda491');\n",
              "          const dataTable =\n",
              "            await google.colab.kernel.invokeFunction('convertToInteractive',\n",
              "                                                     [key], {});\n",
              "          if (!dataTable) return;\n",
              "\n",
              "          const docLinkHtml = 'Like what you see? Visit the ' +\n",
              "            '<a target=\"_blank\" href=https://colab.research.google.com/notebooks/data_table.ipynb>data table notebook</a>'\n",
              "            + ' to learn more about interactive tables.';\n",
              "          element.innerHTML = '';\n",
              "          dataTable['output_type'] = 'display_data';\n",
              "          await google.colab.output.renderOutput(dataTable, element);\n",
              "          const docLink = document.createElement('div');\n",
              "          docLink.innerHTML = docLinkHtml;\n",
              "          element.appendChild(docLink);\n",
              "        }\n",
              "      </script>\n",
              "    </div>\n",
              "  </div>\n",
              "  "
            ]
          },
          "metadata": {},
          "execution_count": 97
        }
      ]
    },
    {
      "cell_type": "markdown",
      "source": [
        "Observando os dados brutos, podemos classificar e descrever seus atributos:\n",
        "\n",
        "+ <u>VARIÁVEL QUALITATIVA NOMINAL</u>\n",
        "  + **Tipo Titulo**: o título público negociado.\n",
        "+ <u>VARIÁVEL TEMPORAL</u>\n",
        "  + **Data Vencimento**: a data de vencimento do título público.\n",
        "  + **Data Base**: a data de referência da operação/negociação.\n",
        "+ <u>VARIÁVEL QUANTITATIVA CONTÍNUA</u>\n",
        "  + **Taxa Venda Manha**: a parte fixa da taxa de juros paga pelo título público.\n",
        "  + **Volume IBOV**: o volume financeiro negociado pelas ações que compõem o índice Ibovespa.\n",
        "  + **Variação IBOV**: o percentual de variação do índice Ibovespa em relação ao dia de negociação anterior.\n",
        "  + **Valor Dolar**: o valor do dólar Ptax.\n",
        "  + **Variação CDS**: o percentual de variação dos pontos-base do CDS Brasil 5 anos."
      ],
      "metadata": {
        "id": "o2vniOCx03F5"
      }
    },
    {
      "cell_type": "markdown",
      "source": [
        "Abaixo podemos verificar quais tipos de títulos foram ofertados ao longo do período e a quantidade de ofertas associada a cada título."
      ],
      "metadata": {
        "id": "Mkrg1zUUQvJC"
      }
    },
    {
      "cell_type": "code",
      "source": [
        "# exibindo a quantidade registros por título\n",
        "df_merge['Tipo Titulo'].value_counts()"
      ],
      "metadata": {
        "colab": {
          "base_uri": "https://localhost:8080/"
        },
        "id": "s9P1yeF7sBwN",
        "outputId": "97196f2b-d22b-4740-a2cd-2ea0c736c5a0"
      },
      "execution_count": 98,
      "outputs": [
        {
          "output_type": "execute_result",
          "data": {
            "text/plain": [
              "Tesouro IPCA+ com Juros Semestrais        8100\n",
              "Tesouro Prefixado com Juros Semestrais    5813\n",
              "Tesouro Prefixado                         5337\n",
              "Tesouro IPCA+                             4195\n",
              "Tesouro Selic                             3456\n",
              "Tesouro IGPM+ com Juros Semestrais        1793\n",
              "Name: Tipo Titulo, dtype: int64"
            ]
          },
          "metadata": {},
          "execution_count": 98
        }
      ]
    },
    {
      "cell_type": "markdown",
      "source": [
        "O título \"Tesouro IGPM+\" possui quantidade de registros significativamente inferior aos demais por ter sido ofertado pelo Tesouro Nacional até o ano de 2006."
      ],
      "metadata": {
        "id": "k-h0XU2JMay0"
      }
    },
    {
      "cell_type": "code",
      "source": [
        "# exibindo linhas de fronteiras (início e fim) do dataset ordenadas pelo atributo 'Data Base'\n",
        "df_merge.sort_values('Data Base', ascending = False)"
      ],
      "metadata": {
        "id": "iuogPV4mnt_I",
        "colab": {
          "base_uri": "https://localhost:8080/",
          "height": 424
        },
        "outputId": "498ac586-6bfe-4dc8-ae39-a01aeda8be9f"
      },
      "execution_count": 99,
      "outputs": [
        {
          "output_type": "execute_result",
          "data": {
            "text/plain": [
              "                                  Tipo Titulo Data Vencimento  Data Base  \\\n",
              "4094       Tesouro IPCA+ com Juros Semestrais      2055-05-15 2022-12-29   \n",
              "4101                        Tesouro Prefixado      2024-07-01 2022-12-29   \n",
              "4086   Tesouro Prefixado com Juros Semestrais      2023-01-01 2022-12-29   \n",
              "4087                        Tesouro Prefixado      2025-01-01 2022-12-29   \n",
              "4088   Tesouro Prefixado com Juros Semestrais      2029-01-01 2022-12-29   \n",
              "...                                       ...             ...        ...   \n",
              "22817                           Tesouro IPCA+      2035-05-15 2018-01-02   \n",
              "22816                           Tesouro Selic      2021-03-01 2018-01-02   \n",
              "22815      Tesouro IPCA+ com Juros Semestrais      2035-05-15 2018-01-02   \n",
              "22814                       Tesouro Prefixado      2019-01-01 2018-01-02   \n",
              "22834  Tesouro Prefixado com Juros Semestrais      2021-01-01 2018-01-02   \n",
              "\n",
              "      Taxa Venda Manha  Volume IBOV Variação IBOV Valor Dolar Variação CDS  \n",
              "4094              6.23     13389109         -0.46      5.2171        -0.06  \n",
              "4101             13.05     13389109         -0.46      5.2171        -0.06  \n",
              "4086              14.2     13389109         -0.46      5.2171        -0.06  \n",
              "4087             12.71     13389109         -0.46      5.2171        -0.06  \n",
              "4088             12.82     13389109         -0.46      5.2171        -0.06  \n",
              "...                ...          ...           ...         ...          ...  \n",
              "22817             5.56      2969444          1.95      3.1724        -3.76  \n",
              "22816             0.04      2969444          1.95      3.1724        -3.76  \n",
              "22815             5.43      2969444          1.95      3.1724        -3.76  \n",
              "22814             6.89      2969444          1.95      3.1724        -3.76  \n",
              "22834             8.88      2969444          1.95      3.1724        -3.76  \n",
              "\n",
              "[28694 rows x 8 columns]"
            ],
            "text/html": [
              "\n",
              "  <div id=\"df-cd03e5d3-df8b-43d8-84ff-d82e81a26f29\">\n",
              "    <div class=\"colab-df-container\">\n",
              "      <div>\n",
              "<style scoped>\n",
              "    .dataframe tbody tr th:only-of-type {\n",
              "        vertical-align: middle;\n",
              "    }\n",
              "\n",
              "    .dataframe tbody tr th {\n",
              "        vertical-align: top;\n",
              "    }\n",
              "\n",
              "    .dataframe thead th {\n",
              "        text-align: right;\n",
              "    }\n",
              "</style>\n",
              "<table border=\"1\" class=\"dataframe\">\n",
              "  <thead>\n",
              "    <tr style=\"text-align: right;\">\n",
              "      <th></th>\n",
              "      <th>Tipo Titulo</th>\n",
              "      <th>Data Vencimento</th>\n",
              "      <th>Data Base</th>\n",
              "      <th>Taxa Venda Manha</th>\n",
              "      <th>Volume IBOV</th>\n",
              "      <th>Variação IBOV</th>\n",
              "      <th>Valor Dolar</th>\n",
              "      <th>Variação CDS</th>\n",
              "    </tr>\n",
              "  </thead>\n",
              "  <tbody>\n",
              "    <tr>\n",
              "      <th>4094</th>\n",
              "      <td>Tesouro IPCA+ com Juros Semestrais</td>\n",
              "      <td>2055-05-15</td>\n",
              "      <td>2022-12-29</td>\n",
              "      <td>6.23</td>\n",
              "      <td>13389109</td>\n",
              "      <td>-0.46</td>\n",
              "      <td>5.2171</td>\n",
              "      <td>-0.06</td>\n",
              "    </tr>\n",
              "    <tr>\n",
              "      <th>4101</th>\n",
              "      <td>Tesouro Prefixado</td>\n",
              "      <td>2024-07-01</td>\n",
              "      <td>2022-12-29</td>\n",
              "      <td>13.05</td>\n",
              "      <td>13389109</td>\n",
              "      <td>-0.46</td>\n",
              "      <td>5.2171</td>\n",
              "      <td>-0.06</td>\n",
              "    </tr>\n",
              "    <tr>\n",
              "      <th>4086</th>\n",
              "      <td>Tesouro Prefixado com Juros Semestrais</td>\n",
              "      <td>2023-01-01</td>\n",
              "      <td>2022-12-29</td>\n",
              "      <td>14.2</td>\n",
              "      <td>13389109</td>\n",
              "      <td>-0.46</td>\n",
              "      <td>5.2171</td>\n",
              "      <td>-0.06</td>\n",
              "    </tr>\n",
              "    <tr>\n",
              "      <th>4087</th>\n",
              "      <td>Tesouro Prefixado</td>\n",
              "      <td>2025-01-01</td>\n",
              "      <td>2022-12-29</td>\n",
              "      <td>12.71</td>\n",
              "      <td>13389109</td>\n",
              "      <td>-0.46</td>\n",
              "      <td>5.2171</td>\n",
              "      <td>-0.06</td>\n",
              "    </tr>\n",
              "    <tr>\n",
              "      <th>4088</th>\n",
              "      <td>Tesouro Prefixado com Juros Semestrais</td>\n",
              "      <td>2029-01-01</td>\n",
              "      <td>2022-12-29</td>\n",
              "      <td>12.82</td>\n",
              "      <td>13389109</td>\n",
              "      <td>-0.46</td>\n",
              "      <td>5.2171</td>\n",
              "      <td>-0.06</td>\n",
              "    </tr>\n",
              "    <tr>\n",
              "      <th>...</th>\n",
              "      <td>...</td>\n",
              "      <td>...</td>\n",
              "      <td>...</td>\n",
              "      <td>...</td>\n",
              "      <td>...</td>\n",
              "      <td>...</td>\n",
              "      <td>...</td>\n",
              "      <td>...</td>\n",
              "    </tr>\n",
              "    <tr>\n",
              "      <th>22817</th>\n",
              "      <td>Tesouro IPCA+</td>\n",
              "      <td>2035-05-15</td>\n",
              "      <td>2018-01-02</td>\n",
              "      <td>5.56</td>\n",
              "      <td>2969444</td>\n",
              "      <td>1.95</td>\n",
              "      <td>3.1724</td>\n",
              "      <td>-3.76</td>\n",
              "    </tr>\n",
              "    <tr>\n",
              "      <th>22816</th>\n",
              "      <td>Tesouro Selic</td>\n",
              "      <td>2021-03-01</td>\n",
              "      <td>2018-01-02</td>\n",
              "      <td>0.04</td>\n",
              "      <td>2969444</td>\n",
              "      <td>1.95</td>\n",
              "      <td>3.1724</td>\n",
              "      <td>-3.76</td>\n",
              "    </tr>\n",
              "    <tr>\n",
              "      <th>22815</th>\n",
              "      <td>Tesouro IPCA+ com Juros Semestrais</td>\n",
              "      <td>2035-05-15</td>\n",
              "      <td>2018-01-02</td>\n",
              "      <td>5.43</td>\n",
              "      <td>2969444</td>\n",
              "      <td>1.95</td>\n",
              "      <td>3.1724</td>\n",
              "      <td>-3.76</td>\n",
              "    </tr>\n",
              "    <tr>\n",
              "      <th>22814</th>\n",
              "      <td>Tesouro Prefixado</td>\n",
              "      <td>2019-01-01</td>\n",
              "      <td>2018-01-02</td>\n",
              "      <td>6.89</td>\n",
              "      <td>2969444</td>\n",
              "      <td>1.95</td>\n",
              "      <td>3.1724</td>\n",
              "      <td>-3.76</td>\n",
              "    </tr>\n",
              "    <tr>\n",
              "      <th>22834</th>\n",
              "      <td>Tesouro Prefixado com Juros Semestrais</td>\n",
              "      <td>2021-01-01</td>\n",
              "      <td>2018-01-02</td>\n",
              "      <td>8.88</td>\n",
              "      <td>2969444</td>\n",
              "      <td>1.95</td>\n",
              "      <td>3.1724</td>\n",
              "      <td>-3.76</td>\n",
              "    </tr>\n",
              "  </tbody>\n",
              "</table>\n",
              "<p>28694 rows × 8 columns</p>\n",
              "</div>\n",
              "      <button class=\"colab-df-convert\" onclick=\"convertToInteractive('df-cd03e5d3-df8b-43d8-84ff-d82e81a26f29')\"\n",
              "              title=\"Convert this dataframe to an interactive table.\"\n",
              "              style=\"display:none;\">\n",
              "        \n",
              "  <svg xmlns=\"http://www.w3.org/2000/svg\" height=\"24px\"viewBox=\"0 0 24 24\"\n",
              "       width=\"24px\">\n",
              "    <path d=\"M0 0h24v24H0V0z\" fill=\"none\"/>\n",
              "    <path d=\"M18.56 5.44l.94 2.06.94-2.06 2.06-.94-2.06-.94-.94-2.06-.94 2.06-2.06.94zm-11 1L8.5 8.5l.94-2.06 2.06-.94-2.06-.94L8.5 2.5l-.94 2.06-2.06.94zm10 10l.94 2.06.94-2.06 2.06-.94-2.06-.94-.94-2.06-.94 2.06-2.06.94z\"/><path d=\"M17.41 7.96l-1.37-1.37c-.4-.4-.92-.59-1.43-.59-.52 0-1.04.2-1.43.59L10.3 9.45l-7.72 7.72c-.78.78-.78 2.05 0 2.83L4 21.41c.39.39.9.59 1.41.59.51 0 1.02-.2 1.41-.59l7.78-7.78 2.81-2.81c.8-.78.8-2.07 0-2.86zM5.41 20L4 18.59l7.72-7.72 1.47 1.35L5.41 20z\"/>\n",
              "  </svg>\n",
              "      </button>\n",
              "      \n",
              "  <style>\n",
              "    .colab-df-container {\n",
              "      display:flex;\n",
              "      flex-wrap:wrap;\n",
              "      gap: 12px;\n",
              "    }\n",
              "\n",
              "    .colab-df-convert {\n",
              "      background-color: #E8F0FE;\n",
              "      border: none;\n",
              "      border-radius: 50%;\n",
              "      cursor: pointer;\n",
              "      display: none;\n",
              "      fill: #1967D2;\n",
              "      height: 32px;\n",
              "      padding: 0 0 0 0;\n",
              "      width: 32px;\n",
              "    }\n",
              "\n",
              "    .colab-df-convert:hover {\n",
              "      background-color: #E2EBFA;\n",
              "      box-shadow: 0px 1px 2px rgba(60, 64, 67, 0.3), 0px 1px 3px 1px rgba(60, 64, 67, 0.15);\n",
              "      fill: #174EA6;\n",
              "    }\n",
              "\n",
              "    [theme=dark] .colab-df-convert {\n",
              "      background-color: #3B4455;\n",
              "      fill: #D2E3FC;\n",
              "    }\n",
              "\n",
              "    [theme=dark] .colab-df-convert:hover {\n",
              "      background-color: #434B5C;\n",
              "      box-shadow: 0px 1px 3px 1px rgba(0, 0, 0, 0.15);\n",
              "      filter: drop-shadow(0px 1px 2px rgba(0, 0, 0, 0.3));\n",
              "      fill: #FFFFFF;\n",
              "    }\n",
              "  </style>\n",
              "\n",
              "      <script>\n",
              "        const buttonEl =\n",
              "          document.querySelector('#df-cd03e5d3-df8b-43d8-84ff-d82e81a26f29 button.colab-df-convert');\n",
              "        buttonEl.style.display =\n",
              "          google.colab.kernel.accessAllowed ? 'block' : 'none';\n",
              "\n",
              "        async function convertToInteractive(key) {\n",
              "          const element = document.querySelector('#df-cd03e5d3-df8b-43d8-84ff-d82e81a26f29');\n",
              "          const dataTable =\n",
              "            await google.colab.kernel.invokeFunction('convertToInteractive',\n",
              "                                                     [key], {});\n",
              "          if (!dataTable) return;\n",
              "\n",
              "          const docLinkHtml = 'Like what you see? Visit the ' +\n",
              "            '<a target=\"_blank\" href=https://colab.research.google.com/notebooks/data_table.ipynb>data table notebook</a>'\n",
              "            + ' to learn more about interactive tables.';\n",
              "          element.innerHTML = '';\n",
              "          dataTable['output_type'] = 'display_data';\n",
              "          await google.colab.output.renderOutput(dataTable, element);\n",
              "          const docLink = document.createElement('div');\n",
              "          docLink.innerHTML = docLinkHtml;\n",
              "          element.appendChild(docLink);\n",
              "        }\n",
              "      </script>\n",
              "    </div>\n",
              "  </div>\n",
              "  "
            ]
          },
          "metadata": {},
          "execution_count": 99
        }
      ]
    },
    {
      "cell_type": "markdown",
      "source": [
        "Verificamos pela tabela acima a coerência e abrangência temporal dos dados do atributo \"Data Base\", compreendendo o período de 02/01/2018 até 29/12/2022."
      ],
      "metadata": {
        "id": "smX2YW8_NwtR"
      }
    },
    {
      "cell_type": "markdown",
      "source": [
        "### Estatísticas Descritivas"
      ],
      "metadata": {
        "id": "QXnhL2bk-T_U"
      }
    },
    {
      "cell_type": "markdown",
      "source": [
        "Nesta seção vamos exibir as principais estatísticas descritivas dos atributos quantitativos da dataset. Mas para isso precisaremos primeiramente realizar algumas conversões de tipo, uma vez que vários atributos quantitativos estão armazenados como *object* (texto) no dataset."
      ],
      "metadata": {
        "id": "2hw6JTr_JbvO"
      }
    },
    {
      "cell_type": "code",
      "source": [
        "# convertendo atributos do tipo \"objetc\" para os tipos adequados\n",
        "df_merge = df_merge.astype({\n",
        "    'Data Vencimento': 'datetime64',\n",
        "    'Taxa Venda Manha': 'float64',\n",
        "    'Variação IBOV': 'float64',\n",
        "    'Valor Dolar': 'float64',\n",
        "    'Variação CDS': 'float64'\n",
        "})"
      ],
      "metadata": {
        "id": "Vm3iuvNuCPb0"
      },
      "execution_count": 100,
      "outputs": []
    },
    {
      "cell_type": "markdown",
      "source": [
        "Vamos agora observar um resumo estatístico da variável \"Taxa Venda Manha\" para cada tipo de título ofertado."
      ],
      "metadata": {
        "id": "I1eIyf56IZx-"
      }
    },
    {
      "cell_type": "code",
      "source": [
        "# exibindo as estatísticas descritivas do atributo \"Taxa Venda Manha\" agrupadas por título.\n",
        "df_merge.groupby('Tipo Titulo').describe()['Taxa Venda Manha'].applymap('{:,.2f}'.format)"
      ],
      "metadata": {
        "id": "b2mqxs1FJzyn",
        "colab": {
          "base_uri": "https://localhost:8080/",
          "height": 269
        },
        "outputId": "8cc489ef-ca3e-4ee8-a2f2-fbe3a84eac15"
      },
      "execution_count": 101,
      "outputs": [
        {
          "output_type": "execute_result",
          "data": {
            "text/plain": [
              "                                           count  mean   std    min   25%  \\\n",
              "Tipo Titulo                                                                 \n",
              "Tesouro IGPM+ com Juros Semestrais      1,793.00  3.47  2.11  -3.30  2.96   \n",
              "Tesouro IPCA+                           4,195.00  4.39  1.35  -1.42  3.48   \n",
              "Tesouro IPCA+ com Juros Semestrais      8,100.00  4.53  1.31  -3.00  3.74   \n",
              "Tesouro Prefixado                       5,337.00  8.27  3.02   1.95  6.26   \n",
              "Tesouro Prefixado com Juros Semestrais  5,813.00  9.02  2.77   1.89  6.95   \n",
              "Tesouro Selic                           3,456.00  0.10  0.09   0.01  0.03   \n",
              "\n",
              "                                         50%    75%    max  \n",
              "Tipo Titulo                                                 \n",
              "Tesouro IGPM+ com Juros Semestrais      3.88   4.95   6.54  \n",
              "Tesouro IPCA+                           4.42   5.55   7.38  \n",
              "Tesouro IPCA+ com Juros Semestrais      4.55   5.66   7.43  \n",
              "Tesouro Prefixado                       7.90  10.89  14.31  \n",
              "Tesouro Prefixado com Juros Semestrais  8.96  11.54  14.20  \n",
              "Tesouro Selic                           0.05   0.15   0.38  "
            ],
            "text/html": [
              "\n",
              "  <div id=\"df-dcd20641-7edd-423d-9b84-ce06dcf16b88\">\n",
              "    <div class=\"colab-df-container\">\n",
              "      <div>\n",
              "<style scoped>\n",
              "    .dataframe tbody tr th:only-of-type {\n",
              "        vertical-align: middle;\n",
              "    }\n",
              "\n",
              "    .dataframe tbody tr th {\n",
              "        vertical-align: top;\n",
              "    }\n",
              "\n",
              "    .dataframe thead th {\n",
              "        text-align: right;\n",
              "    }\n",
              "</style>\n",
              "<table border=\"1\" class=\"dataframe\">\n",
              "  <thead>\n",
              "    <tr style=\"text-align: right;\">\n",
              "      <th></th>\n",
              "      <th>count</th>\n",
              "      <th>mean</th>\n",
              "      <th>std</th>\n",
              "      <th>min</th>\n",
              "      <th>25%</th>\n",
              "      <th>50%</th>\n",
              "      <th>75%</th>\n",
              "      <th>max</th>\n",
              "    </tr>\n",
              "    <tr>\n",
              "      <th>Tipo Titulo</th>\n",
              "      <th></th>\n",
              "      <th></th>\n",
              "      <th></th>\n",
              "      <th></th>\n",
              "      <th></th>\n",
              "      <th></th>\n",
              "      <th></th>\n",
              "      <th></th>\n",
              "    </tr>\n",
              "  </thead>\n",
              "  <tbody>\n",
              "    <tr>\n",
              "      <th>Tesouro IGPM+ com Juros Semestrais</th>\n",
              "      <td>1,793.00</td>\n",
              "      <td>3.47</td>\n",
              "      <td>2.11</td>\n",
              "      <td>-3.30</td>\n",
              "      <td>2.96</td>\n",
              "      <td>3.88</td>\n",
              "      <td>4.95</td>\n",
              "      <td>6.54</td>\n",
              "    </tr>\n",
              "    <tr>\n",
              "      <th>Tesouro IPCA+</th>\n",
              "      <td>4,195.00</td>\n",
              "      <td>4.39</td>\n",
              "      <td>1.35</td>\n",
              "      <td>-1.42</td>\n",
              "      <td>3.48</td>\n",
              "      <td>4.42</td>\n",
              "      <td>5.55</td>\n",
              "      <td>7.38</td>\n",
              "    </tr>\n",
              "    <tr>\n",
              "      <th>Tesouro IPCA+ com Juros Semestrais</th>\n",
              "      <td>8,100.00</td>\n",
              "      <td>4.53</td>\n",
              "      <td>1.31</td>\n",
              "      <td>-3.00</td>\n",
              "      <td>3.74</td>\n",
              "      <td>4.55</td>\n",
              "      <td>5.66</td>\n",
              "      <td>7.43</td>\n",
              "    </tr>\n",
              "    <tr>\n",
              "      <th>Tesouro Prefixado</th>\n",
              "      <td>5,337.00</td>\n",
              "      <td>8.27</td>\n",
              "      <td>3.02</td>\n",
              "      <td>1.95</td>\n",
              "      <td>6.26</td>\n",
              "      <td>7.90</td>\n",
              "      <td>10.89</td>\n",
              "      <td>14.31</td>\n",
              "    </tr>\n",
              "    <tr>\n",
              "      <th>Tesouro Prefixado com Juros Semestrais</th>\n",
              "      <td>5,813.00</td>\n",
              "      <td>9.02</td>\n",
              "      <td>2.77</td>\n",
              "      <td>1.89</td>\n",
              "      <td>6.95</td>\n",
              "      <td>8.96</td>\n",
              "      <td>11.54</td>\n",
              "      <td>14.20</td>\n",
              "    </tr>\n",
              "    <tr>\n",
              "      <th>Tesouro Selic</th>\n",
              "      <td>3,456.00</td>\n",
              "      <td>0.10</td>\n",
              "      <td>0.09</td>\n",
              "      <td>0.01</td>\n",
              "      <td>0.03</td>\n",
              "      <td>0.05</td>\n",
              "      <td>0.15</td>\n",
              "      <td>0.38</td>\n",
              "    </tr>\n",
              "  </tbody>\n",
              "</table>\n",
              "</div>\n",
              "      <button class=\"colab-df-convert\" onclick=\"convertToInteractive('df-dcd20641-7edd-423d-9b84-ce06dcf16b88')\"\n",
              "              title=\"Convert this dataframe to an interactive table.\"\n",
              "              style=\"display:none;\">\n",
              "        \n",
              "  <svg xmlns=\"http://www.w3.org/2000/svg\" height=\"24px\"viewBox=\"0 0 24 24\"\n",
              "       width=\"24px\">\n",
              "    <path d=\"M0 0h24v24H0V0z\" fill=\"none\"/>\n",
              "    <path d=\"M18.56 5.44l.94 2.06.94-2.06 2.06-.94-2.06-.94-.94-2.06-.94 2.06-2.06.94zm-11 1L8.5 8.5l.94-2.06 2.06-.94-2.06-.94L8.5 2.5l-.94 2.06-2.06.94zm10 10l.94 2.06.94-2.06 2.06-.94-2.06-.94-.94-2.06-.94 2.06-2.06.94z\"/><path d=\"M17.41 7.96l-1.37-1.37c-.4-.4-.92-.59-1.43-.59-.52 0-1.04.2-1.43.59L10.3 9.45l-7.72 7.72c-.78.78-.78 2.05 0 2.83L4 21.41c.39.39.9.59 1.41.59.51 0 1.02-.2 1.41-.59l7.78-7.78 2.81-2.81c.8-.78.8-2.07 0-2.86zM5.41 20L4 18.59l7.72-7.72 1.47 1.35L5.41 20z\"/>\n",
              "  </svg>\n",
              "      </button>\n",
              "      \n",
              "  <style>\n",
              "    .colab-df-container {\n",
              "      display:flex;\n",
              "      flex-wrap:wrap;\n",
              "      gap: 12px;\n",
              "    }\n",
              "\n",
              "    .colab-df-convert {\n",
              "      background-color: #E8F0FE;\n",
              "      border: none;\n",
              "      border-radius: 50%;\n",
              "      cursor: pointer;\n",
              "      display: none;\n",
              "      fill: #1967D2;\n",
              "      height: 32px;\n",
              "      padding: 0 0 0 0;\n",
              "      width: 32px;\n",
              "    }\n",
              "\n",
              "    .colab-df-convert:hover {\n",
              "      background-color: #E2EBFA;\n",
              "      box-shadow: 0px 1px 2px rgba(60, 64, 67, 0.3), 0px 1px 3px 1px rgba(60, 64, 67, 0.15);\n",
              "      fill: #174EA6;\n",
              "    }\n",
              "\n",
              "    [theme=dark] .colab-df-convert {\n",
              "      background-color: #3B4455;\n",
              "      fill: #D2E3FC;\n",
              "    }\n",
              "\n",
              "    [theme=dark] .colab-df-convert:hover {\n",
              "      background-color: #434B5C;\n",
              "      box-shadow: 0px 1px 3px 1px rgba(0, 0, 0, 0.15);\n",
              "      filter: drop-shadow(0px 1px 2px rgba(0, 0, 0, 0.3));\n",
              "      fill: #FFFFFF;\n",
              "    }\n",
              "  </style>\n",
              "\n",
              "      <script>\n",
              "        const buttonEl =\n",
              "          document.querySelector('#df-dcd20641-7edd-423d-9b84-ce06dcf16b88 button.colab-df-convert');\n",
              "        buttonEl.style.display =\n",
              "          google.colab.kernel.accessAllowed ? 'block' : 'none';\n",
              "\n",
              "        async function convertToInteractive(key) {\n",
              "          const element = document.querySelector('#df-dcd20641-7edd-423d-9b84-ce06dcf16b88');\n",
              "          const dataTable =\n",
              "            await google.colab.kernel.invokeFunction('convertToInteractive',\n",
              "                                                     [key], {});\n",
              "          if (!dataTable) return;\n",
              "\n",
              "          const docLinkHtml = 'Like what you see? Visit the ' +\n",
              "            '<a target=\"_blank\" href=https://colab.research.google.com/notebooks/data_table.ipynb>data table notebook</a>'\n",
              "            + ' to learn more about interactive tables.';\n",
              "          element.innerHTML = '';\n",
              "          dataTable['output_type'] = 'display_data';\n",
              "          await google.colab.output.renderOutput(dataTable, element);\n",
              "          const docLink = document.createElement('div');\n",
              "          docLink.innerHTML = docLinkHtml;\n",
              "          element.appendChild(docLink);\n",
              "        }\n",
              "      </script>\n",
              "    </div>\n",
              "  </div>\n",
              "  "
            ]
          },
          "metadata": {},
          "execution_count": 101
        }
      ]
    },
    {
      "cell_type": "markdown",
      "source": [
        "Nota-se que o título com maior desvio padrão é o título do tipo \"Prefixado\", o que possivelmente indica uma maior volatilidade (risco) desse ativo. Esse tipo de característica é considerada importante, pois possibilita maior lucro (ou prejuízo) nos casos de marcação a mercado do título."
      ],
      "metadata": {
        "id": "RYvZ-M7JJosm"
      }
    },
    {
      "cell_type": "code",
      "source": [
        "# calculando a amplitude por título pela diferença do valor máximo pelo valor mínimo\n",
        "df_merge.groupby('Tipo Titulo').describe()['Taxa Venda Manha']['max'] - df_merge.groupby('Tipo Titulo').describe()['Taxa Venda Manha']['min']"
      ],
      "metadata": {
        "colab": {
          "base_uri": "https://localhost:8080/"
        },
        "id": "oVWIIThxH1rI",
        "outputId": "42c8d9d9-26ec-42de-c29f-a320feb6a2d2"
      },
      "execution_count": 102,
      "outputs": [
        {
          "output_type": "execute_result",
          "data": {
            "text/plain": [
              "Tipo Titulo\n",
              "Tesouro IGPM+ com Juros Semestrais         9.84\n",
              "Tesouro IPCA+                              8.80\n",
              "Tesouro IPCA+ com Juros Semestrais        10.43\n",
              "Tesouro Prefixado                         12.36\n",
              "Tesouro Prefixado com Juros Semestrais    12.31\n",
              "Tesouro Selic                              0.37\n",
              "dtype: float64"
            ]
          },
          "metadata": {},
          "execution_count": 102
        }
      ]
    },
    {
      "cell_type": "markdown",
      "source": [
        "Acima podemos observar as amplitudes de taxa para cada título. O título \"Tesouro Prefixado\" apresenta o maior valor de amplitude, o que combinado com sua característica de maior desvio padrão, confirma sua característica de título mais volátil do grupo."
      ],
      "metadata": {
        "id": "FYZ5k6IwJiAV"
      }
    },
    {
      "cell_type": "code",
      "source": [
        "# exibindo as estatísticas descritivas dos demais atributos quantitativos\n",
        "df_merge.describe()[['Volume IBOV', 'Valor Dolar', 'Variação IBOV', 'Variação CDS']].applymap('{:,.2f}'.format)"
      ],
      "metadata": {
        "colab": {
          "base_uri": "https://localhost:8080/",
          "height": 300
        },
        "id": "_0hX8HrfG_Zt",
        "outputId": "1ad6bbec-0e66-4e36-977c-cb12bb9d9d7c"
      },
      "execution_count": 103,
      "outputs": [
        {
          "output_type": "execute_result",
          "data": {
            "text/plain": [
              "         Volume IBOV Valor Dolar Variação IBOV Variação CDS\n",
              "count      28,694.00   28,694.00     28,694.00    28,694.00\n",
              "mean    8,617,119.96        4.72          0.04         0.08\n",
              "std     4,080,040.44        0.76          1.77         3.57\n",
              "min       424,315.00        3.14        -14.78       -25.88\n",
              "25%     4,933,512.00        3.94         -0.79        -1.39\n",
              "50%     8,584,901.00        5.09          0.08        -0.01\n",
              "75%    11,476,269.00        5.34          0.98         1.27\n",
              "max    26,029,316.00        5.94         13.91        30.61"
            ],
            "text/html": [
              "\n",
              "  <div id=\"df-03e3c3d9-1f07-48c8-a8be-07443a12e5b6\">\n",
              "    <div class=\"colab-df-container\">\n",
              "      <div>\n",
              "<style scoped>\n",
              "    .dataframe tbody tr th:only-of-type {\n",
              "        vertical-align: middle;\n",
              "    }\n",
              "\n",
              "    .dataframe tbody tr th {\n",
              "        vertical-align: top;\n",
              "    }\n",
              "\n",
              "    .dataframe thead th {\n",
              "        text-align: right;\n",
              "    }\n",
              "</style>\n",
              "<table border=\"1\" class=\"dataframe\">\n",
              "  <thead>\n",
              "    <tr style=\"text-align: right;\">\n",
              "      <th></th>\n",
              "      <th>Volume IBOV</th>\n",
              "      <th>Valor Dolar</th>\n",
              "      <th>Variação IBOV</th>\n",
              "      <th>Variação CDS</th>\n",
              "    </tr>\n",
              "  </thead>\n",
              "  <tbody>\n",
              "    <tr>\n",
              "      <th>count</th>\n",
              "      <td>28,694.00</td>\n",
              "      <td>28,694.00</td>\n",
              "      <td>28,694.00</td>\n",
              "      <td>28,694.00</td>\n",
              "    </tr>\n",
              "    <tr>\n",
              "      <th>mean</th>\n",
              "      <td>8,617,119.96</td>\n",
              "      <td>4.72</td>\n",
              "      <td>0.04</td>\n",
              "      <td>0.08</td>\n",
              "    </tr>\n",
              "    <tr>\n",
              "      <th>std</th>\n",
              "      <td>4,080,040.44</td>\n",
              "      <td>0.76</td>\n",
              "      <td>1.77</td>\n",
              "      <td>3.57</td>\n",
              "    </tr>\n",
              "    <tr>\n",
              "      <th>min</th>\n",
              "      <td>424,315.00</td>\n",
              "      <td>3.14</td>\n",
              "      <td>-14.78</td>\n",
              "      <td>-25.88</td>\n",
              "    </tr>\n",
              "    <tr>\n",
              "      <th>25%</th>\n",
              "      <td>4,933,512.00</td>\n",
              "      <td>3.94</td>\n",
              "      <td>-0.79</td>\n",
              "      <td>-1.39</td>\n",
              "    </tr>\n",
              "    <tr>\n",
              "      <th>50%</th>\n",
              "      <td>8,584,901.00</td>\n",
              "      <td>5.09</td>\n",
              "      <td>0.08</td>\n",
              "      <td>-0.01</td>\n",
              "    </tr>\n",
              "    <tr>\n",
              "      <th>75%</th>\n",
              "      <td>11,476,269.00</td>\n",
              "      <td>5.34</td>\n",
              "      <td>0.98</td>\n",
              "      <td>1.27</td>\n",
              "    </tr>\n",
              "    <tr>\n",
              "      <th>max</th>\n",
              "      <td>26,029,316.00</td>\n",
              "      <td>5.94</td>\n",
              "      <td>13.91</td>\n",
              "      <td>30.61</td>\n",
              "    </tr>\n",
              "  </tbody>\n",
              "</table>\n",
              "</div>\n",
              "      <button class=\"colab-df-convert\" onclick=\"convertToInteractive('df-03e3c3d9-1f07-48c8-a8be-07443a12e5b6')\"\n",
              "              title=\"Convert this dataframe to an interactive table.\"\n",
              "              style=\"display:none;\">\n",
              "        \n",
              "  <svg xmlns=\"http://www.w3.org/2000/svg\" height=\"24px\"viewBox=\"0 0 24 24\"\n",
              "       width=\"24px\">\n",
              "    <path d=\"M0 0h24v24H0V0z\" fill=\"none\"/>\n",
              "    <path d=\"M18.56 5.44l.94 2.06.94-2.06 2.06-.94-2.06-.94-.94-2.06-.94 2.06-2.06.94zm-11 1L8.5 8.5l.94-2.06 2.06-.94-2.06-.94L8.5 2.5l-.94 2.06-2.06.94zm10 10l.94 2.06.94-2.06 2.06-.94-2.06-.94-.94-2.06-.94 2.06-2.06.94z\"/><path d=\"M17.41 7.96l-1.37-1.37c-.4-.4-.92-.59-1.43-.59-.52 0-1.04.2-1.43.59L10.3 9.45l-7.72 7.72c-.78.78-.78 2.05 0 2.83L4 21.41c.39.39.9.59 1.41.59.51 0 1.02-.2 1.41-.59l7.78-7.78 2.81-2.81c.8-.78.8-2.07 0-2.86zM5.41 20L4 18.59l7.72-7.72 1.47 1.35L5.41 20z\"/>\n",
              "  </svg>\n",
              "      </button>\n",
              "      \n",
              "  <style>\n",
              "    .colab-df-container {\n",
              "      display:flex;\n",
              "      flex-wrap:wrap;\n",
              "      gap: 12px;\n",
              "    }\n",
              "\n",
              "    .colab-df-convert {\n",
              "      background-color: #E8F0FE;\n",
              "      border: none;\n",
              "      border-radius: 50%;\n",
              "      cursor: pointer;\n",
              "      display: none;\n",
              "      fill: #1967D2;\n",
              "      height: 32px;\n",
              "      padding: 0 0 0 0;\n",
              "      width: 32px;\n",
              "    }\n",
              "\n",
              "    .colab-df-convert:hover {\n",
              "      background-color: #E2EBFA;\n",
              "      box-shadow: 0px 1px 2px rgba(60, 64, 67, 0.3), 0px 1px 3px 1px rgba(60, 64, 67, 0.15);\n",
              "      fill: #174EA6;\n",
              "    }\n",
              "\n",
              "    [theme=dark] .colab-df-convert {\n",
              "      background-color: #3B4455;\n",
              "      fill: #D2E3FC;\n",
              "    }\n",
              "\n",
              "    [theme=dark] .colab-df-convert:hover {\n",
              "      background-color: #434B5C;\n",
              "      box-shadow: 0px 1px 3px 1px rgba(0, 0, 0, 0.15);\n",
              "      filter: drop-shadow(0px 1px 2px rgba(0, 0, 0, 0.3));\n",
              "      fill: #FFFFFF;\n",
              "    }\n",
              "  </style>\n",
              "\n",
              "      <script>\n",
              "        const buttonEl =\n",
              "          document.querySelector('#df-03e3c3d9-1f07-48c8-a8be-07443a12e5b6 button.colab-df-convert');\n",
              "        buttonEl.style.display =\n",
              "          google.colab.kernel.accessAllowed ? 'block' : 'none';\n",
              "\n",
              "        async function convertToInteractive(key) {\n",
              "          const element = document.querySelector('#df-03e3c3d9-1f07-48c8-a8be-07443a12e5b6');\n",
              "          const dataTable =\n",
              "            await google.colab.kernel.invokeFunction('convertToInteractive',\n",
              "                                                     [key], {});\n",
              "          if (!dataTable) return;\n",
              "\n",
              "          const docLinkHtml = 'Like what you see? Visit the ' +\n",
              "            '<a target=\"_blank\" href=https://colab.research.google.com/notebooks/data_table.ipynb>data table notebook</a>'\n",
              "            + ' to learn more about interactive tables.';\n",
              "          element.innerHTML = '';\n",
              "          dataTable['output_type'] = 'display_data';\n",
              "          await google.colab.output.renderOutput(dataTable, element);\n",
              "          const docLink = document.createElement('div');\n",
              "          docLink.innerHTML = docLinkHtml;\n",
              "          element.appendChild(docLink);\n",
              "        }\n",
              "      </script>\n",
              "    </div>\n",
              "  </div>\n",
              "  "
            ]
          },
          "metadata": {},
          "execution_count": 103
        }
      ]
    },
    {
      "cell_type": "markdown",
      "source": [
        "Acima o resumo estatísticos dos demais atributos quantitativos do dataset. Chama a atenção os valores do atributo \"Variação CDS\", onde podemos notar como o desvio padrão é relativamente alto em relação à média e como o terceiro quartil está distante do valor máximo, indicando que esse provavelmente é um indicador bastante volátil."
      ],
      "metadata": {
        "id": "SW58ChDUK3a3"
      }
    },
    {
      "cell_type": "markdown",
      "source": [
        "### Visualizações Unimodais"
      ],
      "metadata": {
        "id": "mWK7ymIaMKPJ"
      }
    },
    {
      "cell_type": "code",
      "source": [
        "# exibindo o histograma do atributo 'Taxa Venda Manha'\n",
        "plt.hist(df_merge['Taxa Venda Manha'], edgecolor='black', bins=10)"
      ],
      "metadata": {
        "id": "LOATW9vkwNrV",
        "colab": {
          "base_uri": "https://localhost:8080/",
          "height": 522
        },
        "outputId": "19fa48bd-a3dd-4f90-a87e-7856c04f3300"
      },
      "execution_count": 104,
      "outputs": [
        {
          "output_type": "execute_result",
          "data": {
            "text/plain": [
              "(array([ 107., 3212.,  874., 4033., 7068., 6341., 2305., 1598., 1982.,\n",
              "        1174.]),\n",
              " array([-3.3  , -1.539,  0.222,  1.983,  3.744,  5.505,  7.266,  9.027,\n",
              "        10.788, 12.549, 14.31 ]),\n",
              " <BarContainer object of 10 artists>)"
            ]
          },
          "metadata": {},
          "execution_count": 104
        },
        {
          "output_type": "display_data",
          "data": {
            "text/plain": [
              "<Figure size 640x480 with 1 Axes>"
            ],
            "image/png": "[encoded data removed]"
          },
          "metadata": {}
        }
      ]
    },
    {
      "cell_type": "code",
      "source": [
        "# exibindo a função densidade de probabilidade do atributo 'Taxa Venda Manha'\n",
        "df_merge['Taxa Venda Manha'].plot(kind='density')"
      ],
      "metadata": {
        "id": "w_D3uOL2yW8y",
        "colab": {
          "base_uri": "https://localhost:8080/",
          "height": 448
        },
        "outputId": "cbdeed56-991e-4d25-de32-04c7a4200525"
      },
      "execution_count": 105,
      "outputs": [
        {
          "output_type": "execute_result",
          "data": {
            "text/plain": [
              "<Axes: ylabel='Density'>"
            ]
          },
          "metadata": {},
          "execution_count": 105
        },
        {
          "output_type": "display_data",
          "data": {
            "text/plain": [
              "<Figure size 640x480 with 1 Axes>"
            ],
            "image/png": "[encoded data removed]"
          },
          "metadata": {}
        }
      ]
    },
    {
      "cell_type": "markdown",
      "source": [
        "Ambos os gráficos indicam que as taxas de maior frequência, e consequentemente de maior probabilidade de ocorrência de acordo com o histórico, são aquelas cujos valores estão entre 0 e 10."
      ],
      "metadata": {
        "id": "nSkfqZZazgzN"
      }
    },
    {
      "cell_type": "code",
      "source": [
        "# exibindo os boxplots dos atributos quantitativos\n",
        "df_merge.plot(kind = 'box', subplots = True, layout = (3,3), sharex = False, sharey = False, figsize = (12,14))\n",
        "plt.show()"
      ],
      "metadata": {
        "id": "TW48E7TW0cFK",
        "colab": {
          "base_uri": "https://localhost:8080/",
          "height": 773
        },
        "outputId": "0060cee9-cf7e-4278-e64a-c4981b114a4d"
      },
      "execution_count": 106,
      "outputs": [
        {
          "output_type": "display_data",
          "data": {
            "text/plain": [
              "<Figure size 1200x1400 with 9 Axes>"
            ],
            "image/png": "[encoded data removed]"
          },
          "metadata": {}
        }
      ]
    },
    {
      "cell_type": "markdown",
      "source": [
        "Nos boxplots acima, chama a atenção os gráficos de variação (IBOV e CDS) com característica \"espremida\", exibindo uma grande quantidade de outliers (dados discrepantes da maioria) nos conjuntos de dados. Como já comentado anteriormente, tais dados não podem ser considerados inputs errados pela própria natureza dos datasets. \n",
        "\n",
        "Nesse caso, não é prudente eliminar tais registros, uma vez que eles provavelmente capturam uma parte do comportamento real dos atributos. O que poderá ser feito posteriormente é testar um tratamento à parte desses outliers junto aos modelos estatísticos para avaliar qual a melhor opção."
      ],
      "metadata": {
        "id": "OMOz-7zCTFtu"
      }
    },
    {
      "cell_type": "markdown",
      "source": [
        "### Visualizações Multimodais"
      ],
      "metadata": {
        "id": "Tdty91zuVVBy"
      }
    },
    {
      "cell_type": "code",
      "source": [
        "# matriz de correlação dos atributos\n",
        "plt.figure(figsize = (10,6))\n",
        "sns.heatmap(df_merge.corr(), annot=True, cmap='RdBu', vmin=-1, vmax=1);"
      ],
      "metadata": {
        "colab": {
          "base_uri": "https://localhost:8080/",
          "height": 528
        },
        "id": "QNJkrzEiSoPc",
        "outputId": "ec668e59-84b9-4565-d091-fc61ca1af33d"
      },
      "execution_count": 107,
      "outputs": [
        {
          "output_type": "display_data",
          "data": {
            "text/plain": [
              "<Figure size 1000x600 with 2 Axes>"
            ],
            "image/png": "[encoded data removed]"
          },
          "metadata": {}
        }
      ]
    },
    {
      "cell_type": "markdown",
      "source": [
        "No gráfico acima, é possível observar uma forte correlação positiva entre os atributos \"Volume IBOV\" e \"Valor Dolar\", bem como uma forte correlação negativa entre os atributos \"Variação IBOV\" e \"Variação CDS\"."
      ],
      "metadata": {
        "id": "Stv9JR91Wjoa"
      }
    },
    {
      "cell_type": "code",
      "source": [],
      "metadata": {
        "id": "daSABUoZY7Zr"
      },
      "execution_count": null,
      "outputs": []
    }
  ]
}