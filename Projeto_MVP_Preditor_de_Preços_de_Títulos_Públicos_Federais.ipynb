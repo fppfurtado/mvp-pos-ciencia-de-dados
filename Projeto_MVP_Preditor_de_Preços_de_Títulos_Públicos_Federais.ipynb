{
  "nbformat": 4,
  "nbformat_minor": 0,
  "metadata": {
    "colab": {
      "provenance": [],
      "collapsed_sections": [
        "T_tMpsNA_uvw"
      ],
      "toc_visible": true,
      "authorship_tag": "ABX9TyNaNziVagOysPGqsMCqWU1o",
      "include_colab_link": true
    },
    "kernelspec": {
      "name": "python3",
      "display_name": "Python 3"
    },
    "language_info": {
      "name": "python"
    }
  },
  "cells": [
    {
      "cell_type": "markdown",
      "metadata": {
        "id": "view-in-github",
        "colab_type": "text"
      },
      "source": [
        "<a href=\"https://colab.research.google.com/github/fppfurtado/mvp-pos-ciencia-de-dados/blob/main/Projeto_MVP_Preditor_de_Pre%C3%A7os_de_T%C3%ADtulos_P%C3%BAblicos_Federais.ipynb\" target=\"_parent\"><img src=\"https://colab.research.google.com/assets/colab-badge.svg\" alt=\"Open In Colab\"/></a>"
      ]
    },
    {
      "cell_type": "markdown",
      "source": [
        "# 1. Definição do Problema"
      ],
      "metadata": {
        "id": "T_tMpsNA_uvw"
      }
    },
    {
      "cell_type": "markdown",
      "source": [
        "## Objetivo\n",
        "O presente projeto tem como objetivo a construção de um modelo de regressão linear para auxiliar o investidor a decidir o melhor momento de marcar a mercado seu título público, prevendo as taxas de juros ofertadas por títulos públicos federais - e, consequentemente, seus preços unitários - a partir dos valores da taxa de câmbio dolar/real (Ptax), do índice IBOVESPA e do CDS Brasil 5 anos."
      ],
      "metadata": {
        "id": "UFGSQtlOmUJw"
      }
    },
    {
      "cell_type": "markdown",
      "source": [
        "## Títulos Públicos Federais\n",
        "Títulos Públicos Federais são títulos de dívida emitidos pelo Governo Federal para financiar suas atvidades captando recursos de particulares em troca de pagamento de juros sobre um capital aplicado. Na prática, são **ativos de renda fixa** que possuem preço, taxa e vencimento definidos, e que podem ser adquiridos por investidores interessados.\n",
        "\n",
        "Esses ativos possuem liquidez diária, podendo o investidor solicitar o resgate a qualquer tempo (durante o horário de funcionamento do mercado de títulos publicos), porém nesse caso o valor utilizado para o cálculo da rentabilidade será o **valor de mercado do título** no dia da solicitação de resgate, a chamada **Marcação a Mercado**, que pode fazer com que o investidor tenha ou lucro acima do esperado ou prejuízo no resgate antecipado.\n",
        "\n",
        "O preço dos títulos públicos variam em função das respectivas taxas ofertadas. E as taxas variam diariamente, basicamente, em função da percepção de risco do mercado em relação à economia do país. Por isso, após alguma notícia negativa no cenário econômico, é comum observar fenômenos como \"queda na bolsa\", \"alta no dolar\" e \"alta nos juros\" pagos pelos títulos públicos federais."
      ],
      "metadata": {
        "id": "w7ACF_sL_5eg"
      }
    },
    {
      "cell_type": "markdown",
      "source": [
        "## IBOVESPA\n",
        "O Ibovespa é o principal indicador de desempenho das ações negociadas na B3 e reúne as empresas mais importantes do mercado de capitais brasileiro. Foi criado em 1968 e, ao longo desses 50 anos, consolidou-se como referência para investidores ao redor do mundo.\n",
        "\n",
        "Reavaliado a cada quatro meses, o índice é resultado de uma carteira teórica de ativos. É composto pelas ações e units de companhias listadas na B3 que atendem aos critérios descritos na sua metodologia, correspondendo a cerca de 80% do número de negócios e do volume financeiro do nosso mercado de capitais.\n",
        "\n",
        "Fonte: https://www.b3.com.br/pt_br/market-data-e-indices/indices/indices-amplos/ibovespa.htm"
      ],
      "metadata": {
        "id": "MM4EpINobbYj"
      }
    },
    {
      "cell_type": "markdown",
      "source": [
        "## PTax\n",
        "Ptax é uma taxa de câmbio calculada durante o dia pelo Banco Central do Brasil. Consiste na média das taxas de compra e de venda informadas pelas instituições financeiras durante 4 janelas do dia. É a taxa de referencia para o valor do dólar de D2 (em dois dias úteis). Normalmente, os contratos de derivativos de câmbio são liquidados com base na PTAX divulgada para o dia útil anterior.\n",
        "\n",
        "Fonte: https://pt.wikipedia.org/wiki/Ptax"
      ],
      "metadata": {
        "id": "nGEvjtSXcu6F"
      }
    },
    {
      "cell_type": "markdown",
      "source": [
        "## CDS Brasil\n",
        "CDS (credit default swap) é a troca de risco de crédito. O CDS é um contrato derivativo que funciona como um seguro para quem empresta dinheiro. Por levar em sua precificação o risco de inadimplência do tomador do empréstimo, o CDS é muito usado como termômetro para o risco de um país.\n",
        "\n",
        "Fonte: https://inteligenciafinanceira.com.br/glossario/credit-default-swap-cds-risco-pais/"
      ],
      "metadata": {
        "id": "LFvsvBlHdnUq"
      }
    },
    {
      "cell_type": "markdown",
      "source": [
        "# 2. Coleta e Análise de Dados"
      ],
      "metadata": {
        "id": "Ll6MNI-cM8l0"
      }
    },
    {
      "cell_type": "markdown",
      "source": [
        "## Importação de Pacotes e Módulos"
      ],
      "metadata": {
        "id": "s7ZM_BIENL1s"
      }
    },
    {
      "cell_type": "code",
      "execution_count": 69,
      "metadata": {
        "id": "EwubgFHWkonG"
      },
      "outputs": [],
      "source": [
        "# Importando pacotes\n",
        "import numpy as np\n",
        "import pandas as pd\n",
        "import matplotlib.pyplot as plt\n",
        "import matplotlib.gridspec as gridspec\n",
        "import seaborn as sns\n",
        "import warnings"
      ]
    },
    {
      "cell_type": "markdown",
      "source": [
        "## Configurações prévias"
      ],
      "metadata": {
        "id": "kIUgiz8SNZfv"
      }
    },
    {
      "cell_type": "code",
      "source": [
        "# Suprimindo warnings\n",
        "warnings.filterwarnings('ignore')"
      ],
      "metadata": {
        "id": "_Jo7YMsJbyrY"
      },
      "execution_count": 70,
      "outputs": []
    },
    {
      "cell_type": "markdown",
      "source": [
        "## Carregamento e Preparação dos Dados\n",
        "\n",
        "Serão carregados os datasets dos dados históricos das quatro variáveis econômicas que serão tratadas posteriormente pelo modelo de regressão linear: \n",
        "\n",
        "+ taxas e preços de título públicos federais\n",
        "+ taxa de câmbio PTax\n",
        "+ índice IBOVESPA\n",
        "+ CDS Brasil 5 anos."
      ],
      "metadata": {
        "id": "iXyuMhkcNfd2"
      }
    },
    {
      "cell_type": "code",
      "source": [
        "# Carregando o histórico de preços de preços e taxas de títulos públicos\n",
        "historico_titulos = pd.read_csv('https://github.com/fppfurtado/mvp-pos-ciencia-de-dados/raw/main/DADOS/historico_titulos.csv', decimal = ',')\n",
        "# Carregando o histórico do índice IBOVESPA\n",
        "historico_ibov = pd.read_csv('https://raw.githubusercontent.com/fppfurtado/mvp-pos-ciencia-de-dados/main/DADOS/historico_ibov.csv', decimal = ',')\n",
        "# Carregando o histórico da taxa de câmbio PTax\n",
        "historico_ptax = pd.read_csv('https://raw.githubusercontent.com/fppfurtado/mvp-pos-ciencia-de-dados/main/DADOS/historico_ptax.csv', decimal = ',')\n",
        "# Carregando o histórico do CDS Brasil 5 Anos\n",
        "historico_cds5y = pd.read_csv('https://raw.githubusercontent.com/fppfurtado/mvp-pos-ciencia-de-dados/main/DADOS/historico_csd5y.csv', decimal = ',')"
      ],
      "metadata": {
        "id": "Fy0GsKZymblK"
      },
      "execution_count": 71,
      "outputs": []
    },
    {
      "cell_type": "markdown",
      "source": [
        "Cada dataset possui um conjunto de atributos próprio, muitos dos quais não serão relevantes em nosso projeto. Por esse motivo, selecionaremos apenas os atributos relevantes e faremos a junção em um dataset final de trabalho utilizando como chave os atributos temporais (datas)."
      ],
      "metadata": {
        "id": "tSXzXRFj8Ltp"
      }
    },
    {
      "cell_type": "code",
      "source": [
        "# exibindo os nomes das colunas (atributos) dos datasets\n",
        "print('atributos titulos:', historico_titulos.columns, '\\n')\n",
        "print('atributos ibov:', historico_ibov.columns, '\\n')\n",
        "print('atributos ptax:', historico_ptax.columns, '\\n')\n",
        "print('atributos cds5y:', historico_cds5y.columns, '\\n')"
      ],
      "metadata": {
        "colab": {
          "base_uri": "https://localhost:8080/"
        },
        "id": "v48c8ATl9Lux",
        "outputId": "93d818bb-8747-4f9b-9cce-d1a451c3c577"
      },
      "execution_count": 72,
      "outputs": [
        {
          "output_type": "stream",
          "name": "stdout",
          "text": [
            "atributos titulos: Index(['Tipo Titulo', 'Data Vencimento', 'Data Base', 'Taxa Compra Manha',\n",
            "       'Taxa Venda Manha', 'PU Compra Manha', 'PU Venda Manha',\n",
            "       'PU Base Manha'],\n",
            "      dtype='object') \n",
            "\n",
            "atributos ibov: Index(['direction_color', 'rowDate', 'rowDateRaw', 'rowDateTimestamp',\n",
            "       'last_close', 'last_open', 'last_max', 'last_min', 'volume',\n",
            "       'volumeRaw', 'change_precent', 'last_closeRaw', 'last_openRaw',\n",
            "       'last_maxRaw', 'last_minRaw', 'change_precentRaw'],\n",
            "      dtype='object') \n",
            "\n",
            "atributos ptax: Index(['data', 'valor'], dtype='object') \n",
            "\n",
            "atributos cds5y: Index(['direction_color', 'rowDate', 'rowDateRaw', 'rowDateTimestamp',\n",
            "       'last_close', 'last_open', 'last_max', 'last_min', 'volume',\n",
            "       'volumeRaw', 'change_precent', 'last_closeRaw', 'last_openRaw',\n",
            "       'last_maxRaw', 'last_minRaw', 'change_precentRaw'],\n",
            "      dtype='object') \n",
            "\n"
          ]
        }
      ]
    },
    {
      "cell_type": "markdown",
      "source": [
        "Para o histórico de títulos públicos, selecionaremos os atributos: Tipo Titulo, Data Vencimento, Data Base, Taxa Venda Manha."
      ],
      "metadata": {
        "id": "I_8gBtW6-roO"
      }
    },
    {
      "cell_type": "code",
      "source": [
        "# reduzindo o dataset historico_titulos por meio da seleção de atributos relevantes\n",
        "historico_titulos = historico_titulos[['Tipo Titulo', 'Data Vencimento', 'Data Base', 'Taxa Venda Manha']]"
      ],
      "metadata": {
        "id": "vOJHT_co_BaM"
      },
      "execution_count": 73,
      "outputs": []
    },
    {
      "cell_type": "markdown",
      "source": [
        "Para o histórico do Ibovespa, selecionaremos os atributos: rowDate, volumeRaw, change_precent."
      ],
      "metadata": {
        "id": "LLRlJiYe_m0z"
      }
    },
    {
      "cell_type": "code",
      "source": [
        "# reduzindo o dataset historico_ibov por meio da seleção de atributos relevantes\n",
        "historico_ibov = historico_ibov[['rowDate', 'volumeRaw', 'change_precent']]"
      ],
      "metadata": {
        "id": "ew6i34mn_1z0"
      },
      "execution_count": 74,
      "outputs": []
    },
    {
      "cell_type": "markdown",
      "source": [
        "Para o histórico da taxa de câmbio, como são apenas dois atributos, manteremos a mesma configuração."
      ],
      "metadata": {
        "id": "3KBSd2ICDWsX"
      }
    },
    {
      "cell_type": "markdown",
      "source": [
        "Para o histórico do CDS Brasil 5 Anos, selecionaremos os atributos: rowDate, volumeRaw e change_precent."
      ],
      "metadata": {
        "id": "wEFans3GDtoA"
      }
    },
    {
      "cell_type": "code",
      "source": [
        "# reduzindo o dataset historico_csd5y por meio da seleção de atributos relevantes\n",
        "historico_cds5y = historico_cds5y[['rowDate', 'change_precent']]"
      ],
      "metadata": {
        "id": "lMVLfplOEAcn"
      },
      "execution_count": 75,
      "outputs": []
    },
    {
      "cell_type": "markdown",
      "source": [
        "Vamos garantir que os atributos temporais que sequenciam as séries históricas estejam armazenados como data, a fim de utilizá-los como chaves na junção dos datasets."
      ],
      "metadata": {
        "id": "I6eGvgKxEayI"
      }
    },
    {
      "cell_type": "code",
      "source": [
        "# ajustando tipos dos atributos temporais\n",
        "historico_titulos['Data Base'] = historico_titulos['Data Base'].astype('datetime64')\n",
        "historico_ibov['rowDate'] = historico_ibov['rowDate'].astype('datetime64')\n",
        "historico_ptax['data'] = historico_ptax['data'].astype('datetime64')\n",
        "historico_cds5y['rowDate'] = historico_cds5y['rowDate'].astype('datetime64')"
      ],
      "metadata": {
        "id": "6ikWOqF9FKCN"
      },
      "execution_count": 76,
      "outputs": []
    },
    {
      "cell_type": "markdown",
      "source": [
        "Vamos agora juntar os datasets com base nos atributos temporais."
      ],
      "metadata": {
        "id": "F11wT-iGH9_6"
      }
    },
    {
      "cell_type": "code",
      "source": [
        "# mesclando o historico de titulos com o historico ibov com base em atributo de data\n",
        "df_merge = pd.merge(historico_titulos, historico_ibov, left_on='Data Base', right_on='rowDate', suffixes=('_titulos', '_ibov'))\n",
        "# mesclando o dataset df_merge com o historico ptax com base em atributo de data\n",
        "df_merge = pd.merge(df_merge, historico_ptax, left_on='Data Base', right_on='data', suffixes=('_titulos', '_ptax'))\n",
        "# mesclando o dataset df_merge com o historico CDS 5 anos com base em atributo de data\n",
        "df_merge = pd.merge(df_merge, historico_cds5y, left_on='Data Base', right_on='rowDate', suffixes=('_ibov', '_cds'))\n",
        "# exibindo as primeiras linhas para visualização do resultado\n",
        "df_merge.head(5)"
      ],
      "metadata": {
        "colab": {
          "base_uri": "https://localhost:8080/",
          "height": 250
        },
        "id": "1Z4wMlcDICm3",
        "outputId": "e6e8f76f-29fd-4112-ae4d-127966bb1105"
      },
      "execution_count": 77,
      "outputs": [
        {
          "output_type": "execute_result",
          "data": {
            "text/plain": [
              "                              Tipo Titulo Data Vencimento  Data Base  \\\n",
              "0  Tesouro Prefixado com Juros Semestrais      2029-01-01 2020-12-17   \n",
              "1                           Tesouro IPCA+      2026-08-15 2020-12-17   \n",
              "2                           Tesouro IPCA+      2024-08-15 2020-12-17   \n",
              "3      Tesouro IGPM+ com Juros Semestrais      2021-04-01 2020-12-17   \n",
              "4                       Tesouro Prefixado      2023-01-01 2020-12-17   \n",
              "\n",
              "  Taxa Venda Manha rowDate_ibov  volumeRaw change_precent_ibov       data  \\\n",
              "0             6.97   2020-12-17    7701390                0.46 2020-12-17   \n",
              "1             2.54   2020-12-17    7701390                0.46 2020-12-17   \n",
              "2             1.79   2020-12-17    7701390                0.46 2020-12-17   \n",
              "3             -0.3   2020-12-17    7701390                0.46 2020-12-17   \n",
              "4             4.61   2020-12-17    7701390                0.46 2020-12-17   \n",
              "\n",
              "    valor rowDate_cds change_precent_cds  \n",
              "0  5.0606  2020-12-17              -1.26  \n",
              "1  5.0606  2020-12-17              -1.26  \n",
              "2  5.0606  2020-12-17              -1.26  \n",
              "3  5.0606  2020-12-17              -1.26  \n",
              "4  5.0606  2020-12-17              -1.26  "
            ],
            "text/html": [
              "\n",
              "  <div id=\"df-d250e8c5-d0b5-483a-9ee3-4028e91963c2\">\n",
              "    <div class=\"colab-df-container\">\n",
              "      <div>\n",
              "<style scoped>\n",
              "    .dataframe tbody tr th:only-of-type {\n",
              "        vertical-align: middle;\n",
              "    }\n",
              "\n",
              "    .dataframe tbody tr th {\n",
              "        vertical-align: top;\n",
              "    }\n",
              "\n",
              "    .dataframe thead th {\n",
              "        text-align: right;\n",
              "    }\n",
              "</style>\n",
              "<table border=\"1\" class=\"dataframe\">\n",
              "  <thead>\n",
              "    <tr style=\"text-align: right;\">\n",
              "      <th></th>\n",
              "      <th>Tipo Titulo</th>\n",
              "      <th>Data Vencimento</th>\n",
              "      <th>Data Base</th>\n",
              "      <th>Taxa Venda Manha</th>\n",
              "      <th>rowDate_ibov</th>\n",
              "      <th>volumeRaw</th>\n",
              "      <th>change_precent_ibov</th>\n",
              "      <th>data</th>\n",
              "      <th>valor</th>\n",
              "      <th>rowDate_cds</th>\n",
              "      <th>change_precent_cds</th>\n",
              "    </tr>\n",
              "  </thead>\n",
              "  <tbody>\n",
              "    <tr>\n",
              "      <th>0</th>\n",
              "      <td>Tesouro Prefixado com Juros Semestrais</td>\n",
              "      <td>2029-01-01</td>\n",
              "      <td>2020-12-17</td>\n",
              "      <td>6.97</td>\n",
              "      <td>2020-12-17</td>\n",
              "      <td>7701390</td>\n",
              "      <td>0.46</td>\n",
              "      <td>2020-12-17</td>\n",
              "      <td>5.0606</td>\n",
              "      <td>2020-12-17</td>\n",
              "      <td>-1.26</td>\n",
              "    </tr>\n",
              "    <tr>\n",
              "      <th>1</th>\n",
              "      <td>Tesouro IPCA+</td>\n",
              "      <td>2026-08-15</td>\n",
              "      <td>2020-12-17</td>\n",
              "      <td>2.54</td>\n",
              "      <td>2020-12-17</td>\n",
              "      <td>7701390</td>\n",
              "      <td>0.46</td>\n",
              "      <td>2020-12-17</td>\n",
              "      <td>5.0606</td>\n",
              "      <td>2020-12-17</td>\n",
              "      <td>-1.26</td>\n",
              "    </tr>\n",
              "    <tr>\n",
              "      <th>2</th>\n",
              "      <td>Tesouro IPCA+</td>\n",
              "      <td>2024-08-15</td>\n",
              "      <td>2020-12-17</td>\n",
              "      <td>1.79</td>\n",
              "      <td>2020-12-17</td>\n",
              "      <td>7701390</td>\n",
              "      <td>0.46</td>\n",
              "      <td>2020-12-17</td>\n",
              "      <td>5.0606</td>\n",
              "      <td>2020-12-17</td>\n",
              "      <td>-1.26</td>\n",
              "    </tr>\n",
              "    <tr>\n",
              "      <th>3</th>\n",
              "      <td>Tesouro IGPM+ com Juros Semestrais</td>\n",
              "      <td>2021-04-01</td>\n",
              "      <td>2020-12-17</td>\n",
              "      <td>-0.3</td>\n",
              "      <td>2020-12-17</td>\n",
              "      <td>7701390</td>\n",
              "      <td>0.46</td>\n",
              "      <td>2020-12-17</td>\n",
              "      <td>5.0606</td>\n",
              "      <td>2020-12-17</td>\n",
              "      <td>-1.26</td>\n",
              "    </tr>\n",
              "    <tr>\n",
              "      <th>4</th>\n",
              "      <td>Tesouro Prefixado</td>\n",
              "      <td>2023-01-01</td>\n",
              "      <td>2020-12-17</td>\n",
              "      <td>4.61</td>\n",
              "      <td>2020-12-17</td>\n",
              "      <td>7701390</td>\n",
              "      <td>0.46</td>\n",
              "      <td>2020-12-17</td>\n",
              "      <td>5.0606</td>\n",
              "      <td>2020-12-17</td>\n",
              "      <td>-1.26</td>\n",
              "    </tr>\n",
              "  </tbody>\n",
              "</table>\n",
              "</div>\n",
              "      <button class=\"colab-df-convert\" onclick=\"convertToInteractive('df-d250e8c5-d0b5-483a-9ee3-4028e91963c2')\"\n",
              "              title=\"Convert this dataframe to an interactive table.\"\n",
              "              style=\"display:none;\">\n",
              "        \n",
              "  <svg xmlns=\"http://www.w3.org/2000/svg\" height=\"24px\"viewBox=\"0 0 24 24\"\n",
              "       width=\"24px\">\n",
              "    <path d=\"M0 0h24v24H0V0z\" fill=\"none\"/>\n",
              "    <path d=\"M18.56 5.44l.94 2.06.94-2.06 2.06-.94-2.06-.94-.94-2.06-.94 2.06-2.06.94zm-11 1L8.5 8.5l.94-2.06 2.06-.94-2.06-.94L8.5 2.5l-.94 2.06-2.06.94zm10 10l.94 2.06.94-2.06 2.06-.94-2.06-.94-.94-2.06-.94 2.06-2.06.94z\"/><path d=\"M17.41 7.96l-1.37-1.37c-.4-.4-.92-.59-1.43-.59-.52 0-1.04.2-1.43.59L10.3 9.45l-7.72 7.72c-.78.78-.78 2.05 0 2.83L4 21.41c.39.39.9.59 1.41.59.51 0 1.02-.2 1.41-.59l7.78-7.78 2.81-2.81c.8-.78.8-2.07 0-2.86zM5.41 20L4 18.59l7.72-7.72 1.47 1.35L5.41 20z\"/>\n",
              "  </svg>\n",
              "      </button>\n",
              "      \n",
              "  <style>\n",
              "    .colab-df-container {\n",
              "      display:flex;\n",
              "      flex-wrap:wrap;\n",
              "      gap: 12px;\n",
              "    }\n",
              "\n",
              "    .colab-df-convert {\n",
              "      background-color: #E8F0FE;\n",
              "      border: none;\n",
              "      border-radius: 50%;\n",
              "      cursor: pointer;\n",
              "      display: none;\n",
              "      fill: #1967D2;\n",
              "      height: 32px;\n",
              "      padding: 0 0 0 0;\n",
              "      width: 32px;\n",
              "    }\n",
              "\n",
              "    .colab-df-convert:hover {\n",
              "      background-color: #E2EBFA;\n",
              "      box-shadow: 0px 1px 2px rgba(60, 64, 67, 0.3), 0px 1px 3px 1px rgba(60, 64, 67, 0.15);\n",
              "      fill: #174EA6;\n",
              "    }\n",
              "\n",
              "    [theme=dark] .colab-df-convert {\n",
              "      background-color: #3B4455;\n",
              "      fill: #D2E3FC;\n",
              "    }\n",
              "\n",
              "    [theme=dark] .colab-df-convert:hover {\n",
              "      background-color: #434B5C;\n",
              "      box-shadow: 0px 1px 3px 1px rgba(0, 0, 0, 0.15);\n",
              "      filter: drop-shadow(0px 1px 2px rgba(0, 0, 0, 0.3));\n",
              "      fill: #FFFFFF;\n",
              "    }\n",
              "  </style>\n",
              "\n",
              "      <script>\n",
              "        const buttonEl =\n",
              "          document.querySelector('#df-d250e8c5-d0b5-483a-9ee3-4028e91963c2 button.colab-df-convert');\n",
              "        buttonEl.style.display =\n",
              "          google.colab.kernel.accessAllowed ? 'block' : 'none';\n",
              "\n",
              "        async function convertToInteractive(key) {\n",
              "          const element = document.querySelector('#df-d250e8c5-d0b5-483a-9ee3-4028e91963c2');\n",
              "          const dataTable =\n",
              "            await google.colab.kernel.invokeFunction('convertToInteractive',\n",
              "                                                     [key], {});\n",
              "          if (!dataTable) return;\n",
              "\n",
              "          const docLinkHtml = 'Like what you see? Visit the ' +\n",
              "            '<a target=\"_blank\" href=https://colab.research.google.com/notebooks/data_table.ipynb>data table notebook</a>'\n",
              "            + ' to learn more about interactive tables.';\n",
              "          element.innerHTML = '';\n",
              "          dataTable['output_type'] = 'display_data';\n",
              "          await google.colab.output.renderOutput(dataTable, element);\n",
              "          const docLink = document.createElement('div');\n",
              "          docLink.innerHTML = docLinkHtml;\n",
              "          element.appendChild(docLink);\n",
              "        }\n",
              "      </script>\n",
              "    </div>\n",
              "  </div>\n",
              "  "
            ]
          },
          "metadata": {},
          "execution_count": 77
        }
      ]
    },
    {
      "cell_type": "markdown",
      "source": [
        "Por fim, vamos eliminar os atributos temporais duplicados e renomear alguns atributos."
      ],
      "metadata": {
        "id": "2p4cLrBSgPbr"
      }
    },
    {
      "cell_type": "code",
      "source": [
        "# eliminando atributos irrelevantes\n",
        "df_merge = df_merge.drop(columns=['rowDate_ibov', 'data', 'rowDate_cds'])\n",
        "# renomeando atributos\n",
        "df_merge = df_merge.rename(columns={\n",
        "    'volumeRaw': 'Volume IBOV',\n",
        "    'change_precent_ibov': 'Variação IBOV',\n",
        "    'valor': 'Valor Dolar',\n",
        "    'change_precent_cds': 'Variação CDS'\n",
        "})\n",
        "# exibindo as primeiras linhas\n",
        "df_merge.head(5)"
      ],
      "metadata": {
        "colab": {
          "base_uri": "https://localhost:8080/",
          "height": 206
        },
        "id": "tbnQB5MSguDd",
        "outputId": "7ba06f8d-93cb-4640-deb9-aa288910e32f"
      },
      "execution_count": 78,
      "outputs": [
        {
          "output_type": "execute_result",
          "data": {
            "text/plain": [
              "                              Tipo Titulo Data Vencimento  Data Base  \\\n",
              "0  Tesouro Prefixado com Juros Semestrais      2029-01-01 2020-12-17   \n",
              "1                           Tesouro IPCA+      2026-08-15 2020-12-17   \n",
              "2                           Tesouro IPCA+      2024-08-15 2020-12-17   \n",
              "3      Tesouro IGPM+ com Juros Semestrais      2021-04-01 2020-12-17   \n",
              "4                       Tesouro Prefixado      2023-01-01 2020-12-17   \n",
              "\n",
              "  Taxa Venda Manha  Volume IBOV Variação IBOV Valor Dolar Variação CDS  \n",
              "0             6.97      7701390          0.46      5.0606        -1.26  \n",
              "1             2.54      7701390          0.46      5.0606        -1.26  \n",
              "2             1.79      7701390          0.46      5.0606        -1.26  \n",
              "3             -0.3      7701390          0.46      5.0606        -1.26  \n",
              "4             4.61      7701390          0.46      5.0606        -1.26  "
            ],
            "text/html": [
              "\n",
              "  <div id=\"df-b105e3e8-9a6f-4cff-8fc2-060ea437d38b\">\n",
              "    <div class=\"colab-df-container\">\n",
              "      <div>\n",
              "<style scoped>\n",
              "    .dataframe tbody tr th:only-of-type {\n",
              "        vertical-align: middle;\n",
              "    }\n",
              "\n",
              "    .dataframe tbody tr th {\n",
              "        vertical-align: top;\n",
              "    }\n",
              "\n",
              "    .dataframe thead th {\n",
              "        text-align: right;\n",
              "    }\n",
              "</style>\n",
              "<table border=\"1\" class=\"dataframe\">\n",
              "  <thead>\n",
              "    <tr style=\"text-align: right;\">\n",
              "      <th></th>\n",
              "      <th>Tipo Titulo</th>\n",
              "      <th>Data Vencimento</th>\n",
              "      <th>Data Base</th>\n",
              "      <th>Taxa Venda Manha</th>\n",
              "      <th>Volume IBOV</th>\n",
              "      <th>Variação IBOV</th>\n",
              "      <th>Valor Dolar</th>\n",
              "      <th>Variação CDS</th>\n",
              "    </tr>\n",
              "  </thead>\n",
              "  <tbody>\n",
              "    <tr>\n",
              "      <th>0</th>\n",
              "      <td>Tesouro Prefixado com Juros Semestrais</td>\n",
              "      <td>2029-01-01</td>\n",
              "      <td>2020-12-17</td>\n",
              "      <td>6.97</td>\n",
              "      <td>7701390</td>\n",
              "      <td>0.46</td>\n",
              "      <td>5.0606</td>\n",
              "      <td>-1.26</td>\n",
              "    </tr>\n",
              "    <tr>\n",
              "      <th>1</th>\n",
              "      <td>Tesouro IPCA+</td>\n",
              "      <td>2026-08-15</td>\n",
              "      <td>2020-12-17</td>\n",
              "      <td>2.54</td>\n",
              "      <td>7701390</td>\n",
              "      <td>0.46</td>\n",
              "      <td>5.0606</td>\n",
              "      <td>-1.26</td>\n",
              "    </tr>\n",
              "    <tr>\n",
              "      <th>2</th>\n",
              "      <td>Tesouro IPCA+</td>\n",
              "      <td>2024-08-15</td>\n",
              "      <td>2020-12-17</td>\n",
              "      <td>1.79</td>\n",
              "      <td>7701390</td>\n",
              "      <td>0.46</td>\n",
              "      <td>5.0606</td>\n",
              "      <td>-1.26</td>\n",
              "    </tr>\n",
              "    <tr>\n",
              "      <th>3</th>\n",
              "      <td>Tesouro IGPM+ com Juros Semestrais</td>\n",
              "      <td>2021-04-01</td>\n",
              "      <td>2020-12-17</td>\n",
              "      <td>-0.3</td>\n",
              "      <td>7701390</td>\n",
              "      <td>0.46</td>\n",
              "      <td>5.0606</td>\n",
              "      <td>-1.26</td>\n",
              "    </tr>\n",
              "    <tr>\n",
              "      <th>4</th>\n",
              "      <td>Tesouro Prefixado</td>\n",
              "      <td>2023-01-01</td>\n",
              "      <td>2020-12-17</td>\n",
              "      <td>4.61</td>\n",
              "      <td>7701390</td>\n",
              "      <td>0.46</td>\n",
              "      <td>5.0606</td>\n",
              "      <td>-1.26</td>\n",
              "    </tr>\n",
              "  </tbody>\n",
              "</table>\n",
              "</div>\n",
              "      <button class=\"colab-df-convert\" onclick=\"convertToInteractive('df-b105e3e8-9a6f-4cff-8fc2-060ea437d38b')\"\n",
              "              title=\"Convert this dataframe to an interactive table.\"\n",
              "              style=\"display:none;\">\n",
              "        \n",
              "  <svg xmlns=\"http://www.w3.org/2000/svg\" height=\"24px\"viewBox=\"0 0 24 24\"\n",
              "       width=\"24px\">\n",
              "    <path d=\"M0 0h24v24H0V0z\" fill=\"none\"/>\n",
              "    <path d=\"M18.56 5.44l.94 2.06.94-2.06 2.06-.94-2.06-.94-.94-2.06-.94 2.06-2.06.94zm-11 1L8.5 8.5l.94-2.06 2.06-.94-2.06-.94L8.5 2.5l-.94 2.06-2.06.94zm10 10l.94 2.06.94-2.06 2.06-.94-2.06-.94-.94-2.06-.94 2.06-2.06.94z\"/><path d=\"M17.41 7.96l-1.37-1.37c-.4-.4-.92-.59-1.43-.59-.52 0-1.04.2-1.43.59L10.3 9.45l-7.72 7.72c-.78.78-.78 2.05 0 2.83L4 21.41c.39.39.9.59 1.41.59.51 0 1.02-.2 1.41-.59l7.78-7.78 2.81-2.81c.8-.78.8-2.07 0-2.86zM5.41 20L4 18.59l7.72-7.72 1.47 1.35L5.41 20z\"/>\n",
              "  </svg>\n",
              "      </button>\n",
              "      \n",
              "  <style>\n",
              "    .colab-df-container {\n",
              "      display:flex;\n",
              "      flex-wrap:wrap;\n",
              "      gap: 12px;\n",
              "    }\n",
              "\n",
              "    .colab-df-convert {\n",
              "      background-color: #E8F0FE;\n",
              "      border: none;\n",
              "      border-radius: 50%;\n",
              "      cursor: pointer;\n",
              "      display: none;\n",
              "      fill: #1967D2;\n",
              "      height: 32px;\n",
              "      padding: 0 0 0 0;\n",
              "      width: 32px;\n",
              "    }\n",
              "\n",
              "    .colab-df-convert:hover {\n",
              "      background-color: #E2EBFA;\n",
              "      box-shadow: 0px 1px 2px rgba(60, 64, 67, 0.3), 0px 1px 3px 1px rgba(60, 64, 67, 0.15);\n",
              "      fill: #174EA6;\n",
              "    }\n",
              "\n",
              "    [theme=dark] .colab-df-convert {\n",
              "      background-color: #3B4455;\n",
              "      fill: #D2E3FC;\n",
              "    }\n",
              "\n",
              "    [theme=dark] .colab-df-convert:hover {\n",
              "      background-color: #434B5C;\n",
              "      box-shadow: 0px 1px 3px 1px rgba(0, 0, 0, 0.15);\n",
              "      filter: drop-shadow(0px 1px 2px rgba(0, 0, 0, 0.3));\n",
              "      fill: #FFFFFF;\n",
              "    }\n",
              "  </style>\n",
              "\n",
              "      <script>\n",
              "        const buttonEl =\n",
              "          document.querySelector('#df-b105e3e8-9a6f-4cff-8fc2-060ea437d38b button.colab-df-convert');\n",
              "        buttonEl.style.display =\n",
              "          google.colab.kernel.accessAllowed ? 'block' : 'none';\n",
              "\n",
              "        async function convertToInteractive(key) {\n",
              "          const element = document.querySelector('#df-b105e3e8-9a6f-4cff-8fc2-060ea437d38b');\n",
              "          const dataTable =\n",
              "            await google.colab.kernel.invokeFunction('convertToInteractive',\n",
              "                                                     [key], {});\n",
              "          if (!dataTable) return;\n",
              "\n",
              "          const docLinkHtml = 'Like what you see? Visit the ' +\n",
              "            '<a target=\"_blank\" href=https://colab.research.google.com/notebooks/data_table.ipynb>data table notebook</a>'\n",
              "            + ' to learn more about interactive tables.';\n",
              "          element.innerHTML = '';\n",
              "          dataTable['output_type'] = 'display_data';\n",
              "          await google.colab.output.renderOutput(dataTable, element);\n",
              "          const docLink = document.createElement('div');\n",
              "          docLink.innerHTML = docLinkHtml;\n",
              "          element.appendChild(docLink);\n",
              "        }\n",
              "      </script>\n",
              "    </div>\n",
              "  </div>\n",
              "  "
            ]
          },
          "metadata": {},
          "execution_count": 78
        }
      ]
    },
    {
      "cell_type": "markdown",
      "source": [
        "## Análise Exploratória"
      ],
      "metadata": {
        "id": "W6ddGqasZ_1A"
      }
    },
    {
      "cell_type": "markdown",
      "source": [
        "Para a exploração dos dados dos datasets, seguiremos o seguinte roteiro para cada dataset:\n",
        "\n",
        "1. Descrição e Classificação dos Dados Brutos\n",
        "2. Estrutura do Dataset\n",
        "3. Estatísticas Descritivas\n",
        "4. Visualizações Unimodais\n",
        "5. Visualizações Multimodais"
      ],
      "metadata": {
        "id": "GV0xJ_4nol_h"
      }
    },
    {
      "cell_type": "markdown",
      "source": [
        "### Estrutura do Dataset"
      ],
      "metadata": {
        "id": "3rxHavsq-hsq"
      }
    },
    {
      "cell_type": "markdown",
      "source": [
        "Vamos iniciar a análise observando informações gerais sobre a estrutura do dataset de trabalho."
      ],
      "metadata": {
        "id": "0Y56AtNY-n6I"
      }
    },
    {
      "cell_type": "code",
      "source": [
        "# exibindo informações gerais sobre o dataset\n",
        "df_merge.info()"
      ],
      "metadata": {
        "id": "EDN4IRJ4ovGI",
        "colab": {
          "base_uri": "https://localhost:8080/"
        },
        "outputId": "9b62ce59-e1a5-4e3c-e38d-216af0379a04"
      },
      "execution_count": 79,
      "outputs": [
        {
          "output_type": "stream",
          "name": "stdout",
          "text": [
            "<class 'pandas.core.frame.DataFrame'>\n",
            "Int64Index: 28694 entries, 0 to 28693\n",
            "Data columns (total 8 columns):\n",
            " #   Column            Non-Null Count  Dtype         \n",
            "---  ------            --------------  -----         \n",
            " 0   Tipo Titulo       28694 non-null  object        \n",
            " 1   Data Vencimento   28694 non-null  object        \n",
            " 2   Data Base         28694 non-null  datetime64[ns]\n",
            " 3   Taxa Venda Manha  28694 non-null  object        \n",
            " 4   Volume IBOV       28694 non-null  int64         \n",
            " 5   Variação IBOV     28694 non-null  object        \n",
            " 6   Valor Dolar       28694 non-null  object        \n",
            " 7   Variação CDS      28694 non-null  object        \n",
            "dtypes: datetime64[ns](1), int64(1), object(6)\n",
            "memory usage: 2.0+ MB\n"
          ]
        }
      ]
    },
    {
      "cell_type": "markdown",
      "source": [
        "O resumo acima nos informa as dimensões do dataset (28694 linhas, 08 colunas), os nomes de seus atributos, bem como seus respectivos tipos de dados e a quantidade de registros não-nulos (*missings*) para cada atributo."
      ],
      "metadata": {
        "id": "8arA7LAv-1P5"
      }
    },
    {
      "cell_type": "markdown",
      "source": [
        "Com a exceção dos atributos \"Data Base\" (tipo \"datetime64\") e \"Volume IBOV\" (tipo \"int64\"), todos os demais estão armazenados como \"object\" no dataset, que é uma tipagem genérica para texto, o que pode dificultar certas operações com os dados. Tal problema pode ser contornado com a conversão dos atributos para os tipos adequados."
      ],
      "metadata": {
        "id": "1bEw493zBaL-"
      }
    },
    {
      "cell_type": "markdown",
      "source": [
        "É possível notar a falta de *missings* (valores nulos) nos atributos do dataset. Isso é explicado pela fato de o dataset não possuir dados oriundos de inputs de usuário (ex.: formulários), mas apenas dados computados automaticamente pelos sistemas de negociação dos respectivos ativos."
      ],
      "metadata": {
        "id": "6xAV_hvdL63O"
      }
    },
    {
      "cell_type": "markdown",
      "source": [
        "### Descrição e Classificação dos Dados Brutos"
      ],
      "metadata": {
        "id": "fZY-EuF4oqCG"
      }
    },
    {
      "cell_type": "markdown",
      "source": [
        "Agora vamos observar os dados brutos exibindo algumas linhas do dataset."
      ],
      "metadata": {
        "id": "0KjuPQy9sD98"
      }
    },
    {
      "cell_type": "code",
      "source": [
        "# exibindo linhas de fronteiras (início e fim) do dataset\n",
        "df_merge"
      ],
      "metadata": {
        "colab": {
          "base_uri": "https://localhost:8080/",
          "height": 424
        },
        "id": "owKY7riir4x5",
        "outputId": "bb5ee0dd-4d56-4c5b-bd28-a50ebe0c6d85"
      },
      "execution_count": 80,
      "outputs": [
        {
          "output_type": "execute_result",
          "data": {
            "text/plain": [
              "                                  Tipo Titulo Data Vencimento  Data Base  \\\n",
              "0      Tesouro Prefixado com Juros Semestrais      2029-01-01 2020-12-17   \n",
              "1                               Tesouro IPCA+      2026-08-15 2020-12-17   \n",
              "2                               Tesouro IPCA+      2024-08-15 2020-12-17   \n",
              "3          Tesouro IGPM+ com Juros Semestrais      2021-04-01 2020-12-17   \n",
              "4                           Tesouro Prefixado      2023-01-01 2020-12-17   \n",
              "...                                       ...             ...        ...   \n",
              "28689      Tesouro IPCA+ com Juros Semestrais      2020-08-15 2018-01-03   \n",
              "28690      Tesouro IGPM+ com Juros Semestrais      2021-04-01 2018-01-03   \n",
              "28691                       Tesouro Prefixado      2023-01-01 2018-01-03   \n",
              "28692  Tesouro Prefixado com Juros Semestrais      2021-01-01 2018-01-03   \n",
              "28693                           Tesouro IPCA+      2024-08-15 2018-01-03   \n",
              "\n",
              "      Taxa Venda Manha  Volume IBOV Variação IBOV Valor Dolar Variação CDS  \n",
              "0                 6.97      7701390          0.46      5.0606        -1.26  \n",
              "1                 2.54      7701390          0.46      5.0606        -1.26  \n",
              "2                 1.79      7701390          0.46      5.0606        -1.26  \n",
              "3                 -0.3      7701390          0.46      5.0606        -1.26  \n",
              "4                 4.61      7701390          0.46      5.0606        -1.26  \n",
              "...                ...          ...           ...         ...          ...  \n",
              "28689             3.87      3239424          0.13      3.2614        -2.21  \n",
              "28690              4.2      3239424          0.13      3.2614        -2.21  \n",
              "28691              9.8      3239424          0.13      3.2614        -2.21  \n",
              "28692             8.71      3239424          0.13      3.2614        -2.21  \n",
              "28693             5.11      3239424          0.13      3.2614        -2.21  \n",
              "\n",
              "[28694 rows x 8 columns]"
            ],
            "text/html": [
              "\n",
              "  <div id=\"df-6a00cb0e-cafe-40a6-b553-cf6375433f9f\">\n",
              "    <div class=\"colab-df-container\">\n",
              "      <div>\n",
              "<style scoped>\n",
              "    .dataframe tbody tr th:only-of-type {\n",
              "        vertical-align: middle;\n",
              "    }\n",
              "\n",
              "    .dataframe tbody tr th {\n",
              "        vertical-align: top;\n",
              "    }\n",
              "\n",
              "    .dataframe thead th {\n",
              "        text-align: right;\n",
              "    }\n",
              "</style>\n",
              "<table border=\"1\" class=\"dataframe\">\n",
              "  <thead>\n",
              "    <tr style=\"text-align: right;\">\n",
              "      <th></th>\n",
              "      <th>Tipo Titulo</th>\n",
              "      <th>Data Vencimento</th>\n",
              "      <th>Data Base</th>\n",
              "      <th>Taxa Venda Manha</th>\n",
              "      <th>Volume IBOV</th>\n",
              "      <th>Variação IBOV</th>\n",
              "      <th>Valor Dolar</th>\n",
              "      <th>Variação CDS</th>\n",
              "    </tr>\n",
              "  </thead>\n",
              "  <tbody>\n",
              "    <tr>\n",
              "      <th>0</th>\n",
              "      <td>Tesouro Prefixado com Juros Semestrais</td>\n",
              "      <td>2029-01-01</td>\n",
              "      <td>2020-12-17</td>\n",
              "      <td>6.97</td>\n",
              "      <td>7701390</td>\n",
              "      <td>0.46</td>\n",
              "      <td>5.0606</td>\n",
              "      <td>-1.26</td>\n",
              "    </tr>\n",
              "    <tr>\n",
              "      <th>1</th>\n",
              "      <td>Tesouro IPCA+</td>\n",
              "      <td>2026-08-15</td>\n",
              "      <td>2020-12-17</td>\n",
              "      <td>2.54</td>\n",
              "      <td>7701390</td>\n",
              "      <td>0.46</td>\n",
              "      <td>5.0606</td>\n",
              "      <td>-1.26</td>\n",
              "    </tr>\n",
              "    <tr>\n",
              "      <th>2</th>\n",
              "      <td>Tesouro IPCA+</td>\n",
              "      <td>2024-08-15</td>\n",
              "      <td>2020-12-17</td>\n",
              "      <td>1.79</td>\n",
              "      <td>7701390</td>\n",
              "      <td>0.46</td>\n",
              "      <td>5.0606</td>\n",
              "      <td>-1.26</td>\n",
              "    </tr>\n",
              "    <tr>\n",
              "      <th>3</th>\n",
              "      <td>Tesouro IGPM+ com Juros Semestrais</td>\n",
              "      <td>2021-04-01</td>\n",
              "      <td>2020-12-17</td>\n",
              "      <td>-0.3</td>\n",
              "      <td>7701390</td>\n",
              "      <td>0.46</td>\n",
              "      <td>5.0606</td>\n",
              "      <td>-1.26</td>\n",
              "    </tr>\n",
              "    <tr>\n",
              "      <th>4</th>\n",
              "      <td>Tesouro Prefixado</td>\n",
              "      <td>2023-01-01</td>\n",
              "      <td>2020-12-17</td>\n",
              "      <td>4.61</td>\n",
              "      <td>7701390</td>\n",
              "      <td>0.46</td>\n",
              "      <td>5.0606</td>\n",
              "      <td>-1.26</td>\n",
              "    </tr>\n",
              "    <tr>\n",
              "      <th>...</th>\n",
              "      <td>...</td>\n",
              "      <td>...</td>\n",
              "      <td>...</td>\n",
              "      <td>...</td>\n",
              "      <td>...</td>\n",
              "      <td>...</td>\n",
              "      <td>...</td>\n",
              "      <td>...</td>\n",
              "    </tr>\n",
              "    <tr>\n",
              "      <th>28689</th>\n",
              "      <td>Tesouro IPCA+ com Juros Semestrais</td>\n",
              "      <td>2020-08-15</td>\n",
              "      <td>2018-01-03</td>\n",
              "      <td>3.87</td>\n",
              "      <td>3239424</td>\n",
              "      <td>0.13</td>\n",
              "      <td>3.2614</td>\n",
              "      <td>-2.21</td>\n",
              "    </tr>\n",
              "    <tr>\n",
              "      <th>28690</th>\n",
              "      <td>Tesouro IGPM+ com Juros Semestrais</td>\n",
              "      <td>2021-04-01</td>\n",
              "      <td>2018-01-03</td>\n",
              "      <td>4.2</td>\n",
              "      <td>3239424</td>\n",
              "      <td>0.13</td>\n",
              "      <td>3.2614</td>\n",
              "      <td>-2.21</td>\n",
              "    </tr>\n",
              "    <tr>\n",
              "      <th>28691</th>\n",
              "      <td>Tesouro Prefixado</td>\n",
              "      <td>2023-01-01</td>\n",
              "      <td>2018-01-03</td>\n",
              "      <td>9.8</td>\n",
              "      <td>3239424</td>\n",
              "      <td>0.13</td>\n",
              "      <td>3.2614</td>\n",
              "      <td>-2.21</td>\n",
              "    </tr>\n",
              "    <tr>\n",
              "      <th>28692</th>\n",
              "      <td>Tesouro Prefixado com Juros Semestrais</td>\n",
              "      <td>2021-01-01</td>\n",
              "      <td>2018-01-03</td>\n",
              "      <td>8.71</td>\n",
              "      <td>3239424</td>\n",
              "      <td>0.13</td>\n",
              "      <td>3.2614</td>\n",
              "      <td>-2.21</td>\n",
              "    </tr>\n",
              "    <tr>\n",
              "      <th>28693</th>\n",
              "      <td>Tesouro IPCA+</td>\n",
              "      <td>2024-08-15</td>\n",
              "      <td>2018-01-03</td>\n",
              "      <td>5.11</td>\n",
              "      <td>3239424</td>\n",
              "      <td>0.13</td>\n",
              "      <td>3.2614</td>\n",
              "      <td>-2.21</td>\n",
              "    </tr>\n",
              "  </tbody>\n",
              "</table>\n",
              "<p>28694 rows × 8 columns</p>\n",
              "</div>\n",
              "      <button class=\"colab-df-convert\" onclick=\"convertToInteractive('df-6a00cb0e-cafe-40a6-b553-cf6375433f9f')\"\n",
              "              title=\"Convert this dataframe to an interactive table.\"\n",
              "              style=\"display:none;\">\n",
              "        \n",
              "  <svg xmlns=\"http://www.w3.org/2000/svg\" height=\"24px\"viewBox=\"0 0 24 24\"\n",
              "       width=\"24px\">\n",
              "    <path d=\"M0 0h24v24H0V0z\" fill=\"none\"/>\n",
              "    <path d=\"M18.56 5.44l.94 2.06.94-2.06 2.06-.94-2.06-.94-.94-2.06-.94 2.06-2.06.94zm-11 1L8.5 8.5l.94-2.06 2.06-.94-2.06-.94L8.5 2.5l-.94 2.06-2.06.94zm10 10l.94 2.06.94-2.06 2.06-.94-2.06-.94-.94-2.06-.94 2.06-2.06.94z\"/><path d=\"M17.41 7.96l-1.37-1.37c-.4-.4-.92-.59-1.43-.59-.52 0-1.04.2-1.43.59L10.3 9.45l-7.72 7.72c-.78.78-.78 2.05 0 2.83L4 21.41c.39.39.9.59 1.41.59.51 0 1.02-.2 1.41-.59l7.78-7.78 2.81-2.81c.8-.78.8-2.07 0-2.86zM5.41 20L4 18.59l7.72-7.72 1.47 1.35L5.41 20z\"/>\n",
              "  </svg>\n",
              "      </button>\n",
              "      \n",
              "  <style>\n",
              "    .colab-df-container {\n",
              "      display:flex;\n",
              "      flex-wrap:wrap;\n",
              "      gap: 12px;\n",
              "    }\n",
              "\n",
              "    .colab-df-convert {\n",
              "      background-color: #E8F0FE;\n",
              "      border: none;\n",
              "      border-radius: 50%;\n",
              "      cursor: pointer;\n",
              "      display: none;\n",
              "      fill: #1967D2;\n",
              "      height: 32px;\n",
              "      padding: 0 0 0 0;\n",
              "      width: 32px;\n",
              "    }\n",
              "\n",
              "    .colab-df-convert:hover {\n",
              "      background-color: #E2EBFA;\n",
              "      box-shadow: 0px 1px 2px rgba(60, 64, 67, 0.3), 0px 1px 3px 1px rgba(60, 64, 67, 0.15);\n",
              "      fill: #174EA6;\n",
              "    }\n",
              "\n",
              "    [theme=dark] .colab-df-convert {\n",
              "      background-color: #3B4455;\n",
              "      fill: #D2E3FC;\n",
              "    }\n",
              "\n",
              "    [theme=dark] .colab-df-convert:hover {\n",
              "      background-color: #434B5C;\n",
              "      box-shadow: 0px 1px 3px 1px rgba(0, 0, 0, 0.15);\n",
              "      filter: drop-shadow(0px 1px 2px rgba(0, 0, 0, 0.3));\n",
              "      fill: #FFFFFF;\n",
              "    }\n",
              "  </style>\n",
              "\n",
              "      <script>\n",
              "        const buttonEl =\n",
              "          document.querySelector('#df-6a00cb0e-cafe-40a6-b553-cf6375433f9f button.colab-df-convert');\n",
              "        buttonEl.style.display =\n",
              "          google.colab.kernel.accessAllowed ? 'block' : 'none';\n",
              "\n",
              "        async function convertToInteractive(key) {\n",
              "          const element = document.querySelector('#df-6a00cb0e-cafe-40a6-b553-cf6375433f9f');\n",
              "          const dataTable =\n",
              "            await google.colab.kernel.invokeFunction('convertToInteractive',\n",
              "                                                     [key], {});\n",
              "          if (!dataTable) return;\n",
              "\n",
              "          const docLinkHtml = 'Like what you see? Visit the ' +\n",
              "            '<a target=\"_blank\" href=https://colab.research.google.com/notebooks/data_table.ipynb>data table notebook</a>'\n",
              "            + ' to learn more about interactive tables.';\n",
              "          element.innerHTML = '';\n",
              "          dataTable['output_type'] = 'display_data';\n",
              "          await google.colab.output.renderOutput(dataTable, element);\n",
              "          const docLink = document.createElement('div');\n",
              "          docLink.innerHTML = docLinkHtml;\n",
              "          element.appendChild(docLink);\n",
              "        }\n",
              "      </script>\n",
              "    </div>\n",
              "  </div>\n",
              "  "
            ]
          },
          "metadata": {},
          "execution_count": 80
        }
      ]
    },
    {
      "cell_type": "markdown",
      "source": [
        "Observando os dados brutos, podemos classificar e descrever seus atributos:\n",
        "\n",
        "+ <u>VARIÁVEL QUALITATIVA NOMINAL</u>\n",
        "  + **Tipo Titulo**: o título público negociado.\n",
        "+ <u>VARIÁVEL TEMPORAL</u>\n",
        "  + **Data Vencimento**: a data de vencimento do título público.\n",
        "  + **Data Base**: a data de referência da operação/negociação.\n",
        "+ <u>VARIÁVEL QUANTITATIVA CONTÍNUA</u>\n",
        "  + **Taxa Venda Manha**: a parte fixa da taxa de juros paga pelo título público.\n",
        "  + **Volume IBOV**: o volume financeiro negociado pelas ações que compõem o índice Ibovespa.\n",
        "  + **Variação IBOV**: o percentual de variação do índice Ibovespa em relação ao dia de negociação anterior.\n",
        "  + **Valor Dolar**: o valor do dólar Ptax.\n",
        "  + **Variação CDS**: o percentual de variação dos pontos-base do CDS Brasil 5 anos."
      ],
      "metadata": {
        "id": "o2vniOCx03F5"
      }
    },
    {
      "cell_type": "markdown",
      "source": [
        "Abaixo podemos verificar quais tipos de títulos foram ofertados ao longo do período e a quantidade de ofertas associada a cada título."
      ],
      "metadata": {
        "id": "Mkrg1zUUQvJC"
      }
    },
    {
      "cell_type": "code",
      "source": [
        "# exibindo a quantidade registros por título\n",
        "df_merge['Tipo Titulo'].value_counts()"
      ],
      "metadata": {
        "colab": {
          "base_uri": "https://localhost:8080/"
        },
        "id": "s9P1yeF7sBwN",
        "outputId": "d5bd993e-50c8-426f-820a-33f0ed7f4e24"
      },
      "execution_count": 81,
      "outputs": [
        {
          "output_type": "execute_result",
          "data": {
            "text/plain": [
              "Tesouro IPCA+ com Juros Semestrais        8100\n",
              "Tesouro Prefixado com Juros Semestrais    5813\n",
              "Tesouro Prefixado                         5337\n",
              "Tesouro IPCA+                             4195\n",
              "Tesouro Selic                             3456\n",
              "Tesouro IGPM+ com Juros Semestrais        1793\n",
              "Name: Tipo Titulo, dtype: int64"
            ]
          },
          "metadata": {},
          "execution_count": 81
        }
      ]
    },
    {
      "cell_type": "markdown",
      "source": [
        "O título \"Tesouro IGPM+\" possui quantidade de registros significativamente inferior aos demais por ter sido ofertado pelo Tesouro Nacional até o ano de 2006."
      ],
      "metadata": {
        "id": "k-h0XU2JMay0"
      }
    },
    {
      "cell_type": "code",
      "source": [
        "# exibindo linhas de fronteiras (início e fim) do dataset ordenadas pelo atributo 'Data Base'\n",
        "df_merge.sort_values('Data Base', ascending = False)"
      ],
      "metadata": {
        "id": "iuogPV4mnt_I",
        "colab": {
          "base_uri": "https://localhost:8080/",
          "height": 424
        },
        "outputId": "066261f7-2540-409d-befb-7c194decea29"
      },
      "execution_count": 82,
      "outputs": [
        {
          "output_type": "execute_result",
          "data": {
            "text/plain": [
              "                                  Tipo Titulo Data Vencimento  Data Base  \\\n",
              "4094       Tesouro IPCA+ com Juros Semestrais      2055-05-15 2022-12-29   \n",
              "4101                        Tesouro Prefixado      2024-07-01 2022-12-29   \n",
              "4086   Tesouro Prefixado com Juros Semestrais      2023-01-01 2022-12-29   \n",
              "4087                        Tesouro Prefixado      2025-01-01 2022-12-29   \n",
              "4088   Tesouro Prefixado com Juros Semestrais      2029-01-01 2022-12-29   \n",
              "...                                       ...             ...        ...   \n",
              "22817                           Tesouro IPCA+      2035-05-15 2018-01-02   \n",
              "22816                           Tesouro Selic      2021-03-01 2018-01-02   \n",
              "22815      Tesouro IPCA+ com Juros Semestrais      2035-05-15 2018-01-02   \n",
              "22814                       Tesouro Prefixado      2019-01-01 2018-01-02   \n",
              "22834  Tesouro Prefixado com Juros Semestrais      2021-01-01 2018-01-02   \n",
              "\n",
              "      Taxa Venda Manha  Volume IBOV Variação IBOV Valor Dolar Variação CDS  \n",
              "4094              6.23     13389109         -0.46      5.2171        -0.06  \n",
              "4101             13.05     13389109         -0.46      5.2171        -0.06  \n",
              "4086              14.2     13389109         -0.46      5.2171        -0.06  \n",
              "4087             12.71     13389109         -0.46      5.2171        -0.06  \n",
              "4088             12.82     13389109         -0.46      5.2171        -0.06  \n",
              "...                ...          ...           ...         ...          ...  \n",
              "22817             5.56      2969444          1.95      3.1724        -3.76  \n",
              "22816             0.04      2969444          1.95      3.1724        -3.76  \n",
              "22815             5.43      2969444          1.95      3.1724        -3.76  \n",
              "22814             6.89      2969444          1.95      3.1724        -3.76  \n",
              "22834             8.88      2969444          1.95      3.1724        -3.76  \n",
              "\n",
              "[28694 rows x 8 columns]"
            ],
            "text/html": [
              "\n",
              "  <div id=\"df-59cbc657-4d02-4dee-92ce-d7d51d744d26\">\n",
              "    <div class=\"colab-df-container\">\n",
              "      <div>\n",
              "<style scoped>\n",
              "    .dataframe tbody tr th:only-of-type {\n",
              "        vertical-align: middle;\n",
              "    }\n",
              "\n",
              "    .dataframe tbody tr th {\n",
              "        vertical-align: top;\n",
              "    }\n",
              "\n",
              "    .dataframe thead th {\n",
              "        text-align: right;\n",
              "    }\n",
              "</style>\n",
              "<table border=\"1\" class=\"dataframe\">\n",
              "  <thead>\n",
              "    <tr style=\"text-align: right;\">\n",
              "      <th></th>\n",
              "      <th>Tipo Titulo</th>\n",
              "      <th>Data Vencimento</th>\n",
              "      <th>Data Base</th>\n",
              "      <th>Taxa Venda Manha</th>\n",
              "      <th>Volume IBOV</th>\n",
              "      <th>Variação IBOV</th>\n",
              "      <th>Valor Dolar</th>\n",
              "      <th>Variação CDS</th>\n",
              "    </tr>\n",
              "  </thead>\n",
              "  <tbody>\n",
              "    <tr>\n",
              "      <th>4094</th>\n",
              "      <td>Tesouro IPCA+ com Juros Semestrais</td>\n",
              "      <td>2055-05-15</td>\n",
              "      <td>2022-12-29</td>\n",
              "      <td>6.23</td>\n",
              "      <td>13389109</td>\n",
              "      <td>-0.46</td>\n",
              "      <td>5.2171</td>\n",
              "      <td>-0.06</td>\n",
              "    </tr>\n",
              "    <tr>\n",
              "      <th>4101</th>\n",
              "      <td>Tesouro Prefixado</td>\n",
              "      <td>2024-07-01</td>\n",
              "      <td>2022-12-29</td>\n",
              "      <td>13.05</td>\n",
              "      <td>13389109</td>\n",
              "      <td>-0.46</td>\n",
              "      <td>5.2171</td>\n",
              "      <td>-0.06</td>\n",
              "    </tr>\n",
              "    <tr>\n",
              "      <th>4086</th>\n",
              "      <td>Tesouro Prefixado com Juros Semestrais</td>\n",
              "      <td>2023-01-01</td>\n",
              "      <td>2022-12-29</td>\n",
              "      <td>14.2</td>\n",
              "      <td>13389109</td>\n",
              "      <td>-0.46</td>\n",
              "      <td>5.2171</td>\n",
              "      <td>-0.06</td>\n",
              "    </tr>\n",
              "    <tr>\n",
              "      <th>4087</th>\n",
              "      <td>Tesouro Prefixado</td>\n",
              "      <td>2025-01-01</td>\n",
              "      <td>2022-12-29</td>\n",
              "      <td>12.71</td>\n",
              "      <td>13389109</td>\n",
              "      <td>-0.46</td>\n",
              "      <td>5.2171</td>\n",
              "      <td>-0.06</td>\n",
              "    </tr>\n",
              "    <tr>\n",
              "      <th>4088</th>\n",
              "      <td>Tesouro Prefixado com Juros Semestrais</td>\n",
              "      <td>2029-01-01</td>\n",
              "      <td>2022-12-29</td>\n",
              "      <td>12.82</td>\n",
              "      <td>13389109</td>\n",
              "      <td>-0.46</td>\n",
              "      <td>5.2171</td>\n",
              "      <td>-0.06</td>\n",
              "    </tr>\n",
              "    <tr>\n",
              "      <th>...</th>\n",
              "      <td>...</td>\n",
              "      <td>...</td>\n",
              "      <td>...</td>\n",
              "      <td>...</td>\n",
              "      <td>...</td>\n",
              "      <td>...</td>\n",
              "      <td>...</td>\n",
              "      <td>...</td>\n",
              "    </tr>\n",
              "    <tr>\n",
              "      <th>22817</th>\n",
              "      <td>Tesouro IPCA+</td>\n",
              "      <td>2035-05-15</td>\n",
              "      <td>2018-01-02</td>\n",
              "      <td>5.56</td>\n",
              "      <td>2969444</td>\n",
              "      <td>1.95</td>\n",
              "      <td>3.1724</td>\n",
              "      <td>-3.76</td>\n",
              "    </tr>\n",
              "    <tr>\n",
              "      <th>22816</th>\n",
              "      <td>Tesouro Selic</td>\n",
              "      <td>2021-03-01</td>\n",
              "      <td>2018-01-02</td>\n",
              "      <td>0.04</td>\n",
              "      <td>2969444</td>\n",
              "      <td>1.95</td>\n",
              "      <td>3.1724</td>\n",
              "      <td>-3.76</td>\n",
              "    </tr>\n",
              "    <tr>\n",
              "      <th>22815</th>\n",
              "      <td>Tesouro IPCA+ com Juros Semestrais</td>\n",
              "      <td>2035-05-15</td>\n",
              "      <td>2018-01-02</td>\n",
              "      <td>5.43</td>\n",
              "      <td>2969444</td>\n",
              "      <td>1.95</td>\n",
              "      <td>3.1724</td>\n",
              "      <td>-3.76</td>\n",
              "    </tr>\n",
              "    <tr>\n",
              "      <th>22814</th>\n",
              "      <td>Tesouro Prefixado</td>\n",
              "      <td>2019-01-01</td>\n",
              "      <td>2018-01-02</td>\n",
              "      <td>6.89</td>\n",
              "      <td>2969444</td>\n",
              "      <td>1.95</td>\n",
              "      <td>3.1724</td>\n",
              "      <td>-3.76</td>\n",
              "    </tr>\n",
              "    <tr>\n",
              "      <th>22834</th>\n",
              "      <td>Tesouro Prefixado com Juros Semestrais</td>\n",
              "      <td>2021-01-01</td>\n",
              "      <td>2018-01-02</td>\n",
              "      <td>8.88</td>\n",
              "      <td>2969444</td>\n",
              "      <td>1.95</td>\n",
              "      <td>3.1724</td>\n",
              "      <td>-3.76</td>\n",
              "    </tr>\n",
              "  </tbody>\n",
              "</table>\n",
              "<p>28694 rows × 8 columns</p>\n",
              "</div>\n",
              "      <button class=\"colab-df-convert\" onclick=\"convertToInteractive('df-59cbc657-4d02-4dee-92ce-d7d51d744d26')\"\n",
              "              title=\"Convert this dataframe to an interactive table.\"\n",
              "              style=\"display:none;\">\n",
              "        \n",
              "  <svg xmlns=\"http://www.w3.org/2000/svg\" height=\"24px\"viewBox=\"0 0 24 24\"\n",
              "       width=\"24px\">\n",
              "    <path d=\"M0 0h24v24H0V0z\" fill=\"none\"/>\n",
              "    <path d=\"M18.56 5.44l.94 2.06.94-2.06 2.06-.94-2.06-.94-.94-2.06-.94 2.06-2.06.94zm-11 1L8.5 8.5l.94-2.06 2.06-.94-2.06-.94L8.5 2.5l-.94 2.06-2.06.94zm10 10l.94 2.06.94-2.06 2.06-.94-2.06-.94-.94-2.06-.94 2.06-2.06.94z\"/><path d=\"M17.41 7.96l-1.37-1.37c-.4-.4-.92-.59-1.43-.59-.52 0-1.04.2-1.43.59L10.3 9.45l-7.72 7.72c-.78.78-.78 2.05 0 2.83L4 21.41c.39.39.9.59 1.41.59.51 0 1.02-.2 1.41-.59l7.78-7.78 2.81-2.81c.8-.78.8-2.07 0-2.86zM5.41 20L4 18.59l7.72-7.72 1.47 1.35L5.41 20z\"/>\n",
              "  </svg>\n",
              "      </button>\n",
              "      \n",
              "  <style>\n",
              "    .colab-df-container {\n",
              "      display:flex;\n",
              "      flex-wrap:wrap;\n",
              "      gap: 12px;\n",
              "    }\n",
              "\n",
              "    .colab-df-convert {\n",
              "      background-color: #E8F0FE;\n",
              "      border: none;\n",
              "      border-radius: 50%;\n",
              "      cursor: pointer;\n",
              "      display: none;\n",
              "      fill: #1967D2;\n",
              "      height: 32px;\n",
              "      padding: 0 0 0 0;\n",
              "      width: 32px;\n",
              "    }\n",
              "\n",
              "    .colab-df-convert:hover {\n",
              "      background-color: #E2EBFA;\n",
              "      box-shadow: 0px 1px 2px rgba(60, 64, 67, 0.3), 0px 1px 3px 1px rgba(60, 64, 67, 0.15);\n",
              "      fill: #174EA6;\n",
              "    }\n",
              "\n",
              "    [theme=dark] .colab-df-convert {\n",
              "      background-color: #3B4455;\n",
              "      fill: #D2E3FC;\n",
              "    }\n",
              "\n",
              "    [theme=dark] .colab-df-convert:hover {\n",
              "      background-color: #434B5C;\n",
              "      box-shadow: 0px 1px 3px 1px rgba(0, 0, 0, 0.15);\n",
              "      filter: drop-shadow(0px 1px 2px rgba(0, 0, 0, 0.3));\n",
              "      fill: #FFFFFF;\n",
              "    }\n",
              "  </style>\n",
              "\n",
              "      <script>\n",
              "        const buttonEl =\n",
              "          document.querySelector('#df-59cbc657-4d02-4dee-92ce-d7d51d744d26 button.colab-df-convert');\n",
              "        buttonEl.style.display =\n",
              "          google.colab.kernel.accessAllowed ? 'block' : 'none';\n",
              "\n",
              "        async function convertToInteractive(key) {\n",
              "          const element = document.querySelector('#df-59cbc657-4d02-4dee-92ce-d7d51d744d26');\n",
              "          const dataTable =\n",
              "            await google.colab.kernel.invokeFunction('convertToInteractive',\n",
              "                                                     [key], {});\n",
              "          if (!dataTable) return;\n",
              "\n",
              "          const docLinkHtml = 'Like what you see? Visit the ' +\n",
              "            '<a target=\"_blank\" href=https://colab.research.google.com/notebooks/data_table.ipynb>data table notebook</a>'\n",
              "            + ' to learn more about interactive tables.';\n",
              "          element.innerHTML = '';\n",
              "          dataTable['output_type'] = 'display_data';\n",
              "          await google.colab.output.renderOutput(dataTable, element);\n",
              "          const docLink = document.createElement('div');\n",
              "          docLink.innerHTML = docLinkHtml;\n",
              "          element.appendChild(docLink);\n",
              "        }\n",
              "      </script>\n",
              "    </div>\n",
              "  </div>\n",
              "  "
            ]
          },
          "metadata": {},
          "execution_count": 82
        }
      ]
    },
    {
      "cell_type": "markdown",
      "source": [
        "Verificamos pela tabela acima a coerência e abrangência temporal dos dados do atributo \"Data Base\", compreendendo o período de 02/01/2018 até 29/12/2022."
      ],
      "metadata": {
        "id": "smX2YW8_NwtR"
      }
    },
    {
      "cell_type": "markdown",
      "source": [
        "### Estatísticas Descritivas"
      ],
      "metadata": {
        "id": "QXnhL2bk-T_U"
      }
    },
    {
      "cell_type": "markdown",
      "source": [
        "Nesta seção vamos exibir as principais estatísticas descritivas dos atributos quantitativos da dataset. Mas para isso precisaremos primeiramente realizar algumas conversões de tipo, uma vez que vários atributos quantitativos estão armazenados como *object* (texto) no dataset."
      ],
      "metadata": {
        "id": "2hw6JTr_JbvO"
      }
    },
    {
      "cell_type": "code",
      "source": [
        "# convertendo atributos do tipo \"objetc\" para os tipos adequados\n",
        "df_merge = df_merge.astype({\n",
        "    'Data Vencimento': 'datetime64',\n",
        "    'Taxa Venda Manha': 'float64',\n",
        "    'Variação IBOV': 'float64',\n",
        "    'Valor Dolar': 'float64',\n",
        "    'Variação CDS': 'float64'\n",
        "})"
      ],
      "metadata": {
        "id": "Vm3iuvNuCPb0"
      },
      "execution_count": 83,
      "outputs": []
    },
    {
      "cell_type": "markdown",
      "source": [
        "Também será necessário criarmos uma nova coluna para classificar os títulos de acordo com o prazo até o vencimento, pois as taxas de juros apresentam comportamentos diferentes quanto maiores os prazos."
      ],
      "metadata": {
        "id": "uo1ZSw6cxHGK"
      }
    },
    {
      "cell_type": "code",
      "source": [
        "#(df_merge['Data Vencimento'] - df_merge['Data Base'])/np.timedelta64(1, 'Y')\n",
        "def classificarPrazo(qtdAnos):\n",
        "  if(qtdAnos <= 1):\n",
        "    return '1. curto'\n",
        "  elif(qtdAnos <= 5):\n",
        "    return '2. medio'\n",
        "  else:\n",
        "    return '3. longo'\n",
        "\n",
        "df_merge['Tipo Prazo'] = (df_merge['Data Vencimento'] - df_merge['Data Base'])/np.timedelta64(1, 'Y')\n",
        "df_merge['Tipo Prazo'] = df_merge['Tipo Prazo'].apply(classificarPrazo)"
      ],
      "metadata": {
        "id": "zxJuXhA3y_Sg"
      },
      "execution_count": 84,
      "outputs": []
    },
    {
      "cell_type": "markdown",
      "source": [
        "Vamos agora observar um resumo estatístico da variável \"Taxa Venda Manha\" para cada tipo de título ofertado."
      ],
      "metadata": {
        "id": "I1eIyf56IZx-"
      }
    },
    {
      "cell_type": "code",
      "source": [
        "# exibindo as estatísticas descritivas do atributo \"Taxa Venda Manha\" agrupadas por título.\n",
        "df_merge.groupby(['Tipo Titulo', 'Tipo Prazo']).describe()['Taxa Venda Manha'].applymap('{:,.2f}'.format)"
      ],
      "metadata": {
        "id": "b2mqxs1FJzyn",
        "colab": {
          "base_uri": "https://localhost:8080/",
          "height": 645
        },
        "outputId": "b1512d9d-3014-4e3b-eec5-a66490eb4dad"
      },
      "execution_count": 85,
      "outputs": [
        {
          "output_type": "execute_result",
          "data": {
            "text/plain": [
              "                                                      count   mean   std  \\\n",
              "Tipo Titulo                            Tipo Prazo                          \n",
              "Tesouro IGPM+ com Juros Semestrais     1. curto      213.00  -0.83  1.74   \n",
              "                                       2. medio      491.00   3.01  1.32   \n",
              "                                       3. longo    1,089.00   4.51  1.06   \n",
              "Tesouro IPCA+                          1. curto      221.00   2.25  1.22   \n",
              "                                       2. medio    1,113.00   4.24  1.72   \n",
              "                                       3. longo    2,861.00   4.61  1.00   \n",
              "Tesouro IPCA+ com Juros Semestrais     1. curto      218.00   1.42  2.24   \n",
              "                                       2. medio    1,391.00   4.10  1.61   \n",
              "                                       3. longo    6,491.00   4.73  1.00   \n",
              "Tesouro Prefixado                      1. curto    1,089.00   6.95  3.66   \n",
              "                                       2. medio    3,444.00   8.43  2.78   \n",
              "                                       3. longo      804.00   9.38  2.37   \n",
              "Tesouro Prefixado com Juros Semestrais 1. curto      437.00   8.11  5.40   \n",
              "                                       2. medio    2,178.00   8.45  2.68   \n",
              "                                       3. longo    3,198.00   9.53  2.13   \n",
              "Tesouro Selic                          1. curto      400.00   0.04  0.02   \n",
              "                                       2. medio    2,562.00   0.09  0.07   \n",
              "                                       3. longo      494.00   0.16  0.13   \n",
              "\n",
              "                                                     min    25%    50%    75%  \\\n",
              "Tipo Titulo                            Tipo Prazo                               \n",
              "Tesouro IGPM+ com Juros Semestrais     1. curto    -3.30  -2.14  -0.85   0.25   \n",
              "                                       2. medio     0.50   2.01   3.21   4.06   \n",
              "                                       3. longo     2.65   3.45   4.47   5.58   \n",
              "Tesouro IPCA+                          1. curto    -1.42   2.17   2.56   3.08   \n",
              "                                       2. medio     1.32   2.51   4.59   5.69   \n",
              "                                       3. longo     2.16   3.80   4.55   5.49   \n",
              "Tesouro IPCA+ com Juros Semestrais     1. curto    -3.00  -0.06   1.29   2.28   \n",
              "                                       2. medio     1.24   2.78   3.94   5.59   \n",
              "                                       3. longo     2.02   4.01   4.64   5.69   \n",
              "Tesouro Prefixado                      1. curto     1.95   4.66   6.48   7.25   \n",
              "                                       2. medio     2.75   6.34   8.23  10.73   \n",
              "                                       3. longo     5.96   7.06   9.05  11.79   \n",
              "Tesouro Prefixado com Juros Semestrais 1. curto     1.89   2.19  11.93  13.78   \n",
              "                                       2. medio     3.76   6.21   8.21  10.94   \n",
              "                                       3. longo     5.93   7.44   9.32  11.55   \n",
              "Tesouro Selic                          1. curto     0.01   0.02   0.03   0.05   \n",
              "                                       2. medio     0.01   0.03   0.05   0.15   \n",
              "                                       3. longo     0.03   0.03   0.06   0.30   \n",
              "\n",
              "                                                     max  \n",
              "Tipo Titulo                            Tipo Prazo         \n",
              "Tesouro IGPM+ com Juros Semestrais     1. curto     5.08  \n",
              "                                       2. medio     5.27  \n",
              "                                       3. longo     6.54  \n",
              "Tesouro IPCA+                          1. curto     3.73  \n",
              "                                       2. medio     7.38  \n",
              "                                       3. longo     6.59  \n",
              "Tesouro IPCA+ com Juros Semestrais     1. curto     7.13  \n",
              "                                       2. medio     7.43  \n",
              "                                       3. longo     6.57  \n",
              "Tesouro Prefixado                      1. curto    14.20  \n",
              "                                       2. medio    14.31  \n",
              "                                       3. longo    13.80  \n",
              "Tesouro Prefixado com Juros Semestrais 1. curto    14.20  \n",
              "                                       2. medio    14.09  \n",
              "                                       3. longo    13.82  \n",
              "Tesouro Selic                          1. curto     0.16  \n",
              "                                       2. medio     0.38  \n",
              "                                       3. longo     0.36  "
            ],
            "text/html": [
              "\n",
              "  <div id=\"df-b283b078-5301-4d1a-a874-59e725b423dd\">\n",
              "    <div class=\"colab-df-container\">\n",
              "      <div>\n",
              "<style scoped>\n",
              "    .dataframe tbody tr th:only-of-type {\n",
              "        vertical-align: middle;\n",
              "    }\n",
              "\n",
              "    .dataframe tbody tr th {\n",
              "        vertical-align: top;\n",
              "    }\n",
              "\n",
              "    .dataframe thead th {\n",
              "        text-align: right;\n",
              "    }\n",
              "</style>\n",
              "<table border=\"1\" class=\"dataframe\">\n",
              "  <thead>\n",
              "    <tr style=\"text-align: right;\">\n",
              "      <th></th>\n",
              "      <th></th>\n",
              "      <th>count</th>\n",
              "      <th>mean</th>\n",
              "      <th>std</th>\n",
              "      <th>min</th>\n",
              "      <th>25%</th>\n",
              "      <th>50%</th>\n",
              "      <th>75%</th>\n",
              "      <th>max</th>\n",
              "    </tr>\n",
              "    <tr>\n",
              "      <th>Tipo Titulo</th>\n",
              "      <th>Tipo Prazo</th>\n",
              "      <th></th>\n",
              "      <th></th>\n",
              "      <th></th>\n",
              "      <th></th>\n",
              "      <th></th>\n",
              "      <th></th>\n",
              "      <th></th>\n",
              "      <th></th>\n",
              "    </tr>\n",
              "  </thead>\n",
              "  <tbody>\n",
              "    <tr>\n",
              "      <th rowspan=\"3\" valign=\"top\">Tesouro IGPM+ com Juros Semestrais</th>\n",
              "      <th>1. curto</th>\n",
              "      <td>213.00</td>\n",
              "      <td>-0.83</td>\n",
              "      <td>1.74</td>\n",
              "      <td>-3.30</td>\n",
              "      <td>-2.14</td>\n",
              "      <td>-0.85</td>\n",
              "      <td>0.25</td>\n",
              "      <td>5.08</td>\n",
              "    </tr>\n",
              "    <tr>\n",
              "      <th>2. medio</th>\n",
              "      <td>491.00</td>\n",
              "      <td>3.01</td>\n",
              "      <td>1.32</td>\n",
              "      <td>0.50</td>\n",
              "      <td>2.01</td>\n",
              "      <td>3.21</td>\n",
              "      <td>4.06</td>\n",
              "      <td>5.27</td>\n",
              "    </tr>\n",
              "    <tr>\n",
              "      <th>3. longo</th>\n",
              "      <td>1,089.00</td>\n",
              "      <td>4.51</td>\n",
              "      <td>1.06</td>\n",
              "      <td>2.65</td>\n",
              "      <td>3.45</td>\n",
              "      <td>4.47</td>\n",
              "      <td>5.58</td>\n",
              "      <td>6.54</td>\n",
              "    </tr>\n",
              "    <tr>\n",
              "      <th rowspan=\"3\" valign=\"top\">Tesouro IPCA+</th>\n",
              "      <th>1. curto</th>\n",
              "      <td>221.00</td>\n",
              "      <td>2.25</td>\n",
              "      <td>1.22</td>\n",
              "      <td>-1.42</td>\n",
              "      <td>2.17</td>\n",
              "      <td>2.56</td>\n",
              "      <td>3.08</td>\n",
              "      <td>3.73</td>\n",
              "    </tr>\n",
              "    <tr>\n",
              "      <th>2. medio</th>\n",
              "      <td>1,113.00</td>\n",
              "      <td>4.24</td>\n",
              "      <td>1.72</td>\n",
              "      <td>1.32</td>\n",
              "      <td>2.51</td>\n",
              "      <td>4.59</td>\n",
              "      <td>5.69</td>\n",
              "      <td>7.38</td>\n",
              "    </tr>\n",
              "    <tr>\n",
              "      <th>3. longo</th>\n",
              "      <td>2,861.00</td>\n",
              "      <td>4.61</td>\n",
              "      <td>1.00</td>\n",
              "      <td>2.16</td>\n",
              "      <td>3.80</td>\n",
              "      <td>4.55</td>\n",
              "      <td>5.49</td>\n",
              "      <td>6.59</td>\n",
              "    </tr>\n",
              "    <tr>\n",
              "      <th rowspan=\"3\" valign=\"top\">Tesouro IPCA+ com Juros Semestrais</th>\n",
              "      <th>1. curto</th>\n",
              "      <td>218.00</td>\n",
              "      <td>1.42</td>\n",
              "      <td>2.24</td>\n",
              "      <td>-3.00</td>\n",
              "      <td>-0.06</td>\n",
              "      <td>1.29</td>\n",
              "      <td>2.28</td>\n",
              "      <td>7.13</td>\n",
              "    </tr>\n",
              "    <tr>\n",
              "      <th>2. medio</th>\n",
              "      <td>1,391.00</td>\n",
              "      <td>4.10</td>\n",
              "      <td>1.61</td>\n",
              "      <td>1.24</td>\n",
              "      <td>2.78</td>\n",
              "      <td>3.94</td>\n",
              "      <td>5.59</td>\n",
              "      <td>7.43</td>\n",
              "    </tr>\n",
              "    <tr>\n",
              "      <th>3. longo</th>\n",
              "      <td>6,491.00</td>\n",
              "      <td>4.73</td>\n",
              "      <td>1.00</td>\n",
              "      <td>2.02</td>\n",
              "      <td>4.01</td>\n",
              "      <td>4.64</td>\n",
              "      <td>5.69</td>\n",
              "      <td>6.57</td>\n",
              "    </tr>\n",
              "    <tr>\n",
              "      <th rowspan=\"3\" valign=\"top\">Tesouro Prefixado</th>\n",
              "      <th>1. curto</th>\n",
              "      <td>1,089.00</td>\n",
              "      <td>6.95</td>\n",
              "      <td>3.66</td>\n",
              "      <td>1.95</td>\n",
              "      <td>4.66</td>\n",
              "      <td>6.48</td>\n",
              "      <td>7.25</td>\n",
              "      <td>14.20</td>\n",
              "    </tr>\n",
              "    <tr>\n",
              "      <th>2. medio</th>\n",
              "      <td>3,444.00</td>\n",
              "      <td>8.43</td>\n",
              "      <td>2.78</td>\n",
              "      <td>2.75</td>\n",
              "      <td>6.34</td>\n",
              "      <td>8.23</td>\n",
              "      <td>10.73</td>\n",
              "      <td>14.31</td>\n",
              "    </tr>\n",
              "    <tr>\n",
              "      <th>3. longo</th>\n",
              "      <td>804.00</td>\n",
              "      <td>9.38</td>\n",
              "      <td>2.37</td>\n",
              "      <td>5.96</td>\n",
              "      <td>7.06</td>\n",
              "      <td>9.05</td>\n",
              "      <td>11.79</td>\n",
              "      <td>13.80</td>\n",
              "    </tr>\n",
              "    <tr>\n",
              "      <th rowspan=\"3\" valign=\"top\">Tesouro Prefixado com Juros Semestrais</th>\n",
              "      <th>1. curto</th>\n",
              "      <td>437.00</td>\n",
              "      <td>8.11</td>\n",
              "      <td>5.40</td>\n",
              "      <td>1.89</td>\n",
              "      <td>2.19</td>\n",
              "      <td>11.93</td>\n",
              "      <td>13.78</td>\n",
              "      <td>14.20</td>\n",
              "    </tr>\n",
              "    <tr>\n",
              "      <th>2. medio</th>\n",
              "      <td>2,178.00</td>\n",
              "      <td>8.45</td>\n",
              "      <td>2.68</td>\n",
              "      <td>3.76</td>\n",
              "      <td>6.21</td>\n",
              "      <td>8.21</td>\n",
              "      <td>10.94</td>\n",
              "      <td>14.09</td>\n",
              "    </tr>\n",
              "    <tr>\n",
              "      <th>3. longo</th>\n",
              "      <td>3,198.00</td>\n",
              "      <td>9.53</td>\n",
              "      <td>2.13</td>\n",
              "      <td>5.93</td>\n",
              "      <td>7.44</td>\n",
              "      <td>9.32</td>\n",
              "      <td>11.55</td>\n",
              "      <td>13.82</td>\n",
              "    </tr>\n",
              "    <tr>\n",
              "      <th rowspan=\"3\" valign=\"top\">Tesouro Selic</th>\n",
              "      <th>1. curto</th>\n",
              "      <td>400.00</td>\n",
              "      <td>0.04</td>\n",
              "      <td>0.02</td>\n",
              "      <td>0.01</td>\n",
              "      <td>0.02</td>\n",
              "      <td>0.03</td>\n",
              "      <td>0.05</td>\n",
              "      <td>0.16</td>\n",
              "    </tr>\n",
              "    <tr>\n",
              "      <th>2. medio</th>\n",
              "      <td>2,562.00</td>\n",
              "      <td>0.09</td>\n",
              "      <td>0.07</td>\n",
              "      <td>0.01</td>\n",
              "      <td>0.03</td>\n",
              "      <td>0.05</td>\n",
              "      <td>0.15</td>\n",
              "      <td>0.38</td>\n",
              "    </tr>\n",
              "    <tr>\n",
              "      <th>3. longo</th>\n",
              "      <td>494.00</td>\n",
              "      <td>0.16</td>\n",
              "      <td>0.13</td>\n",
              "      <td>0.03</td>\n",
              "      <td>0.03</td>\n",
              "      <td>0.06</td>\n",
              "      <td>0.30</td>\n",
              "      <td>0.36</td>\n",
              "    </tr>\n",
              "  </tbody>\n",
              "</table>\n",
              "</div>\n",
              "      <button class=\"colab-df-convert\" onclick=\"convertToInteractive('df-b283b078-5301-4d1a-a874-59e725b423dd')\"\n",
              "              title=\"Convert this dataframe to an interactive table.\"\n",
              "              style=\"display:none;\">\n",
              "        \n",
              "  <svg xmlns=\"http://www.w3.org/2000/svg\" height=\"24px\"viewBox=\"0 0 24 24\"\n",
              "       width=\"24px\">\n",
              "    <path d=\"M0 0h24v24H0V0z\" fill=\"none\"/>\n",
              "    <path d=\"M18.56 5.44l.94 2.06.94-2.06 2.06-.94-2.06-.94-.94-2.06-.94 2.06-2.06.94zm-11 1L8.5 8.5l.94-2.06 2.06-.94-2.06-.94L8.5 2.5l-.94 2.06-2.06.94zm10 10l.94 2.06.94-2.06 2.06-.94-2.06-.94-.94-2.06-.94 2.06-2.06.94z\"/><path d=\"M17.41 7.96l-1.37-1.37c-.4-.4-.92-.59-1.43-.59-.52 0-1.04.2-1.43.59L10.3 9.45l-7.72 7.72c-.78.78-.78 2.05 0 2.83L4 21.41c.39.39.9.59 1.41.59.51 0 1.02-.2 1.41-.59l7.78-7.78 2.81-2.81c.8-.78.8-2.07 0-2.86zM5.41 20L4 18.59l7.72-7.72 1.47 1.35L5.41 20z\"/>\n",
              "  </svg>\n",
              "      </button>\n",
              "      \n",
              "  <style>\n",
              "    .colab-df-container {\n",
              "      display:flex;\n",
              "      flex-wrap:wrap;\n",
              "      gap: 12px;\n",
              "    }\n",
              "\n",
              "    .colab-df-convert {\n",
              "      background-color: #E8F0FE;\n",
              "      border: none;\n",
              "      border-radius: 50%;\n",
              "      cursor: pointer;\n",
              "      display: none;\n",
              "      fill: #1967D2;\n",
              "      height: 32px;\n",
              "      padding: 0 0 0 0;\n",
              "      width: 32px;\n",
              "    }\n",
              "\n",
              "    .colab-df-convert:hover {\n",
              "      background-color: #E2EBFA;\n",
              "      box-shadow: 0px 1px 2px rgba(60, 64, 67, 0.3), 0px 1px 3px 1px rgba(60, 64, 67, 0.15);\n",
              "      fill: #174EA6;\n",
              "    }\n",
              "\n",
              "    [theme=dark] .colab-df-convert {\n",
              "      background-color: #3B4455;\n",
              "      fill: #D2E3FC;\n",
              "    }\n",
              "\n",
              "    [theme=dark] .colab-df-convert:hover {\n",
              "      background-color: #434B5C;\n",
              "      box-shadow: 0px 1px 3px 1px rgba(0, 0, 0, 0.15);\n",
              "      filter: drop-shadow(0px 1px 2px rgba(0, 0, 0, 0.3));\n",
              "      fill: #FFFFFF;\n",
              "    }\n",
              "  </style>\n",
              "\n",
              "      <script>\n",
              "        const buttonEl =\n",
              "          document.querySelector('#df-b283b078-5301-4d1a-a874-59e725b423dd button.colab-df-convert');\n",
              "        buttonEl.style.display =\n",
              "          google.colab.kernel.accessAllowed ? 'block' : 'none';\n",
              "\n",
              "        async function convertToInteractive(key) {\n",
              "          const element = document.querySelector('#df-b283b078-5301-4d1a-a874-59e725b423dd');\n",
              "          const dataTable =\n",
              "            await google.colab.kernel.invokeFunction('convertToInteractive',\n",
              "                                                     [key], {});\n",
              "          if (!dataTable) return;\n",
              "\n",
              "          const docLinkHtml = 'Like what you see? Visit the ' +\n",
              "            '<a target=\"_blank\" href=https://colab.research.google.com/notebooks/data_table.ipynb>data table notebook</a>'\n",
              "            + ' to learn more about interactive tables.';\n",
              "          element.innerHTML = '';\n",
              "          dataTable['output_type'] = 'display_data';\n",
              "          await google.colab.output.renderOutput(dataTable, element);\n",
              "          const docLink = document.createElement('div');\n",
              "          docLink.innerHTML = docLinkHtml;\n",
              "          element.appendChild(docLink);\n",
              "        }\n",
              "      </script>\n",
              "    </div>\n",
              "  </div>\n",
              "  "
            ]
          },
          "metadata": {},
          "execution_count": 85
        }
      ]
    },
    {
      "cell_type": "markdown",
      "source": [
        "Nota-se que o título com maior desvio padrão são os título do tipo \"Prefixado\", o que possivelmente indica uma maior volatilidade (risco) dessa categoria de ativo. Esse tipo de característica é considerada importante nos casos de marcação a mercado, pois possibilita maior lucro (ou prejuízo)."
      ],
      "metadata": {
        "id": "RYvZ-M7JJosm"
      }
    },
    {
      "cell_type": "code",
      "source": [
        "# calculando a amplitude por tipo de título e de prazo\n",
        "max_titulo_prazo = pd.DataFrame(df_merge.groupby(['Tipo Titulo', 'Tipo Prazo']).describe()['Taxa Venda Manha']['max']).pivot_table(index='Tipo Titulo', columns='Tipo Prazo', values='max')\n",
        "min_titulo_prazo = pd.DataFrame(df_merge.groupby(['Tipo Titulo', 'Tipo Prazo']).describe()['Taxa Venda Manha']['min']).pivot_table(index='Tipo Titulo', columns='Tipo Prazo', values='min')\n",
        "max_titulo_prazo - min_titulo_prazo"
      ],
      "metadata": {
        "colab": {
          "base_uri": "https://localhost:8080/",
          "height": 269
        },
        "id": "oVWIIThxH1rI",
        "outputId": "6dcc9534-e0aa-4c9e-b5ef-8b3df2cc7543"
      },
      "execution_count": 86,
      "outputs": [
        {
          "output_type": "execute_result",
          "data": {
            "text/plain": [
              "Tipo Prazo                              1. curto  2. medio  3. longo\n",
              "Tipo Titulo                                                         \n",
              "Tesouro IGPM+ com Juros Semestrais          8.38      4.77      3.89\n",
              "Tesouro IPCA+                               5.15      6.06      4.43\n",
              "Tesouro IPCA+ com Juros Semestrais         10.13      6.19      4.55\n",
              "Tesouro Prefixado                          12.25     11.56      7.84\n",
              "Tesouro Prefixado com Juros Semestrais     12.31     10.33      7.89\n",
              "Tesouro Selic                               0.15      0.37      0.33"
            ],
            "text/html": [
              "\n",
              "  <div id=\"df-bda76c55-1c0e-4ffe-a745-43610be5079e\">\n",
              "    <div class=\"colab-df-container\">\n",
              "      <div>\n",
              "<style scoped>\n",
              "    .dataframe tbody tr th:only-of-type {\n",
              "        vertical-align: middle;\n",
              "    }\n",
              "\n",
              "    .dataframe tbody tr th {\n",
              "        vertical-align: top;\n",
              "    }\n",
              "\n",
              "    .dataframe thead th {\n",
              "        text-align: right;\n",
              "    }\n",
              "</style>\n",
              "<table border=\"1\" class=\"dataframe\">\n",
              "  <thead>\n",
              "    <tr style=\"text-align: right;\">\n",
              "      <th>Tipo Prazo</th>\n",
              "      <th>1. curto</th>\n",
              "      <th>2. medio</th>\n",
              "      <th>3. longo</th>\n",
              "    </tr>\n",
              "    <tr>\n",
              "      <th>Tipo Titulo</th>\n",
              "      <th></th>\n",
              "      <th></th>\n",
              "      <th></th>\n",
              "    </tr>\n",
              "  </thead>\n",
              "  <tbody>\n",
              "    <tr>\n",
              "      <th>Tesouro IGPM+ com Juros Semestrais</th>\n",
              "      <td>8.38</td>\n",
              "      <td>4.77</td>\n",
              "      <td>3.89</td>\n",
              "    </tr>\n",
              "    <tr>\n",
              "      <th>Tesouro IPCA+</th>\n",
              "      <td>5.15</td>\n",
              "      <td>6.06</td>\n",
              "      <td>4.43</td>\n",
              "    </tr>\n",
              "    <tr>\n",
              "      <th>Tesouro IPCA+ com Juros Semestrais</th>\n",
              "      <td>10.13</td>\n",
              "      <td>6.19</td>\n",
              "      <td>4.55</td>\n",
              "    </tr>\n",
              "    <tr>\n",
              "      <th>Tesouro Prefixado</th>\n",
              "      <td>12.25</td>\n",
              "      <td>11.56</td>\n",
              "      <td>7.84</td>\n",
              "    </tr>\n",
              "    <tr>\n",
              "      <th>Tesouro Prefixado com Juros Semestrais</th>\n",
              "      <td>12.31</td>\n",
              "      <td>10.33</td>\n",
              "      <td>7.89</td>\n",
              "    </tr>\n",
              "    <tr>\n",
              "      <th>Tesouro Selic</th>\n",
              "      <td>0.15</td>\n",
              "      <td>0.37</td>\n",
              "      <td>0.33</td>\n",
              "    </tr>\n",
              "  </tbody>\n",
              "</table>\n",
              "</div>\n",
              "      <button class=\"colab-df-convert\" onclick=\"convertToInteractive('df-bda76c55-1c0e-4ffe-a745-43610be5079e')\"\n",
              "              title=\"Convert this dataframe to an interactive table.\"\n",
              "              style=\"display:none;\">\n",
              "        \n",
              "  <svg xmlns=\"http://www.w3.org/2000/svg\" height=\"24px\"viewBox=\"0 0 24 24\"\n",
              "       width=\"24px\">\n",
              "    <path d=\"M0 0h24v24H0V0z\" fill=\"none\"/>\n",
              "    <path d=\"M18.56 5.44l.94 2.06.94-2.06 2.06-.94-2.06-.94-.94-2.06-.94 2.06-2.06.94zm-11 1L8.5 8.5l.94-2.06 2.06-.94-2.06-.94L8.5 2.5l-.94 2.06-2.06.94zm10 10l.94 2.06.94-2.06 2.06-.94-2.06-.94-.94-2.06-.94 2.06-2.06.94z\"/><path d=\"M17.41 7.96l-1.37-1.37c-.4-.4-.92-.59-1.43-.59-.52 0-1.04.2-1.43.59L10.3 9.45l-7.72 7.72c-.78.78-.78 2.05 0 2.83L4 21.41c.39.39.9.59 1.41.59.51 0 1.02-.2 1.41-.59l7.78-7.78 2.81-2.81c.8-.78.8-2.07 0-2.86zM5.41 20L4 18.59l7.72-7.72 1.47 1.35L5.41 20z\"/>\n",
              "  </svg>\n",
              "      </button>\n",
              "      \n",
              "  <style>\n",
              "    .colab-df-container {\n",
              "      display:flex;\n",
              "      flex-wrap:wrap;\n",
              "      gap: 12px;\n",
              "    }\n",
              "\n",
              "    .colab-df-convert {\n",
              "      background-color: #E8F0FE;\n",
              "      border: none;\n",
              "      border-radius: 50%;\n",
              "      cursor: pointer;\n",
              "      display: none;\n",
              "      fill: #1967D2;\n",
              "      height: 32px;\n",
              "      padding: 0 0 0 0;\n",
              "      width: 32px;\n",
              "    }\n",
              "\n",
              "    .colab-df-convert:hover {\n",
              "      background-color: #E2EBFA;\n",
              "      box-shadow: 0px 1px 2px rgba(60, 64, 67, 0.3), 0px 1px 3px 1px rgba(60, 64, 67, 0.15);\n",
              "      fill: #174EA6;\n",
              "    }\n",
              "\n",
              "    [theme=dark] .colab-df-convert {\n",
              "      background-color: #3B4455;\n",
              "      fill: #D2E3FC;\n",
              "    }\n",
              "\n",
              "    [theme=dark] .colab-df-convert:hover {\n",
              "      background-color: #434B5C;\n",
              "      box-shadow: 0px 1px 3px 1px rgba(0, 0, 0, 0.15);\n",
              "      filter: drop-shadow(0px 1px 2px rgba(0, 0, 0, 0.3));\n",
              "      fill: #FFFFFF;\n",
              "    }\n",
              "  </style>\n",
              "\n",
              "      <script>\n",
              "        const buttonEl =\n",
              "          document.querySelector('#df-bda76c55-1c0e-4ffe-a745-43610be5079e button.colab-df-convert');\n",
              "        buttonEl.style.display =\n",
              "          google.colab.kernel.accessAllowed ? 'block' : 'none';\n",
              "\n",
              "        async function convertToInteractive(key) {\n",
              "          const element = document.querySelector('#df-bda76c55-1c0e-4ffe-a745-43610be5079e');\n",
              "          const dataTable =\n",
              "            await google.colab.kernel.invokeFunction('convertToInteractive',\n",
              "                                                     [key], {});\n",
              "          if (!dataTable) return;\n",
              "\n",
              "          const docLinkHtml = 'Like what you see? Visit the ' +\n",
              "            '<a target=\"_blank\" href=https://colab.research.google.com/notebooks/data_table.ipynb>data table notebook</a>'\n",
              "            + ' to learn more about interactive tables.';\n",
              "          element.innerHTML = '';\n",
              "          dataTable['output_type'] = 'display_data';\n",
              "          await google.colab.output.renderOutput(dataTable, element);\n",
              "          const docLink = document.createElement('div');\n",
              "          docLink.innerHTML = docLinkHtml;\n",
              "          element.appendChild(docLink);\n",
              "        }\n",
              "      </script>\n",
              "    </div>\n",
              "  </div>\n",
              "  "
            ]
          },
          "metadata": {},
          "execution_count": 86
        }
      ]
    },
    {
      "cell_type": "markdown",
      "source": [
        "Acima podemos observar as amplitudes das taxas por tipo de prazo para cada título. Os títulos do tipo \"Prefixado\" apresentam o maior valor de amplitude, o que combinado com sua característica de maior desvio padrão, confirma sua característica de categoria mais volátil do grupo."
      ],
      "metadata": {
        "id": "FYZ5k6IwJiAV"
      }
    },
    {
      "cell_type": "code",
      "source": [
        "# exibindo as estatísticas descritivas dos demais atributos quantitativos\n",
        "df_merge.describe()[['Volume IBOV', 'Valor Dolar', 'Variação IBOV', 'Variação CDS']].applymap('{:,.2f}'.format)"
      ],
      "metadata": {
        "colab": {
          "base_uri": "https://localhost:8080/",
          "height": 300
        },
        "id": "_0hX8HrfG_Zt",
        "outputId": "306d2909-cff0-4348-88d7-a7922571f241"
      },
      "execution_count": 87,
      "outputs": [
        {
          "output_type": "execute_result",
          "data": {
            "text/plain": [
              "         Volume IBOV Valor Dolar Variação IBOV Variação CDS\n",
              "count      28,694.00   28,694.00     28,694.00    28,694.00\n",
              "mean    8,617,119.96        4.72          0.04         0.08\n",
              "std     4,080,040.44        0.76          1.77         3.57\n",
              "min       424,315.00        3.14        -14.78       -25.88\n",
              "25%     4,933,512.00        3.94         -0.79        -1.39\n",
              "50%     8,584,901.00        5.09          0.08        -0.01\n",
              "75%    11,476,269.00        5.34          0.98         1.27\n",
              "max    26,029,316.00        5.94         13.91        30.61"
            ],
            "text/html": [
              "\n",
              "  <div id=\"df-3008d286-3c61-4db0-baec-9a8c2227580d\">\n",
              "    <div class=\"colab-df-container\">\n",
              "      <div>\n",
              "<style scoped>\n",
              "    .dataframe tbody tr th:only-of-type {\n",
              "        vertical-align: middle;\n",
              "    }\n",
              "\n",
              "    .dataframe tbody tr th {\n",
              "        vertical-align: top;\n",
              "    }\n",
              "\n",
              "    .dataframe thead th {\n",
              "        text-align: right;\n",
              "    }\n",
              "</style>\n",
              "<table border=\"1\" class=\"dataframe\">\n",
              "  <thead>\n",
              "    <tr style=\"text-align: right;\">\n",
              "      <th></th>\n",
              "      <th>Volume IBOV</th>\n",
              "      <th>Valor Dolar</th>\n",
              "      <th>Variação IBOV</th>\n",
              "      <th>Variação CDS</th>\n",
              "    </tr>\n",
              "  </thead>\n",
              "  <tbody>\n",
              "    <tr>\n",
              "      <th>count</th>\n",
              "      <td>28,694.00</td>\n",
              "      <td>28,694.00</td>\n",
              "      <td>28,694.00</td>\n",
              "      <td>28,694.00</td>\n",
              "    </tr>\n",
              "    <tr>\n",
              "      <th>mean</th>\n",
              "      <td>8,617,119.96</td>\n",
              "      <td>4.72</td>\n",
              "      <td>0.04</td>\n",
              "      <td>0.08</td>\n",
              "    </tr>\n",
              "    <tr>\n",
              "      <th>std</th>\n",
              "      <td>4,080,040.44</td>\n",
              "      <td>0.76</td>\n",
              "      <td>1.77</td>\n",
              "      <td>3.57</td>\n",
              "    </tr>\n",
              "    <tr>\n",
              "      <th>min</th>\n",
              "      <td>424,315.00</td>\n",
              "      <td>3.14</td>\n",
              "      <td>-14.78</td>\n",
              "      <td>-25.88</td>\n",
              "    </tr>\n",
              "    <tr>\n",
              "      <th>25%</th>\n",
              "      <td>4,933,512.00</td>\n",
              "      <td>3.94</td>\n",
              "      <td>-0.79</td>\n",
              "      <td>-1.39</td>\n",
              "    </tr>\n",
              "    <tr>\n",
              "      <th>50%</th>\n",
              "      <td>8,584,901.00</td>\n",
              "      <td>5.09</td>\n",
              "      <td>0.08</td>\n",
              "      <td>-0.01</td>\n",
              "    </tr>\n",
              "    <tr>\n",
              "      <th>75%</th>\n",
              "      <td>11,476,269.00</td>\n",
              "      <td>5.34</td>\n",
              "      <td>0.98</td>\n",
              "      <td>1.27</td>\n",
              "    </tr>\n",
              "    <tr>\n",
              "      <th>max</th>\n",
              "      <td>26,029,316.00</td>\n",
              "      <td>5.94</td>\n",
              "      <td>13.91</td>\n",
              "      <td>30.61</td>\n",
              "    </tr>\n",
              "  </tbody>\n",
              "</table>\n",
              "</div>\n",
              "      <button class=\"colab-df-convert\" onclick=\"convertToInteractive('df-3008d286-3c61-4db0-baec-9a8c2227580d')\"\n",
              "              title=\"Convert this dataframe to an interactive table.\"\n",
              "              style=\"display:none;\">\n",
              "        \n",
              "  <svg xmlns=\"http://www.w3.org/2000/svg\" height=\"24px\"viewBox=\"0 0 24 24\"\n",
              "       width=\"24px\">\n",
              "    <path d=\"M0 0h24v24H0V0z\" fill=\"none\"/>\n",
              "    <path d=\"M18.56 5.44l.94 2.06.94-2.06 2.06-.94-2.06-.94-.94-2.06-.94 2.06-2.06.94zm-11 1L8.5 8.5l.94-2.06 2.06-.94-2.06-.94L8.5 2.5l-.94 2.06-2.06.94zm10 10l.94 2.06.94-2.06 2.06-.94-2.06-.94-.94-2.06-.94 2.06-2.06.94z\"/><path d=\"M17.41 7.96l-1.37-1.37c-.4-.4-.92-.59-1.43-.59-.52 0-1.04.2-1.43.59L10.3 9.45l-7.72 7.72c-.78.78-.78 2.05 0 2.83L4 21.41c.39.39.9.59 1.41.59.51 0 1.02-.2 1.41-.59l7.78-7.78 2.81-2.81c.8-.78.8-2.07 0-2.86zM5.41 20L4 18.59l7.72-7.72 1.47 1.35L5.41 20z\"/>\n",
              "  </svg>\n",
              "      </button>\n",
              "      \n",
              "  <style>\n",
              "    .colab-df-container {\n",
              "      display:flex;\n",
              "      flex-wrap:wrap;\n",
              "      gap: 12px;\n",
              "    }\n",
              "\n",
              "    .colab-df-convert {\n",
              "      background-color: #E8F0FE;\n",
              "      border: none;\n",
              "      border-radius: 50%;\n",
              "      cursor: pointer;\n",
              "      display: none;\n",
              "      fill: #1967D2;\n",
              "      height: 32px;\n",
              "      padding: 0 0 0 0;\n",
              "      width: 32px;\n",
              "    }\n",
              "\n",
              "    .colab-df-convert:hover {\n",
              "      background-color: #E2EBFA;\n",
              "      box-shadow: 0px 1px 2px rgba(60, 64, 67, 0.3), 0px 1px 3px 1px rgba(60, 64, 67, 0.15);\n",
              "      fill: #174EA6;\n",
              "    }\n",
              "\n",
              "    [theme=dark] .colab-df-convert {\n",
              "      background-color: #3B4455;\n",
              "      fill: #D2E3FC;\n",
              "    }\n",
              "\n",
              "    [theme=dark] .colab-df-convert:hover {\n",
              "      background-color: #434B5C;\n",
              "      box-shadow: 0px 1px 3px 1px rgba(0, 0, 0, 0.15);\n",
              "      filter: drop-shadow(0px 1px 2px rgba(0, 0, 0, 0.3));\n",
              "      fill: #FFFFFF;\n",
              "    }\n",
              "  </style>\n",
              "\n",
              "      <script>\n",
              "        const buttonEl =\n",
              "          document.querySelector('#df-3008d286-3c61-4db0-baec-9a8c2227580d button.colab-df-convert');\n",
              "        buttonEl.style.display =\n",
              "          google.colab.kernel.accessAllowed ? 'block' : 'none';\n",
              "\n",
              "        async function convertToInteractive(key) {\n",
              "          const element = document.querySelector('#df-3008d286-3c61-4db0-baec-9a8c2227580d');\n",
              "          const dataTable =\n",
              "            await google.colab.kernel.invokeFunction('convertToInteractive',\n",
              "                                                     [key], {});\n",
              "          if (!dataTable) return;\n",
              "\n",
              "          const docLinkHtml = 'Like what you see? Visit the ' +\n",
              "            '<a target=\"_blank\" href=https://colab.research.google.com/notebooks/data_table.ipynb>data table notebook</a>'\n",
              "            + ' to learn more about interactive tables.';\n",
              "          element.innerHTML = '';\n",
              "          dataTable['output_type'] = 'display_data';\n",
              "          await google.colab.output.renderOutput(dataTable, element);\n",
              "          const docLink = document.createElement('div');\n",
              "          docLink.innerHTML = docLinkHtml;\n",
              "          element.appendChild(docLink);\n",
              "        }\n",
              "      </script>\n",
              "    </div>\n",
              "  </div>\n",
              "  "
            ]
          },
          "metadata": {},
          "execution_count": 87
        }
      ]
    },
    {
      "cell_type": "markdown",
      "source": [
        "Acima o resumo estatísticos dos demais atributos quantitativos do dataset. Chama a atenção os valores do atributo \"Variação CDS\", onde podemos notar como o desvio padrão é relativamente alto em relação à média e como o terceiro quartil está distante do valor máximo, indicando que esse provavelmente é um indicador bastante volátil."
      ],
      "metadata": {
        "id": "SW58ChDUK3a3"
      }
    },
    {
      "cell_type": "markdown",
      "source": [
        "### Visualizações Unimodais"
      ],
      "metadata": {
        "id": "mWK7ymIaMKPJ"
      }
    },
    {
      "cell_type": "code",
      "source": [
        "# exibindo o histograma do atributo 'Taxa Venda Manha'\n",
        "#df_merge.groupby('Tipo Titulo')['Taxa Venda Manha'].hist(figsize = (15,10), edgecolor='black', bins=8)\n",
        "#df_taxas = df_merge.pivot_table(index=['Data Base', 'Tipo Titulo'], columns=['Tipo Prazo'], values='Taxa Venda Manha')\n",
        "#df_taxas.hist(figsize=(15,10), edgecolor='black', bins=8)\n",
        "\n",
        "df_tipo_titulos = {}\n",
        "\n",
        "for titulo in df_merge['Tipo Titulo'].unique():\n",
        "  df_tipo_titulos[titulo] = df_merge[df_merge['Tipo Titulo'] == titulo].pivot_table(index=['Data Base'], columns='Tipo Prazo', values='Taxa Venda Manha')\n",
        "\n",
        "# df_prefixados = df_merge[df_merge['Tipo Titulo'] == 'Tesouro Prefixado'].pivot_table(index=['Data Base'], columns='Tipo Prazo', values='Taxa Venda Manha')\n",
        "# df_prefixados_sem = df_merge[df_merge['Tipo Titulo'] == 'Tesouro Prefixado com Juros Semestrais'].pivot_table(index=['Data Base'], columns='Tipo Prazo', values='Taxa Venda Manha')\n",
        "# df_ipca = df_merge[df_merge['Tipo Titulo'] == 'Tesouro IPCA+'].pivot_table(index=['Data Base'], columns='Tipo Prazo', values='Taxa Venda Manha')\n",
        "# df_ipca_sem = df_merge[df_merge['Tipo Titulo'] == 'Tesouro IPCA+ com Juros Semestrais'].pivot_table(index=['Data Base'], columns='Tipo Prazo', values='Taxa Venda Manha')\n",
        "# df_selic = df_merge[df_merge['Tipo Titulo'] == 'Tesouro Selic'].pivot_table(index=['Data Base'], columns='Tipo Prazo', values='Taxa Venda Manha')\n",
        "# df_igpm_sem = df_merge[df_merge['Tipo Titulo'] == 'Tesouro IGPM+ com Juros Semestrais'].pivot_table(index=['Data Base'], columns='Tipo Prazo', values='Taxa Venda Manha')"
      ],
      "metadata": {
        "id": "LOATW9vkwNrV"
      },
      "execution_count": 88,
      "outputs": []
    },
    {
      "cell_type": "code",
      "source": [
        "n_titulos = len(df_merge['Tipo Titulo'].unique())\n",
        "\n",
        "cont = 0\n",
        "fig = plt.figure(constrained_layout = True, figsize=(10,10))\n",
        "\n",
        "ax =[]\n",
        "\n",
        "subfigs = fig.subfigures(n_titulos, 1)\n",
        "\n",
        "for titulo, dados in df_tipo_titulos.items():\n",
        "  ax.append(subfigs[cont].subplots(1,1))\n",
        "  dados.plot(kind='hist', subplots=True, figsize=(12,4), layout=(2,3), edgecolor='black',sharex=True, sharey=True, bins=8, grid=True, ax = ax[cont])\n",
        "  subfigs[cont].suptitle(titulo)\n",
        "  cont += 1"
      ],
      "metadata": {
        "id": "WemipUpwxRlF",
        "colab": {
          "base_uri": "https://localhost:8080/",
          "height": 970
        },
        "outputId": "92fcd864-fa78-4035-c235-6b6a76eaf2dc"
      },
      "execution_count": 89,
      "outputs": [
        {
          "output_type": "display_data",
          "data": {
            "text/plain": [
              "<Figure size 1000x1000 with 36 Axes>"
            ],
            "image/png": "[encoded data removed]"
          },
          "metadata": {}
        }
      ]
    },
    {
      "cell_type": "code",
      "source": [
        "# exibindo os boxplots dos atributos quantitativos\n",
        "df_prefixados.plot(kind = 'box', subplots = True, layout = (1,3), sharex = False, sharey = False, figsize = (12,4), grid=True)\n",
        "plt.suptitle('Boxplot Tesouro Prefixado')\n",
        "plt.show()"
      ],
      "metadata": {
        "id": "TW48E7TW0cFK",
        "colab": {
          "base_uri": "https://localhost:8080/",
          "height": 408
        },
        "outputId": "cd20c4ca-af02-411b-b976-df86f5f116cf"
      },
      "execution_count": 90,
      "outputs": [
        {
          "output_type": "display_data",
          "data": {
            "text/plain": [
              "<Figure size 1200x400 with 3 Axes>"
            ],
            "image/png": "[encoded data removed]"
          },
          "metadata": {}
        }
      ]
    },
    {
      "cell_type": "markdown",
      "source": [
        "Ambos os gráficos indicam que as taxas de maior frequência, e consequentemente de maior probabilidade de ocorrência de acordo com o histórico, são aquelas cujos valores estão entre 0 e 10."
      ],
      "metadata": {
        "id": "nSkfqZZazgzN"
      }
    },
    {
      "cell_type": "markdown",
      "source": [
        "Nos boxplots acima, chama a atenção os gráficos de variação (IBOV e CDS) com característica \"espremida\", exibindo uma grande quantidade de outliers (dados discrepantes da maioria) nos conjuntos de dados. Como já comentado anteriormente, tais dados não podem ser considerados inputs errados pela própria natureza dos datasets. \n",
        "\n",
        "Nesse caso, não é prudente eliminar tais registros, uma vez que eles provavelmente capturam uma parte do comportamento real dos atributos. O que poderá ser feito posteriormente é testar um tratamento à parte desses outliers junto aos modelos estatísticos para avaliar qual a melhor opção."
      ],
      "metadata": {
        "id": "OMOz-7zCTFtu"
      }
    },
    {
      "cell_type": "markdown",
      "source": [
        "### Visualizações Multimodais"
      ],
      "metadata": {
        "id": "Tdty91zuVVBy"
      }
    },
    {
      "cell_type": "code",
      "source": [
        "# matriz de correlação dos atributos\n",
        "plt.figure(figsize = (10,6))\n",
        "sns.heatmap(df_merge.corr(), annot=True, cmap='RdBu', vmin=-1, vmax=1);"
      ],
      "metadata": {
        "id": "QNJkrzEiSoPc",
        "colab": {
          "base_uri": "https://localhost:8080/",
          "height": 528
        },
        "outputId": "23051eeb-315b-47e7-8192-68e586dd35ac"
      },
      "execution_count": 91,
      "outputs": [
        {
          "output_type": "display_data",
          "data": {
            "text/plain": [
              "<Figure size 1000x600 with 2 Axes>"
            ],
            "image/png": "[encoded data removed]"
          },
          "metadata": {}
        }
      ]
    },
    {
      "cell_type": "markdown",
      "source": [
        "No gráfico acima, é possível observar uma forte correlação positiva entre os atributos \"Volume IBOV\" e \"Valor Dolar\", bem como uma forte correlação negativa entre os atributos \"Variação IBOV\" e \"Variação CDS\"."
      ],
      "metadata": {
        "id": "Stv9JR91Wjoa"
      }
    }
  ]
}