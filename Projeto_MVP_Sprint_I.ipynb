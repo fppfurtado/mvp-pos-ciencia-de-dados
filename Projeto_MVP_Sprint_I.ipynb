{
  "nbformat": 4,
  "nbformat_minor": 0,
  "metadata": {
    "colab": {
      "provenance": [],
      "toc_visible": true,
      "authorship_tag": "ABX9TyPJmGZC5nj0paWt+exH2Y7p",
      "include_colab_link": true
    },
    "kernelspec": {
      "name": "python3",
      "display_name": "Python 3"
    },
    "language_info": {
      "name": "python"
    }
  },
  "cells": [
    {
      "cell_type": "markdown",
      "metadata": {
        "id": "view-in-github",
        "colab_type": "text"
      },
      "source": [
        "<a href=\"https://colab.research.google.com/github/fppfurtado/mvp-pos-ciencia-de-dados/blob/main/Projeto_MVP_Preditor_de_Taxas_de_T%C3%ADtulos_P%C3%BAblicos_Federais.ipynb\" target=\"_parent\"><img src=\"https://colab.research.google.com/assets/colab-badge.svg\" alt=\"Open In Colab\"/></a>"
      ]
    },
    {
      "cell_type": "markdown",
      "source": [
        "# 1. Definição do Problema"
      ],
      "metadata": {
        "id": "T_tMpsNA_uvw"
      }
    },
    {
      "cell_type": "markdown",
      "source": [
        "## Objetivo\n",
        "O presente projeto tem como objetivo a construção de um modelo de regressão linear para auxiliar o investidor a decidir o melhor momento de marcar a mercado seu título público, prevendo as taxas de juros ofertadas por títulos públicos federais - e, consequentemente, seus preços unitários - a partir dos valores da taxa de câmbio dolar/real (Ptax), do índice IBOVESPA e do CDS Brasil 5 anos."
      ],
      "metadata": {
        "id": "UFGSQtlOmUJw"
      }
    },
    {
      "cell_type": "markdown",
      "source": [
        "## Títulos Públicos Federais\n",
        "Títulos Públicos Federais são títulos de dívida emitidos pelo Governo Federal para financiar suas atvidades captando recursos de particulares em troca de pagamento de juros sobre um capital aplicado. Na prática, são **ativos de renda fixa** que possuem preço, taxa e vencimento definidos, e que podem ser adquiridos por investidores interessados.\n",
        "\n",
        "Esses ativos possuem liquidez diária, podendo o investidor solicitar o resgate a qualquer tempo (durante o horário de funcionamento do mercado de títulos publicos), porém nesse caso o valor utilizado para o cálculo da rentabilidade será o **valor de mercado do título** no dia da solicitação de resgate, a chamada **Marcação a Mercado**, que pode fazer com que o investidor tenha ou lucro acima do esperado ou prejuízo no resgate antecipado.\n",
        "\n",
        "O preço dos títulos públicos variam em função das respectivas taxas ofertadas. E as taxas variam diariamente, basicamente, em função da percepção de risco do mercado em relação à economia do país. Por isso, após alguma notícia negativa no cenário econômico, é comum observar fenômenos como \"queda na bolsa\", \"alta no dolar\" e \"alta nos juros\" pagos pelos títulos públicos federais."
      ],
      "metadata": {
        "id": "w7ACF_sL_5eg"
      }
    },
    {
      "cell_type": "markdown",
      "source": [
        "## IBOVESPA\n",
        "O Ibovespa é o principal indicador de desempenho das ações negociadas na B3 e reúne as empresas mais importantes do mercado de capitais brasileiro. Foi criado em 1968 e, ao longo desses 50 anos, consolidou-se como referência para investidores ao redor do mundo.\n",
        "\n",
        "Reavaliado a cada quatro meses, o índice é resultado de uma carteira teórica de ativos. É composto pelas ações e units de companhias listadas na B3 que atendem aos critérios descritos na sua metodologia, correspondendo a cerca de 80% do número de negócios e do volume financeiro do nosso mercado de capitais.\n",
        "\n",
        "Fonte: https://www.b3.com.br/pt_br/market-data-e-indices/indices/indices-amplos/ibovespa.htm"
      ],
      "metadata": {
        "id": "MM4EpINobbYj"
      }
    },
    {
      "cell_type": "markdown",
      "source": [
        "## PTax\n",
        "Ptax é uma taxa de câmbio calculada durante o dia pelo Banco Central do Brasil. Consiste na média das taxas de compra e de venda informadas pelas instituições financeiras durante 4 janelas do dia. É a taxa de referencia para o valor do dólar de D2 (em dois dias úteis). Normalmente, os contratos de derivativos de câmbio são liquidados com base na PTAX divulgada para o dia útil anterior.\n",
        "\n",
        "Fonte: https://pt.wikipedia.org/wiki/Ptax"
      ],
      "metadata": {
        "id": "nGEvjtSXcu6F"
      }
    },
    {
      "cell_type": "markdown",
      "source": [
        "## CDS Brasil\n",
        "CDS (credit default swap) é a troca de risco de crédito. O CDS é um contrato derivativo que funciona como um seguro para quem empresta dinheiro. Por levar em sua precificação o risco de inadimplência do tomador do empréstimo, o CDS é muito usado como termômetro para o risco de um país.\n",
        "\n",
        "Fonte: https://inteligenciafinanceira.com.br/glossario/credit-default-swap-cds-risco-pais/"
      ],
      "metadata": {
        "id": "LFvsvBlHdnUq"
      }
    },
    {
      "cell_type": "markdown",
      "source": [
        "# 2. Coleta e Análise de Dados"
      ],
      "metadata": {
        "id": "Ll6MNI-cM8l0"
      }
    },
    {
      "cell_type": "markdown",
      "source": [
        "## Importação de Pacotes e Módulos"
      ],
      "metadata": {
        "id": "s7ZM_BIENL1s"
      }
    },
    {
      "cell_type": "code",
      "execution_count": 395,
      "metadata": {
        "id": "EwubgFHWkonG"
      },
      "outputs": [],
      "source": [
        "# Importando pacotes\n",
        "import numpy as np\n",
        "import pandas as pd\n",
        "import matplotlib.pyplot as plt\n",
        "import matplotlib.gridspec as gridspec\n",
        "import seaborn as sns\n",
        "import warnings"
      ]
    },
    {
      "cell_type": "markdown",
      "source": [
        "## Configurações prévias"
      ],
      "metadata": {
        "id": "kIUgiz8SNZfv"
      }
    },
    {
      "cell_type": "code",
      "source": [
        "# Suprimindo warnings\n",
        "warnings.filterwarnings('ignore')"
      ],
      "metadata": {
        "id": "_Jo7YMsJbyrY"
      },
      "execution_count": 396,
      "outputs": []
    },
    {
      "cell_type": "markdown",
      "source": [
        "## Carregamento e Preparação\n",
        "\n",
        "Serão carregados os datasets dos dados históricos das quatro variáveis econômicas que serão tratadas posteriormente pelo modelo de regressão linear: \n",
        "\n",
        "+ taxas e preços de título públicos federais\n",
        "+ taxa de câmbio PTax\n",
        "+ índice IBOVESPA\n",
        "+ CDS Brasil 5 anos."
      ],
      "metadata": {
        "id": "iXyuMhkcNfd2"
      }
    },
    {
      "cell_type": "code",
      "source": [
        "# Carregando o histórico de preços de preços e taxas de títulos públicos\n",
        "historico_titulos = pd.read_csv('https://github.com/fppfurtado/mvp-pos-ciencia-de-dados/raw/main/DADOS/historico_titulos.csv', decimal = ',')\n",
        "# Carregando o histórico do índice IBOVESPA\n",
        "historico_ibov = pd.read_csv('https://raw.githubusercontent.com/fppfurtado/mvp-pos-ciencia-de-dados/main/DADOS/historico_ibov.csv', decimal = ',')\n",
        "# Carregando o histórico da taxa de câmbio PTax\n",
        "historico_ptax = pd.read_csv('https://raw.githubusercontent.com/fppfurtado/mvp-pos-ciencia-de-dados/main/DADOS/historico_ptax.csv', decimal = ',')\n",
        "# Carregando o histórico do CDS Brasil 5 Anos\n",
        "historico_cds5y = pd.read_csv('https://raw.githubusercontent.com/fppfurtado/mvp-pos-ciencia-de-dados/main/DADOS/historico_csd5y.csv', decimal = ',')"
      ],
      "metadata": {
        "id": "Fy0GsKZymblK"
      },
      "execution_count": 397,
      "outputs": []
    },
    {
      "cell_type": "markdown",
      "source": [
        "Cada dataset possui um conjunto de atributos próprio, muitos dos quais não serão relevantes em nosso projeto. Por esse motivo, selecionaremos apenas os atributos relevantes e faremos a junção em um dataset final de trabalho utilizando como chave os atributos temporais (datas)."
      ],
      "metadata": {
        "id": "tSXzXRFj8Ltp"
      }
    },
    {
      "cell_type": "code",
      "source": [
        "# exibindo os nomes das colunas (atributos) dos datasets\n",
        "print('atributos titulos:', historico_titulos.columns, '\\n')\n",
        "print('atributos ibov:', historico_ibov.columns, '\\n')\n",
        "print('atributos ptax:', historico_ptax.columns, '\\n')\n",
        "print('atributos cds5y:', historico_cds5y.columns, '\\n')"
      ],
      "metadata": {
        "colab": {
          "base_uri": "https://localhost:8080/"
        },
        "id": "v48c8ATl9Lux",
        "outputId": "47bc645f-54ab-41ed-f113-692d719162d9"
      },
      "execution_count": 398,
      "outputs": [
        {
          "output_type": "stream",
          "name": "stdout",
          "text": [
            "atributos titulos: Index(['Tipo Titulo', 'Data Vencimento', 'Data Base', 'Taxa Compra Manha',\n",
            "       'Taxa Venda Manha', 'PU Compra Manha', 'PU Venda Manha',\n",
            "       'PU Base Manha'],\n",
            "      dtype='object') \n",
            "\n",
            "atributos ibov: Index(['direction_color', 'rowDate', 'rowDateRaw', 'rowDateTimestamp',\n",
            "       'last_close', 'last_open', 'last_max', 'last_min', 'volume',\n",
            "       'volumeRaw', 'change_precent', 'last_closeRaw', 'last_openRaw',\n",
            "       'last_maxRaw', 'last_minRaw', 'change_precentRaw'],\n",
            "      dtype='object') \n",
            "\n",
            "atributos ptax: Index(['data', 'valor'], dtype='object') \n",
            "\n",
            "atributos cds5y: Index(['direction_color', 'rowDate', 'rowDateRaw', 'rowDateTimestamp',\n",
            "       'last_close', 'last_open', 'last_max', 'last_min', 'volume',\n",
            "       'volumeRaw', 'change_precent', 'last_closeRaw', 'last_openRaw',\n",
            "       'last_maxRaw', 'last_minRaw', 'change_precentRaw'],\n",
            "      dtype='object') \n",
            "\n"
          ]
        }
      ]
    },
    {
      "cell_type": "markdown",
      "source": [
        "Para o histórico de títulos públicos, selecionaremos os atributos: Tipo Titulo, Data Vencimento, Data Base, Taxa Venda Manha."
      ],
      "metadata": {
        "id": "I_8gBtW6-roO"
      }
    },
    {
      "cell_type": "code",
      "source": [
        "# reduzindo o dataset historico_titulos por meio da seleção de atributos relevantes\n",
        "historico_titulos = historico_titulos[['Tipo Titulo', 'Data Vencimento', 'Data Base', 'Taxa Venda Manha']]"
      ],
      "metadata": {
        "id": "vOJHT_co_BaM"
      },
      "execution_count": 399,
      "outputs": []
    },
    {
      "cell_type": "markdown",
      "source": [
        "Para o histórico do Ibovespa, selecionaremos os atributos: rowDate, volumeRaw, change_precent."
      ],
      "metadata": {
        "id": "LLRlJiYe_m0z"
      }
    },
    {
      "cell_type": "code",
      "source": [
        "# reduzindo o dataset historico_ibov por meio da seleção de atributos relevantes\n",
        "historico_ibov = historico_ibov[['rowDate', 'volumeRaw', 'change_precent']]"
      ],
      "metadata": {
        "id": "ew6i34mn_1z0"
      },
      "execution_count": 400,
      "outputs": []
    },
    {
      "cell_type": "markdown",
      "source": [
        "Para o histórico da taxa de câmbio, como são apenas dois atributos, manteremos a mesma configuração."
      ],
      "metadata": {
        "id": "3KBSd2ICDWsX"
      }
    },
    {
      "cell_type": "markdown",
      "source": [
        "Para o histórico do CDS Brasil 5 Anos, selecionaremos os atributos: rowDate, volumeRaw e change_precent."
      ],
      "metadata": {
        "id": "wEFans3GDtoA"
      }
    },
    {
      "cell_type": "code",
      "source": [
        "# reduzindo o dataset historico_csd5y por meio da seleção de atributos relevantes\n",
        "historico_cds5y = historico_cds5y[['rowDate', 'change_precent']]"
      ],
      "metadata": {
        "id": "lMVLfplOEAcn"
      },
      "execution_count": 401,
      "outputs": []
    },
    {
      "cell_type": "markdown",
      "source": [
        "Vamos garantir que os atributos temporais que sequenciam as séries históricas estejam armazenados como data, a fim de utilizá-los como chaves na junção dos datasets."
      ],
      "metadata": {
        "id": "I6eGvgKxEayI"
      }
    },
    {
      "cell_type": "code",
      "source": [
        "# ajustando tipos dos atributos temporais\n",
        "historico_titulos['Data Base'] = historico_titulos['Data Base'].astype('datetime64')\n",
        "historico_ibov['rowDate'] = historico_ibov['rowDate'].astype('datetime64')\n",
        "historico_ptax['data'] = historico_ptax['data'].astype('datetime64')\n",
        "historico_cds5y['rowDate'] = historico_cds5y['rowDate'].astype('datetime64')"
      ],
      "metadata": {
        "id": "6ikWOqF9FKCN"
      },
      "execution_count": 402,
      "outputs": []
    },
    {
      "cell_type": "markdown",
      "source": [
        "Vamos agora juntar os datasets com base nos atributos temporais."
      ],
      "metadata": {
        "id": "F11wT-iGH9_6"
      }
    },
    {
      "cell_type": "code",
      "source": [
        "# mesclando o historico de titulos com o historico ibov com base em atributo de data\n",
        "df_merge = pd.merge(historico_titulos, historico_ibov, left_on='Data Base', right_on='rowDate', suffixes=('_titulos', '_ibov'))\n",
        "# mesclando o dataset df_merge com o historico ptax com base em atributo de data\n",
        "df_merge = pd.merge(df_merge, historico_ptax, left_on='Data Base', right_on='data', suffixes=('_titulos', '_ptax'))\n",
        "# mesclando o dataset df_merge com o historico CDS 5 anos com base em atributo de data\n",
        "df_merge = pd.merge(df_merge, historico_cds5y, left_on='Data Base', right_on='rowDate', suffixes=('_ibov', '_cds'))\n",
        "# exibindo as primeiras linhas para visualização do resultado\n",
        "df_merge.head(5)"
      ],
      "metadata": {
        "colab": {
          "base_uri": "https://localhost:8080/",
          "height": 250
        },
        "id": "1Z4wMlcDICm3",
        "outputId": "03fa5948-1196-44b4-aa00-e0712f261971"
      },
      "execution_count": 403,
      "outputs": [
        {
          "output_type": "execute_result",
          "data": {
            "text/plain": [
              "                              Tipo Titulo Data Vencimento  Data Base  \\\n",
              "0  Tesouro Prefixado com Juros Semestrais      2029-01-01 2020-12-17   \n",
              "1                           Tesouro IPCA+      2026-08-15 2020-12-17   \n",
              "2                           Tesouro IPCA+      2024-08-15 2020-12-17   \n",
              "3      Tesouro IGPM+ com Juros Semestrais      2021-04-01 2020-12-17   \n",
              "4                       Tesouro Prefixado      2023-01-01 2020-12-17   \n",
              "\n",
              "  Taxa Venda Manha rowDate_ibov  volumeRaw change_precent_ibov       data  \\\n",
              "0             6.97   2020-12-17    7701390                0.46 2020-12-17   \n",
              "1             2.54   2020-12-17    7701390                0.46 2020-12-17   \n",
              "2             1.79   2020-12-17    7701390                0.46 2020-12-17   \n",
              "3             -0.3   2020-12-17    7701390                0.46 2020-12-17   \n",
              "4             4.61   2020-12-17    7701390                0.46 2020-12-17   \n",
              "\n",
              "    valor rowDate_cds change_precent_cds  \n",
              "0  5.0606  2020-12-17              -1.26  \n",
              "1  5.0606  2020-12-17              -1.26  \n",
              "2  5.0606  2020-12-17              -1.26  \n",
              "3  5.0606  2020-12-17              -1.26  \n",
              "4  5.0606  2020-12-17              -1.26  "
            ],
            "text/html": [
              "\n",
              "  <div id=\"df-ecad6441-2325-4316-af9f-f43b4b18956c\">\n",
              "    <div class=\"colab-df-container\">\n",
              "      <div>\n",
              "<style scoped>\n",
              "    .dataframe tbody tr th:only-of-type {\n",
              "        vertical-align: middle;\n",
              "    }\n",
              "\n",
              "    .dataframe tbody tr th {\n",
              "        vertical-align: top;\n",
              "    }\n",
              "\n",
              "    .dataframe thead th {\n",
              "        text-align: right;\n",
              "    }\n",
              "</style>\n",
              "<table border=\"1\" class=\"dataframe\">\n",
              "  <thead>\n",
              "    <tr style=\"text-align: right;\">\n",
              "      <th></th>\n",
              "      <th>Tipo Titulo</th>\n",
              "      <th>Data Vencimento</th>\n",
              "      <th>Data Base</th>\n",
              "      <th>Taxa Venda Manha</th>\n",
              "      <th>rowDate_ibov</th>\n",
              "      <th>volumeRaw</th>\n",
              "      <th>change_precent_ibov</th>\n",
              "      <th>data</th>\n",
              "      <th>valor</th>\n",
              "      <th>rowDate_cds</th>\n",
              "      <th>change_precent_cds</th>\n",
              "    </tr>\n",
              "  </thead>\n",
              "  <tbody>\n",
              "    <tr>\n",
              "      <th>0</th>\n",
              "      <td>Tesouro Prefixado com Juros Semestrais</td>\n",
              "      <td>2029-01-01</td>\n",
              "      <td>2020-12-17</td>\n",
              "      <td>6.97</td>\n",
              "      <td>2020-12-17</td>\n",
              "      <td>7701390</td>\n",
              "      <td>0.46</td>\n",
              "      <td>2020-12-17</td>\n",
              "      <td>5.0606</td>\n",
              "      <td>2020-12-17</td>\n",
              "      <td>-1.26</td>\n",
              "    </tr>\n",
              "    <tr>\n",
              "      <th>1</th>\n",
              "      <td>Tesouro IPCA+</td>\n",
              "      <td>2026-08-15</td>\n",
              "      <td>2020-12-17</td>\n",
              "      <td>2.54</td>\n",
              "      <td>2020-12-17</td>\n",
              "      <td>7701390</td>\n",
              "      <td>0.46</td>\n",
              "      <td>2020-12-17</td>\n",
              "      <td>5.0606</td>\n",
              "      <td>2020-12-17</td>\n",
              "      <td>-1.26</td>\n",
              "    </tr>\n",
              "    <tr>\n",
              "      <th>2</th>\n",
              "      <td>Tesouro IPCA+</td>\n",
              "      <td>2024-08-15</td>\n",
              "      <td>2020-12-17</td>\n",
              "      <td>1.79</td>\n",
              "      <td>2020-12-17</td>\n",
              "      <td>7701390</td>\n",
              "      <td>0.46</td>\n",
              "      <td>2020-12-17</td>\n",
              "      <td>5.0606</td>\n",
              "      <td>2020-12-17</td>\n",
              "      <td>-1.26</td>\n",
              "    </tr>\n",
              "    <tr>\n",
              "      <th>3</th>\n",
              "      <td>Tesouro IGPM+ com Juros Semestrais</td>\n",
              "      <td>2021-04-01</td>\n",
              "      <td>2020-12-17</td>\n",
              "      <td>-0.3</td>\n",
              "      <td>2020-12-17</td>\n",
              "      <td>7701390</td>\n",
              "      <td>0.46</td>\n",
              "      <td>2020-12-17</td>\n",
              "      <td>5.0606</td>\n",
              "      <td>2020-12-17</td>\n",
              "      <td>-1.26</td>\n",
              "    </tr>\n",
              "    <tr>\n",
              "      <th>4</th>\n",
              "      <td>Tesouro Prefixado</td>\n",
              "      <td>2023-01-01</td>\n",
              "      <td>2020-12-17</td>\n",
              "      <td>4.61</td>\n",
              "      <td>2020-12-17</td>\n",
              "      <td>7701390</td>\n",
              "      <td>0.46</td>\n",
              "      <td>2020-12-17</td>\n",
              "      <td>5.0606</td>\n",
              "      <td>2020-12-17</td>\n",
              "      <td>-1.26</td>\n",
              "    </tr>\n",
              "  </tbody>\n",
              "</table>\n",
              "</div>\n",
              "      <button class=\"colab-df-convert\" onclick=\"convertToInteractive('df-ecad6441-2325-4316-af9f-f43b4b18956c')\"\n",
              "              title=\"Convert this dataframe to an interactive table.\"\n",
              "              style=\"display:none;\">\n",
              "        \n",
              "  <svg xmlns=\"http://www.w3.org/2000/svg\" height=\"24px\"viewBox=\"0 0 24 24\"\n",
              "       width=\"24px\">\n",
              "    <path d=\"M0 0h24v24H0V0z\" fill=\"none\"/>\n",
              "    <path d=\"M18.56 5.44l.94 2.06.94-2.06 2.06-.94-2.06-.94-.94-2.06-.94 2.06-2.06.94zm-11 1L8.5 8.5l.94-2.06 2.06-.94-2.06-.94L8.5 2.5l-.94 2.06-2.06.94zm10 10l.94 2.06.94-2.06 2.06-.94-2.06-.94-.94-2.06-.94 2.06-2.06.94z\"/><path d=\"M17.41 7.96l-1.37-1.37c-.4-.4-.92-.59-1.43-.59-.52 0-1.04.2-1.43.59L10.3 9.45l-7.72 7.72c-.78.78-.78 2.05 0 2.83L4 21.41c.39.39.9.59 1.41.59.51 0 1.02-.2 1.41-.59l7.78-7.78 2.81-2.81c.8-.78.8-2.07 0-2.86zM5.41 20L4 18.59l7.72-7.72 1.47 1.35L5.41 20z\"/>\n",
              "  </svg>\n",
              "      </button>\n",
              "      \n",
              "  <style>\n",
              "    .colab-df-container {\n",
              "      display:flex;\n",
              "      flex-wrap:wrap;\n",
              "      gap: 12px;\n",
              "    }\n",
              "\n",
              "    .colab-df-convert {\n",
              "      background-color: #E8F0FE;\n",
              "      border: none;\n",
              "      border-radius: 50%;\n",
              "      cursor: pointer;\n",
              "      display: none;\n",
              "      fill: #1967D2;\n",
              "      height: 32px;\n",
              "      padding: 0 0 0 0;\n",
              "      width: 32px;\n",
              "    }\n",
              "\n",
              "    .colab-df-convert:hover {\n",
              "      background-color: #E2EBFA;\n",
              "      box-shadow: 0px 1px 2px rgba(60, 64, 67, 0.3), 0px 1px 3px 1px rgba(60, 64, 67, 0.15);\n",
              "      fill: #174EA6;\n",
              "    }\n",
              "\n",
              "    [theme=dark] .colab-df-convert {\n",
              "      background-color: #3B4455;\n",
              "      fill: #D2E3FC;\n",
              "    }\n",
              "\n",
              "    [theme=dark] .colab-df-convert:hover {\n",
              "      background-color: #434B5C;\n",
              "      box-shadow: 0px 1px 3px 1px rgba(0, 0, 0, 0.15);\n",
              "      filter: drop-shadow(0px 1px 2px rgba(0, 0, 0, 0.3));\n",
              "      fill: #FFFFFF;\n",
              "    }\n",
              "  </style>\n",
              "\n",
              "      <script>\n",
              "        const buttonEl =\n",
              "          document.querySelector('#df-ecad6441-2325-4316-af9f-f43b4b18956c button.colab-df-convert');\n",
              "        buttonEl.style.display =\n",
              "          google.colab.kernel.accessAllowed ? 'block' : 'none';\n",
              "\n",
              "        async function convertToInteractive(key) {\n",
              "          const element = document.querySelector('#df-ecad6441-2325-4316-af9f-f43b4b18956c');\n",
              "          const dataTable =\n",
              "            await google.colab.kernel.invokeFunction('convertToInteractive',\n",
              "                                                     [key], {});\n",
              "          if (!dataTable) return;\n",
              "\n",
              "          const docLinkHtml = 'Like what you see? Visit the ' +\n",
              "            '<a target=\"_blank\" href=https://colab.research.google.com/notebooks/data_table.ipynb>data table notebook</a>'\n",
              "            + ' to learn more about interactive tables.';\n",
              "          element.innerHTML = '';\n",
              "          dataTable['output_type'] = 'display_data';\n",
              "          await google.colab.output.renderOutput(dataTable, element);\n",
              "          const docLink = document.createElement('div');\n",
              "          docLink.innerHTML = docLinkHtml;\n",
              "          element.appendChild(docLink);\n",
              "        }\n",
              "      </script>\n",
              "    </div>\n",
              "  </div>\n",
              "  "
            ]
          },
          "metadata": {},
          "execution_count": 403
        }
      ]
    },
    {
      "cell_type": "markdown",
      "source": [
        "Por fim, vamos eliminar os atributos temporais duplicados e renomear alguns atributos."
      ],
      "metadata": {
        "id": "2p4cLrBSgPbr"
      }
    },
    {
      "cell_type": "code",
      "source": [
        "# eliminando atributos irrelevantes\n",
        "df_merge = df_merge.drop(columns=['rowDate_ibov', 'data', 'rowDate_cds'])\n",
        "# renomeando atributos\n",
        "df_merge = df_merge.rename(columns={\n",
        "    'volumeRaw': 'Volume IBOV',\n",
        "    'change_precent_ibov': 'Variação IBOV',\n",
        "    'valor': 'Valor Dolar',\n",
        "    'change_precent_cds': 'Variação CDS'\n",
        "})\n",
        "# exibindo as primeiras linhas\n",
        "df_merge.head(5)"
      ],
      "metadata": {
        "colab": {
          "base_uri": "https://localhost:8080/",
          "height": 206
        },
        "id": "tbnQB5MSguDd",
        "outputId": "eddec20a-045e-40df-8e51-21fc6f79030e"
      },
      "execution_count": 404,
      "outputs": [
        {
          "output_type": "execute_result",
          "data": {
            "text/plain": [
              "                              Tipo Titulo Data Vencimento  Data Base  \\\n",
              "0  Tesouro Prefixado com Juros Semestrais      2029-01-01 2020-12-17   \n",
              "1                           Tesouro IPCA+      2026-08-15 2020-12-17   \n",
              "2                           Tesouro IPCA+      2024-08-15 2020-12-17   \n",
              "3      Tesouro IGPM+ com Juros Semestrais      2021-04-01 2020-12-17   \n",
              "4                       Tesouro Prefixado      2023-01-01 2020-12-17   \n",
              "\n",
              "  Taxa Venda Manha  Volume IBOV Variação IBOV Valor Dolar Variação CDS  \n",
              "0             6.97      7701390          0.46      5.0606        -1.26  \n",
              "1             2.54      7701390          0.46      5.0606        -1.26  \n",
              "2             1.79      7701390          0.46      5.0606        -1.26  \n",
              "3             -0.3      7701390          0.46      5.0606        -1.26  \n",
              "4             4.61      7701390          0.46      5.0606        -1.26  "
            ],
            "text/html": [
              "\n",
              "  <div id=\"df-bfd23e45-4c15-425a-8765-2c7424124733\">\n",
              "    <div class=\"colab-df-container\">\n",
              "      <div>\n",
              "<style scoped>\n",
              "    .dataframe tbody tr th:only-of-type {\n",
              "        vertical-align: middle;\n",
              "    }\n",
              "\n",
              "    .dataframe tbody tr th {\n",
              "        vertical-align: top;\n",
              "    }\n",
              "\n",
              "    .dataframe thead th {\n",
              "        text-align: right;\n",
              "    }\n",
              "</style>\n",
              "<table border=\"1\" class=\"dataframe\">\n",
              "  <thead>\n",
              "    <tr style=\"text-align: right;\">\n",
              "      <th></th>\n",
              "      <th>Tipo Titulo</th>\n",
              "      <th>Data Vencimento</th>\n",
              "      <th>Data Base</th>\n",
              "      <th>Taxa Venda Manha</th>\n",
              "      <th>Volume IBOV</th>\n",
              "      <th>Variação IBOV</th>\n",
              "      <th>Valor Dolar</th>\n",
              "      <th>Variação CDS</th>\n",
              "    </tr>\n",
              "  </thead>\n",
              "  <tbody>\n",
              "    <tr>\n",
              "      <th>0</th>\n",
              "      <td>Tesouro Prefixado com Juros Semestrais</td>\n",
              "      <td>2029-01-01</td>\n",
              "      <td>2020-12-17</td>\n",
              "      <td>6.97</td>\n",
              "      <td>7701390</td>\n",
              "      <td>0.46</td>\n",
              "      <td>5.0606</td>\n",
              "      <td>-1.26</td>\n",
              "    </tr>\n",
              "    <tr>\n",
              "      <th>1</th>\n",
              "      <td>Tesouro IPCA+</td>\n",
              "      <td>2026-08-15</td>\n",
              "      <td>2020-12-17</td>\n",
              "      <td>2.54</td>\n",
              "      <td>7701390</td>\n",
              "      <td>0.46</td>\n",
              "      <td>5.0606</td>\n",
              "      <td>-1.26</td>\n",
              "    </tr>\n",
              "    <tr>\n",
              "      <th>2</th>\n",
              "      <td>Tesouro IPCA+</td>\n",
              "      <td>2024-08-15</td>\n",
              "      <td>2020-12-17</td>\n",
              "      <td>1.79</td>\n",
              "      <td>7701390</td>\n",
              "      <td>0.46</td>\n",
              "      <td>5.0606</td>\n",
              "      <td>-1.26</td>\n",
              "    </tr>\n",
              "    <tr>\n",
              "      <th>3</th>\n",
              "      <td>Tesouro IGPM+ com Juros Semestrais</td>\n",
              "      <td>2021-04-01</td>\n",
              "      <td>2020-12-17</td>\n",
              "      <td>-0.3</td>\n",
              "      <td>7701390</td>\n",
              "      <td>0.46</td>\n",
              "      <td>5.0606</td>\n",
              "      <td>-1.26</td>\n",
              "    </tr>\n",
              "    <tr>\n",
              "      <th>4</th>\n",
              "      <td>Tesouro Prefixado</td>\n",
              "      <td>2023-01-01</td>\n",
              "      <td>2020-12-17</td>\n",
              "      <td>4.61</td>\n",
              "      <td>7701390</td>\n",
              "      <td>0.46</td>\n",
              "      <td>5.0606</td>\n",
              "      <td>-1.26</td>\n",
              "    </tr>\n",
              "  </tbody>\n",
              "</table>\n",
              "</div>\n",
              "      <button class=\"colab-df-convert\" onclick=\"convertToInteractive('df-bfd23e45-4c15-425a-8765-2c7424124733')\"\n",
              "              title=\"Convert this dataframe to an interactive table.\"\n",
              "              style=\"display:none;\">\n",
              "        \n",
              "  <svg xmlns=\"http://www.w3.org/2000/svg\" height=\"24px\"viewBox=\"0 0 24 24\"\n",
              "       width=\"24px\">\n",
              "    <path d=\"M0 0h24v24H0V0z\" fill=\"none\"/>\n",
              "    <path d=\"M18.56 5.44l.94 2.06.94-2.06 2.06-.94-2.06-.94-.94-2.06-.94 2.06-2.06.94zm-11 1L8.5 8.5l.94-2.06 2.06-.94-2.06-.94L8.5 2.5l-.94 2.06-2.06.94zm10 10l.94 2.06.94-2.06 2.06-.94-2.06-.94-.94-2.06-.94 2.06-2.06.94z\"/><path d=\"M17.41 7.96l-1.37-1.37c-.4-.4-.92-.59-1.43-.59-.52 0-1.04.2-1.43.59L10.3 9.45l-7.72 7.72c-.78.78-.78 2.05 0 2.83L4 21.41c.39.39.9.59 1.41.59.51 0 1.02-.2 1.41-.59l7.78-7.78 2.81-2.81c.8-.78.8-2.07 0-2.86zM5.41 20L4 18.59l7.72-7.72 1.47 1.35L5.41 20z\"/>\n",
              "  </svg>\n",
              "      </button>\n",
              "      \n",
              "  <style>\n",
              "    .colab-df-container {\n",
              "      display:flex;\n",
              "      flex-wrap:wrap;\n",
              "      gap: 12px;\n",
              "    }\n",
              "\n",
              "    .colab-df-convert {\n",
              "      background-color: #E8F0FE;\n",
              "      border: none;\n",
              "      border-radius: 50%;\n",
              "      cursor: pointer;\n",
              "      display: none;\n",
              "      fill: #1967D2;\n",
              "      height: 32px;\n",
              "      padding: 0 0 0 0;\n",
              "      width: 32px;\n",
              "    }\n",
              "\n",
              "    .colab-df-convert:hover {\n",
              "      background-color: #E2EBFA;\n",
              "      box-shadow: 0px 1px 2px rgba(60, 64, 67, 0.3), 0px 1px 3px 1px rgba(60, 64, 67, 0.15);\n",
              "      fill: #174EA6;\n",
              "    }\n",
              "\n",
              "    [theme=dark] .colab-df-convert {\n",
              "      background-color: #3B4455;\n",
              "      fill: #D2E3FC;\n",
              "    }\n",
              "\n",
              "    [theme=dark] .colab-df-convert:hover {\n",
              "      background-color: #434B5C;\n",
              "      box-shadow: 0px 1px 3px 1px rgba(0, 0, 0, 0.15);\n",
              "      filter: drop-shadow(0px 1px 2px rgba(0, 0, 0, 0.3));\n",
              "      fill: #FFFFFF;\n",
              "    }\n",
              "  </style>\n",
              "\n",
              "      <script>\n",
              "        const buttonEl =\n",
              "          document.querySelector('#df-bfd23e45-4c15-425a-8765-2c7424124733 button.colab-df-convert');\n",
              "        buttonEl.style.display =\n",
              "          google.colab.kernel.accessAllowed ? 'block' : 'none';\n",
              "\n",
              "        async function convertToInteractive(key) {\n",
              "          const element = document.querySelector('#df-bfd23e45-4c15-425a-8765-2c7424124733');\n",
              "          const dataTable =\n",
              "            await google.colab.kernel.invokeFunction('convertToInteractive',\n",
              "                                                     [key], {});\n",
              "          if (!dataTable) return;\n",
              "\n",
              "          const docLinkHtml = 'Like what you see? Visit the ' +\n",
              "            '<a target=\"_blank\" href=https://colab.research.google.com/notebooks/data_table.ipynb>data table notebook</a>'\n",
              "            + ' to learn more about interactive tables.';\n",
              "          element.innerHTML = '';\n",
              "          dataTable['output_type'] = 'display_data';\n",
              "          await google.colab.output.renderOutput(dataTable, element);\n",
              "          const docLink = document.createElement('div');\n",
              "          docLink.innerHTML = docLinkHtml;\n",
              "          element.appendChild(docLink);\n",
              "        }\n",
              "      </script>\n",
              "    </div>\n",
              "  </div>\n",
              "  "
            ]
          },
          "metadata": {},
          "execution_count": 404
        }
      ]
    },
    {
      "cell_type": "markdown",
      "source": [
        "## Análise Exploratória"
      ],
      "metadata": {
        "id": "W6ddGqasZ_1A"
      }
    },
    {
      "cell_type": "markdown",
      "source": [
        "Para a exploração dos dados dos datasets, seguiremos o seguinte roteiro para cada dataset:\n",
        "\n",
        "1. Descrição e Classificação dos Dados Brutos\n",
        "2. Estrutura do Dataset\n",
        "3. Estatísticas Descritivas\n",
        "4. Visualizações Unimodais\n",
        "5. Visualizações Multimodais"
      ],
      "metadata": {
        "id": "GV0xJ_4nol_h"
      }
    },
    {
      "cell_type": "markdown",
      "source": [
        "### Estrutura do Dataset"
      ],
      "metadata": {
        "id": "3rxHavsq-hsq"
      }
    },
    {
      "cell_type": "code",
      "source": [
        "# criando o dataset para a etapa de análise\n",
        "df_analise = df_merge"
      ],
      "metadata": {
        "id": "dYBP4AiiM2T1"
      },
      "execution_count": 405,
      "outputs": []
    },
    {
      "cell_type": "markdown",
      "source": [
        "Vamos iniciar a análise observando informações gerais sobre a estrutura do dataset de trabalho."
      ],
      "metadata": {
        "id": "0Y56AtNY-n6I"
      }
    },
    {
      "cell_type": "code",
      "source": [
        "# exibindo informações gerais sobre o dataset\n",
        "df_analise.info()"
      ],
      "metadata": {
        "id": "EDN4IRJ4ovGI",
        "colab": {
          "base_uri": "https://localhost:8080/"
        },
        "outputId": "1eef7413-064c-43bd-fceb-339972339d8b"
      },
      "execution_count": 406,
      "outputs": [
        {
          "output_type": "stream",
          "name": "stdout",
          "text": [
            "<class 'pandas.core.frame.DataFrame'>\n",
            "Int64Index: 28694 entries, 0 to 28693\n",
            "Data columns (total 8 columns):\n",
            " #   Column            Non-Null Count  Dtype         \n",
            "---  ------            --------------  -----         \n",
            " 0   Tipo Titulo       28694 non-null  object        \n",
            " 1   Data Vencimento   28694 non-null  object        \n",
            " 2   Data Base         28694 non-null  datetime64[ns]\n",
            " 3   Taxa Venda Manha  28694 non-null  object        \n",
            " 4   Volume IBOV       28694 non-null  int64         \n",
            " 5   Variação IBOV     28694 non-null  object        \n",
            " 6   Valor Dolar       28694 non-null  object        \n",
            " 7   Variação CDS      28694 non-null  object        \n",
            "dtypes: datetime64[ns](1), int64(1), object(6)\n",
            "memory usage: 2.0+ MB\n"
          ]
        }
      ]
    },
    {
      "cell_type": "markdown",
      "source": [
        "O resumo acima nos informa as dimensões do dataset (28694 linhas, 08 colunas), os nomes de seus atributos, bem como seus respectivos tipos de dados e a quantidade de registros não-nulos (*missings*) para cada atributo."
      ],
      "metadata": {
        "id": "8arA7LAv-1P5"
      }
    },
    {
      "cell_type": "markdown",
      "source": [
        "Com a exceção dos atributos \"Data Base\" (tipo \"datetime64\") e \"Volume IBOV\" (tipo \"int64\"), todos os demais estão armazenados como \"object\" no dataset, que é uma tipagem genérica para texto, o que pode dificultar certas operações com os dados. Tal problema pode ser contornado com a conversão dos atributos para os tipos adequados."
      ],
      "metadata": {
        "id": "1bEw493zBaL-"
      }
    },
    {
      "cell_type": "markdown",
      "source": [
        "É possível notar a falta de *missings* (valores nulos) nos atributos do dataset. Isso é explicado pela fato de o dataset não possuir dados oriundos de inputs de usuário (ex.: formulários), mas apenas dados computados automaticamente pelos sistemas de negociação dos respectivos ativos."
      ],
      "metadata": {
        "id": "6xAV_hvdL63O"
      }
    },
    {
      "cell_type": "markdown",
      "source": [
        "### Descrição e Classificação dos Dados Brutos"
      ],
      "metadata": {
        "id": "fZY-EuF4oqCG"
      }
    },
    {
      "cell_type": "markdown",
      "source": [
        "Agora vamos observar os dados brutos exibindo algumas linhas do dataset."
      ],
      "metadata": {
        "id": "0KjuPQy9sD98"
      }
    },
    {
      "cell_type": "code",
      "source": [
        "# exibindo linhas de fronteiras (início e fim) do dataset\n",
        "df_analise"
      ],
      "metadata": {
        "colab": {
          "base_uri": "https://localhost:8080/",
          "height": 424
        },
        "id": "owKY7riir4x5",
        "outputId": "f3b67c1e-fe7b-424a-f928-5faba3da38d1"
      },
      "execution_count": 407,
      "outputs": [
        {
          "output_type": "execute_result",
          "data": {
            "text/plain": [
              "                                  Tipo Titulo Data Vencimento  Data Base  \\\n",
              "0      Tesouro Prefixado com Juros Semestrais      2029-01-01 2020-12-17   \n",
              "1                               Tesouro IPCA+      2026-08-15 2020-12-17   \n",
              "2                               Tesouro IPCA+      2024-08-15 2020-12-17   \n",
              "3          Tesouro IGPM+ com Juros Semestrais      2021-04-01 2020-12-17   \n",
              "4                           Tesouro Prefixado      2023-01-01 2020-12-17   \n",
              "...                                       ...             ...        ...   \n",
              "28689      Tesouro IPCA+ com Juros Semestrais      2020-08-15 2018-01-03   \n",
              "28690      Tesouro IGPM+ com Juros Semestrais      2021-04-01 2018-01-03   \n",
              "28691                       Tesouro Prefixado      2023-01-01 2018-01-03   \n",
              "28692  Tesouro Prefixado com Juros Semestrais      2021-01-01 2018-01-03   \n",
              "28693                           Tesouro IPCA+      2024-08-15 2018-01-03   \n",
              "\n",
              "      Taxa Venda Manha  Volume IBOV Variação IBOV Valor Dolar Variação CDS  \n",
              "0                 6.97      7701390          0.46      5.0606        -1.26  \n",
              "1                 2.54      7701390          0.46      5.0606        -1.26  \n",
              "2                 1.79      7701390          0.46      5.0606        -1.26  \n",
              "3                 -0.3      7701390          0.46      5.0606        -1.26  \n",
              "4                 4.61      7701390          0.46      5.0606        -1.26  \n",
              "...                ...          ...           ...         ...          ...  \n",
              "28689             3.87      3239424          0.13      3.2614        -2.21  \n",
              "28690              4.2      3239424          0.13      3.2614        -2.21  \n",
              "28691              9.8      3239424          0.13      3.2614        -2.21  \n",
              "28692             8.71      3239424          0.13      3.2614        -2.21  \n",
              "28693             5.11      3239424          0.13      3.2614        -2.21  \n",
              "\n",
              "[28694 rows x 8 columns]"
            ],
            "text/html": [
              "\n",
              "  <div id=\"df-ec0fd037-69f4-4e37-8f4f-0932bfbf8a46\">\n",
              "    <div class=\"colab-df-container\">\n",
              "      <div>\n",
              "<style scoped>\n",
              "    .dataframe tbody tr th:only-of-type {\n",
              "        vertical-align: middle;\n",
              "    }\n",
              "\n",
              "    .dataframe tbody tr th {\n",
              "        vertical-align: top;\n",
              "    }\n",
              "\n",
              "    .dataframe thead th {\n",
              "        text-align: right;\n",
              "    }\n",
              "</style>\n",
              "<table border=\"1\" class=\"dataframe\">\n",
              "  <thead>\n",
              "    <tr style=\"text-align: right;\">\n",
              "      <th></th>\n",
              "      <th>Tipo Titulo</th>\n",
              "      <th>Data Vencimento</th>\n",
              "      <th>Data Base</th>\n",
              "      <th>Taxa Venda Manha</th>\n",
              "      <th>Volume IBOV</th>\n",
              "      <th>Variação IBOV</th>\n",
              "      <th>Valor Dolar</th>\n",
              "      <th>Variação CDS</th>\n",
              "    </tr>\n",
              "  </thead>\n",
              "  <tbody>\n",
              "    <tr>\n",
              "      <th>0</th>\n",
              "      <td>Tesouro Prefixado com Juros Semestrais</td>\n",
              "      <td>2029-01-01</td>\n",
              "      <td>2020-12-17</td>\n",
              "      <td>6.97</td>\n",
              "      <td>7701390</td>\n",
              "      <td>0.46</td>\n",
              "      <td>5.0606</td>\n",
              "      <td>-1.26</td>\n",
              "    </tr>\n",
              "    <tr>\n",
              "      <th>1</th>\n",
              "      <td>Tesouro IPCA+</td>\n",
              "      <td>2026-08-15</td>\n",
              "      <td>2020-12-17</td>\n",
              "      <td>2.54</td>\n",
              "      <td>7701390</td>\n",
              "      <td>0.46</td>\n",
              "      <td>5.0606</td>\n",
              "      <td>-1.26</td>\n",
              "    </tr>\n",
              "    <tr>\n",
              "      <th>2</th>\n",
              "      <td>Tesouro IPCA+</td>\n",
              "      <td>2024-08-15</td>\n",
              "      <td>2020-12-17</td>\n",
              "      <td>1.79</td>\n",
              "      <td>7701390</td>\n",
              "      <td>0.46</td>\n",
              "      <td>5.0606</td>\n",
              "      <td>-1.26</td>\n",
              "    </tr>\n",
              "    <tr>\n",
              "      <th>3</th>\n",
              "      <td>Tesouro IGPM+ com Juros Semestrais</td>\n",
              "      <td>2021-04-01</td>\n",
              "      <td>2020-12-17</td>\n",
              "      <td>-0.3</td>\n",
              "      <td>7701390</td>\n",
              "      <td>0.46</td>\n",
              "      <td>5.0606</td>\n",
              "      <td>-1.26</td>\n",
              "    </tr>\n",
              "    <tr>\n",
              "      <th>4</th>\n",
              "      <td>Tesouro Prefixado</td>\n",
              "      <td>2023-01-01</td>\n",
              "      <td>2020-12-17</td>\n",
              "      <td>4.61</td>\n",
              "      <td>7701390</td>\n",
              "      <td>0.46</td>\n",
              "      <td>5.0606</td>\n",
              "      <td>-1.26</td>\n",
              "    </tr>\n",
              "    <tr>\n",
              "      <th>...</th>\n",
              "      <td>...</td>\n",
              "      <td>...</td>\n",
              "      <td>...</td>\n",
              "      <td>...</td>\n",
              "      <td>...</td>\n",
              "      <td>...</td>\n",
              "      <td>...</td>\n",
              "      <td>...</td>\n",
              "    </tr>\n",
              "    <tr>\n",
              "      <th>28689</th>\n",
              "      <td>Tesouro IPCA+ com Juros Semestrais</td>\n",
              "      <td>2020-08-15</td>\n",
              "      <td>2018-01-03</td>\n",
              "      <td>3.87</td>\n",
              "      <td>3239424</td>\n",
              "      <td>0.13</td>\n",
              "      <td>3.2614</td>\n",
              "      <td>-2.21</td>\n",
              "    </tr>\n",
              "    <tr>\n",
              "      <th>28690</th>\n",
              "      <td>Tesouro IGPM+ com Juros Semestrais</td>\n",
              "      <td>2021-04-01</td>\n",
              "      <td>2018-01-03</td>\n",
              "      <td>4.2</td>\n",
              "      <td>3239424</td>\n",
              "      <td>0.13</td>\n",
              "      <td>3.2614</td>\n",
              "      <td>-2.21</td>\n",
              "    </tr>\n",
              "    <tr>\n",
              "      <th>28691</th>\n",
              "      <td>Tesouro Prefixado</td>\n",
              "      <td>2023-01-01</td>\n",
              "      <td>2018-01-03</td>\n",
              "      <td>9.8</td>\n",
              "      <td>3239424</td>\n",
              "      <td>0.13</td>\n",
              "      <td>3.2614</td>\n",
              "      <td>-2.21</td>\n",
              "    </tr>\n",
              "    <tr>\n",
              "      <th>28692</th>\n",
              "      <td>Tesouro Prefixado com Juros Semestrais</td>\n",
              "      <td>2021-01-01</td>\n",
              "      <td>2018-01-03</td>\n",
              "      <td>8.71</td>\n",
              "      <td>3239424</td>\n",
              "      <td>0.13</td>\n",
              "      <td>3.2614</td>\n",
              "      <td>-2.21</td>\n",
              "    </tr>\n",
              "    <tr>\n",
              "      <th>28693</th>\n",
              "      <td>Tesouro IPCA+</td>\n",
              "      <td>2024-08-15</td>\n",
              "      <td>2018-01-03</td>\n",
              "      <td>5.11</td>\n",
              "      <td>3239424</td>\n",
              "      <td>0.13</td>\n",
              "      <td>3.2614</td>\n",
              "      <td>-2.21</td>\n",
              "    </tr>\n",
              "  </tbody>\n",
              "</table>\n",
              "<p>28694 rows × 8 columns</p>\n",
              "</div>\n",
              "      <button class=\"colab-df-convert\" onclick=\"convertToInteractive('df-ec0fd037-69f4-4e37-8f4f-0932bfbf8a46')\"\n",
              "              title=\"Convert this dataframe to an interactive table.\"\n",
              "              style=\"display:none;\">\n",
              "        \n",
              "  <svg xmlns=\"http://www.w3.org/2000/svg\" height=\"24px\"viewBox=\"0 0 24 24\"\n",
              "       width=\"24px\">\n",
              "    <path d=\"M0 0h24v24H0V0z\" fill=\"none\"/>\n",
              "    <path d=\"M18.56 5.44l.94 2.06.94-2.06 2.06-.94-2.06-.94-.94-2.06-.94 2.06-2.06.94zm-11 1L8.5 8.5l.94-2.06 2.06-.94-2.06-.94L8.5 2.5l-.94 2.06-2.06.94zm10 10l.94 2.06.94-2.06 2.06-.94-2.06-.94-.94-2.06-.94 2.06-2.06.94z\"/><path d=\"M17.41 7.96l-1.37-1.37c-.4-.4-.92-.59-1.43-.59-.52 0-1.04.2-1.43.59L10.3 9.45l-7.72 7.72c-.78.78-.78 2.05 0 2.83L4 21.41c.39.39.9.59 1.41.59.51 0 1.02-.2 1.41-.59l7.78-7.78 2.81-2.81c.8-.78.8-2.07 0-2.86zM5.41 20L4 18.59l7.72-7.72 1.47 1.35L5.41 20z\"/>\n",
              "  </svg>\n",
              "      </button>\n",
              "      \n",
              "  <style>\n",
              "    .colab-df-container {\n",
              "      display:flex;\n",
              "      flex-wrap:wrap;\n",
              "      gap: 12px;\n",
              "    }\n",
              "\n",
              "    .colab-df-convert {\n",
              "      background-color: #E8F0FE;\n",
              "      border: none;\n",
              "      border-radius: 50%;\n",
              "      cursor: pointer;\n",
              "      display: none;\n",
              "      fill: #1967D2;\n",
              "      height: 32px;\n",
              "      padding: 0 0 0 0;\n",
              "      width: 32px;\n",
              "    }\n",
              "\n",
              "    .colab-df-convert:hover {\n",
              "      background-color: #E2EBFA;\n",
              "      box-shadow: 0px 1px 2px rgba(60, 64, 67, 0.3), 0px 1px 3px 1px rgba(60, 64, 67, 0.15);\n",
              "      fill: #174EA6;\n",
              "    }\n",
              "\n",
              "    [theme=dark] .colab-df-convert {\n",
              "      background-color: #3B4455;\n",
              "      fill: #D2E3FC;\n",
              "    }\n",
              "\n",
              "    [theme=dark] .colab-df-convert:hover {\n",
              "      background-color: #434B5C;\n",
              "      box-shadow: 0px 1px 3px 1px rgba(0, 0, 0, 0.15);\n",
              "      filter: drop-shadow(0px 1px 2px rgba(0, 0, 0, 0.3));\n",
              "      fill: #FFFFFF;\n",
              "    }\n",
              "  </style>\n",
              "\n",
              "      <script>\n",
              "        const buttonEl =\n",
              "          document.querySelector('#df-ec0fd037-69f4-4e37-8f4f-0932bfbf8a46 button.colab-df-convert');\n",
              "        buttonEl.style.display =\n",
              "          google.colab.kernel.accessAllowed ? 'block' : 'none';\n",
              "\n",
              "        async function convertToInteractive(key) {\n",
              "          const element = document.querySelector('#df-ec0fd037-69f4-4e37-8f4f-0932bfbf8a46');\n",
              "          const dataTable =\n",
              "            await google.colab.kernel.invokeFunction('convertToInteractive',\n",
              "                                                     [key], {});\n",
              "          if (!dataTable) return;\n",
              "\n",
              "          const docLinkHtml = 'Like what you see? Visit the ' +\n",
              "            '<a target=\"_blank\" href=https://colab.research.google.com/notebooks/data_table.ipynb>data table notebook</a>'\n",
              "            + ' to learn more about interactive tables.';\n",
              "          element.innerHTML = '';\n",
              "          dataTable['output_type'] = 'display_data';\n",
              "          await google.colab.output.renderOutput(dataTable, element);\n",
              "          const docLink = document.createElement('div');\n",
              "          docLink.innerHTML = docLinkHtml;\n",
              "          element.appendChild(docLink);\n",
              "        }\n",
              "      </script>\n",
              "    </div>\n",
              "  </div>\n",
              "  "
            ]
          },
          "metadata": {},
          "execution_count": 407
        }
      ]
    },
    {
      "cell_type": "markdown",
      "source": [
        "Observando os dados brutos, podemos classificar e descrever seus atributos:\n",
        "\n",
        "+ <u>VARIÁVEL QUALITATIVA NOMINAL</u>\n",
        "  + **Tipo Titulo**: o título público negociado.\n",
        "+ <u>VARIÁVEL TEMPORAL</u>\n",
        "  + **Data Vencimento**: a data de vencimento do título público.\n",
        "  + **Data Base**: a data de referência da operação/negociação.\n",
        "+ <u>VARIÁVEL QUANTITATIVA CONTÍNUA</u>\n",
        "  + **Taxa Venda Manha**: a parte fixa da taxa de juros paga pelo título público.\n",
        "  + **Volume IBOV**: o volume financeiro negociado pelas ações que compõem o índice Ibovespa.\n",
        "  + **Variação IBOV**: o percentual de variação do índice Ibovespa em relação ao dia de negociação anterior.\n",
        "  + **Valor Dolar**: o valor do dólar Ptax.\n",
        "  + **Variação CDS**: o percentual de variação dos pontos-base do CDS Brasil 5 anos."
      ],
      "metadata": {
        "id": "o2vniOCx03F5"
      }
    },
    {
      "cell_type": "markdown",
      "source": [
        "Abaixo podemos verificar quais tipos de títulos foram ofertados ao longo do período e a quantidade de ofertas associada a cada título."
      ],
      "metadata": {
        "id": "Mkrg1zUUQvJC"
      }
    },
    {
      "cell_type": "code",
      "source": [
        "# exibindo a quantidade registros por título\n",
        "df_analise['Tipo Titulo'].value_counts()"
      ],
      "metadata": {
        "colab": {
          "base_uri": "https://localhost:8080/"
        },
        "id": "s9P1yeF7sBwN",
        "outputId": "0cd4f1b6-446b-4f6b-e47f-381de01cec70"
      },
      "execution_count": 408,
      "outputs": [
        {
          "output_type": "execute_result",
          "data": {
            "text/plain": [
              "Tesouro IPCA+ com Juros Semestrais        8100\n",
              "Tesouro Prefixado com Juros Semestrais    5813\n",
              "Tesouro Prefixado                         5337\n",
              "Tesouro IPCA+                             4195\n",
              "Tesouro Selic                             3456\n",
              "Tesouro IGPM+ com Juros Semestrais        1793\n",
              "Name: Tipo Titulo, dtype: int64"
            ]
          },
          "metadata": {},
          "execution_count": 408
        }
      ]
    },
    {
      "cell_type": "markdown",
      "source": [
        "O título \"Tesouro IGPM+\" possui quantidade de registros significativamente inferior aos demais por ter sido ofertado pelo Tesouro Nacional até o ano de 2006."
      ],
      "metadata": {
        "id": "k-h0XU2JMay0"
      }
    },
    {
      "cell_type": "code",
      "source": [
        "# exibindo linhas de fronteiras (início e fim) do dataset ordenadas pelo atributo 'Data Base'\n",
        "df_analise.sort_values('Data Base', ascending = False)"
      ],
      "metadata": {
        "id": "iuogPV4mnt_I",
        "colab": {
          "base_uri": "https://localhost:8080/",
          "height": 424
        },
        "outputId": "f6596025-0ec3-44a3-f90c-c54c2325c779"
      },
      "execution_count": 409,
      "outputs": [
        {
          "output_type": "execute_result",
          "data": {
            "text/plain": [
              "                                  Tipo Titulo Data Vencimento  Data Base  \\\n",
              "4094       Tesouro IPCA+ com Juros Semestrais      2055-05-15 2022-12-29   \n",
              "4101                        Tesouro Prefixado      2024-07-01 2022-12-29   \n",
              "4086   Tesouro Prefixado com Juros Semestrais      2023-01-01 2022-12-29   \n",
              "4087                        Tesouro Prefixado      2025-01-01 2022-12-29   \n",
              "4088   Tesouro Prefixado com Juros Semestrais      2029-01-01 2022-12-29   \n",
              "...                                       ...             ...        ...   \n",
              "22817                           Tesouro IPCA+      2035-05-15 2018-01-02   \n",
              "22816                           Tesouro Selic      2021-03-01 2018-01-02   \n",
              "22815      Tesouro IPCA+ com Juros Semestrais      2035-05-15 2018-01-02   \n",
              "22814                       Tesouro Prefixado      2019-01-01 2018-01-02   \n",
              "22834  Tesouro Prefixado com Juros Semestrais      2021-01-01 2018-01-02   \n",
              "\n",
              "      Taxa Venda Manha  Volume IBOV Variação IBOV Valor Dolar Variação CDS  \n",
              "4094              6.23     13389109         -0.46      5.2171        -0.06  \n",
              "4101             13.05     13389109         -0.46      5.2171        -0.06  \n",
              "4086              14.2     13389109         -0.46      5.2171        -0.06  \n",
              "4087             12.71     13389109         -0.46      5.2171        -0.06  \n",
              "4088             12.82     13389109         -0.46      5.2171        -0.06  \n",
              "...                ...          ...           ...         ...          ...  \n",
              "22817             5.56      2969444          1.95      3.1724        -3.76  \n",
              "22816             0.04      2969444          1.95      3.1724        -3.76  \n",
              "22815             5.43      2969444          1.95      3.1724        -3.76  \n",
              "22814             6.89      2969444          1.95      3.1724        -3.76  \n",
              "22834             8.88      2969444          1.95      3.1724        -3.76  \n",
              "\n",
              "[28694 rows x 8 columns]"
            ],
            "text/html": [
              "\n",
              "  <div id=\"df-2f8a87fc-bcab-4513-8bd4-a7c3220df733\">\n",
              "    <div class=\"colab-df-container\">\n",
              "      <div>\n",
              "<style scoped>\n",
              "    .dataframe tbody tr th:only-of-type {\n",
              "        vertical-align: middle;\n",
              "    }\n",
              "\n",
              "    .dataframe tbody tr th {\n",
              "        vertical-align: top;\n",
              "    }\n",
              "\n",
              "    .dataframe thead th {\n",
              "        text-align: right;\n",
              "    }\n",
              "</style>\n",
              "<table border=\"1\" class=\"dataframe\">\n",
              "  <thead>\n",
              "    <tr style=\"text-align: right;\">\n",
              "      <th></th>\n",
              "      <th>Tipo Titulo</th>\n",
              "      <th>Data Vencimento</th>\n",
              "      <th>Data Base</th>\n",
              "      <th>Taxa Venda Manha</th>\n",
              "      <th>Volume IBOV</th>\n",
              "      <th>Variação IBOV</th>\n",
              "      <th>Valor Dolar</th>\n",
              "      <th>Variação CDS</th>\n",
              "    </tr>\n",
              "  </thead>\n",
              "  <tbody>\n",
              "    <tr>\n",
              "      <th>4094</th>\n",
              "      <td>Tesouro IPCA+ com Juros Semestrais</td>\n",
              "      <td>2055-05-15</td>\n",
              "      <td>2022-12-29</td>\n",
              "      <td>6.23</td>\n",
              "      <td>13389109</td>\n",
              "      <td>-0.46</td>\n",
              "      <td>5.2171</td>\n",
              "      <td>-0.06</td>\n",
              "    </tr>\n",
              "    <tr>\n",
              "      <th>4101</th>\n",
              "      <td>Tesouro Prefixado</td>\n",
              "      <td>2024-07-01</td>\n",
              "      <td>2022-12-29</td>\n",
              "      <td>13.05</td>\n",
              "      <td>13389109</td>\n",
              "      <td>-0.46</td>\n",
              "      <td>5.2171</td>\n",
              "      <td>-0.06</td>\n",
              "    </tr>\n",
              "    <tr>\n",
              "      <th>4086</th>\n",
              "      <td>Tesouro Prefixado com Juros Semestrais</td>\n",
              "      <td>2023-01-01</td>\n",
              "      <td>2022-12-29</td>\n",
              "      <td>14.2</td>\n",
              "      <td>13389109</td>\n",
              "      <td>-0.46</td>\n",
              "      <td>5.2171</td>\n",
              "      <td>-0.06</td>\n",
              "    </tr>\n",
              "    <tr>\n",
              "      <th>4087</th>\n",
              "      <td>Tesouro Prefixado</td>\n",
              "      <td>2025-01-01</td>\n",
              "      <td>2022-12-29</td>\n",
              "      <td>12.71</td>\n",
              "      <td>13389109</td>\n",
              "      <td>-0.46</td>\n",
              "      <td>5.2171</td>\n",
              "      <td>-0.06</td>\n",
              "    </tr>\n",
              "    <tr>\n",
              "      <th>4088</th>\n",
              "      <td>Tesouro Prefixado com Juros Semestrais</td>\n",
              "      <td>2029-01-01</td>\n",
              "      <td>2022-12-29</td>\n",
              "      <td>12.82</td>\n",
              "      <td>13389109</td>\n",
              "      <td>-0.46</td>\n",
              "      <td>5.2171</td>\n",
              "      <td>-0.06</td>\n",
              "    </tr>\n",
              "    <tr>\n",
              "      <th>...</th>\n",
              "      <td>...</td>\n",
              "      <td>...</td>\n",
              "      <td>...</td>\n",
              "      <td>...</td>\n",
              "      <td>...</td>\n",
              "      <td>...</td>\n",
              "      <td>...</td>\n",
              "      <td>...</td>\n",
              "    </tr>\n",
              "    <tr>\n",
              "      <th>22817</th>\n",
              "      <td>Tesouro IPCA+</td>\n",
              "      <td>2035-05-15</td>\n",
              "      <td>2018-01-02</td>\n",
              "      <td>5.56</td>\n",
              "      <td>2969444</td>\n",
              "      <td>1.95</td>\n",
              "      <td>3.1724</td>\n",
              "      <td>-3.76</td>\n",
              "    </tr>\n",
              "    <tr>\n",
              "      <th>22816</th>\n",
              "      <td>Tesouro Selic</td>\n",
              "      <td>2021-03-01</td>\n",
              "      <td>2018-01-02</td>\n",
              "      <td>0.04</td>\n",
              "      <td>2969444</td>\n",
              "      <td>1.95</td>\n",
              "      <td>3.1724</td>\n",
              "      <td>-3.76</td>\n",
              "    </tr>\n",
              "    <tr>\n",
              "      <th>22815</th>\n",
              "      <td>Tesouro IPCA+ com Juros Semestrais</td>\n",
              "      <td>2035-05-15</td>\n",
              "      <td>2018-01-02</td>\n",
              "      <td>5.43</td>\n",
              "      <td>2969444</td>\n",
              "      <td>1.95</td>\n",
              "      <td>3.1724</td>\n",
              "      <td>-3.76</td>\n",
              "    </tr>\n",
              "    <tr>\n",
              "      <th>22814</th>\n",
              "      <td>Tesouro Prefixado</td>\n",
              "      <td>2019-01-01</td>\n",
              "      <td>2018-01-02</td>\n",
              "      <td>6.89</td>\n",
              "      <td>2969444</td>\n",
              "      <td>1.95</td>\n",
              "      <td>3.1724</td>\n",
              "      <td>-3.76</td>\n",
              "    </tr>\n",
              "    <tr>\n",
              "      <th>22834</th>\n",
              "      <td>Tesouro Prefixado com Juros Semestrais</td>\n",
              "      <td>2021-01-01</td>\n",
              "      <td>2018-01-02</td>\n",
              "      <td>8.88</td>\n",
              "      <td>2969444</td>\n",
              "      <td>1.95</td>\n",
              "      <td>3.1724</td>\n",
              "      <td>-3.76</td>\n",
              "    </tr>\n",
              "  </tbody>\n",
              "</table>\n",
              "<p>28694 rows × 8 columns</p>\n",
              "</div>\n",
              "      <button class=\"colab-df-convert\" onclick=\"convertToInteractive('df-2f8a87fc-bcab-4513-8bd4-a7c3220df733')\"\n",
              "              title=\"Convert this dataframe to an interactive table.\"\n",
              "              style=\"display:none;\">\n",
              "        \n",
              "  <svg xmlns=\"http://www.w3.org/2000/svg\" height=\"24px\"viewBox=\"0 0 24 24\"\n",
              "       width=\"24px\">\n",
              "    <path d=\"M0 0h24v24H0V0z\" fill=\"none\"/>\n",
              "    <path d=\"M18.56 5.44l.94 2.06.94-2.06 2.06-.94-2.06-.94-.94-2.06-.94 2.06-2.06.94zm-11 1L8.5 8.5l.94-2.06 2.06-.94-2.06-.94L8.5 2.5l-.94 2.06-2.06.94zm10 10l.94 2.06.94-2.06 2.06-.94-2.06-.94-.94-2.06-.94 2.06-2.06.94z\"/><path d=\"M17.41 7.96l-1.37-1.37c-.4-.4-.92-.59-1.43-.59-.52 0-1.04.2-1.43.59L10.3 9.45l-7.72 7.72c-.78.78-.78 2.05 0 2.83L4 21.41c.39.39.9.59 1.41.59.51 0 1.02-.2 1.41-.59l7.78-7.78 2.81-2.81c.8-.78.8-2.07 0-2.86zM5.41 20L4 18.59l7.72-7.72 1.47 1.35L5.41 20z\"/>\n",
              "  </svg>\n",
              "      </button>\n",
              "      \n",
              "  <style>\n",
              "    .colab-df-container {\n",
              "      display:flex;\n",
              "      flex-wrap:wrap;\n",
              "      gap: 12px;\n",
              "    }\n",
              "\n",
              "    .colab-df-convert {\n",
              "      background-color: #E8F0FE;\n",
              "      border: none;\n",
              "      border-radius: 50%;\n",
              "      cursor: pointer;\n",
              "      display: none;\n",
              "      fill: #1967D2;\n",
              "      height: 32px;\n",
              "      padding: 0 0 0 0;\n",
              "      width: 32px;\n",
              "    }\n",
              "\n",
              "    .colab-df-convert:hover {\n",
              "      background-color: #E2EBFA;\n",
              "      box-shadow: 0px 1px 2px rgba(60, 64, 67, 0.3), 0px 1px 3px 1px rgba(60, 64, 67, 0.15);\n",
              "      fill: #174EA6;\n",
              "    }\n",
              "\n",
              "    [theme=dark] .colab-df-convert {\n",
              "      background-color: #3B4455;\n",
              "      fill: #D2E3FC;\n",
              "    }\n",
              "\n",
              "    [theme=dark] .colab-df-convert:hover {\n",
              "      background-color: #434B5C;\n",
              "      box-shadow: 0px 1px 3px 1px rgba(0, 0, 0, 0.15);\n",
              "      filter: drop-shadow(0px 1px 2px rgba(0, 0, 0, 0.3));\n",
              "      fill: #FFFFFF;\n",
              "    }\n",
              "  </style>\n",
              "\n",
              "      <script>\n",
              "        const buttonEl =\n",
              "          document.querySelector('#df-2f8a87fc-bcab-4513-8bd4-a7c3220df733 button.colab-df-convert');\n",
              "        buttonEl.style.display =\n",
              "          google.colab.kernel.accessAllowed ? 'block' : 'none';\n",
              "\n",
              "        async function convertToInteractive(key) {\n",
              "          const element = document.querySelector('#df-2f8a87fc-bcab-4513-8bd4-a7c3220df733');\n",
              "          const dataTable =\n",
              "            await google.colab.kernel.invokeFunction('convertToInteractive',\n",
              "                                                     [key], {});\n",
              "          if (!dataTable) return;\n",
              "\n",
              "          const docLinkHtml = 'Like what you see? Visit the ' +\n",
              "            '<a target=\"_blank\" href=https://colab.research.google.com/notebooks/data_table.ipynb>data table notebook</a>'\n",
              "            + ' to learn more about interactive tables.';\n",
              "          element.innerHTML = '';\n",
              "          dataTable['output_type'] = 'display_data';\n",
              "          await google.colab.output.renderOutput(dataTable, element);\n",
              "          const docLink = document.createElement('div');\n",
              "          docLink.innerHTML = docLinkHtml;\n",
              "          element.appendChild(docLink);\n",
              "        }\n",
              "      </script>\n",
              "    </div>\n",
              "  </div>\n",
              "  "
            ]
          },
          "metadata": {},
          "execution_count": 409
        }
      ]
    },
    {
      "cell_type": "markdown",
      "source": [
        "Verificamos pela tabela acima a coerência e abrangência temporal dos dados do atributo \"Data Base\", compreendendo o período de 02/01/2018 até 29/12/2022."
      ],
      "metadata": {
        "id": "smX2YW8_NwtR"
      }
    },
    {
      "cell_type": "markdown",
      "source": [
        "### Estatísticas Descritivas"
      ],
      "metadata": {
        "id": "QXnhL2bk-T_U"
      }
    },
    {
      "cell_type": "markdown",
      "source": [
        "Nesta seção vamos exibir as principais estatísticas descritivas dos atributos quantitativos da dataset. Mas para isso precisaremos primeiramente realizar algumas conversões de tipo, uma vez que vários atributos quantitativos estão armazenados como *object* (texto) no dataset."
      ],
      "metadata": {
        "id": "2hw6JTr_JbvO"
      }
    },
    {
      "cell_type": "code",
      "source": [
        "# convertendo atributos do tipo \"objetc\" para os tipos adequados\n",
        "df_analise = df_analise.astype({\n",
        "    'Data Vencimento': 'datetime64',\n",
        "    'Taxa Venda Manha': 'float64',\n",
        "    'Variação IBOV': 'float64',\n",
        "    'Valor Dolar': 'float64',\n",
        "    'Variação CDS': 'float64'\n",
        "})"
      ],
      "metadata": {
        "id": "Vm3iuvNuCPb0"
      },
      "execution_count": 410,
      "outputs": []
    },
    {
      "cell_type": "markdown",
      "source": [
        "Também será necessário criarmos uma nova coluna para classificar os títulos de acordo com o prazo até o vencimento, pois as taxas de juros apresentam comportamentos diferentes quanto maiores os prazos."
      ],
      "metadata": {
        "id": "uo1ZSw6cxHGK"
      }
    },
    {
      "cell_type": "code",
      "source": [
        "# função para classificar os prazos dos titulos\n",
        "def classificarPrazo(qtdAnos):\n",
        "  if(qtdAnos <= 1):\n",
        "    return '1-curto'\n",
        "  elif(qtdAnos <= 5):\n",
        "    return '2-medio'\n",
        "  else:\n",
        "    return '3-longo'\n",
        "\n",
        "# criando o atributo \"Tipo Prazo\" por meio da função classificarPrazo\n",
        "df_analise['Tipo Prazo'] = (df_analise['Data Vencimento'] - df_analise['Data Base'])/np.timedelta64(1, 'Y')\n",
        "df_analise['Tipo Prazo'] = df_analise['Tipo Prazo'].apply(classificarPrazo)"
      ],
      "metadata": {
        "id": "zxJuXhA3y_Sg"
      },
      "execution_count": 411,
      "outputs": []
    },
    {
      "cell_type": "markdown",
      "source": [
        "Vamos agora observar um resumo estatístico da variável \"Taxa Venda Manha\" para cada tipo de título ofertado."
      ],
      "metadata": {
        "id": "I1eIyf56IZx-"
      }
    },
    {
      "cell_type": "code",
      "source": [
        "# exibindo as estatísticas descritivas do atributo \"Taxa Venda Manha\" agrupadas por título.\n",
        "df_analise.groupby(['Tipo Titulo', 'Tipo Prazo']).describe()['Taxa Venda Manha'].applymap('{:,.2f}'.format)"
      ],
      "metadata": {
        "id": "b2mqxs1FJzyn",
        "colab": {
          "base_uri": "https://localhost:8080/",
          "height": 645
        },
        "outputId": "64026242-e722-43a1-b5cf-b86893c9b290"
      },
      "execution_count": 412,
      "outputs": [
        {
          "output_type": "execute_result",
          "data": {
            "text/plain": [
              "                                                      count   mean   std  \\\n",
              "Tipo Titulo                            Tipo Prazo                          \n",
              "Tesouro IGPM+ com Juros Semestrais     1-curto       213.00  -0.83  1.74   \n",
              "                                       2-medio       491.00   3.01  1.32   \n",
              "                                       3-longo     1,089.00   4.51  1.06   \n",
              "Tesouro IPCA+                          1-curto       221.00   2.25  1.22   \n",
              "                                       2-medio     1,113.00   4.24  1.72   \n",
              "                                       3-longo     2,861.00   4.61  1.00   \n",
              "Tesouro IPCA+ com Juros Semestrais     1-curto       218.00   1.42  2.24   \n",
              "                                       2-medio     1,391.00   4.10  1.61   \n",
              "                                       3-longo     6,491.00   4.73  1.00   \n",
              "Tesouro Prefixado                      1-curto     1,089.00   6.95  3.66   \n",
              "                                       2-medio     3,444.00   8.43  2.78   \n",
              "                                       3-longo       804.00   9.38  2.37   \n",
              "Tesouro Prefixado com Juros Semestrais 1-curto       437.00   8.11  5.40   \n",
              "                                       2-medio     2,178.00   8.45  2.68   \n",
              "                                       3-longo     3,198.00   9.53  2.13   \n",
              "Tesouro Selic                          1-curto       400.00   0.04  0.02   \n",
              "                                       2-medio     2,562.00   0.09  0.07   \n",
              "                                       3-longo       494.00   0.16  0.13   \n",
              "\n",
              "                                                     min    25%    50%    75%  \\\n",
              "Tipo Titulo                            Tipo Prazo                               \n",
              "Tesouro IGPM+ com Juros Semestrais     1-curto     -3.30  -2.14  -0.85   0.25   \n",
              "                                       2-medio      0.50   2.01   3.21   4.06   \n",
              "                                       3-longo      2.65   3.45   4.47   5.58   \n",
              "Tesouro IPCA+                          1-curto     -1.42   2.17   2.56   3.08   \n",
              "                                       2-medio      1.32   2.51   4.59   5.69   \n",
              "                                       3-longo      2.16   3.80   4.55   5.49   \n",
              "Tesouro IPCA+ com Juros Semestrais     1-curto     -3.00  -0.06   1.29   2.28   \n",
              "                                       2-medio      1.24   2.78   3.94   5.59   \n",
              "                                       3-longo      2.02   4.01   4.64   5.69   \n",
              "Tesouro Prefixado                      1-curto      1.95   4.66   6.48   7.25   \n",
              "                                       2-medio      2.75   6.34   8.23  10.73   \n",
              "                                       3-longo      5.96   7.06   9.05  11.79   \n",
              "Tesouro Prefixado com Juros Semestrais 1-curto      1.89   2.19  11.93  13.78   \n",
              "                                       2-medio      3.76   6.21   8.21  10.94   \n",
              "                                       3-longo      5.93   7.44   9.32  11.55   \n",
              "Tesouro Selic                          1-curto      0.01   0.02   0.03   0.05   \n",
              "                                       2-medio      0.01   0.03   0.05   0.15   \n",
              "                                       3-longo      0.03   0.03   0.06   0.30   \n",
              "\n",
              "                                                     max  \n",
              "Tipo Titulo                            Tipo Prazo         \n",
              "Tesouro IGPM+ com Juros Semestrais     1-curto      5.08  \n",
              "                                       2-medio      5.27  \n",
              "                                       3-longo      6.54  \n",
              "Tesouro IPCA+                          1-curto      3.73  \n",
              "                                       2-medio      7.38  \n",
              "                                       3-longo      6.59  \n",
              "Tesouro IPCA+ com Juros Semestrais     1-curto      7.13  \n",
              "                                       2-medio      7.43  \n",
              "                                       3-longo      6.57  \n",
              "Tesouro Prefixado                      1-curto     14.20  \n",
              "                                       2-medio     14.31  \n",
              "                                       3-longo     13.80  \n",
              "Tesouro Prefixado com Juros Semestrais 1-curto     14.20  \n",
              "                                       2-medio     14.09  \n",
              "                                       3-longo     13.82  \n",
              "Tesouro Selic                          1-curto      0.16  \n",
              "                                       2-medio      0.38  \n",
              "                                       3-longo      0.36  "
            ],
            "text/html": [
              "\n",
              "  <div id=\"df-fc30e985-bdd1-42f9-9d57-00deef85c2a4\">\n",
              "    <div class=\"colab-df-container\">\n",
              "      <div>\n",
              "<style scoped>\n",
              "    .dataframe tbody tr th:only-of-type {\n",
              "        vertical-align: middle;\n",
              "    }\n",
              "\n",
              "    .dataframe tbody tr th {\n",
              "        vertical-align: top;\n",
              "    }\n",
              "\n",
              "    .dataframe thead th {\n",
              "        text-align: right;\n",
              "    }\n",
              "</style>\n",
              "<table border=\"1\" class=\"dataframe\">\n",
              "  <thead>\n",
              "    <tr style=\"text-align: right;\">\n",
              "      <th></th>\n",
              "      <th></th>\n",
              "      <th>count</th>\n",
              "      <th>mean</th>\n",
              "      <th>std</th>\n",
              "      <th>min</th>\n",
              "      <th>25%</th>\n",
              "      <th>50%</th>\n",
              "      <th>75%</th>\n",
              "      <th>max</th>\n",
              "    </tr>\n",
              "    <tr>\n",
              "      <th>Tipo Titulo</th>\n",
              "      <th>Tipo Prazo</th>\n",
              "      <th></th>\n",
              "      <th></th>\n",
              "      <th></th>\n",
              "      <th></th>\n",
              "      <th></th>\n",
              "      <th></th>\n",
              "      <th></th>\n",
              "      <th></th>\n",
              "    </tr>\n",
              "  </thead>\n",
              "  <tbody>\n",
              "    <tr>\n",
              "      <th rowspan=\"3\" valign=\"top\">Tesouro IGPM+ com Juros Semestrais</th>\n",
              "      <th>1-curto</th>\n",
              "      <td>213.00</td>\n",
              "      <td>-0.83</td>\n",
              "      <td>1.74</td>\n",
              "      <td>-3.30</td>\n",
              "      <td>-2.14</td>\n",
              "      <td>-0.85</td>\n",
              "      <td>0.25</td>\n",
              "      <td>5.08</td>\n",
              "    </tr>\n",
              "    <tr>\n",
              "      <th>2-medio</th>\n",
              "      <td>491.00</td>\n",
              "      <td>3.01</td>\n",
              "      <td>1.32</td>\n",
              "      <td>0.50</td>\n",
              "      <td>2.01</td>\n",
              "      <td>3.21</td>\n",
              "      <td>4.06</td>\n",
              "      <td>5.27</td>\n",
              "    </tr>\n",
              "    <tr>\n",
              "      <th>3-longo</th>\n",
              "      <td>1,089.00</td>\n",
              "      <td>4.51</td>\n",
              "      <td>1.06</td>\n",
              "      <td>2.65</td>\n",
              "      <td>3.45</td>\n",
              "      <td>4.47</td>\n",
              "      <td>5.58</td>\n",
              "      <td>6.54</td>\n",
              "    </tr>\n",
              "    <tr>\n",
              "      <th rowspan=\"3\" valign=\"top\">Tesouro IPCA+</th>\n",
              "      <th>1-curto</th>\n",
              "      <td>221.00</td>\n",
              "      <td>2.25</td>\n",
              "      <td>1.22</td>\n",
              "      <td>-1.42</td>\n",
              "      <td>2.17</td>\n",
              "      <td>2.56</td>\n",
              "      <td>3.08</td>\n",
              "      <td>3.73</td>\n",
              "    </tr>\n",
              "    <tr>\n",
              "      <th>2-medio</th>\n",
              "      <td>1,113.00</td>\n",
              "      <td>4.24</td>\n",
              "      <td>1.72</td>\n",
              "      <td>1.32</td>\n",
              "      <td>2.51</td>\n",
              "      <td>4.59</td>\n",
              "      <td>5.69</td>\n",
              "      <td>7.38</td>\n",
              "    </tr>\n",
              "    <tr>\n",
              "      <th>3-longo</th>\n",
              "      <td>2,861.00</td>\n",
              "      <td>4.61</td>\n",
              "      <td>1.00</td>\n",
              "      <td>2.16</td>\n",
              "      <td>3.80</td>\n",
              "      <td>4.55</td>\n",
              "      <td>5.49</td>\n",
              "      <td>6.59</td>\n",
              "    </tr>\n",
              "    <tr>\n",
              "      <th rowspan=\"3\" valign=\"top\">Tesouro IPCA+ com Juros Semestrais</th>\n",
              "      <th>1-curto</th>\n",
              "      <td>218.00</td>\n",
              "      <td>1.42</td>\n",
              "      <td>2.24</td>\n",
              "      <td>-3.00</td>\n",
              "      <td>-0.06</td>\n",
              "      <td>1.29</td>\n",
              "      <td>2.28</td>\n",
              "      <td>7.13</td>\n",
              "    </tr>\n",
              "    <tr>\n",
              "      <th>2-medio</th>\n",
              "      <td>1,391.00</td>\n",
              "      <td>4.10</td>\n",
              "      <td>1.61</td>\n",
              "      <td>1.24</td>\n",
              "      <td>2.78</td>\n",
              "      <td>3.94</td>\n",
              "      <td>5.59</td>\n",
              "      <td>7.43</td>\n",
              "    </tr>\n",
              "    <tr>\n",
              "      <th>3-longo</th>\n",
              "      <td>6,491.00</td>\n",
              "      <td>4.73</td>\n",
              "      <td>1.00</td>\n",
              "      <td>2.02</td>\n",
              "      <td>4.01</td>\n",
              "      <td>4.64</td>\n",
              "      <td>5.69</td>\n",
              "      <td>6.57</td>\n",
              "    </tr>\n",
              "    <tr>\n",
              "      <th rowspan=\"3\" valign=\"top\">Tesouro Prefixado</th>\n",
              "      <th>1-curto</th>\n",
              "      <td>1,089.00</td>\n",
              "      <td>6.95</td>\n",
              "      <td>3.66</td>\n",
              "      <td>1.95</td>\n",
              "      <td>4.66</td>\n",
              "      <td>6.48</td>\n",
              "      <td>7.25</td>\n",
              "      <td>14.20</td>\n",
              "    </tr>\n",
              "    <tr>\n",
              "      <th>2-medio</th>\n",
              "      <td>3,444.00</td>\n",
              "      <td>8.43</td>\n",
              "      <td>2.78</td>\n",
              "      <td>2.75</td>\n",
              "      <td>6.34</td>\n",
              "      <td>8.23</td>\n",
              "      <td>10.73</td>\n",
              "      <td>14.31</td>\n",
              "    </tr>\n",
              "    <tr>\n",
              "      <th>3-longo</th>\n",
              "      <td>804.00</td>\n",
              "      <td>9.38</td>\n",
              "      <td>2.37</td>\n",
              "      <td>5.96</td>\n",
              "      <td>7.06</td>\n",
              "      <td>9.05</td>\n",
              "      <td>11.79</td>\n",
              "      <td>13.80</td>\n",
              "    </tr>\n",
              "    <tr>\n",
              "      <th rowspan=\"3\" valign=\"top\">Tesouro Prefixado com Juros Semestrais</th>\n",
              "      <th>1-curto</th>\n",
              "      <td>437.00</td>\n",
              "      <td>8.11</td>\n",
              "      <td>5.40</td>\n",
              "      <td>1.89</td>\n",
              "      <td>2.19</td>\n",
              "      <td>11.93</td>\n",
              "      <td>13.78</td>\n",
              "      <td>14.20</td>\n",
              "    </tr>\n",
              "    <tr>\n",
              "      <th>2-medio</th>\n",
              "      <td>2,178.00</td>\n",
              "      <td>8.45</td>\n",
              "      <td>2.68</td>\n",
              "      <td>3.76</td>\n",
              "      <td>6.21</td>\n",
              "      <td>8.21</td>\n",
              "      <td>10.94</td>\n",
              "      <td>14.09</td>\n",
              "    </tr>\n",
              "    <tr>\n",
              "      <th>3-longo</th>\n",
              "      <td>3,198.00</td>\n",
              "      <td>9.53</td>\n",
              "      <td>2.13</td>\n",
              "      <td>5.93</td>\n",
              "      <td>7.44</td>\n",
              "      <td>9.32</td>\n",
              "      <td>11.55</td>\n",
              "      <td>13.82</td>\n",
              "    </tr>\n",
              "    <tr>\n",
              "      <th rowspan=\"3\" valign=\"top\">Tesouro Selic</th>\n",
              "      <th>1-curto</th>\n",
              "      <td>400.00</td>\n",
              "      <td>0.04</td>\n",
              "      <td>0.02</td>\n",
              "      <td>0.01</td>\n",
              "      <td>0.02</td>\n",
              "      <td>0.03</td>\n",
              "      <td>0.05</td>\n",
              "      <td>0.16</td>\n",
              "    </tr>\n",
              "    <tr>\n",
              "      <th>2-medio</th>\n",
              "      <td>2,562.00</td>\n",
              "      <td>0.09</td>\n",
              "      <td>0.07</td>\n",
              "      <td>0.01</td>\n",
              "      <td>0.03</td>\n",
              "      <td>0.05</td>\n",
              "      <td>0.15</td>\n",
              "      <td>0.38</td>\n",
              "    </tr>\n",
              "    <tr>\n",
              "      <th>3-longo</th>\n",
              "      <td>494.00</td>\n",
              "      <td>0.16</td>\n",
              "      <td>0.13</td>\n",
              "      <td>0.03</td>\n",
              "      <td>0.03</td>\n",
              "      <td>0.06</td>\n",
              "      <td>0.30</td>\n",
              "      <td>0.36</td>\n",
              "    </tr>\n",
              "  </tbody>\n",
              "</table>\n",
              "</div>\n",
              "      <button class=\"colab-df-convert\" onclick=\"convertToInteractive('df-fc30e985-bdd1-42f9-9d57-00deef85c2a4')\"\n",
              "              title=\"Convert this dataframe to an interactive table.\"\n",
              "              style=\"display:none;\">\n",
              "        \n",
              "  <svg xmlns=\"http://www.w3.org/2000/svg\" height=\"24px\"viewBox=\"0 0 24 24\"\n",
              "       width=\"24px\">\n",
              "    <path d=\"M0 0h24v24H0V0z\" fill=\"none\"/>\n",
              "    <path d=\"M18.56 5.44l.94 2.06.94-2.06 2.06-.94-2.06-.94-.94-2.06-.94 2.06-2.06.94zm-11 1L8.5 8.5l.94-2.06 2.06-.94-2.06-.94L8.5 2.5l-.94 2.06-2.06.94zm10 10l.94 2.06.94-2.06 2.06-.94-2.06-.94-.94-2.06-.94 2.06-2.06.94z\"/><path d=\"M17.41 7.96l-1.37-1.37c-.4-.4-.92-.59-1.43-.59-.52 0-1.04.2-1.43.59L10.3 9.45l-7.72 7.72c-.78.78-.78 2.05 0 2.83L4 21.41c.39.39.9.59 1.41.59.51 0 1.02-.2 1.41-.59l7.78-7.78 2.81-2.81c.8-.78.8-2.07 0-2.86zM5.41 20L4 18.59l7.72-7.72 1.47 1.35L5.41 20z\"/>\n",
              "  </svg>\n",
              "      </button>\n",
              "      \n",
              "  <style>\n",
              "    .colab-df-container {\n",
              "      display:flex;\n",
              "      flex-wrap:wrap;\n",
              "      gap: 12px;\n",
              "    }\n",
              "\n",
              "    .colab-df-convert {\n",
              "      background-color: #E8F0FE;\n",
              "      border: none;\n",
              "      border-radius: 50%;\n",
              "      cursor: pointer;\n",
              "      display: none;\n",
              "      fill: #1967D2;\n",
              "      height: 32px;\n",
              "      padding: 0 0 0 0;\n",
              "      width: 32px;\n",
              "    }\n",
              "\n",
              "    .colab-df-convert:hover {\n",
              "      background-color: #E2EBFA;\n",
              "      box-shadow: 0px 1px 2px rgba(60, 64, 67, 0.3), 0px 1px 3px 1px rgba(60, 64, 67, 0.15);\n",
              "      fill: #174EA6;\n",
              "    }\n",
              "\n",
              "    [theme=dark] .colab-df-convert {\n",
              "      background-color: #3B4455;\n",
              "      fill: #D2E3FC;\n",
              "    }\n",
              "\n",
              "    [theme=dark] .colab-df-convert:hover {\n",
              "      background-color: #434B5C;\n",
              "      box-shadow: 0px 1px 3px 1px rgba(0, 0, 0, 0.15);\n",
              "      filter: drop-shadow(0px 1px 2px rgba(0, 0, 0, 0.3));\n",
              "      fill: #FFFFFF;\n",
              "    }\n",
              "  </style>\n",
              "\n",
              "      <script>\n",
              "        const buttonEl =\n",
              "          document.querySelector('#df-fc30e985-bdd1-42f9-9d57-00deef85c2a4 button.colab-df-convert');\n",
              "        buttonEl.style.display =\n",
              "          google.colab.kernel.accessAllowed ? 'block' : 'none';\n",
              "\n",
              "        async function convertToInteractive(key) {\n",
              "          const element = document.querySelector('#df-fc30e985-bdd1-42f9-9d57-00deef85c2a4');\n",
              "          const dataTable =\n",
              "            await google.colab.kernel.invokeFunction('convertToInteractive',\n",
              "                                                     [key], {});\n",
              "          if (!dataTable) return;\n",
              "\n",
              "          const docLinkHtml = 'Like what you see? Visit the ' +\n",
              "            '<a target=\"_blank\" href=https://colab.research.google.com/notebooks/data_table.ipynb>data table notebook</a>'\n",
              "            + ' to learn more about interactive tables.';\n",
              "          element.innerHTML = '';\n",
              "          dataTable['output_type'] = 'display_data';\n",
              "          await google.colab.output.renderOutput(dataTable, element);\n",
              "          const docLink = document.createElement('div');\n",
              "          docLink.innerHTML = docLinkHtml;\n",
              "          element.appendChild(docLink);\n",
              "        }\n",
              "      </script>\n",
              "    </div>\n",
              "  </div>\n",
              "  "
            ]
          },
          "metadata": {},
          "execution_count": 412
        }
      ]
    },
    {
      "cell_type": "markdown",
      "source": [
        "É comum agrupar os títulos de acordo com o tipo de rentabilidade: prefixada, pós-fixada, ou indexada à inflação. Por isso, vamos estratificar a análise dos títulos criando uma coluna nova para fazer a classificação por rentabilidade."
      ],
      "metadata": {
        "id": "PCOwIboO0DaU"
      }
    },
    {
      "cell_type": "code",
      "source": [
        "# função para classificar a rentabilidade do titulo\n",
        "def classificarTitulo(titulo):\n",
        "  if 'Selic' in titulo:\n",
        "    return 'Pós-fixado'\n",
        "  elif 'Prefixado' in titulo:\n",
        "    return 'Prefixado'\n",
        "  else:\n",
        "    return 'Inflação'\n",
        "\n",
        "# criando a coluna Tipo Rentabilidade por meio da função classificarTitulo\n",
        "df_analise['Tipo Rentabilidade'] = df_analise['Tipo Titulo'].apply(classificarTitulo)\n",
        "# exibe o dataframe\n",
        "df_analise"
      ],
      "metadata": {
        "colab": {
          "base_uri": "https://localhost:8080/",
          "height": 424
        },
        "id": "84bDLBml0WYP",
        "outputId": "1bfa1d36-43d7-4f8e-be2d-b5c1b8194d57"
      },
      "execution_count": 413,
      "outputs": [
        {
          "output_type": "execute_result",
          "data": {
            "text/plain": [
              "                                  Tipo Titulo Data Vencimento  Data Base  \\\n",
              "0      Tesouro Prefixado com Juros Semestrais      2029-01-01 2020-12-17   \n",
              "1                               Tesouro IPCA+      2026-08-15 2020-12-17   \n",
              "2                               Tesouro IPCA+      2024-08-15 2020-12-17   \n",
              "3          Tesouro IGPM+ com Juros Semestrais      2021-04-01 2020-12-17   \n",
              "4                           Tesouro Prefixado      2023-01-01 2020-12-17   \n",
              "...                                       ...             ...        ...   \n",
              "28689      Tesouro IPCA+ com Juros Semestrais      2020-08-15 2018-01-03   \n",
              "28690      Tesouro IGPM+ com Juros Semestrais      2021-04-01 2018-01-03   \n",
              "28691                       Tesouro Prefixado      2023-01-01 2018-01-03   \n",
              "28692  Tesouro Prefixado com Juros Semestrais      2021-01-01 2018-01-03   \n",
              "28693                           Tesouro IPCA+      2024-08-15 2018-01-03   \n",
              "\n",
              "       Taxa Venda Manha  Volume IBOV  Variação IBOV  Valor Dolar  \\\n",
              "0                  6.97      7701390           0.46       5.0606   \n",
              "1                  2.54      7701390           0.46       5.0606   \n",
              "2                  1.79      7701390           0.46       5.0606   \n",
              "3                 -0.30      7701390           0.46       5.0606   \n",
              "4                  4.61      7701390           0.46       5.0606   \n",
              "...                 ...          ...            ...          ...   \n",
              "28689              3.87      3239424           0.13       3.2614   \n",
              "28690              4.20      3239424           0.13       3.2614   \n",
              "28691              9.80      3239424           0.13       3.2614   \n",
              "28692              8.71      3239424           0.13       3.2614   \n",
              "28693              5.11      3239424           0.13       3.2614   \n",
              "\n",
              "       Variação CDS Tipo Prazo Tipo Rentabilidade  \n",
              "0             -1.26    3-longo          Prefixado  \n",
              "1             -1.26    3-longo           Inflação  \n",
              "2             -1.26    2-medio           Inflação  \n",
              "3             -1.26    1-curto           Inflação  \n",
              "4             -1.26    2-medio          Prefixado  \n",
              "...             ...        ...                ...  \n",
              "28689         -2.21    2-medio           Inflação  \n",
              "28690         -2.21    2-medio           Inflação  \n",
              "28691         -2.21    2-medio          Prefixado  \n",
              "28692         -2.21    2-medio          Prefixado  \n",
              "28693         -2.21    3-longo           Inflação  \n",
              "\n",
              "[28694 rows x 10 columns]"
            ],
            "text/html": [
              "\n",
              "  <div id=\"df-d50ddf1b-9845-4a83-9bfa-cbeb8fbd9b4e\">\n",
              "    <div class=\"colab-df-container\">\n",
              "      <div>\n",
              "<style scoped>\n",
              "    .dataframe tbody tr th:only-of-type {\n",
              "        vertical-align: middle;\n",
              "    }\n",
              "\n",
              "    .dataframe tbody tr th {\n",
              "        vertical-align: top;\n",
              "    }\n",
              "\n",
              "    .dataframe thead th {\n",
              "        text-align: right;\n",
              "    }\n",
              "</style>\n",
              "<table border=\"1\" class=\"dataframe\">\n",
              "  <thead>\n",
              "    <tr style=\"text-align: right;\">\n",
              "      <th></th>\n",
              "      <th>Tipo Titulo</th>\n",
              "      <th>Data Vencimento</th>\n",
              "      <th>Data Base</th>\n",
              "      <th>Taxa Venda Manha</th>\n",
              "      <th>Volume IBOV</th>\n",
              "      <th>Variação IBOV</th>\n",
              "      <th>Valor Dolar</th>\n",
              "      <th>Variação CDS</th>\n",
              "      <th>Tipo Prazo</th>\n",
              "      <th>Tipo Rentabilidade</th>\n",
              "    </tr>\n",
              "  </thead>\n",
              "  <tbody>\n",
              "    <tr>\n",
              "      <th>0</th>\n",
              "      <td>Tesouro Prefixado com Juros Semestrais</td>\n",
              "      <td>2029-01-01</td>\n",
              "      <td>2020-12-17</td>\n",
              "      <td>6.97</td>\n",
              "      <td>7701390</td>\n",
              "      <td>0.46</td>\n",
              "      <td>5.0606</td>\n",
              "      <td>-1.26</td>\n",
              "      <td>3-longo</td>\n",
              "      <td>Prefixado</td>\n",
              "    </tr>\n",
              "    <tr>\n",
              "      <th>1</th>\n",
              "      <td>Tesouro IPCA+</td>\n",
              "      <td>2026-08-15</td>\n",
              "      <td>2020-12-17</td>\n",
              "      <td>2.54</td>\n",
              "      <td>7701390</td>\n",
              "      <td>0.46</td>\n",
              "      <td>5.0606</td>\n",
              "      <td>-1.26</td>\n",
              "      <td>3-longo</td>\n",
              "      <td>Inflação</td>\n",
              "    </tr>\n",
              "    <tr>\n",
              "      <th>2</th>\n",
              "      <td>Tesouro IPCA+</td>\n",
              "      <td>2024-08-15</td>\n",
              "      <td>2020-12-17</td>\n",
              "      <td>1.79</td>\n",
              "      <td>7701390</td>\n",
              "      <td>0.46</td>\n",
              "      <td>5.0606</td>\n",
              "      <td>-1.26</td>\n",
              "      <td>2-medio</td>\n",
              "      <td>Inflação</td>\n",
              "    </tr>\n",
              "    <tr>\n",
              "      <th>3</th>\n",
              "      <td>Tesouro IGPM+ com Juros Semestrais</td>\n",
              "      <td>2021-04-01</td>\n",
              "      <td>2020-12-17</td>\n",
              "      <td>-0.30</td>\n",
              "      <td>7701390</td>\n",
              "      <td>0.46</td>\n",
              "      <td>5.0606</td>\n",
              "      <td>-1.26</td>\n",
              "      <td>1-curto</td>\n",
              "      <td>Inflação</td>\n",
              "    </tr>\n",
              "    <tr>\n",
              "      <th>4</th>\n",
              "      <td>Tesouro Prefixado</td>\n",
              "      <td>2023-01-01</td>\n",
              "      <td>2020-12-17</td>\n",
              "      <td>4.61</td>\n",
              "      <td>7701390</td>\n",
              "      <td>0.46</td>\n",
              "      <td>5.0606</td>\n",
              "      <td>-1.26</td>\n",
              "      <td>2-medio</td>\n",
              "      <td>Prefixado</td>\n",
              "    </tr>\n",
              "    <tr>\n",
              "      <th>...</th>\n",
              "      <td>...</td>\n",
              "      <td>...</td>\n",
              "      <td>...</td>\n",
              "      <td>...</td>\n",
              "      <td>...</td>\n",
              "      <td>...</td>\n",
              "      <td>...</td>\n",
              "      <td>...</td>\n",
              "      <td>...</td>\n",
              "      <td>...</td>\n",
              "    </tr>\n",
              "    <tr>\n",
              "      <th>28689</th>\n",
              "      <td>Tesouro IPCA+ com Juros Semestrais</td>\n",
              "      <td>2020-08-15</td>\n",
              "      <td>2018-01-03</td>\n",
              "      <td>3.87</td>\n",
              "      <td>3239424</td>\n",
              "      <td>0.13</td>\n",
              "      <td>3.2614</td>\n",
              "      <td>-2.21</td>\n",
              "      <td>2-medio</td>\n",
              "      <td>Inflação</td>\n",
              "    </tr>\n",
              "    <tr>\n",
              "      <th>28690</th>\n",
              "      <td>Tesouro IGPM+ com Juros Semestrais</td>\n",
              "      <td>2021-04-01</td>\n",
              "      <td>2018-01-03</td>\n",
              "      <td>4.20</td>\n",
              "      <td>3239424</td>\n",
              "      <td>0.13</td>\n",
              "      <td>3.2614</td>\n",
              "      <td>-2.21</td>\n",
              "      <td>2-medio</td>\n",
              "      <td>Inflação</td>\n",
              "    </tr>\n",
              "    <tr>\n",
              "      <th>28691</th>\n",
              "      <td>Tesouro Prefixado</td>\n",
              "      <td>2023-01-01</td>\n",
              "      <td>2018-01-03</td>\n",
              "      <td>9.80</td>\n",
              "      <td>3239424</td>\n",
              "      <td>0.13</td>\n",
              "      <td>3.2614</td>\n",
              "      <td>-2.21</td>\n",
              "      <td>2-medio</td>\n",
              "      <td>Prefixado</td>\n",
              "    </tr>\n",
              "    <tr>\n",
              "      <th>28692</th>\n",
              "      <td>Tesouro Prefixado com Juros Semestrais</td>\n",
              "      <td>2021-01-01</td>\n",
              "      <td>2018-01-03</td>\n",
              "      <td>8.71</td>\n",
              "      <td>3239424</td>\n",
              "      <td>0.13</td>\n",
              "      <td>3.2614</td>\n",
              "      <td>-2.21</td>\n",
              "      <td>2-medio</td>\n",
              "      <td>Prefixado</td>\n",
              "    </tr>\n",
              "    <tr>\n",
              "      <th>28693</th>\n",
              "      <td>Tesouro IPCA+</td>\n",
              "      <td>2024-08-15</td>\n",
              "      <td>2018-01-03</td>\n",
              "      <td>5.11</td>\n",
              "      <td>3239424</td>\n",
              "      <td>0.13</td>\n",
              "      <td>3.2614</td>\n",
              "      <td>-2.21</td>\n",
              "      <td>3-longo</td>\n",
              "      <td>Inflação</td>\n",
              "    </tr>\n",
              "  </tbody>\n",
              "</table>\n",
              "<p>28694 rows × 10 columns</p>\n",
              "</div>\n",
              "      <button class=\"colab-df-convert\" onclick=\"convertToInteractive('df-d50ddf1b-9845-4a83-9bfa-cbeb8fbd9b4e')\"\n",
              "              title=\"Convert this dataframe to an interactive table.\"\n",
              "              style=\"display:none;\">\n",
              "        \n",
              "  <svg xmlns=\"http://www.w3.org/2000/svg\" height=\"24px\"viewBox=\"0 0 24 24\"\n",
              "       width=\"24px\">\n",
              "    <path d=\"M0 0h24v24H0V0z\" fill=\"none\"/>\n",
              "    <path d=\"M18.56 5.44l.94 2.06.94-2.06 2.06-.94-2.06-.94-.94-2.06-.94 2.06-2.06.94zm-11 1L8.5 8.5l.94-2.06 2.06-.94-2.06-.94L8.5 2.5l-.94 2.06-2.06.94zm10 10l.94 2.06.94-2.06 2.06-.94-2.06-.94-.94-2.06-.94 2.06-2.06.94z\"/><path d=\"M17.41 7.96l-1.37-1.37c-.4-.4-.92-.59-1.43-.59-.52 0-1.04.2-1.43.59L10.3 9.45l-7.72 7.72c-.78.78-.78 2.05 0 2.83L4 21.41c.39.39.9.59 1.41.59.51 0 1.02-.2 1.41-.59l7.78-7.78 2.81-2.81c.8-.78.8-2.07 0-2.86zM5.41 20L4 18.59l7.72-7.72 1.47 1.35L5.41 20z\"/>\n",
              "  </svg>\n",
              "      </button>\n",
              "      \n",
              "  <style>\n",
              "    .colab-df-container {\n",
              "      display:flex;\n",
              "      flex-wrap:wrap;\n",
              "      gap: 12px;\n",
              "    }\n",
              "\n",
              "    .colab-df-convert {\n",
              "      background-color: #E8F0FE;\n",
              "      border: none;\n",
              "      border-radius: 50%;\n",
              "      cursor: pointer;\n",
              "      display: none;\n",
              "      fill: #1967D2;\n",
              "      height: 32px;\n",
              "      padding: 0 0 0 0;\n",
              "      width: 32px;\n",
              "    }\n",
              "\n",
              "    .colab-df-convert:hover {\n",
              "      background-color: #E2EBFA;\n",
              "      box-shadow: 0px 1px 2px rgba(60, 64, 67, 0.3), 0px 1px 3px 1px rgba(60, 64, 67, 0.15);\n",
              "      fill: #174EA6;\n",
              "    }\n",
              "\n",
              "    [theme=dark] .colab-df-convert {\n",
              "      background-color: #3B4455;\n",
              "      fill: #D2E3FC;\n",
              "    }\n",
              "\n",
              "    [theme=dark] .colab-df-convert:hover {\n",
              "      background-color: #434B5C;\n",
              "      box-shadow: 0px 1px 3px 1px rgba(0, 0, 0, 0.15);\n",
              "      filter: drop-shadow(0px 1px 2px rgba(0, 0, 0, 0.3));\n",
              "      fill: #FFFFFF;\n",
              "    }\n",
              "  </style>\n",
              "\n",
              "      <script>\n",
              "        const buttonEl =\n",
              "          document.querySelector('#df-d50ddf1b-9845-4a83-9bfa-cbeb8fbd9b4e button.colab-df-convert');\n",
              "        buttonEl.style.display =\n",
              "          google.colab.kernel.accessAllowed ? 'block' : 'none';\n",
              "\n",
              "        async function convertToInteractive(key) {\n",
              "          const element = document.querySelector('#df-d50ddf1b-9845-4a83-9bfa-cbeb8fbd9b4e');\n",
              "          const dataTable =\n",
              "            await google.colab.kernel.invokeFunction('convertToInteractive',\n",
              "                                                     [key], {});\n",
              "          if (!dataTable) return;\n",
              "\n",
              "          const docLinkHtml = 'Like what you see? Visit the ' +\n",
              "            '<a target=\"_blank\" href=https://colab.research.google.com/notebooks/data_table.ipynb>data table notebook</a>'\n",
              "            + ' to learn more about interactive tables.';\n",
              "          element.innerHTML = '';\n",
              "          dataTable['output_type'] = 'display_data';\n",
              "          await google.colab.output.renderOutput(dataTable, element);\n",
              "          const docLink = document.createElement('div');\n",
              "          docLink.innerHTML = docLinkHtml;\n",
              "          element.appendChild(docLink);\n",
              "        }\n",
              "      </script>\n",
              "    </div>\n",
              "  </div>\n",
              "  "
            ]
          },
          "metadata": {},
          "execution_count": 413
        }
      ]
    },
    {
      "cell_type": "markdown",
      "source": [
        "Agora vamos reexibir as estatísticas descritivas, agora agrupadas por tipo de rentablidade."
      ],
      "metadata": {
        "id": "skfZtqAP19Vr"
      }
    },
    {
      "cell_type": "code",
      "source": [
        "# exibindo as estatísticas descritivas do atributo \"Taxa Venda Manha\" agrupadas por tipo de rentabildiade.\n",
        "df_analise.groupby(['Tipo Rentabilidade', 'Tipo Prazo']).describe()['Taxa Venda Manha'].applymap('{:,.2f}'.format)"
      ],
      "metadata": {
        "colab": {
          "base_uri": "https://localhost:8080/",
          "height": 363
        },
        "id": "7_d6U9zZ2F1t",
        "outputId": "5d4ea7aa-2f93-4adf-f2b6-ae5bacfd13b5"
      },
      "execution_count": 414,
      "outputs": [
        {
          "output_type": "execute_result",
          "data": {
            "text/plain": [
              "                                   count  mean   std    min    25%   50%  \\\n",
              "Tipo Rentabilidade Tipo Prazo                                              \n",
              "Inflação           1-curto        652.00  0.97  2.20  -3.30  -0.68  1.29   \n",
              "                   2-medio      2,995.00  3.97  1.67   0.50   2.55  3.85   \n",
              "                   3-longo     10,441.00  4.67  1.01   2.02   3.90  4.60   \n",
              "Prefixado          1-curto      1,526.00  7.28  4.26   1.89   4.00  6.48   \n",
              "                   2-medio      5,622.00  8.44  2.74   2.75   6.28  8.22   \n",
              "                   3-longo      4,002.00  9.50  2.18   5.93   7.36  9.30   \n",
              "Pós-fixado         1-curto        400.00  0.04  0.02   0.01   0.02  0.03   \n",
              "                   2-medio      2,562.00  0.09  0.07   0.01   0.03  0.05   \n",
              "                   3-longo        494.00  0.16  0.13   0.03   0.03  0.06   \n",
              "\n",
              "                                 75%    max  \n",
              "Tipo Rentabilidade Tipo Prazo                \n",
              "Inflação           1-curto      2.54   7.13  \n",
              "                   2-medio      5.52   7.43  \n",
              "                   3-longo      5.64   6.59  \n",
              "Prefixado          1-curto     12.53  14.20  \n",
              "                   2-medio     10.83  14.31  \n",
              "                   3-longo     11.61  13.82  \n",
              "Pós-fixado         1-curto      0.05   0.16  \n",
              "                   2-medio      0.15   0.38  \n",
              "                   3-longo      0.30   0.36  "
            ],
            "text/html": [
              "\n",
              "  <div id=\"df-d43a861d-816b-4d2d-9136-772f5febfa58\">\n",
              "    <div class=\"colab-df-container\">\n",
              "      <div>\n",
              "<style scoped>\n",
              "    .dataframe tbody tr th:only-of-type {\n",
              "        vertical-align: middle;\n",
              "    }\n",
              "\n",
              "    .dataframe tbody tr th {\n",
              "        vertical-align: top;\n",
              "    }\n",
              "\n",
              "    .dataframe thead th {\n",
              "        text-align: right;\n",
              "    }\n",
              "</style>\n",
              "<table border=\"1\" class=\"dataframe\">\n",
              "  <thead>\n",
              "    <tr style=\"text-align: right;\">\n",
              "      <th></th>\n",
              "      <th></th>\n",
              "      <th>count</th>\n",
              "      <th>mean</th>\n",
              "      <th>std</th>\n",
              "      <th>min</th>\n",
              "      <th>25%</th>\n",
              "      <th>50%</th>\n",
              "      <th>75%</th>\n",
              "      <th>max</th>\n",
              "    </tr>\n",
              "    <tr>\n",
              "      <th>Tipo Rentabilidade</th>\n",
              "      <th>Tipo Prazo</th>\n",
              "      <th></th>\n",
              "      <th></th>\n",
              "      <th></th>\n",
              "      <th></th>\n",
              "      <th></th>\n",
              "      <th></th>\n",
              "      <th></th>\n",
              "      <th></th>\n",
              "    </tr>\n",
              "  </thead>\n",
              "  <tbody>\n",
              "    <tr>\n",
              "      <th rowspan=\"3\" valign=\"top\">Inflação</th>\n",
              "      <th>1-curto</th>\n",
              "      <td>652.00</td>\n",
              "      <td>0.97</td>\n",
              "      <td>2.20</td>\n",
              "      <td>-3.30</td>\n",
              "      <td>-0.68</td>\n",
              "      <td>1.29</td>\n",
              "      <td>2.54</td>\n",
              "      <td>7.13</td>\n",
              "    </tr>\n",
              "    <tr>\n",
              "      <th>2-medio</th>\n",
              "      <td>2,995.00</td>\n",
              "      <td>3.97</td>\n",
              "      <td>1.67</td>\n",
              "      <td>0.50</td>\n",
              "      <td>2.55</td>\n",
              "      <td>3.85</td>\n",
              "      <td>5.52</td>\n",
              "      <td>7.43</td>\n",
              "    </tr>\n",
              "    <tr>\n",
              "      <th>3-longo</th>\n",
              "      <td>10,441.00</td>\n",
              "      <td>4.67</td>\n",
              "      <td>1.01</td>\n",
              "      <td>2.02</td>\n",
              "      <td>3.90</td>\n",
              "      <td>4.60</td>\n",
              "      <td>5.64</td>\n",
              "      <td>6.59</td>\n",
              "    </tr>\n",
              "    <tr>\n",
              "      <th rowspan=\"3\" valign=\"top\">Prefixado</th>\n",
              "      <th>1-curto</th>\n",
              "      <td>1,526.00</td>\n",
              "      <td>7.28</td>\n",
              "      <td>4.26</td>\n",
              "      <td>1.89</td>\n",
              "      <td>4.00</td>\n",
              "      <td>6.48</td>\n",
              "      <td>12.53</td>\n",
              "      <td>14.20</td>\n",
              "    </tr>\n",
              "    <tr>\n",
              "      <th>2-medio</th>\n",
              "      <td>5,622.00</td>\n",
              "      <td>8.44</td>\n",
              "      <td>2.74</td>\n",
              "      <td>2.75</td>\n",
              "      <td>6.28</td>\n",
              "      <td>8.22</td>\n",
              "      <td>10.83</td>\n",
              "      <td>14.31</td>\n",
              "    </tr>\n",
              "    <tr>\n",
              "      <th>3-longo</th>\n",
              "      <td>4,002.00</td>\n",
              "      <td>9.50</td>\n",
              "      <td>2.18</td>\n",
              "      <td>5.93</td>\n",
              "      <td>7.36</td>\n",
              "      <td>9.30</td>\n",
              "      <td>11.61</td>\n",
              "      <td>13.82</td>\n",
              "    </tr>\n",
              "    <tr>\n",
              "      <th rowspan=\"3\" valign=\"top\">Pós-fixado</th>\n",
              "      <th>1-curto</th>\n",
              "      <td>400.00</td>\n",
              "      <td>0.04</td>\n",
              "      <td>0.02</td>\n",
              "      <td>0.01</td>\n",
              "      <td>0.02</td>\n",
              "      <td>0.03</td>\n",
              "      <td>0.05</td>\n",
              "      <td>0.16</td>\n",
              "    </tr>\n",
              "    <tr>\n",
              "      <th>2-medio</th>\n",
              "      <td>2,562.00</td>\n",
              "      <td>0.09</td>\n",
              "      <td>0.07</td>\n",
              "      <td>0.01</td>\n",
              "      <td>0.03</td>\n",
              "      <td>0.05</td>\n",
              "      <td>0.15</td>\n",
              "      <td>0.38</td>\n",
              "    </tr>\n",
              "    <tr>\n",
              "      <th>3-longo</th>\n",
              "      <td>494.00</td>\n",
              "      <td>0.16</td>\n",
              "      <td>0.13</td>\n",
              "      <td>0.03</td>\n",
              "      <td>0.03</td>\n",
              "      <td>0.06</td>\n",
              "      <td>0.30</td>\n",
              "      <td>0.36</td>\n",
              "    </tr>\n",
              "  </tbody>\n",
              "</table>\n",
              "</div>\n",
              "      <button class=\"colab-df-convert\" onclick=\"convertToInteractive('df-d43a861d-816b-4d2d-9136-772f5febfa58')\"\n",
              "              title=\"Convert this dataframe to an interactive table.\"\n",
              "              style=\"display:none;\">\n",
              "        \n",
              "  <svg xmlns=\"http://www.w3.org/2000/svg\" height=\"24px\"viewBox=\"0 0 24 24\"\n",
              "       width=\"24px\">\n",
              "    <path d=\"M0 0h24v24H0V0z\" fill=\"none\"/>\n",
              "    <path d=\"M18.56 5.44l.94 2.06.94-2.06 2.06-.94-2.06-.94-.94-2.06-.94 2.06-2.06.94zm-11 1L8.5 8.5l.94-2.06 2.06-.94-2.06-.94L8.5 2.5l-.94 2.06-2.06.94zm10 10l.94 2.06.94-2.06 2.06-.94-2.06-.94-.94-2.06-.94 2.06-2.06.94z\"/><path d=\"M17.41 7.96l-1.37-1.37c-.4-.4-.92-.59-1.43-.59-.52 0-1.04.2-1.43.59L10.3 9.45l-7.72 7.72c-.78.78-.78 2.05 0 2.83L4 21.41c.39.39.9.59 1.41.59.51 0 1.02-.2 1.41-.59l7.78-7.78 2.81-2.81c.8-.78.8-2.07 0-2.86zM5.41 20L4 18.59l7.72-7.72 1.47 1.35L5.41 20z\"/>\n",
              "  </svg>\n",
              "      </button>\n",
              "      \n",
              "  <style>\n",
              "    .colab-df-container {\n",
              "      display:flex;\n",
              "      flex-wrap:wrap;\n",
              "      gap: 12px;\n",
              "    }\n",
              "\n",
              "    .colab-df-convert {\n",
              "      background-color: #E8F0FE;\n",
              "      border: none;\n",
              "      border-radius: 50%;\n",
              "      cursor: pointer;\n",
              "      display: none;\n",
              "      fill: #1967D2;\n",
              "      height: 32px;\n",
              "      padding: 0 0 0 0;\n",
              "      width: 32px;\n",
              "    }\n",
              "\n",
              "    .colab-df-convert:hover {\n",
              "      background-color: #E2EBFA;\n",
              "      box-shadow: 0px 1px 2px rgba(60, 64, 67, 0.3), 0px 1px 3px 1px rgba(60, 64, 67, 0.15);\n",
              "      fill: #174EA6;\n",
              "    }\n",
              "\n",
              "    [theme=dark] .colab-df-convert {\n",
              "      background-color: #3B4455;\n",
              "      fill: #D2E3FC;\n",
              "    }\n",
              "\n",
              "    [theme=dark] .colab-df-convert:hover {\n",
              "      background-color: #434B5C;\n",
              "      box-shadow: 0px 1px 3px 1px rgba(0, 0, 0, 0.15);\n",
              "      filter: drop-shadow(0px 1px 2px rgba(0, 0, 0, 0.3));\n",
              "      fill: #FFFFFF;\n",
              "    }\n",
              "  </style>\n",
              "\n",
              "      <script>\n",
              "        const buttonEl =\n",
              "          document.querySelector('#df-d43a861d-816b-4d2d-9136-772f5febfa58 button.colab-df-convert');\n",
              "        buttonEl.style.display =\n",
              "          google.colab.kernel.accessAllowed ? 'block' : 'none';\n",
              "\n",
              "        async function convertToInteractive(key) {\n",
              "          const element = document.querySelector('#df-d43a861d-816b-4d2d-9136-772f5febfa58');\n",
              "          const dataTable =\n",
              "            await google.colab.kernel.invokeFunction('convertToInteractive',\n",
              "                                                     [key], {});\n",
              "          if (!dataTable) return;\n",
              "\n",
              "          const docLinkHtml = 'Like what you see? Visit the ' +\n",
              "            '<a target=\"_blank\" href=https://colab.research.google.com/notebooks/data_table.ipynb>data table notebook</a>'\n",
              "            + ' to learn more about interactive tables.';\n",
              "          element.innerHTML = '';\n",
              "          dataTable['output_type'] = 'display_data';\n",
              "          await google.colab.output.renderOutput(dataTable, element);\n",
              "          const docLink = document.createElement('div');\n",
              "          docLink.innerHTML = docLinkHtml;\n",
              "          element.appendChild(docLink);\n",
              "        }\n",
              "      </script>\n",
              "    </div>\n",
              "  </div>\n",
              "  "
            ]
          },
          "metadata": {},
          "execution_count": 414
        }
      ]
    },
    {
      "cell_type": "markdown",
      "source": [
        "Nota-se que o título com maior desvio padrão são os título do tipo \"Prefixado\", o que possivelmente indica uma maior volatilidade (risco) dessa categoria de ativo. Esse tipo de característica é considerada importante nos casos de marcação a mercado, pois possibilita maior lucro (ou prejuízo)."
      ],
      "metadata": {
        "id": "RYvZ-M7JJosm"
      }
    },
    {
      "cell_type": "markdown",
      "source": [
        "A partir de agora vamos desenvolver nossas análises a partir dessas duas categorias: tipo de prazo e tipo de rentabilidade."
      ],
      "metadata": {
        "id": "PuBo8tPv2sXP"
      }
    },
    {
      "cell_type": "code",
      "source": [
        "# calculando a amplitude de taxa por tipo de título e de prazo\n",
        "max_titulo_prazo = pd.DataFrame(df_analise.groupby(['Tipo Rentabilidade', 'Tipo Prazo']).describe()['Taxa Venda Manha']['max']).pivot_table(index='Tipo Rentabilidade', columns='Tipo Prazo', values='max')\n",
        "min_titulo_prazo = pd.DataFrame(df_analise.groupby(['Tipo Rentabilidade', 'Tipo Prazo']).describe()['Taxa Venda Manha']['min']).pivot_table(index='Tipo Rentabilidade', columns='Tipo Prazo', values='min')\n",
        "max_titulo_prazo - min_titulo_prazo"
      ],
      "metadata": {
        "colab": {
          "base_uri": "https://localhost:8080/",
          "height": 175
        },
        "id": "oVWIIThxH1rI",
        "outputId": "7b67128b-93ff-419f-a285-c12f93692322"
      },
      "execution_count": 415,
      "outputs": [
        {
          "output_type": "execute_result",
          "data": {
            "text/plain": [
              "Tipo Prazo          1-curto  2-medio  3-longo\n",
              "Tipo Rentabilidade                           \n",
              "Inflação              10.43     6.93     4.57\n",
              "Prefixado             12.31    11.56     7.89\n",
              "Pós-fixado             0.15     0.37     0.33"
            ],
            "text/html": [
              "\n",
              "  <div id=\"df-6ae59c5d-4cda-4ddf-8f0f-a6df079183e7\">\n",
              "    <div class=\"colab-df-container\">\n",
              "      <div>\n",
              "<style scoped>\n",
              "    .dataframe tbody tr th:only-of-type {\n",
              "        vertical-align: middle;\n",
              "    }\n",
              "\n",
              "    .dataframe tbody tr th {\n",
              "        vertical-align: top;\n",
              "    }\n",
              "\n",
              "    .dataframe thead th {\n",
              "        text-align: right;\n",
              "    }\n",
              "</style>\n",
              "<table border=\"1\" class=\"dataframe\">\n",
              "  <thead>\n",
              "    <tr style=\"text-align: right;\">\n",
              "      <th>Tipo Prazo</th>\n",
              "      <th>1-curto</th>\n",
              "      <th>2-medio</th>\n",
              "      <th>3-longo</th>\n",
              "    </tr>\n",
              "    <tr>\n",
              "      <th>Tipo Rentabilidade</th>\n",
              "      <th></th>\n",
              "      <th></th>\n",
              "      <th></th>\n",
              "    </tr>\n",
              "  </thead>\n",
              "  <tbody>\n",
              "    <tr>\n",
              "      <th>Inflação</th>\n",
              "      <td>10.43</td>\n",
              "      <td>6.93</td>\n",
              "      <td>4.57</td>\n",
              "    </tr>\n",
              "    <tr>\n",
              "      <th>Prefixado</th>\n",
              "      <td>12.31</td>\n",
              "      <td>11.56</td>\n",
              "      <td>7.89</td>\n",
              "    </tr>\n",
              "    <tr>\n",
              "      <th>Pós-fixado</th>\n",
              "      <td>0.15</td>\n",
              "      <td>0.37</td>\n",
              "      <td>0.33</td>\n",
              "    </tr>\n",
              "  </tbody>\n",
              "</table>\n",
              "</div>\n",
              "      <button class=\"colab-df-convert\" onclick=\"convertToInteractive('df-6ae59c5d-4cda-4ddf-8f0f-a6df079183e7')\"\n",
              "              title=\"Convert this dataframe to an interactive table.\"\n",
              "              style=\"display:none;\">\n",
              "        \n",
              "  <svg xmlns=\"http://www.w3.org/2000/svg\" height=\"24px\"viewBox=\"0 0 24 24\"\n",
              "       width=\"24px\">\n",
              "    <path d=\"M0 0h24v24H0V0z\" fill=\"none\"/>\n",
              "    <path d=\"M18.56 5.44l.94 2.06.94-2.06 2.06-.94-2.06-.94-.94-2.06-.94 2.06-2.06.94zm-11 1L8.5 8.5l.94-2.06 2.06-.94-2.06-.94L8.5 2.5l-.94 2.06-2.06.94zm10 10l.94 2.06.94-2.06 2.06-.94-2.06-.94-.94-2.06-.94 2.06-2.06.94z\"/><path d=\"M17.41 7.96l-1.37-1.37c-.4-.4-.92-.59-1.43-.59-.52 0-1.04.2-1.43.59L10.3 9.45l-7.72 7.72c-.78.78-.78 2.05 0 2.83L4 21.41c.39.39.9.59 1.41.59.51 0 1.02-.2 1.41-.59l7.78-7.78 2.81-2.81c.8-.78.8-2.07 0-2.86zM5.41 20L4 18.59l7.72-7.72 1.47 1.35L5.41 20z\"/>\n",
              "  </svg>\n",
              "      </button>\n",
              "      \n",
              "  <style>\n",
              "    .colab-df-container {\n",
              "      display:flex;\n",
              "      flex-wrap:wrap;\n",
              "      gap: 12px;\n",
              "    }\n",
              "\n",
              "    .colab-df-convert {\n",
              "      background-color: #E8F0FE;\n",
              "      border: none;\n",
              "      border-radius: 50%;\n",
              "      cursor: pointer;\n",
              "      display: none;\n",
              "      fill: #1967D2;\n",
              "      height: 32px;\n",
              "      padding: 0 0 0 0;\n",
              "      width: 32px;\n",
              "    }\n",
              "\n",
              "    .colab-df-convert:hover {\n",
              "      background-color: #E2EBFA;\n",
              "      box-shadow: 0px 1px 2px rgba(60, 64, 67, 0.3), 0px 1px 3px 1px rgba(60, 64, 67, 0.15);\n",
              "      fill: #174EA6;\n",
              "    }\n",
              "\n",
              "    [theme=dark] .colab-df-convert {\n",
              "      background-color: #3B4455;\n",
              "      fill: #D2E3FC;\n",
              "    }\n",
              "\n",
              "    [theme=dark] .colab-df-convert:hover {\n",
              "      background-color: #434B5C;\n",
              "      box-shadow: 0px 1px 3px 1px rgba(0, 0, 0, 0.15);\n",
              "      filter: drop-shadow(0px 1px 2px rgba(0, 0, 0, 0.3));\n",
              "      fill: #FFFFFF;\n",
              "    }\n",
              "  </style>\n",
              "\n",
              "      <script>\n",
              "        const buttonEl =\n",
              "          document.querySelector('#df-6ae59c5d-4cda-4ddf-8f0f-a6df079183e7 button.colab-df-convert');\n",
              "        buttonEl.style.display =\n",
              "          google.colab.kernel.accessAllowed ? 'block' : 'none';\n",
              "\n",
              "        async function convertToInteractive(key) {\n",
              "          const element = document.querySelector('#df-6ae59c5d-4cda-4ddf-8f0f-a6df079183e7');\n",
              "          const dataTable =\n",
              "            await google.colab.kernel.invokeFunction('convertToInteractive',\n",
              "                                                     [key], {});\n",
              "          if (!dataTable) return;\n",
              "\n",
              "          const docLinkHtml = 'Like what you see? Visit the ' +\n",
              "            '<a target=\"_blank\" href=https://colab.research.google.com/notebooks/data_table.ipynb>data table notebook</a>'\n",
              "            + ' to learn more about interactive tables.';\n",
              "          element.innerHTML = '';\n",
              "          dataTable['output_type'] = 'display_data';\n",
              "          await google.colab.output.renderOutput(dataTable, element);\n",
              "          const docLink = document.createElement('div');\n",
              "          docLink.innerHTML = docLinkHtml;\n",
              "          element.appendChild(docLink);\n",
              "        }\n",
              "      </script>\n",
              "    </div>\n",
              "  </div>\n",
              "  "
            ]
          },
          "metadata": {},
          "execution_count": 415
        }
      ]
    },
    {
      "cell_type": "markdown",
      "source": [
        "Acima podemos observar as amplitudes das taxas por tipo de prazo para cada tipo de título. Os títulos do tipo \"Prefixado\" apresentam o maior valor de amplitude, o que combinado com sua característica de maior desvio padrão, confirma sua característica de categoria mais volátil do grupo."
      ],
      "metadata": {
        "id": "FYZ5k6IwJiAV"
      }
    },
    {
      "cell_type": "code",
      "source": [
        "# exibindo as estatísticas descritivas dos demais atributos quantitativos\n",
        "df_analise.describe()[['Volume IBOV', 'Valor Dolar', 'Variação IBOV', 'Variação CDS']].applymap('{:,.2f}'.format)"
      ],
      "metadata": {
        "colab": {
          "base_uri": "https://localhost:8080/",
          "height": 300
        },
        "id": "_0hX8HrfG_Zt",
        "outputId": "fa594c4e-2635-4823-cd98-c4f7d3fb4215"
      },
      "execution_count": 416,
      "outputs": [
        {
          "output_type": "execute_result",
          "data": {
            "text/plain": [
              "         Volume IBOV Valor Dolar Variação IBOV Variação CDS\n",
              "count      28,694.00   28,694.00     28,694.00    28,694.00\n",
              "mean    8,617,119.96        4.72          0.04         0.08\n",
              "std     4,080,040.44        0.76          1.77         3.57\n",
              "min       424,315.00        3.14        -14.78       -25.88\n",
              "25%     4,933,512.00        3.94         -0.79        -1.39\n",
              "50%     8,584,901.00        5.09          0.08        -0.01\n",
              "75%    11,476,269.00        5.34          0.98         1.27\n",
              "max    26,029,316.00        5.94         13.91        30.61"
            ],
            "text/html": [
              "\n",
              "  <div id=\"df-9674321e-4fd0-4759-9228-54f7677c4474\">\n",
              "    <div class=\"colab-df-container\">\n",
              "      <div>\n",
              "<style scoped>\n",
              "    .dataframe tbody tr th:only-of-type {\n",
              "        vertical-align: middle;\n",
              "    }\n",
              "\n",
              "    .dataframe tbody tr th {\n",
              "        vertical-align: top;\n",
              "    }\n",
              "\n",
              "    .dataframe thead th {\n",
              "        text-align: right;\n",
              "    }\n",
              "</style>\n",
              "<table border=\"1\" class=\"dataframe\">\n",
              "  <thead>\n",
              "    <tr style=\"text-align: right;\">\n",
              "      <th></th>\n",
              "      <th>Volume IBOV</th>\n",
              "      <th>Valor Dolar</th>\n",
              "      <th>Variação IBOV</th>\n",
              "      <th>Variação CDS</th>\n",
              "    </tr>\n",
              "  </thead>\n",
              "  <tbody>\n",
              "    <tr>\n",
              "      <th>count</th>\n",
              "      <td>28,694.00</td>\n",
              "      <td>28,694.00</td>\n",
              "      <td>28,694.00</td>\n",
              "      <td>28,694.00</td>\n",
              "    </tr>\n",
              "    <tr>\n",
              "      <th>mean</th>\n",
              "      <td>8,617,119.96</td>\n",
              "      <td>4.72</td>\n",
              "      <td>0.04</td>\n",
              "      <td>0.08</td>\n",
              "    </tr>\n",
              "    <tr>\n",
              "      <th>std</th>\n",
              "      <td>4,080,040.44</td>\n",
              "      <td>0.76</td>\n",
              "      <td>1.77</td>\n",
              "      <td>3.57</td>\n",
              "    </tr>\n",
              "    <tr>\n",
              "      <th>min</th>\n",
              "      <td>424,315.00</td>\n",
              "      <td>3.14</td>\n",
              "      <td>-14.78</td>\n",
              "      <td>-25.88</td>\n",
              "    </tr>\n",
              "    <tr>\n",
              "      <th>25%</th>\n",
              "      <td>4,933,512.00</td>\n",
              "      <td>3.94</td>\n",
              "      <td>-0.79</td>\n",
              "      <td>-1.39</td>\n",
              "    </tr>\n",
              "    <tr>\n",
              "      <th>50%</th>\n",
              "      <td>8,584,901.00</td>\n",
              "      <td>5.09</td>\n",
              "      <td>0.08</td>\n",
              "      <td>-0.01</td>\n",
              "    </tr>\n",
              "    <tr>\n",
              "      <th>75%</th>\n",
              "      <td>11,476,269.00</td>\n",
              "      <td>5.34</td>\n",
              "      <td>0.98</td>\n",
              "      <td>1.27</td>\n",
              "    </tr>\n",
              "    <tr>\n",
              "      <th>max</th>\n",
              "      <td>26,029,316.00</td>\n",
              "      <td>5.94</td>\n",
              "      <td>13.91</td>\n",
              "      <td>30.61</td>\n",
              "    </tr>\n",
              "  </tbody>\n",
              "</table>\n",
              "</div>\n",
              "      <button class=\"colab-df-convert\" onclick=\"convertToInteractive('df-9674321e-4fd0-4759-9228-54f7677c4474')\"\n",
              "              title=\"Convert this dataframe to an interactive table.\"\n",
              "              style=\"display:none;\">\n",
              "        \n",
              "  <svg xmlns=\"http://www.w3.org/2000/svg\" height=\"24px\"viewBox=\"0 0 24 24\"\n",
              "       width=\"24px\">\n",
              "    <path d=\"M0 0h24v24H0V0z\" fill=\"none\"/>\n",
              "    <path d=\"M18.56 5.44l.94 2.06.94-2.06 2.06-.94-2.06-.94-.94-2.06-.94 2.06-2.06.94zm-11 1L8.5 8.5l.94-2.06 2.06-.94-2.06-.94L8.5 2.5l-.94 2.06-2.06.94zm10 10l.94 2.06.94-2.06 2.06-.94-2.06-.94-.94-2.06-.94 2.06-2.06.94z\"/><path d=\"M17.41 7.96l-1.37-1.37c-.4-.4-.92-.59-1.43-.59-.52 0-1.04.2-1.43.59L10.3 9.45l-7.72 7.72c-.78.78-.78 2.05 0 2.83L4 21.41c.39.39.9.59 1.41.59.51 0 1.02-.2 1.41-.59l7.78-7.78 2.81-2.81c.8-.78.8-2.07 0-2.86zM5.41 20L4 18.59l7.72-7.72 1.47 1.35L5.41 20z\"/>\n",
              "  </svg>\n",
              "      </button>\n",
              "      \n",
              "  <style>\n",
              "    .colab-df-container {\n",
              "      display:flex;\n",
              "      flex-wrap:wrap;\n",
              "      gap: 12px;\n",
              "    }\n",
              "\n",
              "    .colab-df-convert {\n",
              "      background-color: #E8F0FE;\n",
              "      border: none;\n",
              "      border-radius: 50%;\n",
              "      cursor: pointer;\n",
              "      display: none;\n",
              "      fill: #1967D2;\n",
              "      height: 32px;\n",
              "      padding: 0 0 0 0;\n",
              "      width: 32px;\n",
              "    }\n",
              "\n",
              "    .colab-df-convert:hover {\n",
              "      background-color: #E2EBFA;\n",
              "      box-shadow: 0px 1px 2px rgba(60, 64, 67, 0.3), 0px 1px 3px 1px rgba(60, 64, 67, 0.15);\n",
              "      fill: #174EA6;\n",
              "    }\n",
              "\n",
              "    [theme=dark] .colab-df-convert {\n",
              "      background-color: #3B4455;\n",
              "      fill: #D2E3FC;\n",
              "    }\n",
              "\n",
              "    [theme=dark] .colab-df-convert:hover {\n",
              "      background-color: #434B5C;\n",
              "      box-shadow: 0px 1px 3px 1px rgba(0, 0, 0, 0.15);\n",
              "      filter: drop-shadow(0px 1px 2px rgba(0, 0, 0, 0.3));\n",
              "      fill: #FFFFFF;\n",
              "    }\n",
              "  </style>\n",
              "\n",
              "      <script>\n",
              "        const buttonEl =\n",
              "          document.querySelector('#df-9674321e-4fd0-4759-9228-54f7677c4474 button.colab-df-convert');\n",
              "        buttonEl.style.display =\n",
              "          google.colab.kernel.accessAllowed ? 'block' : 'none';\n",
              "\n",
              "        async function convertToInteractive(key) {\n",
              "          const element = document.querySelector('#df-9674321e-4fd0-4759-9228-54f7677c4474');\n",
              "          const dataTable =\n",
              "            await google.colab.kernel.invokeFunction('convertToInteractive',\n",
              "                                                     [key], {});\n",
              "          if (!dataTable) return;\n",
              "\n",
              "          const docLinkHtml = 'Like what you see? Visit the ' +\n",
              "            '<a target=\"_blank\" href=https://colab.research.google.com/notebooks/data_table.ipynb>data table notebook</a>'\n",
              "            + ' to learn more about interactive tables.';\n",
              "          element.innerHTML = '';\n",
              "          dataTable['output_type'] = 'display_data';\n",
              "          await google.colab.output.renderOutput(dataTable, element);\n",
              "          const docLink = document.createElement('div');\n",
              "          docLink.innerHTML = docLinkHtml;\n",
              "          element.appendChild(docLink);\n",
              "        }\n",
              "      </script>\n",
              "    </div>\n",
              "  </div>\n",
              "  "
            ]
          },
          "metadata": {},
          "execution_count": 416
        }
      ]
    },
    {
      "cell_type": "markdown",
      "source": [
        "Acima o resumo estatísticos dos demais atributos quantitativos do dataset. Chama a atenção os valores do atributo \"Variação CDS\", onde podemos notar como o desvio padrão é relativamente alto em relação à média e como o terceiro quartil está distante do valor máximo, indicando que esse provavelmente é um indicador bastante volátil."
      ],
      "metadata": {
        "id": "SW58ChDUK3a3"
      }
    },
    {
      "cell_type": "markdown",
      "source": [
        "### Visualizações Unimodais"
      ],
      "metadata": {
        "id": "mWK7ymIaMKPJ"
      }
    },
    {
      "cell_type": "markdown",
      "source": [
        "Agora vamos observar graficamente o comportamento das taxas dos títulos por tipo de prazo."
      ],
      "metadata": {
        "id": "Bt4ILJNNu9Ti"
      }
    },
    {
      "cell_type": "code",
      "source": [
        "# cria um dicionario com os dados para plotar os histogramas dos tipos titulos por tipo de prazo\n",
        "dados_histograma = {}\n",
        "\n",
        "# itera sobre os tipos de rentabilidade\n",
        "for tipo in df_analise['Tipo Rentabilidade'].unique():\n",
        "  # para cada tipo de rentabilidade (chave), guarda no dicionario os dados por tipo de prazo\n",
        "  dados_histograma[tipo] = df_analise[df_analise['Tipo Rentabilidade'] == tipo].pivot_table(index=['Data Base'], columns='Tipo Prazo', values='Taxa Venda Manha')"
      ],
      "metadata": {
        "id": "LOATW9vkwNrV"
      },
      "execution_count": 417,
      "outputs": []
    },
    {
      "cell_type": "markdown",
      "source": [
        "Vamos exibir os histogramas dos títulos por tipo de prazo, plotando-os todos num só gráfico para fins de comparação."
      ],
      "metadata": {
        "id": "FWf8pwNpv8Ei"
      }
    },
    {
      "cell_type": "code",
      "source": [
        "# exibindo os boxplots dos atributos quantitativos\n",
        "\n",
        "fig = plt.figure(figsize=(10,8))\n",
        "\n",
        "qtd_grupos_titulos = len(dados_histograma.keys())\n",
        "# cria subfiguras para os tipos de rentabilidade\n",
        "subfigs = fig.subfigures(qtd_grupos_titulos, 1)\n",
        "\n",
        "ax =[]\n",
        "cont = 0\n",
        "\n",
        "# itera sobre os dados para o histogramas\n",
        "for grupo, dados in dados_histograma.items():\n",
        "\n",
        "  # armazena os eixos das subfiguras\n",
        "  ax.append(subfigs[cont].subplots(1,1))\n",
        "  # pega o valor maximo\n",
        "  maximo = round(max(dados.max()),1)\n",
        "  # pega o valor minimo\n",
        "  minimo = round(min(dados.min()),1)\n",
        "  # estabelece um passo dentro do intervalo entre maximo e minimo\n",
        "  passo = (maximo-minimo)/4\n",
        "  # plota os histogramas\n",
        "  dados.plot(kind='hist', subplots=True, layout=(1,3), edgecolor='black',sharex=True, sharey=True, bins=8, grid=True, ax = ax[cont])\n",
        "  # ajusta os valores no eixo x\n",
        "  plt.xticks(np.arange(minimo, maximo+passo*0.1, passo))\n",
        "  # define o titulo superior\n",
        "  subfigs[cont].suptitle('Tesouro Tipo ' + grupo.upper(), fontweight='bold')\n",
        "  cont += 1"
      ],
      "metadata": {
        "id": "WemipUpwxRlF",
        "colab": {
          "base_uri": "https://localhost:8080/",
          "height": 826
        },
        "outputId": "0c2f7c3e-1b83-43e9-d13b-f0b1b4df957f"
      },
      "execution_count": 418,
      "outputs": [
        {
          "output_type": "display_data",
          "data": {
            "text/plain": [
              "<Figure size 1000x800 with 9 Axes>"
            ],
            "image/png": "[encoded data removed]"
          },
          "metadata": {}
        }
      ]
    },
    {
      "cell_type": "markdown",
      "source": [
        "Na matriz acima vemos como a concentração de títulos com rentabilidade maior vai aumentando conforme o prazo fica mais longo (vencimento mais distante), pois quanto maior o risco, maior o prêmio na rentabilidade."
      ],
      "metadata": {
        "id": "fyBd2bBCqDUY"
      }
    },
    {
      "cell_type": "markdown",
      "source": [
        "Também é possível ver que há taxas com valores negativos. Apesar de ser um pouco incomum, é uma situação possível de acontecer."
      ],
      "metadata": {
        "id": "x8fzkLRQQfsd"
      }
    },
    {
      "cell_type": "markdown",
      "source": [
        "Na sequencia, vamos organizar os dados para plotar os boxplots das taxas por tipo de rentabilidade e tipo de prazo."
      ],
      "metadata": {
        "id": "RD6ZWxfeQ-vP"
      }
    },
    {
      "cell_type": "code",
      "source": [
        "# cria um dicionario com os dados para plotar os boxplots dos tipos de titulos por tipo de prazo\n",
        "\n",
        "dados_boxplot = {}\n",
        "dados_por_prazo = []\n",
        "\n",
        "# a partir dos dados do histograma\n",
        "for grupo, dados in dados_histograma.items():\n",
        "  # para cada tipo de prazo\n",
        "  for prazo in dados.columns:\n",
        "    # guarda na lista os dados por tipo de prazo, excluindo os missings\n",
        "    dados_por_prazo.append(dados[prazo].dropna())\n",
        "  # guarda a lista no dicionario\n",
        "  dados_boxplot[grupo] = dados_por_prazo\n",
        "  # limpa a lista\n",
        "  dados_por_prazo = []\n"
      ],
      "metadata": {
        "id": "2dW1Wehkw3E0"
      },
      "execution_count": 419,
      "outputs": []
    },
    {
      "cell_type": "code",
      "source": [
        "# exibindo os boxplots dos atributos quantitativos\n",
        "\n",
        "fig = plt.figure(figsize=(10,8))\n",
        "\n",
        "qtd_grupos_titulos = len(dados_boxplot.keys())\n",
        "# cria subfiguras para os tipos de rentabilidade\n",
        "subfigs = fig.subfigures(qtd_grupos_titulos, 1)\n",
        "\n",
        "ax =[]\n",
        "cont = 0\n",
        "\n",
        "# itera sobre os dados para o boxplots\n",
        "for grupo, dados in dados_boxplot.items():\n",
        "\n",
        "  # armazena os eixos das subfiguras\n",
        "  ax.append(subfigs[cont].subplots(1,1))\n",
        "  # plota os dados em boxplot\n",
        "  plt.boxplot(dados)\n",
        "  # habilita grid\n",
        "  plt.grid(True)\n",
        "  # altera os values do eixo x\n",
        "  plt.xticks([1,2,3], ['curto', 'medio', 'longo'])\n",
        "  # deifne o texto superior da subfigura da vez\n",
        "  subfigs[cont].suptitle('Tesouro Tipo ' + grupo.upper(), fontweight='bold')\n",
        "  cont += 1"
      ],
      "metadata": {
        "id": "TW48E7TW0cFK",
        "colab": {
          "base_uri": "https://localhost:8080/",
          "height": 826
        },
        "outputId": "caed5266-1d34-44c8-ed63-5de929800a20"
      },
      "execution_count": 420,
      "outputs": [
        {
          "output_type": "display_data",
          "data": {
            "text/plain": [
              "<Figure size 1000x800 with 3 Axes>"
            ],
            "image/png": "[encoded data removed]"
          },
          "metadata": {}
        }
      ]
    },
    {
      "cell_type": "markdown",
      "source": [
        "Nos boxplots acima, chama a atenção os gráficos de variação (IBOV e CDS) com característica \"espremida\", exibindo uma grande quantidade de outliers (dados discrepantes da maioria) nos conjuntos de dados. Como já comentado anteriormente, tais dados não podem ser considerados inputs errados pela própria natureza dos datasets. \n",
        "\n",
        "Nesse caso, não é prudente eliminar tais registros, uma vez que eles provavelmente capturam uma parte do comportamento real dos atributos. O que poderá ser feito posteriormente é testar um tratamento à parte desses outliers junto aos modelos estatísticos para avaliar qual a melhor opção."
      ],
      "metadata": {
        "id": "OMOz-7zCTFtu"
      }
    },
    {
      "cell_type": "markdown",
      "source": [
        "### Visualizações Multimodais"
      ],
      "metadata": {
        "id": "Tdty91zuVVBy"
      }
    },
    {
      "cell_type": "code",
      "source": [
        "# matriz de correlação dos atributos para os títulos com rentabilidade do tipo PREFIXADO\n",
        "fig = plt.figure(figsize = (10,6))\n",
        "fig.suptitle('Tesouro Tipo PREFIXADO', fontweight='bold')\n",
        "sns.heatmap(df_analise[(df_analise['Tipo Rentabilidade'] == 'Prefixado')].corr(), annot=True, cmap='RdBu', vmin=-1, vmax=1);"
      ],
      "metadata": {
        "id": "QNJkrzEiSoPc",
        "colab": {
          "base_uri": "https://localhost:8080/",
          "height": 582
        },
        "outputId": "77a68e96-7646-4de9-e053-862c6b4fab21"
      },
      "execution_count": 421,
      "outputs": [
        {
          "output_type": "display_data",
          "data": {
            "text/plain": [
              "<Figure size 1000x600 with 2 Axes>"
            ],
            "image/png": "[encoded data removed]"
          },
          "metadata": {}
        }
      ]
    },
    {
      "cell_type": "markdown",
      "source": [
        "Para os títulos com rentabilidade PREFIXADA, é possível observar correlação positiva significativa entre os atributos \"Valor Dolar\" e \"Volume IBOV\", bem como correlação negativa significativa entre os atributos \"Variação CDS\" e \"Variação IBOV\". Além disso, é possível observar leve correlação positiva entre os atributos \"Volume IBOV\" e \"Taxa Venda Manha\"."
      ],
      "metadata": {
        "id": "Stv9JR91Wjoa"
      }
    },
    {
      "cell_type": "code",
      "source": [
        "# matriz de correlação dos atributos para os títulos com rentabilidade do tipo INFLAÇÃO\n",
        "fig = plt.figure(figsize = (10,6))\n",
        "fig.suptitle('Tesouro Tipo INFLAÇÃO', fontweight='bold')\n",
        "sns.heatmap(df_analise[(df_analise['Tipo Rentabilidade'] == 'Inflação')].corr(), annot=True, cmap='RdBu', vmin=-1, vmax=1);"
      ],
      "metadata": {
        "colab": {
          "base_uri": "https://localhost:8080/",
          "height": 582
        },
        "id": "RQKacozZLz-Q",
        "outputId": "41ad7199-d2e1-4201-af27-009cbe0fe77c"
      },
      "execution_count": 422,
      "outputs": [
        {
          "output_type": "display_data",
          "data": {
            "text/plain": [
              "<Figure size 1000x600 with 2 Axes>"
            ],
            "image/png": "[encoded data removed]"
          },
          "metadata": {}
        }
      ]
    },
    {
      "cell_type": "markdown",
      "source": [
        "Para os títulos com rentabilidade INFLAÇÃO, é possível observar correlação positiva significativa entre os atributos \"Valor Dolar\" e \"Volume IBOV\", bem como correlação negativa significativa entre os atributos \"Variação CDS\" e \"Variação IBOV\". Além disso, é possível observar leve correlação positiva entre os atributos \"Volume IBOV\" e \"Taxa Venda Manha\"."
      ],
      "metadata": {
        "id": "qWzq4z3JfrmR"
      }
    },
    {
      "cell_type": "code",
      "source": [
        "# matriz de correlação dos atributos para os títulos com rentabilidade do tipo PÓS-FIXADO\n",
        "fig = plt.figure(figsize = (10,6))\n",
        "fig.suptitle('Tesouro Tipo PÓS-FIXADO', fontweight='bold')\n",
        "sns.heatmap(df_analise[(df_analise['Tipo Rentabilidade'] == 'Pós-fixado')].corr(), annot=True, cmap='RdBu', vmin=-1, vmax=1);"
      ],
      "metadata": {
        "colab": {
          "base_uri": "https://localhost:8080/",
          "height": 582
        },
        "id": "gsLt4Jj9L4Zx",
        "outputId": "2565a048-ba3c-4870-de92-24126a1b36f1"
      },
      "execution_count": 423,
      "outputs": [
        {
          "output_type": "display_data",
          "data": {
            "text/plain": [
              "<Figure size 1000x600 with 2 Axes>"
            ],
            "image/png": "[encoded data removed]"
          },
          "metadata": {}
        }
      ]
    },
    {
      "cell_type": "markdown",
      "source": [
        "Para os títulos com rentabilidade PÓS-FIXADA, é possível observar correlação positiva significativa entre os atributos \"Valor Dolar\" e \"Volume IBOV\" e entre \"Valor Dolar\" e \" Taxa Venda Manha\", bem como correlação negativa significativa entre os atributos \"Variação CDS\" e \"Variação IBOV\". Além disso, é possível observar leve correlação positiva entre os atributos \"Volume IBOV\" e \"Taxa Venda Manha\"."
      ],
      "metadata": {
        "id": "pizjmxYbLzyl"
      }
    },
    {
      "cell_type": "markdown",
      "source": [
        "# 3. Pré-Processamento"
      ],
      "metadata": {
        "id": "fSs4y7yGghTL"
      }
    },
    {
      "cell_type": "markdown",
      "source": [
        "## Importação de Pacotes e Módulos"
      ],
      "metadata": {
        "id": "IFfEEJRZlkex"
      }
    },
    {
      "cell_type": "code",
      "source": [
        "from sklearn.model_selection import train_test_split\n",
        "from sklearn.preprocessing import MinMaxScaler # para normalização\n",
        "from sklearn.preprocessing import StandardScaler # para padronização\n",
        "from sklearn.preprocessing import OneHotEncoder\n",
        "from sklearn.preprocessing import OrdinalEncoder"
      ],
      "metadata": {
        "id": "RqoZ8TzElj3f"
      },
      "execution_count": 424,
      "outputs": []
    },
    {
      "cell_type": "markdown",
      "source": [
        "## Carregamento e Preparação"
      ],
      "metadata": {
        "id": "eeGC2DbNl6C1"
      }
    },
    {
      "cell_type": "code",
      "source": [
        "# criando o dataset para a etapa de análise\n",
        "df_preproc = df_analise"
      ],
      "metadata": {
        "id": "-roUikUWgkVj"
      },
      "execution_count": 425,
      "outputs": []
    },
    {
      "cell_type": "markdown",
      "source": [
        "## Pré-Processamento"
      ],
      "metadata": {
        "id": "pm30okD3mLc4"
      }
    },
    {
      "cell_type": "markdown",
      "source": [
        "Nesta etapa, realizaremos operações de limpeza, conversão, substituição, transformação de dados, e outras que se fizerem necessárias, para preparar os dados para serem submetidos aos modelos de machine learning posteriormente."
      ],
      "metadata": {
        "id": "QUYQlK8lIcCD"
      }
    },
    {
      "cell_type": "markdown",
      "source": [
        "Vamos observar novamente a estrutura do dataset a fim de verificar se há algum ajuste ou simplificação que possa ser feito no mesmo."
      ],
      "metadata": {
        "id": "N3LAsURETukJ"
      }
    },
    {
      "cell_type": "code",
      "source": [
        "df_preproc.info()"
      ],
      "metadata": {
        "colab": {
          "base_uri": "https://localhost:8080/"
        },
        "id": "T38BFfLlT2TO",
        "outputId": "f60ed1f8-da45-4a23-af52-698fe1e2d459"
      },
      "execution_count": 426,
      "outputs": [
        {
          "output_type": "stream",
          "name": "stdout",
          "text": [
            "<class 'pandas.core.frame.DataFrame'>\n",
            "Int64Index: 28694 entries, 0 to 28693\n",
            "Data columns (total 10 columns):\n",
            " #   Column              Non-Null Count  Dtype         \n",
            "---  ------              --------------  -----         \n",
            " 0   Tipo Titulo         28694 non-null  object        \n",
            " 1   Data Vencimento     28694 non-null  datetime64[ns]\n",
            " 2   Data Base           28694 non-null  datetime64[ns]\n",
            " 3   Taxa Venda Manha    28694 non-null  float64       \n",
            " 4   Volume IBOV         28694 non-null  int64         \n",
            " 5   Variação IBOV       28694 non-null  float64       \n",
            " 6   Valor Dolar         28694 non-null  float64       \n",
            " 7   Variação CDS        28694 non-null  float64       \n",
            " 8   Tipo Prazo          28694 non-null  object        \n",
            " 9   Tipo Rentabilidade  28694 non-null  object        \n",
            "dtypes: datetime64[ns](2), float64(4), int64(1), object(3)\n",
            "memory usage: 2.4+ MB\n"
          ]
        }
      ]
    },
    {
      "cell_type": "markdown",
      "source": [
        "Ao analisar as informações acima, verificamos que não existem missings para serem eliminados ou substituídos. "
      ],
      "metadata": {
        "id": "JL-yZnKUT-ky"
      }
    },
    {
      "cell_type": "markdown",
      "source": [
        "As conversões de dados que eram necessárias já foram feitas na etapa anterior a fim de viabilizar a continuidade da mesma. "
      ],
      "metadata": {
        "id": "PTUec-9RU3JX"
      }
    },
    {
      "cell_type": "markdown",
      "source": [
        "Por outro lado, na etapa de análise criamos dois atributos derivados (feature egineering) para categorizar e agrupar registros semelhantes: Tipo Prazo e Tipo Rentabilidade. Os respectivos atributos de origem - Tipo Titulo, Data Vencimento, Data Base - podem ser substituídos pelos seus derivados, que simplificam e capturam melhor as características de interesse do problema. "
      ],
      "metadata": {
        "id": "CGmc4f6bWH0j"
      }
    },
    {
      "cell_type": "code",
      "source": [
        "# Feature Selection: eliminando atributos desnecessários\n",
        "df_preproc = df_preproc.drop(['Tipo Titulo', 'Data Base', 'Data Vencimento'], axis=1)\n",
        "df_preproc.head(5)"
      ],
      "metadata": {
        "colab": {
          "base_uri": "https://localhost:8080/",
          "height": 206
        },
        "id": "Xw3V7s4AXesY",
        "outputId": "70ba1468-d859-47a8-ed68-d995b6aba8ba"
      },
      "execution_count": 427,
      "outputs": [
        {
          "output_type": "execute_result",
          "data": {
            "text/plain": [
              "   Taxa Venda Manha  Volume IBOV  Variação IBOV  Valor Dolar  Variação CDS  \\\n",
              "0              6.97      7701390           0.46       5.0606         -1.26   \n",
              "1              2.54      7701390           0.46       5.0606         -1.26   \n",
              "2              1.79      7701390           0.46       5.0606         -1.26   \n",
              "3             -0.30      7701390           0.46       5.0606         -1.26   \n",
              "4              4.61      7701390           0.46       5.0606         -1.26   \n",
              "\n",
              "  Tipo Prazo Tipo Rentabilidade  \n",
              "0    3-longo          Prefixado  \n",
              "1    3-longo           Inflação  \n",
              "2    2-medio           Inflação  \n",
              "3    1-curto           Inflação  \n",
              "4    2-medio          Prefixado  "
            ],
            "text/html": [
              "\n",
              "  <div id=\"df-f1d306de-76d2-4aac-9bae-e2bee6898a88\">\n",
              "    <div class=\"colab-df-container\">\n",
              "      <div>\n",
              "<style scoped>\n",
              "    .dataframe tbody tr th:only-of-type {\n",
              "        vertical-align: middle;\n",
              "    }\n",
              "\n",
              "    .dataframe tbody tr th {\n",
              "        vertical-align: top;\n",
              "    }\n",
              "\n",
              "    .dataframe thead th {\n",
              "        text-align: right;\n",
              "    }\n",
              "</style>\n",
              "<table border=\"1\" class=\"dataframe\">\n",
              "  <thead>\n",
              "    <tr style=\"text-align: right;\">\n",
              "      <th></th>\n",
              "      <th>Taxa Venda Manha</th>\n",
              "      <th>Volume IBOV</th>\n",
              "      <th>Variação IBOV</th>\n",
              "      <th>Valor Dolar</th>\n",
              "      <th>Variação CDS</th>\n",
              "      <th>Tipo Prazo</th>\n",
              "      <th>Tipo Rentabilidade</th>\n",
              "    </tr>\n",
              "  </thead>\n",
              "  <tbody>\n",
              "    <tr>\n",
              "      <th>0</th>\n",
              "      <td>6.97</td>\n",
              "      <td>7701390</td>\n",
              "      <td>0.46</td>\n",
              "      <td>5.0606</td>\n",
              "      <td>-1.26</td>\n",
              "      <td>3-longo</td>\n",
              "      <td>Prefixado</td>\n",
              "    </tr>\n",
              "    <tr>\n",
              "      <th>1</th>\n",
              "      <td>2.54</td>\n",
              "      <td>7701390</td>\n",
              "      <td>0.46</td>\n",
              "      <td>5.0606</td>\n",
              "      <td>-1.26</td>\n",
              "      <td>3-longo</td>\n",
              "      <td>Inflação</td>\n",
              "    </tr>\n",
              "    <tr>\n",
              "      <th>2</th>\n",
              "      <td>1.79</td>\n",
              "      <td>7701390</td>\n",
              "      <td>0.46</td>\n",
              "      <td>5.0606</td>\n",
              "      <td>-1.26</td>\n",
              "      <td>2-medio</td>\n",
              "      <td>Inflação</td>\n",
              "    </tr>\n",
              "    <tr>\n",
              "      <th>3</th>\n",
              "      <td>-0.30</td>\n",
              "      <td>7701390</td>\n",
              "      <td>0.46</td>\n",
              "      <td>5.0606</td>\n",
              "      <td>-1.26</td>\n",
              "      <td>1-curto</td>\n",
              "      <td>Inflação</td>\n",
              "    </tr>\n",
              "    <tr>\n",
              "      <th>4</th>\n",
              "      <td>4.61</td>\n",
              "      <td>7701390</td>\n",
              "      <td>0.46</td>\n",
              "      <td>5.0606</td>\n",
              "      <td>-1.26</td>\n",
              "      <td>2-medio</td>\n",
              "      <td>Prefixado</td>\n",
              "    </tr>\n",
              "  </tbody>\n",
              "</table>\n",
              "</div>\n",
              "      <button class=\"colab-df-convert\" onclick=\"convertToInteractive('df-f1d306de-76d2-4aac-9bae-e2bee6898a88')\"\n",
              "              title=\"Convert this dataframe to an interactive table.\"\n",
              "              style=\"display:none;\">\n",
              "        \n",
              "  <svg xmlns=\"http://www.w3.org/2000/svg\" height=\"24px\"viewBox=\"0 0 24 24\"\n",
              "       width=\"24px\">\n",
              "    <path d=\"M0 0h24v24H0V0z\" fill=\"none\"/>\n",
              "    <path d=\"M18.56 5.44l.94 2.06.94-2.06 2.06-.94-2.06-.94-.94-2.06-.94 2.06-2.06.94zm-11 1L8.5 8.5l.94-2.06 2.06-.94-2.06-.94L8.5 2.5l-.94 2.06-2.06.94zm10 10l.94 2.06.94-2.06 2.06-.94-2.06-.94-.94-2.06-.94 2.06-2.06.94z\"/><path d=\"M17.41 7.96l-1.37-1.37c-.4-.4-.92-.59-1.43-.59-.52 0-1.04.2-1.43.59L10.3 9.45l-7.72 7.72c-.78.78-.78 2.05 0 2.83L4 21.41c.39.39.9.59 1.41.59.51 0 1.02-.2 1.41-.59l7.78-7.78 2.81-2.81c.8-.78.8-2.07 0-2.86zM5.41 20L4 18.59l7.72-7.72 1.47 1.35L5.41 20z\"/>\n",
              "  </svg>\n",
              "      </button>\n",
              "      \n",
              "  <style>\n",
              "    .colab-df-container {\n",
              "      display:flex;\n",
              "      flex-wrap:wrap;\n",
              "      gap: 12px;\n",
              "    }\n",
              "\n",
              "    .colab-df-convert {\n",
              "      background-color: #E8F0FE;\n",
              "      border: none;\n",
              "      border-radius: 50%;\n",
              "      cursor: pointer;\n",
              "      display: none;\n",
              "      fill: #1967D2;\n",
              "      height: 32px;\n",
              "      padding: 0 0 0 0;\n",
              "      width: 32px;\n",
              "    }\n",
              "\n",
              "    .colab-df-convert:hover {\n",
              "      background-color: #E2EBFA;\n",
              "      box-shadow: 0px 1px 2px rgba(60, 64, 67, 0.3), 0px 1px 3px 1px rgba(60, 64, 67, 0.15);\n",
              "      fill: #174EA6;\n",
              "    }\n",
              "\n",
              "    [theme=dark] .colab-df-convert {\n",
              "      background-color: #3B4455;\n",
              "      fill: #D2E3FC;\n",
              "    }\n",
              "\n",
              "    [theme=dark] .colab-df-convert:hover {\n",
              "      background-color: #434B5C;\n",
              "      box-shadow: 0px 1px 3px 1px rgba(0, 0, 0, 0.15);\n",
              "      filter: drop-shadow(0px 1px 2px rgba(0, 0, 0, 0.3));\n",
              "      fill: #FFFFFF;\n",
              "    }\n",
              "  </style>\n",
              "\n",
              "      <script>\n",
              "        const buttonEl =\n",
              "          document.querySelector('#df-f1d306de-76d2-4aac-9bae-e2bee6898a88 button.colab-df-convert');\n",
              "        buttonEl.style.display =\n",
              "          google.colab.kernel.accessAllowed ? 'block' : 'none';\n",
              "\n",
              "        async function convertToInteractive(key) {\n",
              "          const element = document.querySelector('#df-f1d306de-76d2-4aac-9bae-e2bee6898a88');\n",
              "          const dataTable =\n",
              "            await google.colab.kernel.invokeFunction('convertToInteractive',\n",
              "                                                     [key], {});\n",
              "          if (!dataTable) return;\n",
              "\n",
              "          const docLinkHtml = 'Like what you see? Visit the ' +\n",
              "            '<a target=\"_blank\" href=https://colab.research.google.com/notebooks/data_table.ipynb>data table notebook</a>'\n",
              "            + ' to learn more about interactive tables.';\n",
              "          element.innerHTML = '';\n",
              "          dataTable['output_type'] = 'display_data';\n",
              "          await google.colab.output.renderOutput(dataTable, element);\n",
              "          const docLink = document.createElement('div');\n",
              "          docLink.innerHTML = docLinkHtml;\n",
              "          element.appendChild(docLink);\n",
              "        }\n",
              "      </script>\n",
              "    </div>\n",
              "  </div>\n",
              "  "
            ]
          },
          "metadata": {},
          "execution_count": 427
        }
      ]
    },
    {
      "cell_type": "markdown",
      "source": [
        "Uma questão interessante a considerar é a possibilidade de eliminar atributos com correlação relativamente baixa com o atributo alvo (Taxa Venda Manha). A princípio, não eliminaremos tais atributos antes de analisar os resultados do modelo preditivo."
      ],
      "metadata": {
        "id": "ZUFktOVsbMlS"
      }
    },
    {
      "cell_type": "markdown",
      "source": [
        "Por fim, o que restou é a necessidade de transformação dos valores dos atributos quantitativos a fim de ajustar suas escalas; o mapeamento dos atributos qualitativos em atributos quantitativos; a separação do dataset em treinamento e teste para construção do modelo de machine learning."
      ],
      "metadata": {
        "id": "Qu9ZfxHqRLhd"
      }
    },
    {
      "cell_type": "markdown",
      "source": [
        "Sendo assim, seguiremos o seguinte roteiro na etapa de Pré-Processamento:\n",
        "\n",
        "\n",
        "1. Separação do dataset em treino e teste\n",
        "2. Transformação dos atributos qualitativos\n",
        "3. Transformação dos atributos quantitativos"
      ],
      "metadata": {
        "id": "_pLay1LXe9Nl"
      }
    },
    {
      "cell_type": "markdown",
      "source": [
        "### Amostragem do Dataset (Treino e Teste)"
      ],
      "metadata": {
        "id": "KJHngnfPmsSh"
      }
    },
    {
      "cell_type": "markdown",
      "source": [
        "Vamos começar selecionando as características e a variável alvo (target) do modelo."
      ],
      "metadata": {
        "id": "7Aq_d3-bndGS"
      }
    },
    {
      "cell_type": "code",
      "source": [
        "# variável alvo do modelo\n",
        "Y = df_preproc['Taxa Venda Manha']\n",
        "# variáveis características do modelo\n",
        "X = df_preproc.drop('Taxa Venda Manha', axis=1)"
      ],
      "metadata": {
        "id": "BNbdf38jfIu0"
      },
      "execution_count": 428,
      "outputs": []
    },
    {
      "cell_type": "code",
      "source": [
        "# separando o dataset em treino e teste\n",
        "X_treino, X_teste, Y_treino, Y_teste = train_test_split(X, Y, random_state = 0)"
      ],
      "metadata": {
        "id": "Ynr4H3DnnJD6"
      },
      "execution_count": 429,
      "outputs": []
    },
    {
      "cell_type": "markdown",
      "source": [
        "Essa separação é necessária antes dos processos de transformação dos dados para evitar vazamento de dados (*data leakage*)."
      ],
      "metadata": {
        "id": "zkfK5udtAU-U"
      }
    },
    {
      "cell_type": "markdown",
      "source": [
        "### Transformação dos Atributos Qualitativos"
      ],
      "metadata": {
        "id": "0_tCM_smoCkI"
      }
    },
    {
      "cell_type": "markdown",
      "source": [
        "Para o atributo categórico 'Tipo Prazo' vamos aplicar transformação **ordinal** já que seus valores possuem uma ordem implícita."
      ],
      "metadata": {
        "id": "n2Y_PUq2wFZv"
      }
    },
    {
      "cell_type": "code",
      "source": [
        "# cria dicionario com as correspondencias ordinais\n",
        "prazo_map = {'1-curto': 1, '2-medio': 2, '3-longo': 3}\n",
        "# aplica a transformação ordinal\n",
        "X_treino['Tipo Prazo'] = X_treino['Tipo Prazo'].map(prazo_map)\n",
        "X_teste['Tipo Prazo'] = X_teste['Tipo Prazo'].map(prazo_map)\n",
        "# exibe os datasets\n",
        "print('X Treino: \\n\\n', X_treino['Tipo Prazo'])\n",
        "print('X Teste: \\n\\n', X_teste['Tipo Prazo'])"
      ],
      "metadata": {
        "colab": {
          "base_uri": "https://localhost:8080/"
        },
        "id": "zfiA52KCpJxj",
        "outputId": "d90d3de2-3b15-4b5a-830e-01640d487a28"
      },
      "execution_count": 430,
      "outputs": [
        {
          "output_type": "stream",
          "name": "stdout",
          "text": [
            "X Treino: \n",
            "\n",
            " 29       2\n",
            "5356     3\n",
            "11158    2\n",
            "27568    2\n",
            "7394     1\n",
            "        ..\n",
            "13123    3\n",
            "19648    2\n",
            "9845     3\n",
            "10799    1\n",
            "2732     2\n",
            "Name: Tipo Prazo, Length: 21520, dtype: int64\n",
            "X Teste: \n",
            "\n",
            " 18546    3\n",
            "17550    2\n",
            "28151    3\n",
            "3254     2\n",
            "11204    2\n",
            "        ..\n",
            "613      3\n",
            "2518     2\n",
            "7655     3\n",
            "20144    3\n",
            "12239    2\n",
            "Name: Tipo Prazo, Length: 7174, dtype: int64\n"
          ]
        }
      ]
    },
    {
      "cell_type": "markdown",
      "source": [
        "Para o atributo 'Tipo Rentabilidade' vamos aplicar a transformação **OneHotEncoding** já que seus valores não possuem ordem implícita."
      ],
      "metadata": {
        "id": "JbwL3K2x_xVH"
      }
    },
    {
      "cell_type": "code",
      "source": [
        "# transforma o atributo 'Tipo Rentabilidade' com a técnica OneHotEncoding\n",
        "X_treino = pd.get_dummies(X_treino, columns=['Tipo Rentabilidade'], prefix='', prefix_sep='')\n",
        "X_teste = pd.get_dummies(X_teste, columns=['Tipo Rentabilidade'], prefix='', prefix_sep='')\n",
        "# exibe os datasets\n",
        "print('X Treino: \\n\\n', X_treino.iloc[:,-3:])\n",
        "print('X Teste: \\n\\n', X_teste.iloc[:,-3:])"
      ],
      "metadata": {
        "colab": {
          "base_uri": "https://localhost:8080/"
        },
        "id": "8cXBSJuGpK5q",
        "outputId": "bffa116f-d9a6-4a41-eb2b-13bb71ed1c83"
      },
      "execution_count": 431,
      "outputs": [
        {
          "output_type": "stream",
          "name": "stdout",
          "text": [
            "X Treino: \n",
            "\n",
            "        Inflação  Prefixado  Pós-fixado\n",
            "29            0          1           0\n",
            "5356          1          0           0\n",
            "11158         0          0           1\n",
            "27568         0          0           1\n",
            "7394          0          1           0\n",
            "...         ...        ...         ...\n",
            "13123         1          0           0\n",
            "19648         1          0           0\n",
            "9845          1          0           0\n",
            "10799         0          1           0\n",
            "2732          0          0           1\n",
            "\n",
            "[21520 rows x 3 columns]\n",
            "X Teste: \n",
            "\n",
            "        Inflação  Prefixado  Pós-fixado\n",
            "18546         1          0           0\n",
            "17550         0          1           0\n",
            "28151         1          0           0\n",
            "3254          1          0           0\n",
            "11204         1          0           0\n",
            "...         ...        ...         ...\n",
            "613           0          1           0\n",
            "2518          0          1           0\n",
            "7655          1          0           0\n",
            "20144         1          0           0\n",
            "12239         0          0           1\n",
            "\n",
            "[7174 rows x 3 columns]\n"
          ]
        }
      ]
    },
    {
      "cell_type": "markdown",
      "source": [
        "### Transformação dos Atributos Quantitativos"
      ],
      "metadata": {
        "id": "GaEsY35Uwm3N"
      }
    },
    {
      "cell_type": "markdown",
      "source": [
        "Como as distribuições das estratificações por rentabilidade não correspondiam exatamente à distribuição, vamos aplicar o processo de **normalização** nas variáveis quantitativas, a fim de ajustar o seu intervalo de valores para ser lido pelo modelo."
      ],
      "metadata": {
        "id": "mF_7xkkF8TGz"
      }
    },
    {
      "cell_type": "code",
      "source": [
        "# escolhendo as colunas para normalização\n",
        "colunas = [\n",
        "    'Volume IBOV',\n",
        "    'Variação IBOV',\n",
        "    'Valor Dolar',\n",
        "    'Variação CDS',\n",
        "    'Tipo Prazo'\n",
        "]\n",
        "\n",
        "# instanciando o normalizador\n",
        "scaler = MinMaxScaler()\n",
        "# aplicando a normalização\n",
        "X_treino[colunas] = scaler.fit_transform(X_treino[colunas])\n",
        "X_teste[colunas] = scaler.fit_transform(X_teste[colunas])\n",
        "# exibe os datasets\n",
        "print('X Treino: \\n\\n', X_treino)\n",
        "print('X Teste: \\n\\n', X_teste)"
      ],
      "metadata": {
        "colab": {
          "base_uri": "https://localhost:8080/"
        },
        "id": "8rT3pbMptmo0",
        "outputId": "8b5aa6cc-87e8-41b6-c1d1-ac527b5d1bc9"
      },
      "execution_count": 432,
      "outputs": [
        {
          "output_type": "stream",
          "name": "stdout",
          "text": [
            "X Treino: \n",
            "\n",
            "        Volume IBOV  Variação IBOV  Valor Dolar  Variação CDS  Tipo Prazo  \\\n",
            "29        0.562348       0.553154     0.786942      0.547176         0.5   \n",
            "5356      0.355054       0.557337     0.712342      0.458134         1.0   \n",
            "11158     0.440850       0.509934     0.852231      0.458488         0.5   \n",
            "27568     0.138368       0.542001     0.298761      0.434944         0.5   \n",
            "7394      0.320152       0.562565     0.812764      0.470703         0.0   \n",
            "...            ...            ...          ...           ...         ...   \n",
            "13123     0.266069       0.544789     0.638457      0.428571         1.0   \n",
            "19648     0.152407       0.585221     0.085739      0.442910         0.5   \n",
            "9845      0.322628       0.510979     0.865876      0.440786         1.0   \n",
            "10799     0.459540       0.522482     0.792350      0.464330         0.0   \n",
            "2732      0.638512       0.578947     0.777523      0.499026         0.5   \n",
            "\n",
            "       Inflação  Prefixado  Pós-fixado  \n",
            "29            0          1           0  \n",
            "5356          1          0           0  \n",
            "11158         0          0           1  \n",
            "27568         0          0           1  \n",
            "7394          0          1           0  \n",
            "...         ...        ...         ...  \n",
            "13123         1          0           0  \n",
            "19648         1          0           0  \n",
            "9845          1          0           0  \n",
            "10799         0          1           0  \n",
            "2732          0          0           1  \n",
            "\n",
            "[21520 rows x 8 columns]\n",
            "X Teste: \n",
            "\n",
            "        Volume IBOV  Variação IBOV  Valor Dolar  Variação CDS  Tipo Prazo  \\\n",
            "18546     0.252413       0.514814     0.334038      0.465392         1.0   \n",
            "17550     0.303124       0.508888     0.879128      0.432112         0.5   \n",
            "28151     0.163605       0.574765     0.309505      0.438308         1.0   \n",
            "3254      0.577918       0.432206     0.788876      0.389804         0.5   \n",
            "11204     0.589316       0.549320     0.819211      0.467162         0.5   \n",
            "...            ...            ...          ...           ...         ...   \n",
            "613       0.387149       0.478564     0.769357      0.426093         1.0   \n",
            "2518      0.480594       0.531196     0.764917      0.407329         0.5   \n",
            "7655      0.421698       0.524922     0.851049      0.458134         1.0   \n",
            "20144     0.124806       0.572325     0.253241      0.429811         1.0   \n",
            "12239     0.293839       0.527013     0.887616      0.393698         0.5   \n",
            "\n",
            "       Inflação  Prefixado  Pós-fixado  \n",
            "18546         1          0           0  \n",
            "17550         0          1           0  \n",
            "28151         1          0           0  \n",
            "3254          1          0           0  \n",
            "11204         1          0           0  \n",
            "...         ...        ...         ...  \n",
            "613           0          1           0  \n",
            "2518          0          1           0  \n",
            "7655          1          0           0  \n",
            "20144         1          0           0  \n",
            "12239         0          0           1  \n",
            "\n",
            "[7174 rows x 8 columns]\n"
          ]
        }
      ]
    },
    {
      "cell_type": "markdown",
      "source": [
        "Desta forma, temos então o dataset devidamente preparado e dividido para ser utilizado na construção de modelos de machine learning."
      ],
      "metadata": {
        "id": "XzZTaYf6Ahw1"
      }
    }
  ]
}
